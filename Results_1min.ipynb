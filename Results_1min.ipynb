{
 "cells": [
  {
   "cell_type": "code",
   "execution_count": 1,
   "metadata": {},
   "outputs": [],
   "source": [
    "from deep_models import *"
   ]
  },
  {
   "cell_type": "markdown",
   "metadata": {},
   "source": [
    "# 1 Min Data - 1 Min Forecast #"
   ]
  },
  {
   "cell_type": "code",
   "execution_count": 2,
   "metadata": {},
   "outputs": [],
   "source": [
    "Y = pd.read_csv(\"data/final/1min/BTC_Y_std.csv\")"
   ]
  },
  {
   "cell_type": "markdown",
   "metadata": {},
   "source": [
    "## Dense Models ##"
   ]
  },
  {
   "cell_type": "markdown",
   "metadata": {},
   "source": [
    "#### Bid Ask Features ####"
   ]
  },
  {
   "cell_type": "code",
   "execution_count": 3,
   "metadata": {},
   "outputs": [],
   "source": [
    "data_std = pd.read_csv(\"data/final/1min/BidAsk/BTC_std.csv\")"
   ]
  },
  {
   "cell_type": "code",
   "execution_count": 4,
   "metadata": {},
   "outputs": [
    {
     "data": {
      "text/plain": [
       "(17048, 33)"
      ]
     },
     "execution_count": 4,
     "metadata": {},
     "output_type": "execute_result"
    }
   ],
   "source": [
    "data_std.shape"
   ]
  },
  {
   "cell_type": "code",
   "execution_count": 5,
   "metadata": {},
   "outputs": [],
   "source": [
    "t_split = 17048 - 1440"
   ]
  },
  {
   "cell_type": "code",
   "execution_count": 6,
   "metadata": {},
   "outputs": [],
   "source": [
    "v_split = 17048 - 1440*2"
   ]
  },
  {
   "cell_type": "code",
   "execution_count": 7,
   "metadata": {
    "scrolled": true
   },
   "outputs": [
    {
     "name": "stdout",
     "output_type": "stream",
     "text": [
      "Window of size 5 was best\n",
      "Window of size 5 was best\n",
      "Window of size 5 was best\n"
     ]
    }
   ],
   "source": [
    "%%\n",
    "test_sets, y_sets, His1, His2, His3, Mod1, Mod2, Mod3 = Run_Dense(data_std, Y, \"test\",v_split, t_split)"
   ]
  },
  {
   "cell_type": "markdown",
   "metadata": {},
   "source": [
    "#### Model 1 #####"
   ]
  },
  {
   "cell_type": "code",
   "execution_count": 8,
   "metadata": {},
   "outputs": [
    {
     "data": {
      "text/plain": [
       "[<matplotlib.lines.Line2D at 0x7fdf6adc37f0>]"
      ]
     },
     "execution_count": 8,
     "metadata": {},
     "output_type": "execute_result"
    },
    {
     "data": {
      "image/png": "[encoded data removed]",
      "text/plain": [
       "<Figure size 432x288 with 1 Axes>"
      ]
     },
     "metadata": {
      "needs_background": "light"
     },
     "output_type": "display_data"
    }
   ],
   "source": [
    "plt.plot(His1.history['loss'])\n",
    "plt.plot(His1.history['val_loss'])  "
   ]
  },
  {
   "cell_type": "code",
   "execution_count": 9,
   "metadata": {},
   "outputs": [
    {
     "name": "stdout",
     "output_type": "stream",
     "text": [
      "Class 1:\n",
      "Sens = 0.27253218884120173\n",
      "Spec = 0.6986584107327142\n",
      "Class 2:\n",
      "Sens = 0.017777777777777778\n",
      "Spec = 0.9746192893401016\n",
      "Accuray = 0.34425087108013935, ROC = 0.5143533577555673\n",
      "Confusion matrix: (row = true, column = predicted)\n",
      "[[359 148  12]\n",
      " [326 127  13]\n",
      " [298 144   8]]\n",
      "Classifcation Report\n",
      "              precision    recall  f1-score   support\n",
      "\n",
      "           0       0.37      0.69      0.48       519\n",
      "           1       0.30      0.27      0.29       466\n",
      "           2       0.24      0.02      0.03       450\n",
      "\n",
      "    accuracy                           0.34      1435\n",
      "   macro avg       0.30      0.33      0.27      1435\n",
      "weighted avg       0.31      0.34      0.28      1435\n",
      "\n"
     ]
    }
   ],
   "source": [
    "Eval(Mod1, test_sets[1], y_sets[1])"
   ]
  },
  {
   "cell_type": "markdown",
   "metadata": {},
   "source": [
    "#### Model 2 ####"
   ]
  },
  {
   "cell_type": "code",
   "execution_count": 10,
   "metadata": {},
   "outputs": [
    {
     "data": {
      "text/plain": [
       "[<matplotlib.lines.Line2D at 0x7fdf6b495e20>]"
      ]
     },
     "execution_count": 10,
     "metadata": {},
     "output_type": "execute_result"
    },
    {
     "data": {
      "image/png": "[encoded data removed]",
      "text/plain": [
       "<Figure size 432x288 with 1 Axes>"
      ]
     },
     "metadata": {
      "needs_background": "light"
     },
     "output_type": "display_data"
    }
   ],
   "source": [
    "plt.plot(His2.history['loss'])\n",
    "plt.plot(His2.history['val_loss'])  "
   ]
  },
  {
   "cell_type": "code",
   "execution_count": 12,
   "metadata": {
    "scrolled": false
   },
   "outputs": [
    {
     "name": "stdout",
     "output_type": "stream",
     "text": [
      "Class 1:\n",
      "Sens = 0.1781115879828326\n",
      "Spec = 0.7977296181630547\n",
      "Class 2:\n",
      "Sens = 0.0\n",
      "Spec = 1.0\n",
      "Accuray = 0.3421602787456446, ROC = 0.5137668668697796\n",
      "Confusion matrix: (row = true, column = predicted)\n",
      "[[408 111   0]\n",
      " [383  83   0]\n",
      " [365  85   0]]\n",
      "Classifcation Report\n",
      "              precision    recall  f1-score   support\n",
      "\n",
      "           0       0.35      0.79      0.49       519\n",
      "           1       0.30      0.18      0.22       466\n",
      "           2       0.00      0.00      0.00       450\n",
      "\n",
      "    accuracy                           0.34      1435\n",
      "   macro avg       0.22      0.32      0.24      1435\n",
      "weighted avg       0.22      0.34      0.25      1435\n",
      "\n"
     ]
    },
    {
     "name": "stderr",
     "output_type": "stream",
     "text": [
      "/Users/martin/opt/anaconda3/lib/python3.8/site-packages/sklearn/metrics/_classification.py:1221: UndefinedMetricWarning: Precision and F-score are ill-defined and being set to 0.0 in labels with no predicted samples. Use `zero_division` parameter to control this behavior.\n",
      "  _warn_prf(average, modifier, msg_start, len(result))\n"
     ]
    }
   ],
   "source": [
    "Eval(Mod2, test_sets[1], y_sets[1])"
   ]
  },
  {
   "cell_type": "markdown",
   "metadata": {},
   "source": [
    "#### Model 3 ####"
   ]
  },
  {
   "cell_type": "code",
   "execution_count": 13,
   "metadata": {},
   "outputs": [
    {
     "data": {
      "text/plain": [
       "[<matplotlib.lines.Line2D at 0x7fdf6cfa5e20>]"
      ]
     },
     "execution_count": 13,
     "metadata": {},
     "output_type": "execute_result"
    },
    {
     "data": {
      "image/png": "[encoded data removed]",
      "text/plain": [
       "<Figure size 432x288 with 1 Axes>"
      ]
     },
     "metadata": {
      "needs_background": "light"
     },
     "output_type": "display_data"
    }
   ],
   "source": [
    "plt.plot(His3.history['loss'])\n",
    "plt.plot(His3.history['val_loss']) "
   ]
  },
  {
   "cell_type": "code",
   "execution_count": 14,
   "metadata": {},
   "outputs": [
    {
     "name": "stdout",
     "output_type": "stream",
     "text": [
      "Class 1:\n",
      "Sens = 0.06223175965665236\n",
      "Spec = 0.9422084623323014\n",
      "Class 2:\n",
      "Sens = 0.035555555555555556\n",
      "Spec = 0.9766497461928934\n",
      "Accuray = 0.3679442508710801, ROC = 0.5225707514092884\n",
      "Confusion matrix: (row = true, column = predicted)\n",
      "[[483  24  12]\n",
      " [426  29  11]\n",
      " [402  32  16]]\n",
      "Classifcation Report\n",
      "              precision    recall  f1-score   support\n",
      "\n",
      "           0       0.37      0.93      0.53       519\n",
      "           1       0.34      0.06      0.11       466\n",
      "           2       0.41      0.04      0.07       450\n",
      "\n",
      "    accuracy                           0.37      1435\n",
      "   macro avg       0.37      0.34      0.23      1435\n",
      "weighted avg       0.37      0.37      0.25      1435\n",
      "\n"
     ]
    }
   ],
   "source": [
    "Eval(Mod3, test_sets[1], y_sets[1])"
   ]
  },
  {
   "cell_type": "markdown",
   "metadata": {},
   "source": [
    "### Order flow features ###"
   ]
  },
  {
   "cell_type": "code",
   "execution_count": 15,
   "metadata": {},
   "outputs": [],
   "source": [
    "data_std = pd.read_csv(\"data/final/1min/OrderFlow/BTC_std.csv\")"
   ]
  },
  {
   "cell_type": "code",
   "execution_count": 16,
   "metadata": {
    "scrolled": true
   },
   "outputs": [
    {
     "name": "stdout",
     "output_type": "stream",
     "text": [
      "Window of size 1 was best\n",
      "Window of size 1 was best\n",
      "Window of size 5 was best\n"
     ]
    }
   ],
   "source": [
    "test_sets, y_sets, His1, His2, His3, Mod1, Mod2, Mod3 = Run_Dense(data_std, Y, \"test\",v_split, t_split)"
   ]
  },
  {
   "cell_type": "markdown",
   "metadata": {},
   "source": [
    "#### Model 1 ####"
   ]
  },
  {
   "cell_type": "code",
   "execution_count": 17,
   "metadata": {
    "scrolled": false
   },
   "outputs": [
    {
     "data": {
      "text/plain": [
       "[<matplotlib.lines.Line2D at 0x7fdef4d70490>]"
      ]
     },
     "execution_count": 17,
     "metadata": {},
     "output_type": "execute_result"
    },
    {
     "data": {
      "image/png": "[encoded data removed]",
      "text/plain": [
       "<Figure size 432x288 with 1 Axes>"
      ]
     },
     "metadata": {
      "needs_background": "light"
     },
     "output_type": "display_data"
    }
   ],
   "source": [
    "plt.plot(His1.history['loss'])\n",
    "plt.plot(His1.history['val_loss'])  "
   ]
  },
  {
   "cell_type": "code",
   "execution_count": 19,
   "metadata": {
    "scrolled": false
   },
   "outputs": [
    {
     "name": "stdout",
     "output_type": "stream",
     "text": [
      "Class 1:\n",
      "Sens = 0.09421841541755889\n",
      "Spec = 0.9362139917695473\n",
      "Class 2:\n",
      "Sens = 0.0022123893805309734\n",
      "Spec = 0.9989868287740629\n",
      "Accuray = 0.3745656706045865, ROC = 0.5410992064846871\n",
      "Confusion matrix: (row = true, column = predicted)\n",
      "[[494  26   0]\n",
      " [422  44   1]\n",
      " [415  36   1]]\n",
      "Classifcation Report\n",
      "              precision    recall  f1-score   support\n",
      "\n",
      "           0       0.37      0.95      0.53       520\n",
      "           1       0.42      0.09      0.15       467\n",
      "           2       0.50      0.00      0.00       452\n",
      "\n",
      "    accuracy                           0.37      1439\n",
      "   macro avg       0.43      0.35      0.23      1439\n",
      "weighted avg       0.43      0.37      0.24      1439\n",
      "\n"
     ]
    }
   ],
   "source": [
    "Eval(Mod1, test_sets[0], y_sets[0])"
   ]
  },
  {
   "cell_type": "markdown",
   "metadata": {},
   "source": [
    "#### Model 2 ####"
   ]
  },
  {
   "cell_type": "code",
   "execution_count": 20,
   "metadata": {},
   "outputs": [
    {
     "data": {
      "text/plain": [
       "[<matplotlib.lines.Line2D at 0x7fdeeac1e070>]"
      ]
     },
     "execution_count": 20,
     "metadata": {},
     "output_type": "execute_result"
    },
    {
     "data": {
      "image/png": "[encoded data removed]",
      "text/plain": [
       "<Figure size 432x288 with 1 Axes>"
      ]
     },
     "metadata": {
      "needs_background": "light"
     },
     "output_type": "display_data"
    }
   ],
   "source": [
    "plt.plot(His2.history['loss'])\n",
    "plt.plot(His2.history['val_loss'])  "
   ]
  },
  {
   "cell_type": "code",
   "execution_count": 22,
   "metadata": {},
   "outputs": [
    {
     "name": "stdout",
     "output_type": "stream",
     "text": [
      "Class 1:\n",
      "Sens = 0.13704496788008566\n",
      "Spec = 0.918724279835391\n",
      "Class 2:\n",
      "Sens = 0.0\n",
      "Spec = 1.0\n",
      "Accuray = 0.37734537873523283, ROC = 0.535502726776451\n",
      "Confusion matrix: (row = true, column = predicted)\n",
      "[[479  41   0]\n",
      " [403  64   0]\n",
      " [414  38   0]]\n",
      "Classifcation Report\n",
      "              precision    recall  f1-score   support\n",
      "\n",
      "           0       0.37      0.92      0.53       520\n",
      "           1       0.45      0.14      0.21       467\n",
      "           2       0.00      0.00      0.00       452\n",
      "\n",
      "    accuracy                           0.38      1439\n",
      "   macro avg       0.27      0.35      0.25      1439\n",
      "weighted avg       0.28      0.38      0.26      1439\n",
      "\n"
     ]
    },
    {
     "name": "stderr",
     "output_type": "stream",
     "text": [
      "/Users/martin/opt/anaconda3/lib/python3.8/site-packages/sklearn/metrics/_classification.py:1221: UndefinedMetricWarning: Precision and F-score are ill-defined and being set to 0.0 in labels with no predicted samples. Use `zero_division` parameter to control this behavior.\n",
      "  _warn_prf(average, modifier, msg_start, len(result))\n"
     ]
    }
   ],
   "source": [
    "Eval(Mod2, test_sets[0], y_sets[0])"
   ]
  },
  {
   "cell_type": "markdown",
   "metadata": {},
   "source": [
    "#### Model 3 ####"
   ]
  },
  {
   "cell_type": "code",
   "execution_count": 23,
   "metadata": {},
   "outputs": [
    {
     "data": {
      "text/plain": [
       "[<matplotlib.lines.Line2D at 0x7fdeead81700>]"
      ]
     },
     "execution_count": 23,
     "metadata": {},
     "output_type": "execute_result"
    },
    {
     "data": {
      "image/png": "[encoded data removed]",
      "text/plain": [
       "<Figure size 432x288 with 1 Axes>"
      ]
     },
     "metadata": {
      "needs_background": "light"
     },
     "output_type": "display_data"
    }
   ],
   "source": [
    "plt.plot(His3.history['loss'])\n",
    "plt.plot(His3.history['val_loss']) "
   ]
  },
  {
   "cell_type": "code",
   "execution_count": 24,
   "metadata": {},
   "outputs": [
    {
     "name": "stdout",
     "output_type": "stream",
     "text": [
      "Class 1:\n",
      "Sens = 0.34120171673819744\n",
      "Spec = 0.6790505675954592\n",
      "Class 2:\n",
      "Sens = 0.19777777777777777\n",
      "Spec = 0.8213197969543147\n",
      "Accuray = 0.35958188153310106, ROC = 0.5099886797398646\n",
      "Confusion matrix: (row = true, column = predicted)\n",
      "[[268 167  84]\n",
      " [215 159  92]\n",
      " [217 144  89]]\n",
      "Classifcation Report\n",
      "              precision    recall  f1-score   support\n",
      "\n",
      "           0       0.38      0.52      0.44       519\n",
      "           1       0.34      0.34      0.34       466\n",
      "           2       0.34      0.20      0.25       450\n",
      "\n",
      "    accuracy                           0.36      1435\n",
      "   macro avg       0.35      0.35      0.34      1435\n",
      "weighted avg       0.35      0.36      0.35      1435\n",
      "\n"
     ]
    }
   ],
   "source": [
    "Eval(Mod3, test_sets[1], y_sets[1])"
   ]
  },
  {
   "cell_type": "markdown",
   "metadata": {},
   "source": [
    "### High Frequency Features ###"
   ]
  },
  {
   "cell_type": "code",
   "execution_count": 25,
   "metadata": {},
   "outputs": [],
   "source": [
    "data_std = pd.read_csv(\"data/final/1min/HF/BTC_std.csv\")"
   ]
  },
  {
   "cell_type": "code",
   "execution_count": 26,
   "metadata": {
    "scrolled": true
   },
   "outputs": [
    {
     "name": "stdout",
     "output_type": "stream",
     "text": [
      "Window of size 5 was best\n",
      "Window of size 5 was best\n",
      "Window of size 5 was best\n"
     ]
    }
   ],
   "source": [
    "test_sets, y_sets, His1, His2, His3, Mod1, Mod2, Mod3 = Run_Dense(data_std, Y, \"test\", v_split, t_split)"
   ]
  },
  {
   "cell_type": "markdown",
   "metadata": {},
   "source": [
    "#### Model 1 ####"
   ]
  },
  {
   "cell_type": "code",
   "execution_count": 27,
   "metadata": {
    "scrolled": false
   },
   "outputs": [
    {
     "data": {
      "text/plain": [
       "[<matplotlib.lines.Line2D at 0x7fdf7b2dee50>]"
      ]
     },
     "execution_count": 27,
     "metadata": {},
     "output_type": "execute_result"
    },
    {
     "data": {
      "image/png": "[encoded data removed]",
      "text/plain": [
       "<Figure size 432x288 with 1 Axes>"
      ]
     },
     "metadata": {
      "needs_background": "light"
     },
     "output_type": "display_data"
    }
   ],
   "source": [
    "plt.plot(His1.history['loss'])\n",
    "plt.plot(His1.history['val_loss'])  "
   ]
  },
  {
   "cell_type": "code",
   "execution_count": 28,
   "metadata": {
    "scrolled": false
   },
   "outputs": [
    {
     "name": "stdout",
     "output_type": "stream",
     "text": [
      "Class 1:\n",
      "Sens = 0.07510729613733906\n",
      "Spec = 0.9494324045407637\n",
      "Class 2:\n",
      "Sens = 0.6666666666666666\n",
      "Spec = 0.41421319796954315\n",
      "Accuray = 0.3797909407665505, ROC = 0.5527265774279815\n",
      "Confusion matrix: (row = true, column = predicted)\n",
      "[[210  26 283]\n",
      " [137  35 294]\n",
      " [127  23 300]]\n",
      "Classifcation Report\n",
      "              precision    recall  f1-score   support\n",
      "\n",
      "           0       0.44      0.40      0.42       519\n",
      "           1       0.42      0.08      0.13       466\n",
      "           2       0.34      0.67      0.45       450\n",
      "\n",
      "    accuracy                           0.38      1435\n",
      "   macro avg       0.40      0.38      0.33      1435\n",
      "weighted avg       0.40      0.38      0.34      1435\n",
      "\n"
     ]
    }
   ],
   "source": [
    "Eval(Mod1, test_sets[1], y_sets[1])"
   ]
  },
  {
   "cell_type": "markdown",
   "metadata": {},
   "source": [
    "#### Model 2 ####"
   ]
  },
  {
   "cell_type": "code",
   "execution_count": 29,
   "metadata": {},
   "outputs": [
    {
     "data": {
      "text/plain": [
       "[<matplotlib.lines.Line2D at 0x7fdf6ad1b7f0>]"
      ]
     },
     "execution_count": 29,
     "metadata": {},
     "output_type": "execute_result"
    },
    {
     "data": {
      "image/png": "[encoded data removed]",
      "text/plain": [
       "<Figure size 432x288 with 1 Axes>"
      ]
     },
     "metadata": {
      "needs_background": "light"
     },
     "output_type": "display_data"
    }
   ],
   "source": [
    "plt.plot(His2.history['loss'])\n",
    "plt.plot(His2.history['val_loss'])  "
   ]
  },
  {
   "cell_type": "code",
   "execution_count": 30,
   "metadata": {},
   "outputs": [
    {
     "name": "stdout",
     "output_type": "stream",
     "text": [
      "Class 1:\n",
      "Sens = 0.07939914163090128\n",
      "Spec = 0.9184726522187823\n",
      "Class 2:\n",
      "Sens = 0.017777777777777778\n",
      "Spec = 0.9878172588832488\n",
      "Accuray = 0.3588850174216028, ROC = 0.5416577635011391\n",
      "Confusion matrix: (row = true, column = predicted)\n",
      "[[470  39  10]\n",
      " [427  37   2]\n",
      " [402  40   8]]\n",
      "Classifcation Report\n",
      "              precision    recall  f1-score   support\n",
      "\n",
      "           0       0.36      0.91      0.52       519\n",
      "           1       0.32      0.08      0.13       466\n",
      "           2       0.40      0.02      0.03       450\n",
      "\n",
      "    accuracy                           0.36      1435\n",
      "   macro avg       0.36      0.33      0.23      1435\n",
      "weighted avg       0.36      0.36      0.24      1435\n",
      "\n"
     ]
    }
   ],
   "source": [
    "Eval(Mod2, test_sets[1], y_sets[1])"
   ]
  },
  {
   "cell_type": "markdown",
   "metadata": {},
   "source": [
    "#### Model 3 ####"
   ]
  },
  {
   "cell_type": "code",
   "execution_count": 31,
   "metadata": {},
   "outputs": [
    {
     "data": {
      "text/plain": [
       "[<matplotlib.lines.Line2D at 0x7fdf4cf21df0>]"
      ]
     },
     "execution_count": 31,
     "metadata": {},
     "output_type": "execute_result"
    },
    {
     "data": {
      "image/png": "[encoded data removed]",
      "text/plain": [
       "<Figure size 432x288 with 1 Axes>"
      ]
     },
     "metadata": {
      "needs_background": "light"
     },
     "output_type": "display_data"
    }
   ],
   "source": [
    "plt.plot(His3.history['loss'])\n",
    "plt.plot(His3.history['val_loss']) "
   ]
  },
  {
   "cell_type": "code",
   "execution_count": 33,
   "metadata": {},
   "outputs": [
    {
     "name": "stdout",
     "output_type": "stream",
     "text": [
      "Class 1:\n",
      "Sens = 0.017167381974248927\n",
      "Spec = 0.9896800825593395\n",
      "Class 2:\n",
      "Sens = 0.0\n",
      "Spec = 1.0\n",
      "Accuray = 0.36445993031358886, ROC = 0.552144774599366\n",
      "Confusion matrix: (row = true, column = predicted)\n",
      "[[515   4   0]\n",
      " [458   8   0]\n",
      " [444   6   0]]\n",
      "Classifcation Report\n",
      "              precision    recall  f1-score   support\n",
      "\n",
      "           0       0.36      0.99      0.53       519\n",
      "           1       0.44      0.02      0.03       466\n",
      "           2       0.00      0.00      0.00       450\n",
      "\n",
      "    accuracy                           0.36      1435\n",
      "   macro avg       0.27      0.34      0.19      1435\n",
      "weighted avg       0.28      0.36      0.20      1435\n",
      "\n"
     ]
    },
    {
     "name": "stderr",
     "output_type": "stream",
     "text": [
      "/Users/martin/opt/anaconda3/lib/python3.8/site-packages/sklearn/metrics/_classification.py:1221: UndefinedMetricWarning: Precision and F-score are ill-defined and being set to 0.0 in labels with no predicted samples. Use `zero_division` parameter to control this behavior.\n",
      "  _warn_prf(average, modifier, msg_start, len(result))\n"
     ]
    }
   ],
   "source": [
    "Eval(Mod3, test_sets[1], y_sets[1])"
   ]
  },
  {
   "cell_type": "markdown",
   "metadata": {},
   "source": [
    "### LSTM Models ###"
   ]
  },
  {
   "cell_type": "markdown",
   "metadata": {},
   "source": [
    "#### Bid Ask Features ####"
   ]
  },
  {
   "cell_type": "code",
   "execution_count": 30,
   "metadata": {},
   "outputs": [],
   "source": [
    "data_std = pd.read_csv(\"data/final/1min/BidAsk/BTC_std.csv\")"
   ]
  },
  {
   "cell_type": "code",
   "execution_count": 31,
   "metadata": {
    "scrolled": true
   },
   "outputs": [],
   "source": [
    "test_lstm, Y_test_lstm, His1, Mod1, His2, Mod2, His3, Mod3 = Run_LSTM(data_std, Y, \"test\", v_split, t_split)"
   ]
  },
  {
   "cell_type": "markdown",
   "metadata": {},
   "source": [
    "#### Model 1 #####"
   ]
  },
  {
   "cell_type": "code",
   "execution_count": 32,
   "metadata": {},
   "outputs": [
    {
     "data": {
      "text/plain": [
       "[<matplotlib.lines.Line2D at 0x7fe76716d190>]"
      ]
     },
     "execution_count": 32,
     "metadata": {},
     "output_type": "execute_result"
    },
    {
     "data": {
      "image/png": "[encoded data removed]",
      "text/plain": [
       "<Figure size 432x288 with 1 Axes>"
      ]
     },
     "metadata": {
      "needs_background": "light"
     },
     "output_type": "display_data"
    }
   ],
   "source": [
    "plt.plot(His1.history['loss'])\n",
    "plt.plot(His1.history['val_loss'])  "
   ]
  },
  {
   "cell_type": "code",
   "execution_count": 33,
   "metadata": {
    "scrolled": false
   },
   "outputs": [
    {
     "name": "stdout",
     "output_type": "stream",
     "text": [
      "Class 1:\n",
      "Sens = 0.14743589743589744\n",
      "Spec = 0.8744855967078189\n",
      "Class 2:\n",
      "Sens = 0.17035398230088494\n",
      "Spec = 0.7682186234817814\n",
      "Accuracy = 0.33402777777777776, ROC = 0.49613270380716307\n",
      "Confusion matrix: (row = true, column = predicted)\n",
      "[[335  65 120]\n",
      " [290  69 109]\n",
      " [318  57  77]]\n"
     ]
    }
   ],
   "source": [
    "Eval_LSTM(Mod1, test_lstm, Y_test_lstm, t_split)"
   ]
  },
  {
   "cell_type": "markdown",
   "metadata": {},
   "source": [
    "#### Model 2 #####"
   ]
  },
  {
   "cell_type": "code",
   "execution_count": 34,
   "metadata": {},
   "outputs": [
    {
     "data": {
      "text/plain": [
       "[<matplotlib.lines.Line2D at 0x7fe770f5cee0>]"
      ]
     },
     "execution_count": 34,
     "metadata": {},
     "output_type": "execute_result"
    },
    {
     "data": {
      "image/png": "[encoded data removed]",
      "text/plain": [
       "<Figure size 432x288 with 1 Axes>"
      ]
     },
     "metadata": {
      "needs_background": "light"
     },
     "output_type": "display_data"
    }
   ],
   "source": [
    "plt.plot(His2.history['loss'])\n",
    "plt.plot(His2.history['val_loss'])  "
   ]
  },
  {
   "cell_type": "code",
   "execution_count": 35,
   "metadata": {},
   "outputs": [
    {
     "name": "stdout",
     "output_type": "stream",
     "text": [
      "Class 1:\n",
      "Sens = 0.30982905982905984\n",
      "Spec = 0.7376543209876543\n",
      "Class 2:\n",
      "Sens = 0.01327433628318584\n",
      "Spec = 0.9959514170040485\n",
      "Accuracy = 0.3784722222222222, ROC = 0.5332452789464313\n",
      "Confusion matrix: (row = true, column = predicted)\n",
      "[[394 124   2]\n",
      " [321 145   2]\n",
      " [315 131   6]]\n"
     ]
    }
   ],
   "source": [
    "Eval_LSTM(Mod2, test_lstm, Y_test_lstm, t_split)"
   ]
  },
  {
   "cell_type": "markdown",
   "metadata": {},
   "source": [
    "#### Model 3 #####"
   ]
  },
  {
   "cell_type": "code",
   "execution_count": 36,
   "metadata": {},
   "outputs": [
    {
     "data": {
      "text/plain": [
       "[<matplotlib.lines.Line2D at 0x7fe771ad1640>]"
      ]
     },
     "execution_count": 36,
     "metadata": {},
     "output_type": "execute_result"
    },
    {
     "data": {
      "image/png": "[encoded data removed]",
      "text/plain": [
       "<Figure size 432x288 with 1 Axes>"
      ]
     },
     "metadata": {
      "needs_background": "light"
     },
     "output_type": "display_data"
    }
   ],
   "source": [
    "plt.plot(His3.history['loss'])\n",
    "plt.plot(His3.history['val_loss'])  "
   ]
  },
  {
   "cell_type": "code",
   "execution_count": 37,
   "metadata": {},
   "outputs": [
    {
     "name": "stdout",
     "output_type": "stream",
     "text": [
      "Class 1:\n",
      "Sens = 0.01282051282051282\n",
      "Spec = 0.9907407407407407\n",
      "Class 2:\n",
      "Sens = 0.011061946902654867\n",
      "Spec = 0.979757085020243\n",
      "Accuracy = 0.3597222222222222, ROC = 0.539966103656207\n",
      "Confusion matrix: (row = true, column = predicted)\n",
      "[[507   4   9]\n",
      " [451   6  11]\n",
      " [442   5   5]]\n"
     ]
    }
   ],
   "source": [
    "Eval_LSTM(Mod3, test_lstm, Y_test_lstm, t_split)"
   ]
  },
  {
   "cell_type": "markdown",
   "metadata": {},
   "source": [
    "#### Order Flow Features ####"
   ]
  },
  {
   "cell_type": "code",
   "execution_count": 38,
   "metadata": {},
   "outputs": [],
   "source": [
    "data_std = pd.read_csv(\"data/final/1min/OrderFlow/BTC_std.csv\")"
   ]
  },
  {
   "cell_type": "code",
   "execution_count": 39,
   "metadata": {
    "scrolled": true
   },
   "outputs": [],
   "source": [
    "test_lstm, Y_test_lstm, His1, Mod1, His2, Mod2, His3, Mod3 = Run_LSTM(data_std, Y, \"test\", v_split, t_split)"
   ]
  },
  {
   "cell_type": "markdown",
   "metadata": {},
   "source": [
    "#### Model 1 #####"
   ]
  },
  {
   "cell_type": "code",
   "execution_count": 40,
   "metadata": {
    "scrolled": true
   },
   "outputs": [
    {
     "data": {
      "text/plain": [
       "[<matplotlib.lines.Line2D at 0x7fe781e06340>]"
      ]
     },
     "execution_count": 40,
     "metadata": {},
     "output_type": "execute_result"
    },
    {
     "data": {
      "image/png": "[encoded data removed]",
      "text/plain": [
       "<Figure size 432x288 with 1 Axes>"
      ]
     },
     "metadata": {
      "needs_background": "light"
     },
     "output_type": "display_data"
    }
   ],
   "source": [
    "plt.plot(His1.history['loss'])\n",
    "plt.plot(His1.history['val_loss'])  "
   ]
  },
  {
   "cell_type": "code",
   "execution_count": 41,
   "metadata": {},
   "outputs": [
    {
     "name": "stdout",
     "output_type": "stream",
     "text": [
      "WARNING:tensorflow:5 out of the last 145 calls to <function Model.make_predict_function.<locals>.predict_function at 0x7fe781e2f550> triggered tf.function retracing. Tracing is expensive and the excessive number of tracings could be due to (1) creating @tf.function repeatedly in a loop, (2) passing tensors with different shapes, (3) passing Python objects instead of tensors. For (1), please define your @tf.function outside of the loop. For (2), @tf.function has experimental_relax_shapes=True option that relaxes argument shapes that can avoid unnecessary retracing. For (3), please refer to https://www.tensorflow.org/guide/function#controlling_retracing and https://www.tensorflow.org/api_docs/python/tf/function for  more details.\n",
      "Class 1:\n",
      "Sens = 0.42948717948717946\n",
      "Spec = 0.6286008230452675\n",
      "Class 2:\n",
      "Sens = 0.19247787610619468\n",
      "Spec = 0.8046558704453441\n",
      "Accuracy = 0.36180555555555555, ROC = 0.5230246049855729\n",
      "Confusion matrix: (row = true, column = predicted)\n",
      "[[233 186 101]\n",
      " [175 201  92]\n",
      " [190 175  87]]\n"
     ]
    }
   ],
   "source": [
    "Eval_LSTM(Mod1, test_lstm, Y_test_lstm, t_split)"
   ]
  },
  {
   "cell_type": "markdown",
   "metadata": {},
   "source": [
    "#### Model 2 #####"
   ]
  },
  {
   "cell_type": "code",
   "execution_count": 42,
   "metadata": {},
   "outputs": [
    {
     "data": {
      "text/plain": [
       "[<matplotlib.lines.Line2D at 0x7fe786450400>]"
      ]
     },
     "execution_count": 42,
     "metadata": {},
     "output_type": "execute_result"
    },
    {
     "data": {
      "image/png": "[encoded data removed]",
      "text/plain": [
       "<Figure size 432x288 with 1 Axes>"
      ]
     },
     "metadata": {
      "needs_background": "light"
     },
     "output_type": "display_data"
    }
   ],
   "source": [
    "plt.plot(His2.history['loss'])\n",
    "plt.plot(His2.history['val_loss'])  "
   ]
  },
  {
   "cell_type": "code",
   "execution_count": 43,
   "metadata": {},
   "outputs": [
    {
     "name": "stdout",
     "output_type": "stream",
     "text": [
      "WARNING:tensorflow:5 out of the last 13 calls to <function Model.make_predict_function.<locals>.predict_function at 0x7fe786472820> triggered tf.function retracing. Tracing is expensive and the excessive number of tracings could be due to (1) creating @tf.function repeatedly in a loop, (2) passing tensors with different shapes, (3) passing Python objects instead of tensors. For (1), please define your @tf.function outside of the loop. For (2), @tf.function has experimental_relax_shapes=True option that relaxes argument shapes that can avoid unnecessary retracing. For (3), please refer to https://www.tensorflow.org/guide/function#controlling_retracing and https://www.tensorflow.org/api_docs/python/tf/function for  more details.\n",
      "Class 1:\n",
      "Sens = 0.0405982905982906\n",
      "Spec = 0.9681069958847737\n",
      "Class 2:\n",
      "Sens = 0.01991150442477876\n",
      "Spec = 0.9878542510121457\n",
      "Accuracy = 0.3645833333333333, ROC = 0.5370742145326587\n",
      "Confusion matrix: (row = true, column = predicted)\n",
      "[[497  18   5]\n",
      " [442  19   7]\n",
      " [430  13   9]]\n"
     ]
    }
   ],
   "source": [
    "Eval_LSTM(Mod2, test_lstm, Y_test_lstm, t_split)"
   ]
  },
  {
   "cell_type": "markdown",
   "metadata": {},
   "source": [
    "#### Model 3 #####"
   ]
  },
  {
   "cell_type": "code",
   "execution_count": 44,
   "metadata": {},
   "outputs": [
    {
     "data": {
      "text/plain": [
       "[<matplotlib.lines.Line2D at 0x7fe76b5e41c0>]"
      ]
     },
     "execution_count": 44,
     "metadata": {},
     "output_type": "execute_result"
    },
    {
     "data": {
      "image/png": "[encoded data removed]",
      "text/plain": [
       "<Figure size 432x288 with 1 Axes>"
      ]
     },
     "metadata": {
      "needs_background": "light"
     },
     "output_type": "display_data"
    }
   ],
   "source": [
    "plt.plot(His3.history['loss'])\n",
    "plt.plot(His3.history['val_loss'])  "
   ]
  },
  {
   "cell_type": "code",
   "execution_count": 45,
   "metadata": {},
   "outputs": [
    {
     "name": "stdout",
     "output_type": "stream",
     "text": [
      "WARNING:tensorflow:5 out of the last 13 calls to <function Model.make_predict_function.<locals>.predict_function at 0x7fe76c2f8430> triggered tf.function retracing. Tracing is expensive and the excessive number of tracings could be due to (1) creating @tf.function repeatedly in a loop, (2) passing tensors with different shapes, (3) passing Python objects instead of tensors. For (1), please define your @tf.function outside of the loop. For (2), @tf.function has experimental_relax_shapes=True option that relaxes argument shapes that can avoid unnecessary retracing. For (3), please refer to https://www.tensorflow.org/guide/function#controlling_retracing and https://www.tensorflow.org/api_docs/python/tf/function for  more details.\n",
      "Class 1:\n",
      "Sens = 0.0\n",
      "Spec = 1.0\n",
      "Class 2:\n",
      "Sens = 0.0\n",
      "Spec = 1.0\n",
      "Accuracy = 0.3611111111111111, ROC = 0.5286067597952245\n",
      "Confusion matrix: (row = true, column = predicted)\n",
      "[[520   0   0]\n",
      " [468   0   0]\n",
      " [452   0   0]]\n"
     ]
    }
   ],
   "source": [
    "Eval_LSTM(Mod3, test_lstm, Y_test_lstm, t_split)"
   ]
  },
  {
   "cell_type": "markdown",
   "metadata": {},
   "source": [
    "#### High Frequency Features ####"
   ]
  },
  {
   "cell_type": "code",
   "execution_count": 46,
   "metadata": {},
   "outputs": [],
   "source": [
    "data_std = pd.read_csv(\"data/final/1min/HF/BTC_std.csv\")"
   ]
  },
  {
   "cell_type": "code",
   "execution_count": 47,
   "metadata": {
    "scrolled": true
   },
   "outputs": [],
   "source": [
    "test_lstm, Y_test_lstm, His1, Mod1, His2, Mod2, His3, Mod3 = Run_LSTM(data_std, Y, \"test\", v_split, t_split)"
   ]
  },
  {
   "cell_type": "markdown",
   "metadata": {},
   "source": [
    "#### Model 1 #####"
   ]
  },
  {
   "cell_type": "code",
   "execution_count": 48,
   "metadata": {},
   "outputs": [
    {
     "data": {
      "text/plain": [
       "[<matplotlib.lines.Line2D at 0x7fe76c0487f0>]"
      ]
     },
     "execution_count": 48,
     "metadata": {},
     "output_type": "execute_result"
    },
    {
     "data": {
      "image/png": "[encoded data removed]",
      "text/plain": [
       "<Figure size 432x288 with 1 Axes>"
      ]
     },
     "metadata": {
      "needs_background": "light"
     },
     "output_type": "display_data"
    }
   ],
   "source": [
    "plt.plot(His1.history['loss'])\n",
    "plt.plot(His1.history['val_loss'])  "
   ]
  },
  {
   "cell_type": "code",
   "execution_count": 49,
   "metadata": {},
   "outputs": [
    {
     "name": "stdout",
     "output_type": "stream",
     "text": [
      "WARNING:tensorflow:5 out of the last 13 calls to <function Model.make_predict_function.<locals>.predict_function at 0x7fe768143b80> triggered tf.function retracing. Tracing is expensive and the excessive number of tracings could be due to (1) creating @tf.function repeatedly in a loop, (2) passing tensors with different shapes, (3) passing Python objects instead of tensors. For (1), please define your @tf.function outside of the loop. For (2), @tf.function has experimental_relax_shapes=True option that relaxes argument shapes that can avoid unnecessary retracing. For (3), please refer to https://www.tensorflow.org/guide/function#controlling_retracing and https://www.tensorflow.org/api_docs/python/tf/function for  more details.\n",
      "Class 1:\n",
      "Sens = 0.38247863247863245\n",
      "Spec = 0.647119341563786\n",
      "Class 2:\n",
      "Sens = 0.10619469026548672\n",
      "Spec = 0.944331983805668\n",
      "Accuracy = 0.39166666666666666, ROC = 0.5595389654421309\n",
      "Confusion matrix: (row = true, column = predicted)\n",
      "[[337 167  16]\n",
      " [250 179  39]\n",
      " [228 176  48]]\n"
     ]
    }
   ],
   "source": [
    "Eval_LSTM(Mod1, test_lstm, Y_test_lstm, t_split)"
   ]
  },
  {
   "cell_type": "markdown",
   "metadata": {},
   "source": [
    "#### Model 2 #####"
   ]
  },
  {
   "cell_type": "code",
   "execution_count": 50,
   "metadata": {},
   "outputs": [
    {
     "data": {
      "text/plain": [
       "[<matplotlib.lines.Line2D at 0x7fe76a0a4940>]"
      ]
     },
     "execution_count": 50,
     "metadata": {},
     "output_type": "execute_result"
    },
    {
     "data": {
      "image/png": "[encoded data removed]",
      "text/plain": [
       "<Figure size 432x288 with 1 Axes>"
      ]
     },
     "metadata": {
      "needs_background": "light"
     },
     "output_type": "display_data"
    }
   ],
   "source": [
    "plt.plot(His2.history['loss'])\n",
    "plt.plot(His2.history['val_loss'])  "
   ]
  },
  {
   "cell_type": "code",
   "execution_count": 51,
   "metadata": {},
   "outputs": [
    {
     "name": "stdout",
     "output_type": "stream",
     "text": [
      "WARNING:tensorflow:5 out of the last 13 calls to <function Model.make_predict_function.<locals>.predict_function at 0x7fe76a0c3ee0> triggered tf.function retracing. Tracing is expensive and the excessive number of tracings could be due to (1) creating @tf.function repeatedly in a loop, (2) passing tensors with different shapes, (3) passing Python objects instead of tensors. For (1), please define your @tf.function outside of the loop. For (2), @tf.function has experimental_relax_shapes=True option that relaxes argument shapes that can avoid unnecessary retracing. For (3), please refer to https://www.tensorflow.org/guide/function#controlling_retracing and https://www.tensorflow.org/api_docs/python/tf/function for  more details.\n",
      "Class 1:\n",
      "Sens = 0.17307692307692307\n",
      "Spec = 0.8353909465020576\n",
      "Class 2:\n",
      "Sens = 0.23008849557522124\n",
      "Spec = 0.7904858299595142\n",
      "Accuracy = 0.375, ROC = 0.5467547855947776\n",
      "Confusion matrix: (row = true, column = predicted)\n",
      "[[355  74  91]\n",
      " [271  81 116]\n",
      " [262  86 104]]\n"
     ]
    }
   ],
   "source": [
    "Eval_LSTM(Mod2, test_lstm, Y_test_lstm, t_split)"
   ]
  },
  {
   "cell_type": "markdown",
   "metadata": {},
   "source": [
    "#### Model 3 #####"
   ]
  },
  {
   "cell_type": "code",
   "execution_count": 52,
   "metadata": {},
   "outputs": [
    {
     "data": {
      "text/plain": [
       "[<matplotlib.lines.Line2D at 0x7fe76c78c2b0>]"
      ]
     },
     "execution_count": 52,
     "metadata": {},
     "output_type": "execute_result"
    },
    {
     "data": {
      "image/png": "[encoded data removed]",
      "text/plain": [
       "<Figure size 432x288 with 1 Axes>"
      ]
     },
     "metadata": {
      "needs_background": "light"
     },
     "output_type": "display_data"
    }
   ],
   "source": [
    "plt.plot(His3.history['loss'])\n",
    "plt.plot(His3.history['val_loss'])  "
   ]
  },
  {
   "cell_type": "code",
   "execution_count": 53,
   "metadata": {},
   "outputs": [
    {
     "name": "stdout",
     "output_type": "stream",
     "text": [
      "WARNING:tensorflow:5 out of the last 13 calls to <function Model.make_predict_function.<locals>.predict_function at 0x7fe76bcf3700> triggered tf.function retracing. Tracing is expensive and the excessive number of tracings could be due to (1) creating @tf.function repeatedly in a loop, (2) passing tensors with different shapes, (3) passing Python objects instead of tensors. For (1), please define your @tf.function outside of the loop. For (2), @tf.function has experimental_relax_shapes=True option that relaxes argument shapes that can avoid unnecessary retracing. For (3), please refer to https://www.tensorflow.org/guide/function#controlling_retracing and https://www.tensorflow.org/api_docs/python/tf/function for  more details.\n",
      "Class 1:\n",
      "Sens = 0.07905982905982906\n",
      "Spec = 0.9475308641975309\n",
      "Class 2:\n",
      "Sens = 0.084070796460177\n",
      "Spec = 0.8937246963562753\n",
      "Accuracy = 0.36319444444444443, ROC = 0.5601582067033899\n",
      "Confusion matrix: (row = true, column = predicted)\n",
      "[[448  19  53]\n",
      " [379  37  52]\n",
      " [382  32  38]]\n"
     ]
    }
   ],
   "source": [
    "Eval_LSTM(Mod3, test_lstm, Y_test_lstm, t_split)"
   ]
  }
 ],
 "metadata": {
  "kernelspec": {
   "display_name": "Python 3",
   "language": "python",
   "name": "python3"
  },
  "language_info": {
   "codemirror_mode": {
    "name": "ipython",
    "version": 3
   },
   "file_extension": ".py",
   "mimetype": "text/x-python",
   "name": "python",
   "nbconvert_exporter": "python",
   "pygments_lexer": "ipython3",
   "version": "3.8.5"
  }
 },
 "nbformat": 4,
 "nbformat_minor": 4
}
