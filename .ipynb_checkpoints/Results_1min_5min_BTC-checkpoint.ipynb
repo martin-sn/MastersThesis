{
 "cells": [
  {
   "cell_type": "code",
   "execution_count": 1,
   "metadata": {},
   "outputs": [],
   "source": [
    "from deep_models import *"
   ]
  },
  {
   "cell_type": "markdown",
   "metadata": {},
   "source": [
    "# 1 Min Data - 1 Min Forecast #"
   ]
  },
  {
   "cell_type": "code",
   "execution_count": 2,
   "metadata": {},
   "outputs": [],
   "source": [
    "Y = pd.read_csv(\"data/final/1min/BTC_Y_5_std.csv\")"
   ]
  },
  {
   "cell_type": "markdown",
   "metadata": {},
   "source": [
    "## Dense Models ##"
   ]
  },
  {
   "cell_type": "markdown",
   "metadata": {},
   "source": [
    "#### Bid Ask Features ####"
   ]
  },
  {
   "cell_type": "code",
   "execution_count": 3,
   "metadata": {},
   "outputs": [],
   "source": [
    "data_std = pd.read_csv(\"data/final/1min/BidAsk/BTC_std_5.csv\")"
   ]
  },
  {
   "cell_type": "code",
   "execution_count": 23,
   "metadata": {},
   "outputs": [
    {
     "data": {
      "text/plain": [
       "(17048, 33)"
      ]
     },
     "execution_count": 23,
     "metadata": {},
     "output_type": "execute_result"
    }
   ],
   "source": [
    "data_std.shape"
   ]
  },
  {
   "cell_type": "code",
   "execution_count": 3,
   "metadata": {},
   "outputs": [],
   "source": [
    "t_split = 17048 - 1440"
   ]
  },
  {
   "cell_type": "code",
   "execution_count": 4,
   "metadata": {},
   "outputs": [],
   "source": [
    "v_split = 17048 - 1440*2"
   ]
  },
  {
   "cell_type": "code",
   "execution_count": 27,
   "metadata": {
    "scrolled": true
   },
   "outputs": [
    {
     "name": "stdout",
     "output_type": "stream",
     "text": [
      "Window of size 5 was best\n",
      "Window of size 5 was best\n",
      "Window of size 5 was best\n",
      "CPU times: user 1min 47s, sys: 5.27 s, total: 1min 52s\n",
      "Wall time: 1min 44s\n"
     ]
    }
   ],
   "source": [
    "%%time\n",
    "test_sets, y_sets, His1, His2, His3, Mod1, Mod2, Mod3 = Run_Dense(data_std, Y, \"BTC_Dense_BA\",v_split, t_split, EP = 10000)"
   ]
  },
  {
   "cell_type": "markdown",
   "metadata": {},
   "source": [
    "#### Model 1 #####"
   ]
  },
  {
   "cell_type": "code",
   "execution_count": 33,
   "metadata": {},
   "outputs": [
    {
     "data": {
      "text/plain": [
       "[<matplotlib.lines.Line2D at 0x7f22381536a0>]"
      ]
     },
     "execution_count": 33,
     "metadata": {},
     "output_type": "execute_result"
    },
    {
     "data": {
      "image/png": "[encoded data removed]",
      "text/plain": [
       "<Figure size 432x288 with 1 Axes>"
      ]
     },
     "metadata": {
      "needs_background": "light"
     },
     "output_type": "display_data"
    }
   ],
   "source": [
    "plt.plot(His1.history['loss'])\n",
    "plt.plot(His1.history['val_loss'])  "
   ]
  },
  {
   "cell_type": "code",
   "execution_count": 39,
   "metadata": {},
   "outputs": [
    {
     "name": "stdout",
     "output_type": "stream",
     "text": [
      "Class 1:\n",
      "Sens = 0.0\n",
      "Spec = 0.9958720330237358\n",
      "Class 2:\n",
      "Sens = 0.11777777777777777\n",
      "Spec = 0.9096446700507614\n",
      "Accuray = 0.3693379790940767, ROC = 0.5576126826756674\n",
      "Confusion matrix: (row = true, column = predicted)\n",
      "[[477   2  40]\n",
      " [417   0  49]\n",
      " [395   2  53]]\n",
      "Classifcation Report\n",
      "              precision    recall  f1-score   support\n",
      "\n",
      "           0       0.37      0.92      0.53       519\n",
      "           1       0.00      0.00      0.00       466\n",
      "           2       0.37      0.12      0.18       450\n",
      "\n",
      "    accuracy                           0.37      1435\n",
      "   macro avg       0.25      0.35      0.24      1435\n",
      "weighted avg       0.25      0.37      0.25      1435\n",
      "\n"
     ]
    }
   ],
   "source": [
    "Eval(Mod1, test_sets[1], y_sets[1])"
   ]
  },
  {
   "cell_type": "markdown",
   "metadata": {},
   "source": [
    "#### Model 2 ####"
   ]
  },
  {
   "cell_type": "code",
   "execution_count": 36,
   "metadata": {},
   "outputs": [
    {
     "data": {
      "text/plain": [
       "[<matplotlib.lines.Line2D at 0x7f21c70e6160>]"
      ]
     },
     "execution_count": 36,
     "metadata": {},
     "output_type": "execute_result"
    },
    {
     "data": {
      "image/png": "[encoded data removed]",
      "text/plain": [
       "<Figure size 432x288 with 1 Axes>"
      ]
     },
     "metadata": {
      "needs_background": "light"
     },
     "output_type": "display_data"
    }
   ],
   "source": [
    "plt.plot(His2.history['loss'])\n",
    "plt.plot(His2.history['val_loss'])  "
   ]
  },
  {
   "cell_type": "code",
   "execution_count": 41,
   "metadata": {
    "scrolled": false
   },
   "outputs": [
    {
     "ename": "ValueError",
     "evalue": "Found input variables with inconsistent numbers of samples: [1430, 14300]",
     "output_type": "error",
     "traceback": [
      "\u001b[0;31m-------------------------------------\u001b[0m",
      "\u001b[0;31mValueError\u001b[0mTraceback (most recent call last)",
      "\u001b[0;32m<ipython-input-41-0a76e3d2111f>\u001b[0m in \u001b[0;36m<module>\u001b[0;34m\u001b[0m\n\u001b[0;32m----> 1\u001b[0;31m \u001b[0mEval\u001b[0m\u001b[0;34m(\u001b[0m\u001b[0mMod2\u001b[0m\u001b[0;34m,\u001b[0m \u001b[0mtest_sets\u001b[0m\u001b[0;34m[\u001b[0m\u001b[0;36m2\u001b[0m\u001b[0;34m]\u001b[0m\u001b[0;34m,\u001b[0m \u001b[0my_sets\u001b[0m\u001b[0;34m[\u001b[0m\u001b[0;36m2\u001b[0m\u001b[0;34m]\u001b[0m\u001b[0;34m)\u001b[0m\u001b[0;34m\u001b[0m\u001b[0;34m\u001b[0m\u001b[0m\n\u001b[0m",
      "\u001b[0;32m~/mastersthesis/deep_models.py\u001b[0m in \u001b[0;36mEval\u001b[0;34m(mod, test, Y_test)\u001b[0m\n\u001b[1;32m    211\u001b[0m \u001b[0;34m\u001b[0m\u001b[0m\n\u001b[1;32m    212\u001b[0m     \u001b[0;31m#acc = sum(pred == Y_test.iloc[:,0]) / n\u001b[0m\u001b[0;34m\u001b[0m\u001b[0;34m\u001b[0m\u001b[0;34m\u001b[0m\u001b[0m\n\u001b[0;32m--> 213\u001b[0;31m     \u001b[0macc\u001b[0m \u001b[0;34m=\u001b[0m \u001b[0maccuracy_score\u001b[0m\u001b[0;34m(\u001b[0m\u001b[0mY_test\u001b[0m\u001b[0;34m.\u001b[0m\u001b[0miloc\u001b[0m\u001b[0;34m[\u001b[0m\u001b[0;34m:\u001b[0m\u001b[0;34m,\u001b[0m\u001b[0;36m0\u001b[0m\u001b[0;34m]\u001b[0m\u001b[0;34m,\u001b[0m \u001b[0mpred\u001b[0m\u001b[0;34m)\u001b[0m\u001b[0;34m\u001b[0m\u001b[0;34m\u001b[0m\u001b[0m\n\u001b[0m\u001b[1;32m    214\u001b[0m \u001b[0;34m\u001b[0m\u001b[0m\n\u001b[1;32m    215\u001b[0m     \u001b[0;31m# Sensitivity (Recall)\u001b[0m\u001b[0;34m\u001b[0m\u001b[0;34m\u001b[0m\u001b[0;34m\u001b[0m\u001b[0m\n",
      "\u001b[0;32m~/anaconda3/envs/tf-gpu/lib/python3.8/site-packages/sklearn/utils/validation.py\u001b[0m in \u001b[0;36minner_f\u001b[0;34m(*args, **kwargs)\u001b[0m\n\u001b[1;32m     70\u001b[0m                           FutureWarning)\n\u001b[1;32m     71\u001b[0m         \u001b[0mkwargs\u001b[0m\u001b[0;34m.\u001b[0m\u001b[0mupdate\u001b[0m\u001b[0;34m(\u001b[0m\u001b[0;34m{\u001b[0m\u001b[0mk\u001b[0m\u001b[0;34m:\u001b[0m \u001b[0marg\u001b[0m \u001b[0;32mfor\u001b[0m \u001b[0mk\u001b[0m\u001b[0;34m,\u001b[0m \u001b[0marg\u001b[0m \u001b[0;32min\u001b[0m \u001b[0mzip\u001b[0m\u001b[0;34m(\u001b[0m\u001b[0msig\u001b[0m\u001b[0;34m.\u001b[0m\u001b[0mparameters\u001b[0m\u001b[0;34m,\u001b[0m \u001b[0margs\u001b[0m\u001b[0;34m)\u001b[0m\u001b[0;34m}\u001b[0m\u001b[0;34m)\u001b[0m\u001b[0;34m\u001b[0m\u001b[0;34m\u001b[0m\u001b[0m\n\u001b[0;32m---> 72\u001b[0;31m         \u001b[0;32mreturn\u001b[0m \u001b[0mf\u001b[0m\u001b[0;34m(\u001b[0m\u001b[0;34m**\u001b[0m\u001b[0mkwargs\u001b[0m\u001b[0;34m)\u001b[0m\u001b[0;34m\u001b[0m\u001b[0;34m\u001b[0m\u001b[0m\n\u001b[0m\u001b[1;32m     73\u001b[0m     \u001b[0;32mreturn\u001b[0m \u001b[0minner_f\u001b[0m\u001b[0;34m\u001b[0m\u001b[0;34m\u001b[0m\u001b[0m\n\u001b[1;32m     74\u001b[0m \u001b[0;34m\u001b[0m\u001b[0m\n",
      "\u001b[0;32m~/anaconda3/envs/tf-gpu/lib/python3.8/site-packages/sklearn/metrics/_classification.py\u001b[0m in \u001b[0;36maccuracy_score\u001b[0;34m(y_true, y_pred, normalize, sample_weight)\u001b[0m\n\u001b[1;32m    185\u001b[0m \u001b[0;34m\u001b[0m\u001b[0m\n\u001b[1;32m    186\u001b[0m     \u001b[0;31m# Compute accuracy for each possible representation\u001b[0m\u001b[0;34m\u001b[0m\u001b[0;34m\u001b[0m\u001b[0;34m\u001b[0m\u001b[0m\n\u001b[0;32m--> 187\u001b[0;31m     \u001b[0my_type\u001b[0m\u001b[0;34m,\u001b[0m \u001b[0my_true\u001b[0m\u001b[0;34m,\u001b[0m \u001b[0my_pred\u001b[0m \u001b[0;34m=\u001b[0m \u001b[0m_check_targets\u001b[0m\u001b[0;34m(\u001b[0m\u001b[0my_true\u001b[0m\u001b[0;34m,\u001b[0m \u001b[0my_pred\u001b[0m\u001b[0;34m)\u001b[0m\u001b[0;34m\u001b[0m\u001b[0;34m\u001b[0m\u001b[0m\n\u001b[0m\u001b[1;32m    188\u001b[0m     \u001b[0mcheck_consistent_length\u001b[0m\u001b[0;34m(\u001b[0m\u001b[0my_true\u001b[0m\u001b[0;34m,\u001b[0m \u001b[0my_pred\u001b[0m\u001b[0;34m,\u001b[0m \u001b[0msample_weight\u001b[0m\u001b[0;34m)\u001b[0m\u001b[0;34m\u001b[0m\u001b[0;34m\u001b[0m\u001b[0m\n\u001b[1;32m    189\u001b[0m     \u001b[0;32mif\u001b[0m \u001b[0my_type\u001b[0m\u001b[0;34m.\u001b[0m\u001b[0mstartswith\u001b[0m\u001b[0;34m(\u001b[0m\u001b[0;34m'multilabel'\u001b[0m\u001b[0;34m)\u001b[0m\u001b[0;34m:\u001b[0m\u001b[0;34m\u001b[0m\u001b[0;34m\u001b[0m\u001b[0m\n",
      "\u001b[0;32m~/anaconda3/envs/tf-gpu/lib/python3.8/site-packages/sklearn/metrics/_classification.py\u001b[0m in \u001b[0;36m_check_targets\u001b[0;34m(y_true, y_pred)\u001b[0m\n\u001b[1;32m     79\u001b[0m     \u001b[0my_pred\u001b[0m \u001b[0;34m:\u001b[0m \u001b[0marray\u001b[0m \u001b[0;32mor\u001b[0m \u001b[0mindicator\u001b[0m \u001b[0mmatrix\u001b[0m\u001b[0;34m\u001b[0m\u001b[0;34m\u001b[0m\u001b[0m\n\u001b[1;32m     80\u001b[0m     \"\"\"\n\u001b[0;32m---> 81\u001b[0;31m     \u001b[0mcheck_consistent_length\u001b[0m\u001b[0;34m(\u001b[0m\u001b[0my_true\u001b[0m\u001b[0;34m,\u001b[0m \u001b[0my_pred\u001b[0m\u001b[0;34m)\u001b[0m\u001b[0;34m\u001b[0m\u001b[0;34m\u001b[0m\u001b[0m\n\u001b[0m\u001b[1;32m     82\u001b[0m     \u001b[0mtype_true\u001b[0m \u001b[0;34m=\u001b[0m \u001b[0mtype_of_target\u001b[0m\u001b[0;34m(\u001b[0m\u001b[0my_true\u001b[0m\u001b[0;34m)\u001b[0m\u001b[0;34m\u001b[0m\u001b[0;34m\u001b[0m\u001b[0m\n\u001b[1;32m     83\u001b[0m     \u001b[0mtype_pred\u001b[0m \u001b[0;34m=\u001b[0m \u001b[0mtype_of_target\u001b[0m\u001b[0;34m(\u001b[0m\u001b[0my_pred\u001b[0m\u001b[0;34m)\u001b[0m\u001b[0;34m\u001b[0m\u001b[0;34m\u001b[0m\u001b[0m\n",
      "\u001b[0;32m~/anaconda3/envs/tf-gpu/lib/python3.8/site-packages/sklearn/utils/validation.py\u001b[0m in \u001b[0;36mcheck_consistent_length\u001b[0;34m(*arrays)\u001b[0m\n\u001b[1;32m    253\u001b[0m     \u001b[0muniques\u001b[0m \u001b[0;34m=\u001b[0m \u001b[0mnp\u001b[0m\u001b[0;34m.\u001b[0m\u001b[0munique\u001b[0m\u001b[0;34m(\u001b[0m\u001b[0mlengths\u001b[0m\u001b[0;34m)\u001b[0m\u001b[0;34m\u001b[0m\u001b[0;34m\u001b[0m\u001b[0m\n\u001b[1;32m    254\u001b[0m     \u001b[0;32mif\u001b[0m \u001b[0mlen\u001b[0m\u001b[0;34m(\u001b[0m\u001b[0muniques\u001b[0m\u001b[0;34m)\u001b[0m \u001b[0;34m>\u001b[0m \u001b[0;36m1\u001b[0m\u001b[0;34m:\u001b[0m\u001b[0;34m\u001b[0m\u001b[0;34m\u001b[0m\u001b[0m\n\u001b[0;32m--> 255\u001b[0;31m         raise ValueError(\"Found input variables with inconsistent numbers of\"\n\u001b[0m\u001b[1;32m    256\u001b[0m                          \" samples: %r\" % [int(l) for l in lengths])\n\u001b[1;32m    257\u001b[0m \u001b[0;34m\u001b[0m\u001b[0m\n",
      "\u001b[0;31mValueError\u001b[0m: Found input variables with inconsistent numbers of samples: [1430, 14300]"
     ]
    }
   ],
   "source": [
    "Eval(Mod2, test_sets[2], y_sets[2])"
   ]
  },
  {
   "cell_type": "markdown",
   "metadata": {},
   "source": [
    "#### Model 3 ####"
   ]
  },
  {
   "cell_type": "code",
   "execution_count": 13,
   "metadata": {},
   "outputs": [
    {
     "data": {
      "text/plain": [
       "[<matplotlib.lines.Line2D at 0x7f3e7c3f7d90>]"
      ]
     },
     "execution_count": 13,
     "metadata": {},
     "output_type": "execute_result"
    },
    {
     "data": {
      "image/png": "[encoded data removed]",
      "text/plain": [
       "<Figure size 432x288 with 1 Axes>"
      ]
     },
     "metadata": {
      "needs_background": "light"
     },
     "output_type": "display_data"
    }
   ],
   "source": [
    "plt.plot(His3.history['loss'])\n",
    "plt.plot(His3.history['val_loss']) "
   ]
  },
  {
   "cell_type": "code",
   "execution_count": 14,
   "metadata": {},
   "outputs": [
    {
     "name": "stdout",
     "output_type": "stream",
     "text": [
      "Class 1:\n",
      "Sens = 0.5643776824034334\n",
      "Spec = 0.44272445820433437\n",
      "Class 2:\n",
      "Sens = 0.0\n",
      "Spec = 1.0\n",
      "Accuray = 0.356794425087108, ROC = 0.5342903770130413\n",
      "Confusion matrix: (row = true, column = predicted)\n",
      "[[249 270   0]\n",
      " [203 263   0]\n",
      " [180 270   0]]\n",
      "Classifcation Report\n",
      "              precision    recall  f1-score   support\n",
      "\n",
      "           0       0.39      0.48      0.43       519\n",
      "           1       0.33      0.56      0.41       466\n",
      "           2       0.00      0.00      0.00       450\n",
      "\n",
      "    accuracy                           0.36      1435\n",
      "   macro avg       0.24      0.35      0.28      1435\n",
      "weighted avg       0.25      0.36      0.29      1435\n",
      "\n"
     ]
    },
    {
     "name": "stderr",
     "output_type": "stream",
     "text": [
      "/home/martin/anaconda3/envs/tf-gpu/lib/python3.8/site-packages/sklearn/metrics/_classification.py:1221: UndefinedMetricWarning: Precision and F-score are ill-defined and being set to 0.0 in labels with no predicted samples. Use `zero_division` parameter to control this behavior.\n",
      "  _warn_prf(average, modifier, msg_start, len(result))\n"
     ]
    }
   ],
   "source": [
    "Eval(Mod3, test_sets[1], y_sets[1])"
   ]
  },
  {
   "cell_type": "markdown",
   "metadata": {},
   "source": [
    "### Order flow features ###"
   ]
  },
  {
   "cell_type": "code",
   "execution_count": 29,
   "metadata": {},
   "outputs": [],
   "source": [
    "data_std = pd.read_csv(\"data/final/1min/OrderFlow/BTC_std.csv\")"
   ]
  },
  {
   "cell_type": "code",
   "execution_count": 30,
   "metadata": {
    "scrolled": true
   },
   "outputs": [
    {
     "name": "stdout",
     "output_type": "stream",
     "text": [
      "Window of size 1 was best\n",
      "Window of size 5 was best\n",
      "Window of size 10 was best\n"
     ]
    }
   ],
   "source": [
    "test_sets, y_sets, His1, His2, His3, Mod1, Mod2, Mod3 = Run_Dense(data_std, Y, \"BTC_Dense_OF\",v_split, t_split, EP = 10000)"
   ]
  },
  {
   "cell_type": "markdown",
   "metadata": {},
   "source": [
    "#### Model 1 ####"
   ]
  },
  {
   "cell_type": "code",
   "execution_count": 15,
   "metadata": {
    "scrolled": false
   },
   "outputs": [
    {
     "data": {
      "text/plain": [
       "[<matplotlib.lines.Line2D at 0x7fe0800555e0>]"
      ]
     },
     "execution_count": 15,
     "metadata": {},
     "output_type": "execute_result"
    },
    {
     "data": {
      "image/png": "[encoded data removed]",
      "text/plain": [
       "<Figure size 432x288 with 1 Axes>"
      ]
     },
     "metadata": {
      "needs_background": "light"
     },
     "output_type": "display_data"
    }
   ],
   "source": [
    "plt.plot(His1.history['loss'])\n",
    "plt.plot(His1.history['val_loss'])  "
   ]
  },
  {
   "cell_type": "code",
   "execution_count": 16,
   "metadata": {
    "scrolled": false
   },
   "outputs": [
    {
     "name": "stdout",
     "output_type": "stream",
     "text": [
      "Class 1:\n",
      "Sens = 0.004282655246252677\n",
      "Spec = 1.0\n",
      "Class 2:\n",
      "Sens = 0.017699115044247787\n",
      "Spec = 0.983789260385005\n",
      "Accuray = 0.3648366921473245, ROC = 0.5388489458271958\n",
      "Confusion matrix: (row = true, column = predicted)\n",
      "[[515   0   5]\n",
      " [454   2  11]\n",
      " [444   0   8]]\n",
      "Classifcation Report\n",
      "              precision    recall  f1-score   support\n",
      "\n",
      "           0       0.36      0.99      0.53       520\n",
      "           1       1.00      0.00      0.01       467\n",
      "           2       0.33      0.02      0.03       452\n",
      "\n",
      "    accuracy                           0.36      1439\n",
      "   macro avg       0.57      0.34      0.19      1439\n",
      "weighted avg       0.56      0.36      0.21      1439\n",
      "\n"
     ]
    }
   ],
   "source": [
    "Eval(Mod1, test_sets[0], y_sets[0])"
   ]
  },
  {
   "cell_type": "markdown",
   "metadata": {},
   "source": [
    "#### Model 2 ####"
   ]
  },
  {
   "cell_type": "code",
   "execution_count": 17,
   "metadata": {},
   "outputs": [
    {
     "data": {
      "text/plain": [
       "[<matplotlib.lines.Line2D at 0x7fe0286311f0>]"
      ]
     },
     "execution_count": 17,
     "metadata": {},
     "output_type": "execute_result"
    },
    {
     "data": {
      "image/png": "[encoded data removed]",
      "text/plain": [
       "<Figure size 432x288 with 1 Axes>"
      ]
     },
     "metadata": {
      "needs_background": "light"
     },
     "output_type": "display_data"
    }
   ],
   "source": [
    "plt.plot(His2.history['loss'])\n",
    "plt.plot(His2.history['val_loss'])  "
   ]
  },
  {
   "cell_type": "code",
   "execution_count": 22,
   "metadata": {},
   "outputs": [
    {
     "name": "stdout",
     "output_type": "stream",
     "text": [
      "Class 1:\n",
      "Sens = 0.0\n",
      "Spec = 1.0\n",
      "Class 2:\n",
      "Sens = 0.004424778761061947\n",
      "Spec = 1.0\n",
      "Accuray = 0.3627519110493398, ROC = 0.5284596907623226\n",
      "Confusion matrix: (row = true, column = predicted)\n",
      "[[520   0   0]\n",
      " [467   0   0]\n",
      " [450   0   2]]\n",
      "Classifcation Report\n",
      "              precision    recall  f1-score   support\n",
      "\n",
      "           0       0.36      1.00      0.53       520\n",
      "           1       0.00      0.00      0.00       467\n",
      "           2       1.00      0.00      0.01       452\n",
      "\n",
      "    accuracy                           0.36      1439\n",
      "   macro avg       0.45      0.33      0.18      1439\n",
      "weighted avg       0.44      0.36      0.19      1439\n",
      "\n"
     ]
    },
    {
     "name": "stderr",
     "output_type": "stream",
     "text": [
      "/home/martin/anaconda3/lib/python3.8/site-packages/sklearn/metrics/_classification.py:1221: UndefinedMetricWarning: Precision and F-score are ill-defined and being set to 0.0 in labels with no predicted samples. Use `zero_division` parameter to control this behavior.\n",
      "  _warn_prf(average, modifier, msg_start, len(result))\n"
     ]
    }
   ],
   "source": [
    "Eval(Mod2, test_sets[0], y_sets[0])"
   ]
  },
  {
   "cell_type": "markdown",
   "metadata": {},
   "source": [
    "#### Model 3 ####"
   ]
  },
  {
   "cell_type": "code",
   "execution_count": 23,
   "metadata": {},
   "outputs": [
    {
     "data": {
      "text/plain": [
       "[<matplotlib.lines.Line2D at 0x7fe0282f55e0>]"
      ]
     },
     "execution_count": 23,
     "metadata": {},
     "output_type": "execute_result"
    },
    {
     "data": {
      "image/png": "[encoded data removed]",
      "text/plain": [
       "<Figure size 432x288 with 1 Axes>"
      ]
     },
     "metadata": {
      "needs_background": "light"
     },
     "output_type": "display_data"
    }
   ],
   "source": [
    "plt.plot(His3.history['loss'])\n",
    "plt.plot(His3.history['val_loss']) "
   ]
  },
  {
   "cell_type": "code",
   "execution_count": 24,
   "metadata": {},
   "outputs": [
    {
     "name": "stdout",
     "output_type": "stream",
     "text": [
      "Class 1:\n",
      "Sens = 0.6301075268817204\n",
      "Spec = 0.40932642487046633\n",
      "Class 2:\n",
      "Sens = 0.0\n",
      "Spec = 1.0\n",
      "Accuray = 0.36153846153846153, ROC = 0.5234874399095388\n",
      "Confusion matrix: (row = true, column = predicted)\n",
      "[[224 294   0]\n",
      " [172 293   0]\n",
      " [171 276   0]]\n",
      "Classifcation Report\n",
      "              precision    recall  f1-score   support\n",
      "\n",
      "           0       0.40      0.43      0.41       518\n",
      "           1       0.34      0.63      0.44       465\n",
      "           2       0.00      0.00      0.00       447\n",
      "\n",
      "    accuracy                           0.36      1430\n",
      "   macro avg       0.24      0.35      0.28      1430\n",
      "weighted avg       0.25      0.36      0.29      1430\n",
      "\n"
     ]
    },
    {
     "name": "stderr",
     "output_type": "stream",
     "text": [
      "/home/martin/anaconda3/lib/python3.8/site-packages/sklearn/metrics/_classification.py:1221: UndefinedMetricWarning: Precision and F-score are ill-defined and being set to 0.0 in labels with no predicted samples. Use `zero_division` parameter to control this behavior.\n",
      "  _warn_prf(average, modifier, msg_start, len(result))\n"
     ]
    }
   ],
   "source": [
    "Eval(Mod3, test_sets[2], y_sets[2])"
   ]
  },
  {
   "cell_type": "markdown",
   "metadata": {},
   "source": [
    "### High Frequency Features ###"
   ]
  },
  {
   "cell_type": "code",
   "execution_count": 31,
   "metadata": {},
   "outputs": [],
   "source": [
    "data_std = pd.read_csv(\"data/final/1min/HF/BTC_std.csv\")"
   ]
  },
  {
   "cell_type": "code",
   "execution_count": 32,
   "metadata": {
    "scrolled": true
   },
   "outputs": [
    {
     "name": "stdout",
     "output_type": "stream",
     "text": [
      "Window of size 5 was best\n",
      "Window of size 1 was best\n",
      "Window of size 1 was best\n"
     ]
    }
   ],
   "source": [
    "test_sets, y_sets, His1, His2, His3, Mod1, Mod2, Mod3 = Run_Dense(data_std, Y, \"BTC_Dense_HF\", v_split, t_split, EP = 10000)"
   ]
  },
  {
   "cell_type": "markdown",
   "metadata": {},
   "source": [
    "#### Model 1 ####"
   ]
  },
  {
   "cell_type": "code",
   "execution_count": 27,
   "metadata": {
    "scrolled": false
   },
   "outputs": [
    {
     "data": {
      "text/plain": [
       "[<matplotlib.lines.Line2D at 0x7fe028275940>]"
      ]
     },
     "execution_count": 27,
     "metadata": {},
     "output_type": "execute_result"
    },
    {
     "data": {
      "image/png": "[encoded data removed]",
      "text/plain": [
       "<Figure size 432x288 with 1 Axes>"
      ]
     },
     "metadata": {
      "needs_background": "light"
     },
     "output_type": "display_data"
    }
   ],
   "source": [
    "plt.plot(His1.history['loss'])\n",
    "plt.plot(His1.history['val_loss'])  "
   ]
  },
  {
   "cell_type": "code",
   "execution_count": 28,
   "metadata": {
    "scrolled": false
   },
   "outputs": [
    {
     "name": "stdout",
     "output_type": "stream",
     "text": [
      "Class 1:\n",
      "Sens = 0.4356223175965665\n",
      "Spec = 0.5273477812177503\n",
      "Class 2:\n",
      "Sens = 0.28888888888888886\n",
      "Spec = 0.683248730964467\n",
      "Accuray = 0.3017421602787456, ROC = 0.47497890934367054\n",
      "Confusion matrix: (row = true, column = predicted)\n",
      "[[100 238 181]\n",
      " [132 203 131]\n",
      " [100 220 130]]\n",
      "Classifcation Report\n",
      "              precision    recall  f1-score   support\n",
      "\n",
      "           0       0.30      0.19      0.24       519\n",
      "           1       0.31      0.44      0.36       466\n",
      "           2       0.29      0.29      0.29       450\n",
      "\n",
      "    accuracy                           0.30      1435\n",
      "   macro avg       0.30      0.31      0.30      1435\n",
      "weighted avg       0.30      0.30      0.29      1435\n",
      "\n"
     ]
    }
   ],
   "source": [
    "Eval(Mod1, test_sets[1], y_sets[1])"
   ]
  },
  {
   "cell_type": "markdown",
   "metadata": {},
   "source": [
    "#### Model 2 ####"
   ]
  },
  {
   "cell_type": "code",
   "execution_count": 29,
   "metadata": {},
   "outputs": [
    {
     "data": {
      "text/plain": [
       "[<matplotlib.lines.Line2D at 0x7fe028177460>]"
      ]
     },
     "execution_count": 29,
     "metadata": {},
     "output_type": "execute_result"
    },
    {
     "data": {
      "image/png": "[encoded data removed]",
      "text/plain": [
       "<Figure size 432x288 with 1 Axes>"
      ]
     },
     "metadata": {
      "needs_background": "light"
     },
     "output_type": "display_data"
    }
   ],
   "source": [
    "plt.plot(His2.history['loss'])\n",
    "plt.plot(His2.history['val_loss'])  "
   ]
  },
  {
   "cell_type": "code",
   "execution_count": 30,
   "metadata": {},
   "outputs": [
    {
     "name": "stdout",
     "output_type": "stream",
     "text": [
      "Class 1:\n",
      "Sens = 0.796137339055794\n",
      "Spec = 0.16305469556243551\n",
      "Class 2:\n",
      "Sens = 0.1511111111111111\n",
      "Spec = 0.9005076142131979\n",
      "Accuray = 0.3254355400696864, ROC = 0.5411118452978388\n",
      "Confusion matrix: (row = true, column = predicted)\n",
      "[[ 28 457  34]\n",
      " [ 31 371  64]\n",
      " [ 28 354  68]]\n",
      "Classifcation Report\n",
      "              precision    recall  f1-score   support\n",
      "\n",
      "           0       0.32      0.05      0.09       519\n",
      "           1       0.31      0.80      0.45       466\n",
      "           2       0.41      0.15      0.22       450\n",
      "\n",
      "    accuracy                           0.33      1435\n",
      "   macro avg       0.35      0.33      0.25      1435\n",
      "weighted avg       0.35      0.33      0.25      1435\n",
      "\n"
     ]
    }
   ],
   "source": [
    "Eval(Mod2, test_sets[1], y_sets[1])"
   ]
  },
  {
   "cell_type": "markdown",
   "metadata": {},
   "source": [
    "#### Model 3 ####"
   ]
  },
  {
   "cell_type": "code",
   "execution_count": 31,
   "metadata": {},
   "outputs": [
    {
     "data": {
      "text/plain": [
       "[<matplotlib.lines.Line2D at 0x7fe028163a60>]"
      ]
     },
     "execution_count": 31,
     "metadata": {},
     "output_type": "execute_result"
    },
    {
     "data": {
      "image/png": "[encoded data removed]",
      "text/plain": [
       "<Figure size 432x288 with 1 Axes>"
      ]
     },
     "metadata": {
      "needs_background": "light"
     },
     "output_type": "display_data"
    }
   ],
   "source": [
    "plt.plot(His3.history['loss'])\n",
    "plt.plot(His3.history['val_loss']) "
   ]
  },
  {
   "cell_type": "code",
   "execution_count": 33,
   "metadata": {},
   "outputs": [
    {
     "name": "stdout",
     "output_type": "stream",
     "text": [
      "Class 1:\n",
      "Sens = 0.17558886509635974\n",
      "Spec = 0.8641975308641975\n",
      "Class 2:\n",
      "Sens = 0.11061946902654868\n",
      "Spec = 0.9017223910840932\n",
      "Accuray = 0.3634468380820014, ROC = 0.5182451123362597\n",
      "Confusion matrix: (row = true, column = predicted)\n",
      "[[391  68  61]\n",
      " [349  82  36]\n",
      " [338  64  50]]\n",
      "Classifcation Report\n",
      "              precision    recall  f1-score   support\n",
      "\n",
      "           0       0.36      0.75      0.49       520\n",
      "           1       0.38      0.18      0.24       467\n",
      "           2       0.34      0.11      0.17       452\n",
      "\n",
      "    accuracy                           0.36      1439\n",
      "   macro avg       0.36      0.35      0.30      1439\n",
      "weighted avg       0.36      0.36      0.31      1439\n",
      "\n"
     ]
    }
   ],
   "source": [
    "Eval(Mod3, test_sets[0], y_sets[0])"
   ]
  },
  {
   "cell_type": "markdown",
   "metadata": {},
   "source": [
    "### LSTM Models ###"
   ]
  },
  {
   "cell_type": "markdown",
   "metadata": {},
   "source": [
    "#### Bid Ask Features ####"
   ]
  },
  {
   "cell_type": "code",
   "execution_count": 6,
   "metadata": {},
   "outputs": [],
   "source": [
    "data_std = pd.read_csv(\"data/final/1min/BidAsk/BTC_std_5.csv\")"
   ]
  },
  {
   "cell_type": "code",
   "execution_count": 7,
   "metadata": {
    "scrolled": true
   },
   "outputs": [
    {
     "name": "stdout",
     "output_type": "stream",
     "text": [
      "1  trained in  1359.8883656100002\n",
      "2  trained in  2658.629986507\n",
      "3  trained in  8425.401304444\n",
      "4  trained in  9537.683996965001\n",
      "5  trained in  13053.186565499\n",
      "6  trained in  17481.243876303997\n",
      "7  trained in  18540.972349231997\n",
      "8  trained in  23409.972939528998\n",
      "9  trained in  26131.148063263998\n",
      "Seed 1 was best\n",
      "Seed 999 was best\n",
      "Seed 123 was best\n"
     ]
    },
    {
     "name": "stderr",
     "output_type": "stream",
     "text": [
      "WARNING:absl:Found untraced functions such as lstm_cell_layer_call_fn, lstm_cell_layer_call_and_return_conditional_losses, lstm_cell_layer_call_fn, lstm_cell_layer_call_and_return_conditional_losses, lstm_cell_layer_call_and_return_conditional_losses while saving (showing 5 of 5). These functions will not be directly callable after loading.\n",
      "WARNING:absl:Found untraced functions such as lstm_cell_layer_call_fn, lstm_cell_layer_call_and_return_conditional_losses, lstm_cell_layer_call_fn, lstm_cell_layer_call_and_return_conditional_losses, lstm_cell_layer_call_and_return_conditional_losses while saving (showing 5 of 5). These functions will not be directly callable after loading.\n"
     ]
    },
    {
     "name": "stdout",
     "output_type": "stream",
     "text": [
      "INFO:tensorflow:Assets written to: models/lstm/BA_BTC_1_5/Mod1_2021-08-12 17:20:09.776836/assets\n"
     ]
    },
    {
     "name": "stderr",
     "output_type": "stream",
     "text": [
      "INFO:tensorflow:Assets written to: models/lstm/BA_BTC_1_5/Mod1_2021-08-12 17:20:09.776836/assets\n",
      "WARNING:absl:Found untraced functions such as lstm_cell_13_layer_call_fn, lstm_cell_13_layer_call_and_return_conditional_losses, lstm_cell_14_layer_call_fn, lstm_cell_14_layer_call_and_return_conditional_losses, lstm_cell_13_layer_call_fn while saving (showing 5 of 10). These functions will not be directly callable after loading.\n",
      "WARNING:absl:Found untraced functions such as lstm_cell_13_layer_call_fn, lstm_cell_13_layer_call_and_return_conditional_losses, lstm_cell_14_layer_call_fn, lstm_cell_14_layer_call_and_return_conditional_losses, lstm_cell_13_layer_call_fn while saving (showing 5 of 10). These functions will not be directly callable after loading.\n"
     ]
    },
    {
     "name": "stdout",
     "output_type": "stream",
     "text": [
      "INFO:tensorflow:Assets written to: models/lstm/BA_BTC_1_5/Mod2_2021-08-12 17:20:12.246328/assets\n"
     ]
    },
    {
     "name": "stderr",
     "output_type": "stream",
     "text": [
      "INFO:tensorflow:Assets written to: models/lstm/BA_BTC_1_5/Mod2_2021-08-12 17:20:12.246328/assets\n",
      "WARNING:absl:Found untraced functions such as lstm_cell_9_layer_call_fn, lstm_cell_9_layer_call_and_return_conditional_losses, lstm_cell_10_layer_call_fn, lstm_cell_10_layer_call_and_return_conditional_losses, lstm_cell_11_layer_call_fn while saving (showing 5 of 15). These functions will not be directly callable after loading.\n",
      "WARNING:absl:Found untraced functions such as lstm_cell_9_layer_call_fn, lstm_cell_9_layer_call_and_return_conditional_losses, lstm_cell_10_layer_call_fn, lstm_cell_10_layer_call_and_return_conditional_losses, lstm_cell_11_layer_call_fn while saving (showing 5 of 15). These functions will not be directly callable after loading.\n"
     ]
    },
    {
     "name": "stdout",
     "output_type": "stream",
     "text": [
      "INFO:tensorflow:Assets written to: models/lstm/BA_BTC_1_5/Mod3_2021-08-12 17:20:16.750176/assets\n"
     ]
    },
    {
     "name": "stderr",
     "output_type": "stream",
     "text": [
      "INFO:tensorflow:Assets written to: models/lstm/BA_BTC_1_5/Mod3_2021-08-12 17:20:16.750176/assets\n"
     ]
    },
    {
     "name": "stdout",
     "output_type": "stream",
     "text": [
      "CPU times: user 5h 56min 58s, sys: 1h 19min 21s, total: 7h 16min 19s\n",
      "Wall time: 7h 15min 44s\n"
     ]
    }
   ],
   "source": [
    "%%time\n",
    "test_lstm, Y_test_lstm, His1, Mod1, His2, Mod2, His3, Mod3 = Run_LSTM(data_std, Y, \"BA_BTC_1_5\", v_split, t_split, EP = 10000)"
   ]
  },
  {
   "cell_type": "markdown",
   "metadata": {},
   "source": [
    "#### Model 1 #####"
   ]
  },
  {
   "cell_type": "code",
   "execution_count": 8,
   "metadata": {},
   "outputs": [
    {
     "data": {
      "text/plain": [
       "[<matplotlib.lines.Line2D at 0x7f60c0ef8e50>]"
      ]
     },
     "execution_count": 8,
     "metadata": {},
     "output_type": "execute_result"
    },
    {
     "data": {
      "image/png": "[encoded data removed]",
      "text/plain": [
       "<Figure size 432x288 with 1 Axes>"
      ]
     },
     "metadata": {
      "needs_background": "light"
     },
     "output_type": "display_data"
    }
   ],
   "source": [
    "plt.plot(His1.history['loss'])\n",
    "plt.plot(His1.history['val_loss'])  "
   ]
  },
  {
   "cell_type": "code",
   "execution_count": 9,
   "metadata": {
    "scrolled": false
   },
   "outputs": [
    {
     "name": "stdout",
     "output_type": "stream",
     "text": [
      "Class 1:\n",
      "Sens = 0.07450980392156863\n",
      "Spec = 0.8890770533446232\n",
      "Class 2:\n",
      "Sens = 0.06578947368421052\n",
      "Spec = 0.9390459363957597\n",
      "Accuracy = 0.5403899721448467, ROC = 0.5444653615719536\n",
      "Confusion matrix: (row = true, column = predicted)\n",
      "[[737  96  44]\n",
      " [211  19  25]\n",
      " [249  35  20]]\n",
      "Classifcation Report\n",
      "              precision    recall  f1-score   support\n",
      "\n",
      "           0       0.62      0.84      0.71       877\n",
      "           1       0.13      0.07      0.09       255\n",
      "           2       0.22      0.07      0.10       304\n",
      "\n",
      "    accuracy                           0.54      1436\n",
      "   macro avg       0.32      0.33      0.30      1436\n",
      "weighted avg       0.45      0.54      0.47      1436\n",
      "\n"
     ]
    }
   ],
   "source": [
    "Eval_LSTM(Mod1, test_lstm, Y_test_lstm, t_split)"
   ]
  },
  {
   "cell_type": "markdown",
   "metadata": {},
   "source": [
    "#### Model 2 #####"
   ]
  },
  {
   "cell_type": "code",
   "execution_count": 10,
   "metadata": {},
   "outputs": [
    {
     "data": {
      "text/plain": [
       "[<matplotlib.lines.Line2D at 0x7f60c10a5040>]"
      ]
     },
     "execution_count": 10,
     "metadata": {},
     "output_type": "execute_result"
    },
    {
     "data": {
      "image/png": "[encoded data removed]",
      "text/plain": [
       "<Figure size 432x288 with 1 Axes>"
      ]
     },
     "metadata": {
      "needs_background": "light"
     },
     "output_type": "display_data"
    }
   ],
   "source": [
    "plt.plot(His2.history['loss'])\n",
    "plt.plot(His2.history['val_loss'])  "
   ]
  },
  {
   "cell_type": "code",
   "execution_count": 11,
   "metadata": {},
   "outputs": [
    {
     "name": "stdout",
     "output_type": "stream",
     "text": [
      "Class 1:\n",
      "Sens = 0.058823529411764705\n",
      "Spec = 0.939034716342083\n",
      "Class 2:\n",
      "Sens = 0.2598684210526316\n",
      "Spec = 0.8674911660777385\n",
      "Accuracy = 0.552924791086351, ROC = 0.5637000658714517\n",
      "Confusion matrix: (row = true, column = predicted)\n",
      "[[700  61 116]\n",
      " [206  15  34]\n",
      " [214  11  79]]\n",
      "Classifcation Report\n",
      "              precision    recall  f1-score   support\n",
      "\n",
      "           0       0.62      0.80      0.70       877\n",
      "           1       0.17      0.06      0.09       255\n",
      "           2       0.34      0.26      0.30       304\n",
      "\n",
      "    accuracy                           0.55      1436\n",
      "   macro avg       0.38      0.37      0.36      1436\n",
      "weighted avg       0.49      0.55      0.51      1436\n",
      "\n"
     ]
    }
   ],
   "source": [
    "Eval_LSTM(Mod2, test_lstm, Y_test_lstm, t_split)"
   ]
  },
  {
   "cell_type": "markdown",
   "metadata": {},
   "source": [
    "#### Model 3 #####"
   ]
  },
  {
   "cell_type": "code",
   "execution_count": 12,
   "metadata": {},
   "outputs": [
    {
     "data": {
      "text/plain": [
       "[<matplotlib.lines.Line2D at 0x7f60c0ba0100>]"
      ]
     },
     "execution_count": 12,
     "metadata": {},
     "output_type": "execute_result"
    },
    {
     "data": {
      "image/png": "[encoded data removed]",
      "text/plain": [
       "<Figure size 432x288 with 1 Axes>"
      ]
     },
     "metadata": {
      "needs_background": "light"
     },
     "output_type": "display_data"
    }
   ],
   "source": [
    "plt.plot(His3.history['loss'])\n",
    "plt.plot(His3.history['val_loss'])  "
   ]
  },
  {
   "cell_type": "code",
   "execution_count": 13,
   "metadata": {},
   "outputs": [
    {
     "name": "stdout",
     "output_type": "stream",
     "text": [
      "Class 1:\n",
      "Sens = 0.06274509803921569\n",
      "Spec = 0.9525825571549534\n",
      "Class 2:\n",
      "Sens = 0.07894736842105263\n",
      "Spec = 0.9381625441696113\n",
      "Accuracy = 0.5689415041782729, ROC = 0.534795767575605\n",
      "Confusion matrix: (row = true, column = predicted)\n",
      "[[777  51  49]\n",
      " [218  16  21]\n",
      " [275   5  24]]\n",
      "Classifcation Report\n",
      "              precision    recall  f1-score   support\n",
      "\n",
      "           0       0.61      0.89      0.72       877\n",
      "           1       0.22      0.06      0.10       255\n",
      "           2       0.26      0.08      0.12       304\n",
      "\n",
      "    accuracy                           0.57      1436\n",
      "   macro avg       0.36      0.34      0.31      1436\n",
      "weighted avg       0.47      0.57      0.48      1436\n",
      "\n"
     ]
    }
   ],
   "source": [
    "Eval_LSTM(Mod3, test_lstm, Y_test_lstm, t_split)"
   ]
  },
  {
   "cell_type": "markdown",
   "metadata": {},
   "source": [
    "#### Order Flow Features ####"
   ]
  },
  {
   "cell_type": "code",
   "execution_count": 14,
   "metadata": {},
   "outputs": [],
   "source": [
    "data_std = pd.read_csv(\"data/final/1min/OrderFlow/BTC_std_5.csv\")"
   ]
  },
  {
   "cell_type": "code",
   "execution_count": 15,
   "metadata": {
    "scrolled": true
   },
   "outputs": [
    {
     "name": "stdout",
     "output_type": "stream",
     "text": [
      "1  trained in  1850.5142176000008\n",
      "2  trained in  4981.939294598\n",
      "3  trained in  8720.006025962004\n",
      "4  trained in  9809.217730043998\n",
      "5  trained in  11595.595853927003\n",
      "6  trained in  14574.603012896998\n",
      "7  trained in  15778.163502688\n",
      "8  trained in  18137.834978046\n",
      "9  trained in  22258.488265213\n",
      "Seed 1 was best\n",
      "Seed 1 was best\n",
      "Seed 999 was best\n"
     ]
    },
    {
     "name": "stderr",
     "output_type": "stream",
     "text": [
      "WARNING:absl:Found untraced functions such as lstm_cell_18_layer_call_fn, lstm_cell_18_layer_call_and_return_conditional_losses, lstm_cell_18_layer_call_fn, lstm_cell_18_layer_call_and_return_conditional_losses, lstm_cell_18_layer_call_and_return_conditional_losses while saving (showing 5 of 5). These functions will not be directly callable after loading.\n",
      "WARNING:absl:Found untraced functions such as lstm_cell_18_layer_call_fn, lstm_cell_18_layer_call_and_return_conditional_losses, lstm_cell_18_layer_call_fn, lstm_cell_18_layer_call_and_return_conditional_losses, lstm_cell_18_layer_call_and_return_conditional_losses while saving (showing 5 of 5). These functions will not be directly callable after loading.\n"
     ]
    },
    {
     "name": "stdout",
     "output_type": "stream",
     "text": [
      "INFO:tensorflow:Assets written to: models/lstm/OF_BTC_1_5/Mod1_2021-08-12 23:31:29.637422/assets\n"
     ]
    },
    {
     "name": "stderr",
     "output_type": "stream",
     "text": [
      "INFO:tensorflow:Assets written to: models/lstm/OF_BTC_1_5/Mod1_2021-08-12 23:31:29.637422/assets\n",
      "WARNING:absl:Found untraced functions such as lstm_cell_19_layer_call_fn, lstm_cell_19_layer_call_and_return_conditional_losses, lstm_cell_20_layer_call_fn, lstm_cell_20_layer_call_and_return_conditional_losses, lstm_cell_19_layer_call_fn while saving (showing 5 of 10). These functions will not be directly callable after loading.\n",
      "WARNING:absl:Found untraced functions such as lstm_cell_19_layer_call_fn, lstm_cell_19_layer_call_and_return_conditional_losses, lstm_cell_20_layer_call_fn, lstm_cell_20_layer_call_and_return_conditional_losses, lstm_cell_19_layer_call_fn while saving (showing 5 of 10). These functions will not be directly callable after loading.\n"
     ]
    },
    {
     "name": "stdout",
     "output_type": "stream",
     "text": [
      "INFO:tensorflow:Assets written to: models/lstm/OF_BTC_1_5/Mod2_2021-08-12 23:31:31.848288/assets\n"
     ]
    },
    {
     "name": "stderr",
     "output_type": "stream",
     "text": [
      "INFO:tensorflow:Assets written to: models/lstm/OF_BTC_1_5/Mod2_2021-08-12 23:31:31.848288/assets\n",
      "WARNING:absl:Found untraced functions such as lstm_cell_33_layer_call_fn, lstm_cell_33_layer_call_and_return_conditional_losses, lstm_cell_34_layer_call_fn, lstm_cell_34_layer_call_and_return_conditional_losses, lstm_cell_35_layer_call_fn while saving (showing 5 of 15). These functions will not be directly callable after loading.\n",
      "WARNING:absl:Found untraced functions such as lstm_cell_33_layer_call_fn, lstm_cell_33_layer_call_and_return_conditional_losses, lstm_cell_34_layer_call_fn, lstm_cell_34_layer_call_and_return_conditional_losses, lstm_cell_35_layer_call_fn while saving (showing 5 of 15). These functions will not be directly callable after loading.\n"
     ]
    },
    {
     "name": "stdout",
     "output_type": "stream",
     "text": [
      "INFO:tensorflow:Assets written to: models/lstm/OF_BTC_1_5/Mod3_2021-08-12 23:31:36.452216/assets\n"
     ]
    },
    {
     "name": "stderr",
     "output_type": "stream",
     "text": [
      "INFO:tensorflow:Assets written to: models/lstm/OF_BTC_1_5/Mod3_2021-08-12 23:31:36.452216/assets\n"
     ]
    },
    {
     "name": "stdout",
     "output_type": "stream",
     "text": [
      "CPU times: user 5h 5min 8s, sys: 1h 7min 5s, total: 6h 12min 13s\n",
      "Wall time: 6h 11min 11s\n"
     ]
    }
   ],
   "source": [
    "%%time\n",
    "test_lstm, Y_test_lstm, His1, Mod1, His2, Mod2, His3, Mod3 = Run_LSTM(data_std, Y, \"OF_BTC_1_5\", v_split, t_split, EP = 10000)"
   ]
  },
  {
   "cell_type": "markdown",
   "metadata": {},
   "source": [
    "#### Model 1 #####"
   ]
  },
  {
   "cell_type": "code",
   "execution_count": 16,
   "metadata": {
    "scrolled": true
   },
   "outputs": [
    {
     "data": {
      "text/plain": [
       "[<matplotlib.lines.Line2D at 0x7f60bb058130>]"
      ]
     },
     "execution_count": 16,
     "metadata": {},
     "output_type": "execute_result"
    },
    {
     "data": {
      "image/png": "[encoded data removed]",
      "text/plain": [
       "<Figure size 432x288 with 1 Axes>"
      ]
     },
     "metadata": {
      "needs_background": "light"
     },
     "output_type": "display_data"
    }
   ],
   "source": [
    "plt.plot(His1.history['loss'])\n",
    "plt.plot(His1.history['val_loss'])  "
   ]
  },
  {
   "cell_type": "code",
   "execution_count": 17,
   "metadata": {},
   "outputs": [
    {
     "name": "stdout",
     "output_type": "stream",
     "text": [
      "Class 1:\n",
      "Sens = 0.19215686274509805\n",
      "Spec = 0.8552074513124471\n",
      "Class 2:\n",
      "Sens = 0.08552631578947369\n",
      "Spec = 0.9275618374558304\n",
      "Accuracy = 0.5473537604456824, ROC = 0.5565095317972578\n",
      "Confusion matrix: (row = true, column = predicted)\n",
      "[[711 112  54]\n",
      " [178  49  28]\n",
      " [219  59  26]]\n",
      "Classifcation Report\n",
      "              precision    recall  f1-score   support\n",
      "\n",
      "           0       0.64      0.81      0.72       877\n",
      "           1       0.22      0.19      0.21       255\n",
      "           2       0.24      0.09      0.13       304\n",
      "\n",
      "    accuracy                           0.55      1436\n",
      "   macro avg       0.37      0.36      0.35      1436\n",
      "weighted avg       0.48      0.55      0.50      1436\n",
      "\n"
     ]
    }
   ],
   "source": [
    "Eval_LSTM(Mod1, test_lstm, Y_test_lstm, t_split)"
   ]
  },
  {
   "cell_type": "markdown",
   "metadata": {},
   "source": [
    "#### Model 2 #####"
   ]
  },
  {
   "cell_type": "code",
   "execution_count": 18,
   "metadata": {},
   "outputs": [
    {
     "data": {
      "text/plain": [
       "[<matplotlib.lines.Line2D at 0x7f617c2050d0>]"
      ]
     },
     "execution_count": 18,
     "metadata": {},
     "output_type": "execute_result"
    },
    {
     "data": {
      "image/png": "[encoded data removed]",
      "text/plain": [
       "<Figure size 432x288 with 1 Axes>"
      ]
     },
     "metadata": {
      "needs_background": "light"
     },
     "output_type": "display_data"
    }
   ],
   "source": [
    "plt.plot(His2.history['loss'])\n",
    "plt.plot(His2.history['val_loss'])  "
   ]
  },
  {
   "cell_type": "code",
   "execution_count": 19,
   "metadata": {},
   "outputs": [
    {
     "name": "stdout",
     "output_type": "stream",
     "text": [
      "WARNING:tensorflow:5 out of the last 13 calls to <function Model.make_predict_function.<locals>.predict_function at 0x7f60f47310d0> triggered tf.function retracing. Tracing is expensive and the excessive number of tracings could be due to (1) creating @tf.function repeatedly in a loop, (2) passing tensors with different shapes, (3) passing Python objects instead of tensors. For (1), please define your @tf.function outside of the loop. For (2), @tf.function has experimental_relax_shapes=True option that relaxes argument shapes that can avoid unnecessary retracing. For (3), please refer to https://www.tensorflow.org/guide/function#controlling_retracing and https://www.tensorflow.org/api_docs/python/tf/function for  more details.\n"
     ]
    },
    {
     "name": "stderr",
     "output_type": "stream",
     "text": [
      "WARNING:tensorflow:5 out of the last 13 calls to <function Model.make_predict_function.<locals>.predict_function at 0x7f60f47310d0> triggered tf.function retracing. Tracing is expensive and the excessive number of tracings could be due to (1) creating @tf.function repeatedly in a loop, (2) passing tensors with different shapes, (3) passing Python objects instead of tensors. For (1), please define your @tf.function outside of the loop. For (2), @tf.function has experimental_relax_shapes=True option that relaxes argument shapes that can avoid unnecessary retracing. For (3), please refer to https://www.tensorflow.org/guide/function#controlling_retracing and https://www.tensorflow.org/api_docs/python/tf/function for  more details.\n"
     ]
    },
    {
     "name": "stdout",
     "output_type": "stream",
     "text": [
      "Class 1:\n",
      "Sens = 0.2549019607843137\n",
      "Spec = 0.8154106689246401\n",
      "Class 2:\n",
      "Sens = 0.15789473684210525\n",
      "Spec = 0.8268551236749117\n",
      "Accuracy = 0.5, ROC = 0.5384267893789092\n",
      "Confusion matrix: (row = true, column = predicted)\n",
      "[[605 129 143]\n",
      " [137  65  53]\n",
      " [167  89  48]]\n",
      "Classifcation Report\n",
      "              precision    recall  f1-score   support\n",
      "\n",
      "           0       0.67      0.69      0.68       877\n",
      "           1       0.23      0.25      0.24       255\n",
      "           2       0.20      0.16      0.18       304\n",
      "\n",
      "    accuracy                           0.50      1436\n",
      "   macro avg       0.36      0.37      0.36      1436\n",
      "weighted avg       0.49      0.50      0.49      1436\n",
      "\n"
     ]
    }
   ],
   "source": [
    "Eval_LSTM(Mod2, test_lstm, Y_test_lstm, t_split)"
   ]
  },
  {
   "cell_type": "markdown",
   "metadata": {},
   "source": [
    "#### Model 3 #####"
   ]
  },
  {
   "cell_type": "code",
   "execution_count": 20,
   "metadata": {},
   "outputs": [
    {
     "data": {
      "text/plain": [
       "[<matplotlib.lines.Line2D at 0x7f6134321d90>]"
      ]
     },
     "execution_count": 20,
     "metadata": {},
     "output_type": "execute_result"
    },
    {
     "data": {
      "image/png": "[encoded data removed]",
      "text/plain": [
       "<Figure size 432x288 with 1 Axes>"
      ]
     },
     "metadata": {
      "needs_background": "light"
     },
     "output_type": "display_data"
    }
   ],
   "source": [
    "plt.plot(His3.history['loss'])\n",
    "plt.plot(His3.history['val_loss'])  "
   ]
  },
  {
   "cell_type": "code",
   "execution_count": 21,
   "metadata": {},
   "outputs": [
    {
     "name": "stdout",
     "output_type": "stream",
     "text": [
      "WARNING:tensorflow:5 out of the last 13 calls to <function Model.make_predict_function.<locals>.predict_function at 0x7f6134320280> triggered tf.function retracing. Tracing is expensive and the excessive number of tracings could be due to (1) creating @tf.function repeatedly in a loop, (2) passing tensors with different shapes, (3) passing Python objects instead of tensors. For (1), please define your @tf.function outside of the loop. For (2), @tf.function has experimental_relax_shapes=True option that relaxes argument shapes that can avoid unnecessary retracing. For (3), please refer to https://www.tensorflow.org/guide/function#controlling_retracing and https://www.tensorflow.org/api_docs/python/tf/function for  more details.\n"
     ]
    },
    {
     "name": "stderr",
     "output_type": "stream",
     "text": [
      "WARNING:tensorflow:5 out of the last 13 calls to <function Model.make_predict_function.<locals>.predict_function at 0x7f6134320280> triggered tf.function retracing. Tracing is expensive and the excessive number of tracings could be due to (1) creating @tf.function repeatedly in a loop, (2) passing tensors with different shapes, (3) passing Python objects instead of tensors. For (1), please define your @tf.function outside of the loop. For (2), @tf.function has experimental_relax_shapes=True option that relaxes argument shapes that can avoid unnecessary retracing. For (3), please refer to https://www.tensorflow.org/guide/function#controlling_retracing and https://www.tensorflow.org/api_docs/python/tf/function for  more details.\n"
     ]
    },
    {
     "name": "stdout",
     "output_type": "stream",
     "text": [
      "Class 1:\n",
      "Sens = 0.23921568627450981\n",
      "Spec = 0.7959356477561389\n",
      "Class 2:\n",
      "Sens = 0.15789473684210525\n",
      "Spec = 0.8515901060070671\n",
      "Accuracy = 0.4735376044568245, ROC = 0.5442807774919783\n",
      "Confusion matrix: (row = true, column = predicted)\n",
      "[[571 171 135]\n",
      " [161  61  33]\n",
      " [186  70  48]]\n",
      "Classifcation Report\n",
      "              precision    recall  f1-score   support\n",
      "\n",
      "           0       0.62      0.65      0.64       877\n",
      "           1       0.20      0.24      0.22       255\n",
      "           2       0.22      0.16      0.18       304\n",
      "\n",
      "    accuracy                           0.47      1436\n",
      "   macro avg       0.35      0.35      0.35      1436\n",
      "weighted avg       0.46      0.47      0.47      1436\n",
      "\n"
     ]
    }
   ],
   "source": [
    "Eval_LSTM(Mod3, test_lstm, Y_test_lstm, t_split)"
   ]
  },
  {
   "cell_type": "markdown",
   "metadata": {},
   "source": [
    "#### High Frequency Features ####"
   ]
  },
  {
   "cell_type": "code",
   "execution_count": 5,
   "metadata": {},
   "outputs": [],
   "source": [
    "data_std = pd.read_csv(\"data/final/1min/HF/BTC_std_5.csv\")"
   ]
  },
  {
   "cell_type": "code",
   "execution_count": 6,
   "metadata": {
    "scrolled": true
   },
   "outputs": [
    {
     "name": "stdout",
     "output_type": "stream",
     "text": [
      "1  trained in  1029.5232577999996\n",
      "2  trained in  3556.457241365999\n",
      "3  trained in  6802.694323308999\n",
      "4  trained in  8152.489975856995\n",
      "5  trained in  10382.600632513997\n",
      "6  trained in  16667.532278323\n",
      "7  trained in  18240.833603312996\n",
      "8  trained in  20864.704168343997\n",
      "9  trained in  25174.028909731\n",
      "Seed 123 was best\n",
      "Seed 123 was best\n",
      "Seed 1 was best\n"
     ]
    },
    {
     "name": "stderr",
     "output_type": "stream",
     "text": [
      "WARNING:absl:Found untraced functions such as lstm_cell_6_layer_call_and_return_conditional_losses, lstm_cell_6_layer_call_fn, lstm_cell_6_layer_call_fn, lstm_cell_6_layer_call_and_return_conditional_losses, lstm_cell_6_layer_call_and_return_conditional_losses while saving (showing 5 of 5). These functions will not be directly callable after loading.\n",
      "WARNING:absl:Found untraced functions such as lstm_cell_6_layer_call_and_return_conditional_losses, lstm_cell_6_layer_call_fn, lstm_cell_6_layer_call_fn, lstm_cell_6_layer_call_and_return_conditional_losses, lstm_cell_6_layer_call_and_return_conditional_losses while saving (showing 5 of 5). These functions will not be directly callable after loading.\n"
     ]
    },
    {
     "name": "stdout",
     "output_type": "stream",
     "text": [
      "INFO:tensorflow:Assets written to: models/lstm/BTC_HF_1min5min/Mod1_2021-08-18 00:19:20.737852/assets\n"
     ]
    },
    {
     "name": "stderr",
     "output_type": "stream",
     "text": [
      "INFO:tensorflow:Assets written to: models/lstm/BTC_HF_1min5min/Mod1_2021-08-18 00:19:20.737852/assets\n",
      "WARNING:absl:Found untraced functions such as lstm_cell_7_layer_call_and_return_conditional_losses, lstm_cell_7_layer_call_fn, lstm_cell_8_layer_call_and_return_conditional_losses, lstm_cell_8_layer_call_fn, lstm_cell_7_layer_call_fn while saving (showing 5 of 10). These functions will not be directly callable after loading.\n",
      "WARNING:absl:Found untraced functions such as lstm_cell_7_layer_call_and_return_conditional_losses, lstm_cell_7_layer_call_fn, lstm_cell_8_layer_call_and_return_conditional_losses, lstm_cell_8_layer_call_fn, lstm_cell_7_layer_call_fn while saving (showing 5 of 10). These functions will not be directly callable after loading.\n"
     ]
    },
    {
     "name": "stdout",
     "output_type": "stream",
     "text": [
      "INFO:tensorflow:Assets written to: models/lstm/BTC_HF_1min5min/Mod2_2021-08-18 00:19:23.205500/assets\n"
     ]
    },
    {
     "name": "stderr",
     "output_type": "stream",
     "text": [
      "INFO:tensorflow:Assets written to: models/lstm/BTC_HF_1min5min/Mod2_2021-08-18 00:19:23.205500/assets\n",
      "WARNING:absl:Found untraced functions such as lstm_cell_3_layer_call_and_return_conditional_losses, lstm_cell_3_layer_call_fn, lstm_cell_4_layer_call_and_return_conditional_losses, lstm_cell_4_layer_call_fn, lstm_cell_5_layer_call_and_return_conditional_losses while saving (showing 5 of 15). These functions will not be directly callable after loading.\n",
      "WARNING:absl:Found untraced functions such as lstm_cell_3_layer_call_and_return_conditional_losses, lstm_cell_3_layer_call_fn, lstm_cell_4_layer_call_and_return_conditional_losses, lstm_cell_4_layer_call_fn, lstm_cell_5_layer_call_and_return_conditional_losses while saving (showing 5 of 15). These functions will not be directly callable after loading.\n"
     ]
    },
    {
     "name": "stdout",
     "output_type": "stream",
     "text": [
      "INFO:tensorflow:Assets written to: models/lstm/BTC_HF_1min5min/Mod3_2021-08-18 00:19:27.733700/assets\n"
     ]
    },
    {
     "name": "stderr",
     "output_type": "stream",
     "text": [
      "INFO:tensorflow:Assets written to: models/lstm/BTC_HF_1min5min/Mod3_2021-08-18 00:19:27.733700/assets\n"
     ]
    },
    {
     "name": "stdout",
     "output_type": "stream",
     "text": [
      "CPU times: user 5h 43min 26s, sys: 1h 17min 33s, total: 7h 59s\n",
      "Wall time: 6h 59min 47s\n"
     ]
    }
   ],
   "source": [
    "%%time\n",
    "test_lstm, Y_test_lstm, His1, Mod1, His2, Mod2, His3, Mod3 = Run_LSTM(data_std, Y, \"BTC_HF_1min5min\", v_split, t_split, EP = 10000)"
   ]
  },
  {
   "cell_type": "markdown",
   "metadata": {},
   "source": [
    "#### Model 1 #####"
   ]
  },
  {
   "cell_type": "code",
   "execution_count": 17,
   "metadata": {},
   "outputs": [
    {
     "data": {
      "text/plain": [
       "[<matplotlib.lines.Line2D at 0x7efd881be910>]"
      ]
     },
     "execution_count": 17,
     "metadata": {},
     "output_type": "execute_result"
    },
    {
     "data": {
      "image/png": "[encoded data removed]",
      "text/plain": [
       "<Figure size 432x288 with 1 Axes>"
      ]
     },
     "metadata": {
      "needs_background": "light"
     },
     "output_type": "display_data"
    }
   ],
   "source": [
    "plt.plot(His1.history['loss'])\n",
    "plt.plot(His1.history['val_loss'])  "
   ]
  },
  {
   "cell_type": "code",
   "execution_count": 18,
   "metadata": {},
   "outputs": [
    {
     "name": "stdout",
     "output_type": "stream",
     "text": [
      "Class 1:\n",
      "Sens = 0.09803921568627451\n",
      "Spec = 0.9398814563928873\n",
      "Class 2:\n",
      "Sens = 0.0756578947368421\n",
      "Spec = 0.9081272084805654\n",
      "Accuracy = 0.5675487465181058, ROC = 0.5801942158020043\n",
      "Confusion matrix: (row = true, column = predicted)\n",
      "[[767  34  76]\n",
      " [202  25  28]\n",
      " [244  37  23]]\n",
      "Classifcation Report\n",
      "              precision    recall  f1-score   support\n",
      "\n",
      "           0       0.63      0.87      0.73       877\n",
      "           1       0.26      0.10      0.14       255\n",
      "           2       0.18      0.08      0.11       304\n",
      "\n",
      "    accuracy                           0.57      1436\n",
      "   macro avg       0.36      0.35      0.33      1436\n",
      "weighted avg       0.47      0.57      0.50      1436\n",
      "\n"
     ]
    }
   ],
   "source": [
    "Eval_LSTM(Mod1, test_lstm, Y_test_lstm, t_split)"
   ]
  },
  {
   "cell_type": "code",
   "execution_count": 19,
   "metadata": {},
   "outputs": [],
   "source": [
    "#Mod1.save('models/lstm/hf/Model1_81ROC')\n"
   ]
  },
  {
   "cell_type": "markdown",
   "metadata": {},
   "source": [
    "#### Model 2 #####"
   ]
  },
  {
   "cell_type": "code",
   "execution_count": 20,
   "metadata": {},
   "outputs": [
    {
     "data": {
      "text/plain": [
       "[<matplotlib.lines.Line2D at 0x7efc7b243250>]"
      ]
     },
     "execution_count": 20,
     "metadata": {},
     "output_type": "execute_result"
    },
    {
     "data": {
      "image/png": "[encoded data removed]",
      "text/plain": [
       "<Figure size 432x288 with 1 Axes>"
      ]
     },
     "metadata": {
      "needs_background": "light"
     },
     "output_type": "display_data"
    }
   ],
   "source": [
    "plt.plot(His2.history['loss'])\n",
    "plt.plot(His2.history['val_loss'])  "
   ]
  },
  {
   "cell_type": "code",
   "execution_count": 21,
   "metadata": {
    "scrolled": true
   },
   "outputs": [
    {
     "name": "stdout",
     "output_type": "stream",
     "text": [
      "Class 1:\n",
      "Sens = 0.13333333333333333\n",
      "Spec = 0.8027095681625741\n",
      "Class 2:\n",
      "Sens = 0.15460526315789475\n",
      "Spec = 0.911660777385159\n",
      "Accuracy = 0.49303621169916434, ROC = 0.5532879405323081\n",
      "Confusion matrix: (row = true, column = predicted)\n",
      "[[627 178  72]\n",
      " [193  34  28]\n",
      " [202  55  47]]\n",
      "Classifcation Report\n",
      "              precision    recall  f1-score   support\n",
      "\n",
      "           0       0.61      0.71      0.66       877\n",
      "           1       0.13      0.13      0.13       255\n",
      "           2       0.32      0.15      0.21       304\n",
      "\n",
      "    accuracy                           0.49      1436\n",
      "   macro avg       0.35      0.33      0.33      1436\n",
      "weighted avg       0.46      0.49      0.47      1436\n",
      "\n"
     ]
    }
   ],
   "source": [
    "Eval_LSTM(Mod2, test_lstm, Y_test_lstm, t_split)"
   ]
  },
  {
   "cell_type": "code",
   "execution_count": 12,
   "metadata": {},
   "outputs": [],
   "source": [
    "#Mod2.save('models/lstm/hf/Model2_81ROC')\n"
   ]
  },
  {
   "cell_type": "code",
   "execution_count": 13,
   "metadata": {},
   "outputs": [],
   "source": [
    "#loaded_model = keras.models.load_model('models/lstm/hf/Model2_81ROC')"
   ]
  },
  {
   "cell_type": "code",
   "execution_count": 14,
   "metadata": {},
   "outputs": [],
   "source": [
    "#Eval_LSTM(loaded_model, test_lstm, Y_test_lstm, t_split)"
   ]
  },
  {
   "cell_type": "markdown",
   "metadata": {},
   "source": [
    "#### Model 3 #####"
   ]
  },
  {
   "cell_type": "code",
   "execution_count": 22,
   "metadata": {},
   "outputs": [
    {
     "data": {
      "text/plain": [
       "[<matplotlib.lines.Line2D at 0x7efc79fb40d0>]"
      ]
     },
     "execution_count": 22,
     "metadata": {},
     "output_type": "execute_result"
    },
    {
     "data": {
      "image/png": "[encoded data removed]",
      "text/plain": [
       "<Figure size 432x288 with 1 Axes>"
      ]
     },
     "metadata": {
      "needs_background": "light"
     },
     "output_type": "display_data"
    }
   ],
   "source": [
    "plt.plot(His3.history['loss'])\n",
    "plt.plot(His3.history['val_loss'])  "
   ]
  },
  {
   "cell_type": "code",
   "execution_count": 23,
   "metadata": {},
   "outputs": [
    {
     "name": "stdout",
     "output_type": "stream",
     "text": [
      "Class 1:\n",
      "Sens = 0.25882352941176473\n",
      "Spec = 0.8001693480101609\n",
      "Class 2:\n",
      "Sens = 0.17434210526315788\n",
      "Spec = 0.8021201413427562\n",
      "Accuracy = 0.4818941504178273, ROC = 0.551748607748216\n",
      "Confusion matrix: (row = true, column = predicted)\n",
      "[[573 137 167]\n",
      " [132  66  57]\n",
      " [152  99  53]]\n",
      "Classifcation Report\n",
      "              precision    recall  f1-score   support\n",
      "\n",
      "           0       0.67      0.65      0.66       877\n",
      "           1       0.22      0.26      0.24       255\n",
      "           2       0.19      0.17      0.18       304\n",
      "\n",
      "    accuracy                           0.48      1436\n",
      "   macro avg       0.36      0.36      0.36      1436\n",
      "weighted avg       0.49      0.48      0.48      1436\n",
      "\n"
     ]
    }
   ],
   "source": [
    "Eval_LSTM(Mod3, test_lstm, Y_test_lstm, t_split)"
   ]
  },
  {
   "cell_type": "code",
   "execution_count": null,
   "metadata": {},
   "outputs": [],
   "source": []
  },
  {
   "cell_type": "code",
   "execution_count": null,
   "metadata": {},
   "outputs": [],
   "source": []
  }
 ],
 "metadata": {
  "kernelspec": {
   "display_name": "Python 3",
   "language": "python",
   "name": "python3"
  },
  "language_info": {
   "codemirror_mode": {
    "name": "ipython",
    "version": 3
   },
   "file_extension": ".py",
   "mimetype": "text/x-python",
   "name": "python",
   "nbconvert_exporter": "python",
   "pygments_lexer": "ipython3",
   "version": "3.8.8"
  }
 },
 "nbformat": 4,
 "nbformat_minor": 4
}
