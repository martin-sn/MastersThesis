{
 "cells": [
  {
   "cell_type": "code",
   "execution_count": 1,
   "metadata": {},
   "outputs": [],
   "source": [
    "from deep_models import *"
   ]
  },
  {
   "cell_type": "markdown",
   "metadata": {},
   "source": [
    "# 1 Min Data - 1 Min Forecast #"
   ]
  },
  {
   "cell_type": "code",
   "execution_count": 2,
   "metadata": {},
   "outputs": [],
   "source": [
    "Y = pd.read_csv(\"data/final/1min/BTC_Y_std.csv\")"
   ]
  },
  {
   "cell_type": "markdown",
   "metadata": {},
   "source": [
    "## Dense Models ##"
   ]
  },
  {
   "cell_type": "markdown",
   "metadata": {},
   "source": [
    "#### Bid Ask Features ####"
   ]
  },
  {
   "cell_type": "code",
   "execution_count": 7,
   "metadata": {},
   "outputs": [],
   "source": [
    "data_std = pd.read_csv(\"data/final/1min/BidAsk/BTC_std.csv\")"
   ]
  },
  {
   "cell_type": "code",
   "execution_count": 8,
   "metadata": {},
   "outputs": [
    {
     "data": {
      "text/plain": [
       "(17048, 33)"
      ]
     },
     "execution_count": 8,
     "metadata": {},
     "output_type": "execute_result"
    }
   ],
   "source": [
    "data_std.shape"
   ]
  },
  {
   "cell_type": "code",
   "execution_count": 9,
   "metadata": {},
   "outputs": [],
   "source": [
    "t_split = 17048 - 1440"
   ]
  },
  {
   "cell_type": "code",
   "execution_count": 10,
   "metadata": {},
   "outputs": [],
   "source": [
    "v_split = 17048 - 1440*2"
   ]
  },
  {
   "cell_type": "code",
   "execution_count": 7,
   "metadata": {
    "scrolled": true
   },
   "outputs": [
    {
     "name": "stdout",
     "output_type": "stream",
     "text": [
      "Epoch 1/250\n",
      "1/1 [==============================] - 1s 1s/step - loss: 1.3274 - accuracy: 0.3307 - val_loss: 1.3139 - val_accuracy: 0.3750\n",
      "Epoch 2/250\n",
      "1/1 [==============================] - 0s 55ms/step - loss: 1.3115 - accuracy: 0.3367 - val_loss: 1.2980 - val_accuracy: 0.3771\n",
      "Epoch 3/250\n",
      "1/1 [==============================] - 0s 46ms/step - loss: 1.2963 - accuracy: 0.3408 - val_loss: 1.2836 - val_accuracy: 0.3799\n",
      "Epoch 4/250\n",
      "1/1 [==============================] - 0s 52ms/step - loss: 1.2820 - accuracy: 0.3461 - val_loss: 1.2697 - val_accuracy: 0.3806\n",
      "Epoch 5/250\n",
      "1/1 [==============================] - 0s 53ms/step - loss: 1.2685 - accuracy: 0.3504 - val_loss: 1.2560 - val_accuracy: 0.3812\n",
      "Epoch 6/250\n",
      "1/1 [==============================] - 0s 53ms/step - loss: 1.2557 - accuracy: 0.3535 - val_loss: 1.2433 - val_accuracy: 0.3819\n",
      "Epoch 7/250\n",
      "1/1 [==============================] - 0s 46ms/step - loss: 1.2438 - accuracy: 0.3592 - val_loss: 1.2312 - val_accuracy: 0.3833\n",
      "Epoch 8/250\n",
      "1/1 [==============================] - 0s 43ms/step - loss: 1.2324 - accuracy: 0.3646 - val_loss: 1.2197 - val_accuracy: 0.3840\n",
      "Epoch 9/250\n",
      "1/1 [==============================] - 0s 51ms/step - loss: 1.2217 - accuracy: 0.3686 - val_loss: 1.2091 - val_accuracy: 0.3882\n",
      "Epoch 10/250\n",
      "1/1 [==============================] - 0s 46ms/step - loss: 1.2115 - accuracy: 0.3737 - val_loss: 1.1993 - val_accuracy: 0.3896\n",
      "Epoch 11/250\n",
      "1/1 [==============================] - 0s 40ms/step - loss: 1.2019 - accuracy: 0.3775 - val_loss: 1.1905 - val_accuracy: 0.3875\n",
      "Epoch 12/250\n",
      "1/1 [==============================] - 0s 46ms/step - loss: 1.1927 - accuracy: 0.3820 - val_loss: 1.1823 - val_accuracy: 0.3847\n",
      "Epoch 13/250\n",
      "1/1 [==============================] - 0s 47ms/step - loss: 1.1841 - accuracy: 0.3858 - val_loss: 1.1749 - val_accuracy: 0.3868\n",
      "Epoch 14/250\n",
      "1/1 [==============================] - 0s 46ms/step - loss: 1.1759 - accuracy: 0.3890 - val_loss: 1.1681 - val_accuracy: 0.3819\n",
      "Epoch 15/250\n",
      "1/1 [==============================] - 0s 47ms/step - loss: 1.1681 - accuracy: 0.3931 - val_loss: 1.1618 - val_accuracy: 0.3819\n",
      "Epoch 16/250\n",
      "1/1 [==============================] - 0s 46ms/step - loss: 1.1607 - accuracy: 0.3953 - val_loss: 1.1561 - val_accuracy: 0.3792\n",
      "Epoch 17/250\n",
      "1/1 [==============================] - 0s 52ms/step - loss: 1.1537 - accuracy: 0.4006 - val_loss: 1.1508 - val_accuracy: 0.3757\n",
      "Epoch 18/250\n",
      "1/1 [==============================] - 0s 55ms/step - loss: 1.1471 - accuracy: 0.4049 - val_loss: 1.1458 - val_accuracy: 0.3757\n",
      "Epoch 19/250\n",
      "1/1 [==============================] - 0s 62ms/step - loss: 1.1409 - accuracy: 0.4091 - val_loss: 1.1411 - val_accuracy: 0.3743\n",
      "Epoch 20/250\n",
      "1/1 [==============================] - 0s 72ms/step - loss: 1.1350 - accuracy: 0.4143 - val_loss: 1.1368 - val_accuracy: 0.3729\n",
      "Epoch 21/250\n",
      "1/1 [==============================] - 0s 62ms/step - loss: 1.1294 - accuracy: 0.4184 - val_loss: 1.1329 - val_accuracy: 0.3708\n",
      "Epoch 22/250\n",
      "1/1 [==============================] - 0s 61ms/step - loss: 1.1241 - accuracy: 0.4209 - val_loss: 1.1292 - val_accuracy: 0.3646\n",
      "Epoch 23/250\n",
      "1/1 [==============================] - 0s 64ms/step - loss: 1.1191 - accuracy: 0.4244 - val_loss: 1.1258 - val_accuracy: 0.3618\n",
      "Epoch 24/250\n",
      "1/1 [==============================] - 0s 57ms/step - loss: 1.1143 - accuracy: 0.4281 - val_loss: 1.1230 - val_accuracy: 0.3625\n",
      "Epoch 25/250\n",
      "1/1 [==============================] - 0s 43ms/step - loss: 1.1098 - accuracy: 0.4308 - val_loss: 1.1209 - val_accuracy: 0.3632\n",
      "Epoch 26/250\n",
      "1/1 [==============================] - 0s 45ms/step - loss: 1.1055 - accuracy: 0.4344 - val_loss: 1.1192 - val_accuracy: 0.3632\n",
      "Epoch 27/250\n",
      "1/1 [==============================] - 0s 44ms/step - loss: 1.1015 - accuracy: 0.4383 - val_loss: 1.1179 - val_accuracy: 0.3625\n",
      "Epoch 28/250\n",
      "1/1 [==============================] - 0s 71ms/step - loss: 1.0978 - accuracy: 0.4433 - val_loss: 1.1167 - val_accuracy: 0.3604\n",
      "Epoch 29/250\n",
      "1/1 [==============================] - 0s 52ms/step - loss: 1.0942 - accuracy: 0.4473 - val_loss: 1.1156 - val_accuracy: 0.3576\n",
      "Epoch 30/250\n",
      "1/1 [==============================] - 0s 47ms/step - loss: 1.0908 - accuracy: 0.4505 - val_loss: 1.1145 - val_accuracy: 0.3542\n",
      "Epoch 31/250\n",
      "1/1 [==============================] - 0s 46ms/step - loss: 1.0876 - accuracy: 0.4538 - val_loss: 1.1133 - val_accuracy: 0.3507\n",
      "Epoch 32/250\n",
      "1/1 [==============================] - 0s 52ms/step - loss: 1.0846 - accuracy: 0.4556 - val_loss: 1.1117 - val_accuracy: 0.3479\n",
      "Epoch 33/250\n",
      "1/1 [==============================] - 0s 53ms/step - loss: 1.0817 - accuracy: 0.4568 - val_loss: 1.1102 - val_accuracy: 0.3472\n",
      "Epoch 34/250\n",
      "1/1 [==============================] - 0s 56ms/step - loss: 1.0790 - accuracy: 0.4596 - val_loss: 1.1090 - val_accuracy: 0.3500\n",
      "Epoch 35/250\n",
      "1/1 [==============================] - 0s 54ms/step - loss: 1.0764 - accuracy: 0.4627 - val_loss: 1.1080 - val_accuracy: 0.3486\n",
      "Epoch 36/250\n",
      "1/1 [==============================] - 0s 45ms/step - loss: 1.0739 - accuracy: 0.4646 - val_loss: 1.1071 - val_accuracy: 0.3472\n",
      "Epoch 37/250\n",
      "1/1 [==============================] - 0s 51ms/step - loss: 1.0714 - accuracy: 0.4678 - val_loss: 1.1062 - val_accuracy: 0.3500\n",
      "Epoch 38/250\n",
      "1/1 [==============================] - 0s 50ms/step - loss: 1.0691 - accuracy: 0.4691 - val_loss: 1.1055 - val_accuracy: 0.3451\n",
      "Epoch 39/250\n",
      "1/1 [==============================] - 0s 52ms/step - loss: 1.0669 - accuracy: 0.4719 - val_loss: 1.1049 - val_accuracy: 0.3472\n",
      "Epoch 40/250\n",
      "1/1 [==============================] - 0s 66ms/step - loss: 1.0648 - accuracy: 0.4751 - val_loss: 1.1041 - val_accuracy: 0.3493\n",
      "Epoch 41/250\n",
      "1/1 [==============================] - 0s 56ms/step - loss: 1.0627 - accuracy: 0.4777 - val_loss: 1.1034 - val_accuracy: 0.3528\n",
      "Epoch 42/250\n",
      "1/1 [==============================] - 0s 56ms/step - loss: 1.0607 - accuracy: 0.4800 - val_loss: 1.1030 - val_accuracy: 0.3528\n",
      "Epoch 43/250\n",
      "1/1 [==============================] - 0s 50ms/step - loss: 1.0588 - accuracy: 0.4820 - val_loss: 1.1027 - val_accuracy: 0.3521\n",
      "Epoch 44/250\n",
      "1/1 [==============================] - 0s 43ms/step - loss: 1.0569 - accuracy: 0.4843 - val_loss: 1.1025 - val_accuracy: 0.3507\n",
      "Epoch 45/250\n",
      "1/1 [==============================] - 0s 50ms/step - loss: 1.0551 - accuracy: 0.4862 - val_loss: 1.1023 - val_accuracy: 0.3479\n",
      "Epoch 46/250\n",
      "1/1 [==============================] - 0s 47ms/step - loss: 1.0533 - accuracy: 0.4882 - val_loss: 1.1020 - val_accuracy: 0.3500\n",
      "Epoch 47/250\n",
      "1/1 [==============================] - 0s 49ms/step - loss: 1.0516 - accuracy: 0.4901 - val_loss: 1.1017 - val_accuracy: 0.3486\n",
      "Epoch 48/250\n",
      "1/1 [==============================] - 0s 49ms/step - loss: 1.0500 - accuracy: 0.4927 - val_loss: 1.1015 - val_accuracy: 0.3486\n",
      "Epoch 49/250\n",
      "1/1 [==============================] - 0s 50ms/step - loss: 1.0484 - accuracy: 0.4942 - val_loss: 1.1013 - val_accuracy: 0.3493\n",
      "Epoch 50/250\n",
      "1/1 [==============================] - 0s 44ms/step - loss: 1.0468 - accuracy: 0.4948 - val_loss: 1.1011 - val_accuracy: 0.3500\n",
      "Epoch 51/250\n",
      "1/1 [==============================] - 0s 47ms/step - loss: 1.0453 - accuracy: 0.4962 - val_loss: 1.1008 - val_accuracy: 0.3486\n",
      "Epoch 52/250\n",
      "1/1 [==============================] - 0s 54ms/step - loss: 1.0439 - accuracy: 0.4980 - val_loss: 1.1006 - val_accuracy: 0.3500\n",
      "Epoch 53/250\n",
      "1/1 [==============================] - 0s 53ms/step - loss: 1.0425 - accuracy: 0.4995 - val_loss: 1.1003 - val_accuracy: 0.3521\n",
      "Epoch 54/250\n",
      "1/1 [==============================] - 0s 64ms/step - loss: 1.0411 - accuracy: 0.5011 - val_loss: 1.1001 - val_accuracy: 0.3528\n",
      "Epoch 55/250\n",
      "1/1 [==============================] - 0s 64ms/step - loss: 1.0398 - accuracy: 0.5033 - val_loss: 1.0998 - val_accuracy: 0.3521\n",
      "Epoch 56/250\n",
      "1/1 [==============================] - 0s 54ms/step - loss: 1.0385 - accuracy: 0.5060 - val_loss: 1.0997 - val_accuracy: 0.3493\n",
      "Epoch 57/250\n",
      "1/1 [==============================] - 0s 52ms/step - loss: 1.0373 - accuracy: 0.5063 - val_loss: 1.0995 - val_accuracy: 0.3465\n",
      "Epoch 58/250\n",
      "1/1 [==============================] - 0s 57ms/step - loss: 1.0361 - accuracy: 0.5084 - val_loss: 1.0993 - val_accuracy: 0.3444\n",
      "Epoch 59/250\n"
     ]
    },
    {
     "name": "stdout",
     "output_type": "stream",
     "text": [
      "1/1 [==============================] - 0s 185ms/step - loss: 1.0349 - accuracy: 0.5109 - val_loss: 1.0991 - val_accuracy: 0.3465\n",
      "Epoch 60/250\n",
      "1/1 [==============================] - 0s 88ms/step - loss: 1.0338 - accuracy: 0.5131 - val_loss: 1.0989 - val_accuracy: 0.3479\n",
      "Epoch 61/250\n",
      "1/1 [==============================] - 0s 134ms/step - loss: 1.0327 - accuracy: 0.5140 - val_loss: 1.0988 - val_accuracy: 0.3458\n",
      "Epoch 62/250\n",
      "1/1 [==============================] - 0s 76ms/step - loss: 1.0316 - accuracy: 0.5150 - val_loss: 1.0986 - val_accuracy: 0.3458\n",
      "Epoch 63/250\n",
      "1/1 [==============================] - 0s 90ms/step - loss: 1.0306 - accuracy: 0.5157 - val_loss: 1.0985 - val_accuracy: 0.3458\n",
      "Epoch 64/250\n",
      "1/1 [==============================] - 0s 52ms/step - loss: 1.0296 - accuracy: 0.5172 - val_loss: 1.0983 - val_accuracy: 0.3472\n",
      "Epoch 65/250\n",
      "1/1 [==============================] - 0s 53ms/step - loss: 1.0286 - accuracy: 0.5177 - val_loss: 1.0981 - val_accuracy: 0.3479\n",
      "Epoch 66/250\n",
      "1/1 [==============================] - 0s 44ms/step - loss: 1.0277 - accuracy: 0.5183 - val_loss: 1.0980 - val_accuracy: 0.3472\n",
      "Epoch 67/250\n",
      "1/1 [==============================] - 0s 49ms/step - loss: 1.0267 - accuracy: 0.5196 - val_loss: 1.0978 - val_accuracy: 0.3493\n",
      "Epoch 68/250\n",
      "1/1 [==============================] - 0s 56ms/step - loss: 1.0258 - accuracy: 0.5203 - val_loss: 1.0977 - val_accuracy: 0.3486\n",
      "Epoch 69/250\n",
      "1/1 [==============================] - 0s 47ms/step - loss: 1.0249 - accuracy: 0.5210 - val_loss: 1.0976 - val_accuracy: 0.3500\n",
      "Epoch 70/250\n",
      "1/1 [==============================] - 0s 66ms/step - loss: 1.0241 - accuracy: 0.5221 - val_loss: 1.0974 - val_accuracy: 0.3493\n",
      "Epoch 71/250\n",
      "1/1 [==============================] - 0s 62ms/step - loss: 1.0232 - accuracy: 0.5235 - val_loss: 1.0974 - val_accuracy: 0.3493\n",
      "Epoch 72/250\n",
      "1/1 [==============================] - 0s 52ms/step - loss: 1.0224 - accuracy: 0.5248 - val_loss: 1.0973 - val_accuracy: 0.3486\n",
      "Epoch 73/250\n",
      "1/1 [==============================] - 0s 55ms/step - loss: 1.0216 - accuracy: 0.5254 - val_loss: 1.0972 - val_accuracy: 0.3486\n",
      "Epoch 74/250\n",
      "1/1 [==============================] - 0s 43ms/step - loss: 1.0208 - accuracy: 0.5270 - val_loss: 1.0972 - val_accuracy: 0.3465\n",
      "Epoch 75/250\n",
      "1/1 [==============================] - 0s 135ms/step - loss: 1.0200 - accuracy: 0.5277 - val_loss: 1.0971 - val_accuracy: 0.3479\n",
      "Epoch 76/250\n",
      "1/1 [==============================] - 0s 55ms/step - loss: 1.0192 - accuracy: 0.5291 - val_loss: 1.0971 - val_accuracy: 0.3472\n",
      "Epoch 77/250\n",
      "1/1 [==============================] - 0s 54ms/step - loss: 1.0185 - accuracy: 0.5296 - val_loss: 1.0970 - val_accuracy: 0.3465\n",
      "Epoch 78/250\n",
      "1/1 [==============================] - 0s 57ms/step - loss: 1.0177 - accuracy: 0.5313 - val_loss: 1.0970 - val_accuracy: 0.3458\n",
      "Epoch 79/250\n",
      "1/1 [==============================] - 0s 42ms/step - loss: 1.0170 - accuracy: 0.5318 - val_loss: 1.0969 - val_accuracy: 0.3479\n",
      "Epoch 80/250\n",
      "1/1 [==============================] - 0s 47ms/step - loss: 1.0163 - accuracy: 0.5335 - val_loss: 1.0969 - val_accuracy: 0.3479\n",
      "Epoch 81/250\n",
      "1/1 [==============================] - 0s 50ms/step - loss: 1.0156 - accuracy: 0.5344 - val_loss: 1.0968 - val_accuracy: 0.3486\n",
      "Epoch 82/250\n",
      "1/1 [==============================] - 0s 53ms/step - loss: 1.0149 - accuracy: 0.5354 - val_loss: 1.0968 - val_accuracy: 0.3493\n",
      "Epoch 83/250\n",
      "1/1 [==============================] - 0s 50ms/step - loss: 1.0143 - accuracy: 0.5362 - val_loss: 1.0968 - val_accuracy: 0.3500\n",
      "Epoch 84/250\n",
      "1/1 [==============================] - 0s 56ms/step - loss: 1.0136 - accuracy: 0.5372 - val_loss: 1.0967 - val_accuracy: 0.3486\n",
      "Epoch 85/250\n",
      "1/1 [==============================] - 0s 55ms/step - loss: 1.0130 - accuracy: 0.5375 - val_loss: 1.0967 - val_accuracy: 0.3486\n",
      "Epoch 86/250\n",
      "1/1 [==============================] - 0s 48ms/step - loss: 1.0124 - accuracy: 0.5383 - val_loss: 1.0967 - val_accuracy: 0.3500\n",
      "Epoch 87/250\n",
      "1/1 [==============================] - 0s 54ms/step - loss: 1.0118 - accuracy: 0.5390 - val_loss: 1.0967 - val_accuracy: 0.3507\n",
      "Epoch 88/250\n",
      "1/1 [==============================] - 0s 52ms/step - loss: 1.0112 - accuracy: 0.5399 - val_loss: 1.0967 - val_accuracy: 0.3514\n",
      "Epoch 89/250\n",
      "1/1 [==============================] - 0s 59ms/step - loss: 1.0106 - accuracy: 0.5407 - val_loss: 1.0967 - val_accuracy: 0.3514\n",
      "Epoch 90/250\n",
      "1/1 [==============================] - 0s 61ms/step - loss: 1.0100 - accuracy: 0.5414 - val_loss: 1.0967 - val_accuracy: 0.3521\n",
      "Epoch 91/250\n",
      "1/1 [==============================] - 0s 60ms/step - loss: 1.0095 - accuracy: 0.5423 - val_loss: 1.0967 - val_accuracy: 0.3528\n",
      "Epoch 92/250\n",
      "1/1 [==============================] - 0s 49ms/step - loss: 1.0089 - accuracy: 0.5434 - val_loss: 1.0967 - val_accuracy: 0.3549\n",
      "Epoch 93/250\n",
      "1/1 [==============================] - 0s 51ms/step - loss: 1.0084 - accuracy: 0.5438 - val_loss: 1.0968 - val_accuracy: 0.3562\n",
      "Epoch 94/250\n",
      "1/1 [==============================] - 0s 51ms/step - loss: 1.0078 - accuracy: 0.5445 - val_loss: 1.0968 - val_accuracy: 0.3576\n",
      "Epoch 95/250\n",
      "1/1 [==============================] - 0s 55ms/step - loss: 1.0073 - accuracy: 0.5447 - val_loss: 1.0969 - val_accuracy: 0.3583\n",
      "Epoch 96/250\n",
      "1/1 [==============================] - 0s 46ms/step - loss: 1.0068 - accuracy: 0.5447 - val_loss: 1.0969 - val_accuracy: 0.3583\n",
      "Epoch 97/250\n",
      "1/1 [==============================] - 0s 62ms/step - loss: 1.0062 - accuracy: 0.5455 - val_loss: 1.0970 - val_accuracy: 0.3583\n",
      "Epoch 98/250\n",
      "1/1 [==============================] - 0s 61ms/step - loss: 1.0057 - accuracy: 0.5459 - val_loss: 1.0971 - val_accuracy: 0.3597\n"
     ]
    }
   ],
   "source": [
    "test, Y_test, His1, His2, His3, Mod1, Mod2, Mod3 = Run_Dense(data_std, Y, \"test\",v_split, t_split)"
   ]
  },
  {
   "cell_type": "markdown",
   "metadata": {},
   "source": [
    "#### Model 1 #####"
   ]
  },
  {
   "cell_type": "code",
   "execution_count": 14,
   "metadata": {},
   "outputs": [
    {
     "data": {
      "text/plain": [
       "[<matplotlib.lines.Line2D at 0x7f89edcf8fd0>]"
      ]
     },
     "execution_count": 14,
     "metadata": {},
     "output_type": "execute_result"
    },
    {
     "data": {
      "image/png": "[encoded data removed]",
      "text/plain": [
       "<Figure size 432x288 with 1 Axes>"
      ]
     },
     "metadata": {
      "needs_background": "light"
     },
     "output_type": "display_data"
    }
   ],
   "source": [
    "plt.plot(His1.history['loss'])\n",
    "plt.plot(His1.history['val_loss'])  "
   ]
  },
  {
   "cell_type": "code",
   "execution_count": 15,
   "metadata": {},
   "outputs": [
    {
     "name": "stdout",
     "output_type": "stream",
     "text": [
      "Accuray = 0.3519163763066202, ROC = 0.5166041111151805\n"
     ]
    }
   ],
   "source": [
    "Eval(Mod1, test, Y_test)"
   ]
  },
  {
   "cell_type": "markdown",
   "metadata": {},
   "source": [
    "#### Model 2 ####"
   ]
  },
  {
   "cell_type": "code",
   "execution_count": 16,
   "metadata": {},
   "outputs": [
    {
     "data": {
      "text/plain": [
       "[<matplotlib.lines.Line2D at 0x7f89ede08af0>]"
      ]
     },
     "execution_count": 16,
     "metadata": {},
     "output_type": "execute_result"
    },
    {
     "data": {
      "image/png": "[encoded data removed]",
      "text/plain": [
       "<Figure size 432x288 with 1 Axes>"
      ]
     },
     "metadata": {
      "needs_background": "light"
     },
     "output_type": "display_data"
    }
   ],
   "source": [
    "plt.plot(His2.history['loss'])\n",
    "plt.plot(His2.history['val_loss'])  "
   ]
  },
  {
   "cell_type": "code",
   "execution_count": 17,
   "metadata": {
    "scrolled": true
   },
   "outputs": [
    {
     "name": "stdout",
     "output_type": "stream",
     "text": [
      "Accuray = 0.3616724738675958, ROC = 0.5248144556753452\n"
     ]
    }
   ],
   "source": [
    "Eval(Mod2, test, Y_test)"
   ]
  },
  {
   "cell_type": "markdown",
   "metadata": {},
   "source": [
    "#### Model 3 ####"
   ]
  },
  {
   "cell_type": "code",
   "execution_count": 18,
   "metadata": {},
   "outputs": [
    {
     "data": {
      "text/plain": [
       "[<matplotlib.lines.Line2D at 0x7f89ede866d0>]"
      ]
     },
     "execution_count": 18,
     "metadata": {},
     "output_type": "execute_result"
    },
    {
     "data": {
      "image/png": "[encoded data removed]",
      "text/plain": [
       "<Figure size 432x288 with 1 Axes>"
      ]
     },
     "metadata": {
      "needs_background": "light"
     },
     "output_type": "display_data"
    }
   ],
   "source": [
    "plt.plot(His3.history['loss'])\n",
    "plt.plot(His3.history['val_loss']) "
   ]
  },
  {
   "cell_type": "code",
   "execution_count": 19,
   "metadata": {},
   "outputs": [
    {
     "name": "stdout",
     "output_type": "stream",
     "text": [
      "Accuray = 0.3686411149825784, ROC = 0.5339002923634361\n"
     ]
    }
   ],
   "source": [
    "Eval(Mod3, test, Y_test)"
   ]
  },
  {
   "cell_type": "markdown",
   "metadata": {},
   "source": [
    "### Order flow features ###"
   ]
  },
  {
   "cell_type": "code",
   "execution_count": 20,
   "metadata": {},
   "outputs": [],
   "source": [
    "data_std = pd.read_csv(\"data/final/1min/OrderFlow/BTC_std.csv\")"
   ]
  },
  {
   "cell_type": "code",
   "execution_count": 24,
   "metadata": {
    "scrolled": true
   },
   "outputs": [
    {
     "name": "stdout",
     "output_type": "stream",
     "text": [
      "Epoch 1/250\n",
      "1/1 [==============================] - 0s 480ms/step - loss: 1.2985 - accuracy: 0.3228 - val_loss: 1.2416 - val_accuracy: 0.3417\n",
      "Epoch 2/250\n",
      "1/1 [==============================] - 0s 74ms/step - loss: 1.2813 - accuracy: 0.3281 - val_loss: 1.2415 - val_accuracy: 0.3486\n",
      "Epoch 3/250\n",
      "1/1 [==============================] - 0s 78ms/step - loss: 1.2654 - accuracy: 0.3334 - val_loss: 1.2435 - val_accuracy: 0.3556\n",
      "Epoch 4/250\n",
      "1/1 [==============================] - 0s 100ms/step - loss: 1.2506 - accuracy: 0.3409 - val_loss: 1.2451 - val_accuracy: 0.3646\n",
      "Epoch 5/250\n",
      "1/1 [==============================] - 0s 107ms/step - loss: 1.2370 - accuracy: 0.3457 - val_loss: 1.2467 - val_accuracy: 0.3667\n",
      "Epoch 6/250\n",
      "1/1 [==============================] - 0s 82ms/step - loss: 1.2242 - accuracy: 0.3521 - val_loss: 1.2488 - val_accuracy: 0.3660\n",
      "Epoch 7/250\n",
      "1/1 [==============================] - 0s 106ms/step - loss: 1.2122 - accuracy: 0.3582 - val_loss: 1.2505 - val_accuracy: 0.3590\n",
      "Epoch 8/250\n",
      "1/1 [==============================] - 0s 94ms/step - loss: 1.2009 - accuracy: 0.3599 - val_loss: 1.2505 - val_accuracy: 0.3611\n",
      "Epoch 9/250\n",
      "1/1 [==============================] - 0s 91ms/step - loss: 1.1902 - accuracy: 0.3677 - val_loss: 1.2490 - val_accuracy: 0.3618\n",
      "Epoch 10/250\n",
      "1/1 [==============================] - 0s 73ms/step - loss: 1.1800 - accuracy: 0.3745 - val_loss: 1.2455 - val_accuracy: 0.3618\n",
      "Epoch 11/250\n",
      "1/1 [==============================] - 0s 73ms/step - loss: 1.1704 - accuracy: 0.3809 - val_loss: 1.2396 - val_accuracy: 0.3618\n",
      "Epoch 12/250\n",
      "1/1 [==============================] - 0s 84ms/step - loss: 1.1611 - accuracy: 0.3883 - val_loss: 1.2315 - val_accuracy: 0.3625\n",
      "Epoch 13/250\n",
      "1/1 [==============================] - 0s 102ms/step - loss: 1.1522 - accuracy: 0.3953 - val_loss: 1.2219 - val_accuracy: 0.3583\n",
      "Epoch 14/250\n",
      "1/1 [==============================] - 0s 91ms/step - loss: 1.1437 - accuracy: 0.4013 - val_loss: 1.2110 - val_accuracy: 0.3590\n",
      "Epoch 15/250\n",
      "1/1 [==============================] - 0s 99ms/step - loss: 1.1355 - accuracy: 0.4084 - val_loss: 1.1996 - val_accuracy: 0.3639\n",
      "Epoch 16/250\n",
      "1/1 [==============================] - 0s 100ms/step - loss: 1.1275 - accuracy: 0.4149 - val_loss: 1.1881 - val_accuracy: 0.3632\n",
      "Epoch 17/250\n",
      "1/1 [==============================] - 0s 81ms/step - loss: 1.1199 - accuracy: 0.4207 - val_loss: 1.1773 - val_accuracy: 0.3667\n",
      "Epoch 18/250\n",
      "1/1 [==============================] - 0s 66ms/step - loss: 1.1126 - accuracy: 0.4259 - val_loss: 1.1677 - val_accuracy: 0.3667\n",
      "Epoch 19/250\n",
      "1/1 [==============================] - 0s 70ms/step - loss: 1.1056 - accuracy: 0.4308 - val_loss: 1.1593 - val_accuracy: 0.3667\n",
      "Epoch 20/250\n",
      "1/1 [==============================] - 0s 80ms/step - loss: 1.0989 - accuracy: 0.4367 - val_loss: 1.1524 - val_accuracy: 0.3667\n",
      "Epoch 21/250\n",
      "1/1 [==============================] - 0s 78ms/step - loss: 1.0924 - accuracy: 0.4401 - val_loss: 1.1466 - val_accuracy: 0.3660\n",
      "Epoch 22/250\n",
      "1/1 [==============================] - 0s 72ms/step - loss: 1.0862 - accuracy: 0.4473 - val_loss: 1.1419 - val_accuracy: 0.3611\n",
      "Epoch 23/250\n",
      "1/1 [==============================] - 0s 61ms/step - loss: 1.0803 - accuracy: 0.4519 - val_loss: 1.1377 - val_accuracy: 0.3625\n",
      "Epoch 24/250\n",
      "1/1 [==============================] - 0s 65ms/step - loss: 1.0746 - accuracy: 0.4570 - val_loss: 1.1341 - val_accuracy: 0.3618\n",
      "Epoch 25/250\n",
      "1/1 [==============================] - 0s 71ms/step - loss: 1.0693 - accuracy: 0.4625 - val_loss: 1.1312 - val_accuracy: 0.3625\n",
      "Epoch 26/250\n",
      "1/1 [==============================] - 0s 84ms/step - loss: 1.0641 - accuracy: 0.4677 - val_loss: 1.1288 - val_accuracy: 0.3562\n",
      "Epoch 27/250\n",
      "1/1 [==============================] - 0s 97ms/step - loss: 1.0592 - accuracy: 0.4716 - val_loss: 1.1268 - val_accuracy: 0.3514\n",
      "Epoch 28/250\n",
      "1/1 [==============================] - 0s 81ms/step - loss: 1.0544 - accuracy: 0.4780 - val_loss: 1.1252 - val_accuracy: 0.3528\n",
      "Epoch 29/250\n",
      "1/1 [==============================] - 0s 71ms/step - loss: 1.0499 - accuracy: 0.4828 - val_loss: 1.1239 - val_accuracy: 0.3528\n",
      "Epoch 30/250\n",
      "1/1 [==============================] - 0s 68ms/step - loss: 1.0456 - accuracy: 0.4872 - val_loss: 1.1231 - val_accuracy: 0.3556\n",
      "Epoch 31/250\n",
      "1/1 [==============================] - 0s 77ms/step - loss: 1.0415 - accuracy: 0.4926 - val_loss: 1.1223 - val_accuracy: 0.3507\n",
      "Epoch 32/250\n",
      "1/1 [==============================] - 0s 79ms/step - loss: 1.0376 - accuracy: 0.4955 - val_loss: 1.1216 - val_accuracy: 0.3500\n",
      "Epoch 33/250\n",
      "1/1 [==============================] - 0s 65ms/step - loss: 1.0339 - accuracy: 0.4999 - val_loss: 1.1210 - val_accuracy: 0.3493\n",
      "Epoch 34/250\n",
      "1/1 [==============================] - 0s 69ms/step - loss: 1.0303 - accuracy: 0.5020 - val_loss: 1.1204 - val_accuracy: 0.3507\n",
      "Epoch 35/250\n",
      "1/1 [==============================] - 0s 79ms/step - loss: 1.0269 - accuracy: 0.5035 - val_loss: 1.1199 - val_accuracy: 0.3493\n",
      "Epoch 36/250\n",
      "1/1 [==============================] - 0s 88ms/step - loss: 1.0237 - accuracy: 0.5076 - val_loss: 1.1194 - val_accuracy: 0.3500\n",
      "Epoch 37/250\n",
      "1/1 [==============================] - 0s 83ms/step - loss: 1.0206 - accuracy: 0.5092 - val_loss: 1.1190 - val_accuracy: 0.3521\n",
      "Epoch 38/250\n",
      "1/1 [==============================] - 0s 76ms/step - loss: 1.0176 - accuracy: 0.5123 - val_loss: 1.1188 - val_accuracy: 0.3500\n",
      "Epoch 39/250\n",
      "1/1 [==============================] - 0s 76ms/step - loss: 1.0148 - accuracy: 0.5157 - val_loss: 1.1186 - val_accuracy: 0.3535\n",
      "Epoch 40/250\n",
      "1/1 [==============================] - 0s 86ms/step - loss: 1.0121 - accuracy: 0.5183 - val_loss: 1.1187 - val_accuracy: 0.3569\n",
      "Epoch 41/250\n",
      "1/1 [==============================] - 0s 65ms/step - loss: 1.0094 - accuracy: 0.5211 - val_loss: 1.1188 - val_accuracy: 0.3535\n",
      "Epoch 42/250\n",
      "1/1 [==============================] - 0s 90ms/step - loss: 1.0069 - accuracy: 0.5231 - val_loss: 1.1191 - val_accuracy: 0.3542\n",
      "Epoch 43/250\n",
      "1/1 [==============================] - 0s 97ms/step - loss: 1.0045 - accuracy: 0.5256 - val_loss: 1.1194 - val_accuracy: 0.3556\n",
      "Epoch 44/250\n",
      "1/1 [==============================] - 0s 85ms/step - loss: 1.0022 - accuracy: 0.5277 - val_loss: 1.1197 - val_accuracy: 0.3535\n",
      "Epoch 45/250\n",
      "1/1 [==============================] - 0s 89ms/step - loss: 0.9999 - accuracy: 0.5306 - val_loss: 1.1200 - val_accuracy: 0.3549\n",
      "Epoch 46/250\n",
      "1/1 [==============================] - 0s 82ms/step - loss: 0.9978 - accuracy: 0.5337 - val_loss: 1.1203 - val_accuracy: 0.3521\n",
      "Epoch 47/250\n",
      "1/1 [==============================] - 0s 74ms/step - loss: 0.9957 - accuracy: 0.5361 - val_loss: 1.1206 - val_accuracy: 0.3542\n",
      "Epoch 48/250\n",
      "1/1 [==============================] - 0s 61ms/step - loss: 0.9937 - accuracy: 0.5389 - val_loss: 1.1208 - val_accuracy: 0.3562\n",
      "Epoch 49/250\n",
      "1/1 [==============================] - 0s 63ms/step - loss: 0.9917 - accuracy: 0.5411 - val_loss: 1.1210 - val_accuracy: 0.3556\n"
     ]
    }
   ],
   "source": [
    "test, Y_test, His1, His2, His3, Mod1, Mod2, Mod3 = Run_Dense(data_std, Y, \"test\",v_split, t_split)"
   ]
  },
  {
   "cell_type": "markdown",
   "metadata": {},
   "source": [
    "#### Model 1 ####"
   ]
  },
  {
   "cell_type": "code",
   "execution_count": 25,
   "metadata": {
    "scrolled": false
   },
   "outputs": [
    {
     "data": {
      "text/plain": [
       "[<matplotlib.lines.Line2D at 0x7f89cadc27c0>]"
      ]
     },
     "execution_count": 25,
     "metadata": {},
     "output_type": "execute_result"
    },
    {
     "data": {
      "image/png": "[encoded data removed]",
      "text/plain": [
       "<Figure size 432x288 with 1 Axes>"
      ]
     },
     "metadata": {
      "needs_background": "light"
     },
     "output_type": "display_data"
    }
   ],
   "source": [
    "plt.plot(His1.history['loss'])\n",
    "plt.plot(His1.history['val_loss'])  "
   ]
  },
  {
   "cell_type": "code",
   "execution_count": 26,
   "metadata": {
    "scrolled": false
   },
   "outputs": [
    {
     "name": "stdout",
     "output_type": "stream",
     "text": [
      "Accuray = 0.3554006968641115, ROC = 0.5290778248155217\n"
     ]
    }
   ],
   "source": [
    "Eval(Mod1, test, Y_test)"
   ]
  },
  {
   "cell_type": "markdown",
   "metadata": {},
   "source": [
    "#### Model 2 ####"
   ]
  },
  {
   "cell_type": "code",
   "execution_count": 27,
   "metadata": {},
   "outputs": [
    {
     "data": {
      "text/plain": [
       "[<matplotlib.lines.Line2D at 0x7f89cb44ceb0>]"
      ]
     },
     "execution_count": 27,
     "metadata": {},
     "output_type": "execute_result"
    },
    {
     "data": {
      "image/png": "[encoded data removed]",
      "text/plain": [
       "<Figure size 432x288 with 1 Axes>"
      ]
     },
     "metadata": {
      "needs_background": "light"
     },
     "output_type": "display_data"
    }
   ],
   "source": [
    "plt.plot(His2.history['loss'])\n",
    "plt.plot(His2.history['val_loss'])  "
   ]
  },
  {
   "cell_type": "code",
   "execution_count": 28,
   "metadata": {},
   "outputs": [
    {
     "name": "stdout",
     "output_type": "stream",
     "text": [
      "Accuray = 0.3574912891986063, ROC = 0.5196258959035982\n"
     ]
    }
   ],
   "source": [
    "Eval(Mod2, test, Y_test)"
   ]
  },
  {
   "cell_type": "markdown",
   "metadata": {},
   "source": [
    "#### Model 3 ####"
   ]
  },
  {
   "cell_type": "code",
   "execution_count": 29,
   "metadata": {},
   "outputs": [
    {
     "data": {
      "text/plain": [
       "[<matplotlib.lines.Line2D at 0x7f89cb569d60>]"
      ]
     },
     "execution_count": 29,
     "metadata": {},
     "output_type": "execute_result"
    },
    {
     "data": {
      "image/png": "[encoded data removed]",
      "text/plain": [
       "<Figure size 432x288 with 1 Axes>"
      ]
     },
     "metadata": {
      "needs_background": "light"
     },
     "output_type": "display_data"
    }
   ],
   "source": [
    "plt.plot(His3.history['loss'])\n",
    "plt.plot(His3.history['val_loss']) "
   ]
  },
  {
   "cell_type": "code",
   "execution_count": 30,
   "metadata": {},
   "outputs": [
    {
     "name": "stdout",
     "output_type": "stream",
     "text": [
      "Accuray = 0.35470383275261325, ROC = 0.5137161509463254\n"
     ]
    }
   ],
   "source": [
    "Eval(Mod3, test, Y_test)"
   ]
  },
  {
   "cell_type": "markdown",
   "metadata": {},
   "source": [
    "### High Frequency Features ###"
   ]
  },
  {
   "cell_type": "code",
   "execution_count": 19,
   "metadata": {},
   "outputs": [],
   "source": [
    "data_std = pd.read_csv(\"data/final/1min/HF/BTC_std.csv\")"
   ]
  },
  {
   "cell_type": "code",
   "execution_count": 31,
   "metadata": {
    "scrolled": true
   },
   "outputs": [
    {
     "name": "stdout",
     "output_type": "stream",
     "text": [
      "Epoch 1/250\n",
      "1/1 [==============================] - 0s 489ms/step - loss: 1.1796 - accuracy: 0.5438 - val_loss: 1.4329 - val_accuracy: 0.3764\n",
      "Epoch 2/250\n",
      "1/1 [==============================] - 0s 68ms/step - loss: 1.1650 - accuracy: 0.5232 - val_loss: 1.3935 - val_accuracy: 0.3840\n",
      "Epoch 3/250\n",
      "1/1 [==============================] - 0s 88ms/step - loss: 1.1514 - accuracy: 0.5264 - val_loss: 1.3630 - val_accuracy: 0.3854\n",
      "Epoch 4/250\n",
      "1/1 [==============================] - 0s 81ms/step - loss: 1.1389 - accuracy: 0.5294 - val_loss: 1.3402 - val_accuracy: 0.3840\n",
      "Epoch 5/250\n",
      "1/1 [==============================] - 0s 75ms/step - loss: 1.1273 - accuracy: 0.5309 - val_loss: 1.3226 - val_accuracy: 0.3917\n",
      "Epoch 6/250\n",
      "1/1 [==============================] - 0s 73ms/step - loss: 1.1167 - accuracy: 0.5334 - val_loss: 1.3081 - val_accuracy: 0.3965\n",
      "Epoch 7/250\n",
      "1/1 [==============================] - 0s 86ms/step - loss: 1.1069 - accuracy: 0.5351 - val_loss: 1.2961 - val_accuracy: 0.4021\n",
      "Epoch 8/250\n",
      "1/1 [==============================] - 0s 69ms/step - loss: 1.0977 - accuracy: 0.5375 - val_loss: 1.2861 - val_accuracy: 0.3986\n",
      "Epoch 9/250\n",
      "1/1 [==============================] - 0s 75ms/step - loss: 1.0892 - accuracy: 0.5403 - val_loss: 1.2772 - val_accuracy: 0.3986\n",
      "Epoch 10/250\n",
      "1/1 [==============================] - 0s 66ms/step - loss: 1.0813 - accuracy: 0.5411 - val_loss: 1.2696 - val_accuracy: 0.4000\n",
      "Epoch 11/250\n",
      "1/1 [==============================] - 0s 72ms/step - loss: 1.0739 - accuracy: 0.5435 - val_loss: 1.2634 - val_accuracy: 0.4028\n",
      "Epoch 12/250\n",
      "1/1 [==============================] - 0s 73ms/step - loss: 1.0670 - accuracy: 0.5437 - val_loss: 1.2582 - val_accuracy: 0.4035\n",
      "Epoch 13/250\n",
      "1/1 [==============================] - 0s 75ms/step - loss: 1.0605 - accuracy: 0.5452 - val_loss: 1.2540 - val_accuracy: 0.4014\n",
      "Epoch 14/250\n",
      "1/1 [==============================] - 0s 70ms/step - loss: 1.0543 - accuracy: 0.5453 - val_loss: 1.2502 - val_accuracy: 0.4042\n",
      "Epoch 15/250\n",
      "1/1 [==============================] - 0s 73ms/step - loss: 1.0486 - accuracy: 0.5466 - val_loss: 1.2466 - val_accuracy: 0.4049\n",
      "Epoch 16/250\n",
      "1/1 [==============================] - 0s 107ms/step - loss: 1.0432 - accuracy: 0.5476 - val_loss: 1.2431 - val_accuracy: 0.4035\n",
      "Epoch 17/250\n",
      "1/1 [==============================] - 0s 78ms/step - loss: 1.0380 - accuracy: 0.5483 - val_loss: 1.2396 - val_accuracy: 0.4014\n",
      "Epoch 18/250\n",
      "1/1 [==============================] - 0s 83ms/step - loss: 1.0331 - accuracy: 0.5490 - val_loss: 1.2364 - val_accuracy: 0.4028\n",
      "Epoch 19/250\n",
      "1/1 [==============================] - 0s 94ms/step - loss: 1.0284 - accuracy: 0.5500 - val_loss: 1.2331 - val_accuracy: 0.3806\n",
      "Epoch 20/250\n",
      "1/1 [==============================] - 0s 100ms/step - loss: 1.0240 - accuracy: 0.5625 - val_loss: 1.2300 - val_accuracy: 0.3826\n",
      "Epoch 21/250\n",
      "1/1 [==============================] - 0s 78ms/step - loss: 1.0198 - accuracy: 0.5637 - val_loss: 1.2269 - val_accuracy: 0.3854\n",
      "Epoch 22/250\n",
      "1/1 [==============================] - 0s 72ms/step - loss: 1.0158 - accuracy: 0.5644 - val_loss: 1.2241 - val_accuracy: 0.3840\n",
      "Epoch 23/250\n",
      "1/1 [==============================] - 0s 91ms/step - loss: 1.0119 - accuracy: 0.5639 - val_loss: 1.2214 - val_accuracy: 0.3882\n",
      "Epoch 24/250\n",
      "1/1 [==============================] - 0s 83ms/step - loss: 1.0082 - accuracy: 0.5656 - val_loss: 1.2187 - val_accuracy: 0.3917\n",
      "Epoch 25/250\n",
      "1/1 [==============================] - 0s 85ms/step - loss: 1.0048 - accuracy: 0.5665 - val_loss: 1.2161 - val_accuracy: 0.3924\n",
      "Epoch 26/250\n",
      "1/1 [==============================] - 0s 71ms/step - loss: 1.0015 - accuracy: 0.5673 - val_loss: 1.2137 - val_accuracy: 0.3910\n",
      "Epoch 27/250\n",
      "1/1 [==============================] - 0s 63ms/step - loss: 0.9983 - accuracy: 0.5680 - val_loss: 1.2115 - val_accuracy: 0.3931\n",
      "Epoch 28/250\n",
      "1/1 [==============================] - 0s 90ms/step - loss: 0.9953 - accuracy: 0.5684 - val_loss: 1.2093 - val_accuracy: 0.3938\n",
      "Epoch 29/250\n",
      "1/1 [==============================] - 0s 87ms/step - loss: 0.9924 - accuracy: 0.5685 - val_loss: 1.2073 - val_accuracy: 0.3958\n",
      "Epoch 30/250\n",
      "1/1 [==============================] - 0s 92ms/step - loss: 0.9895 - accuracy: 0.5686 - val_loss: 1.2052 - val_accuracy: 0.3972\n",
      "Epoch 31/250\n",
      "1/1 [==============================] - 0s 77ms/step - loss: 0.9868 - accuracy: 0.5685 - val_loss: 1.2032 - val_accuracy: 0.4000\n",
      "Epoch 32/250\n",
      "1/1 [==============================] - 0s 84ms/step - loss: 0.9841 - accuracy: 0.5692 - val_loss: 1.2014 - val_accuracy: 0.4007\n",
      "Epoch 33/250\n",
      "1/1 [==============================] - 0s 87ms/step - loss: 0.9816 - accuracy: 0.5694 - val_loss: 1.1999 - val_accuracy: 0.4007\n",
      "Epoch 34/250\n",
      "1/1 [==============================] - 0s 79ms/step - loss: 0.9791 - accuracy: 0.5697 - val_loss: 1.1985 - val_accuracy: 0.4021\n",
      "Epoch 35/250\n",
      "1/1 [==============================] - 0s 73ms/step - loss: 0.9766 - accuracy: 0.5708 - val_loss: 1.1973 - val_accuracy: 0.4042\n",
      "Epoch 36/250\n",
      "1/1 [==============================] - 0s 93ms/step - loss: 0.9743 - accuracy: 0.5714 - val_loss: 1.1960 - val_accuracy: 0.4028\n",
      "Epoch 37/250\n",
      "1/1 [==============================] - 0s 85ms/step - loss: 0.9720 - accuracy: 0.5711 - val_loss: 1.1950 - val_accuracy: 0.4035\n",
      "Epoch 38/250\n",
      "1/1 [==============================] - 0s 90ms/step - loss: 0.9697 - accuracy: 0.5718 - val_loss: 1.1941 - val_accuracy: 0.4021\n",
      "Epoch 39/250\n",
      "1/1 [==============================] - 0s 69ms/step - loss: 0.9676 - accuracy: 0.5723 - val_loss: 1.1934 - val_accuracy: 0.4007\n",
      "Epoch 40/250\n",
      "1/1 [==============================] - 0s 67ms/step - loss: 0.9655 - accuracy: 0.5721 - val_loss: 1.1928 - val_accuracy: 0.4014\n",
      "Epoch 41/250\n",
      "1/1 [==============================] - 0s 72ms/step - loss: 0.9635 - accuracy: 0.5722 - val_loss: 1.1922 - val_accuracy: 0.4035\n",
      "Epoch 42/250\n",
      "1/1 [==============================] - 0s 92ms/step - loss: 0.9616 - accuracy: 0.5721 - val_loss: 1.1918 - val_accuracy: 0.4014\n",
      "Epoch 43/250\n",
      "1/1 [==============================] - 0s 78ms/step - loss: 0.9597 - accuracy: 0.5724 - val_loss: 1.1914 - val_accuracy: 0.4014\n",
      "Epoch 44/250\n",
      "1/1 [==============================] - 0s 80ms/step - loss: 0.9579 - accuracy: 0.5729 - val_loss: 1.1910 - val_accuracy: 0.4007\n",
      "Epoch 45/250\n",
      "1/1 [==============================] - 0s 81ms/step - loss: 0.9561 - accuracy: 0.5735 - val_loss: 1.1908 - val_accuracy: 0.4007\n",
      "Epoch 46/250\n",
      "1/1 [==============================] - 0s 78ms/step - loss: 0.9544 - accuracy: 0.5738 - val_loss: 1.1906 - val_accuracy: 0.4014\n",
      "Epoch 47/250\n",
      "1/1 [==============================] - 0s 80ms/step - loss: 0.9528 - accuracy: 0.5745 - val_loss: 1.1903 - val_accuracy: 0.4000\n",
      "Epoch 48/250\n",
      "1/1 [==============================] - 0s 80ms/step - loss: 0.9512 - accuracy: 0.5750 - val_loss: 1.1900 - val_accuracy: 0.4028\n",
      "Epoch 49/250\n",
      "1/1 [==============================] - 0s 72ms/step - loss: 0.9497 - accuracy: 0.5751 - val_loss: 1.1896 - val_accuracy: 0.4042\n",
      "Epoch 50/250\n",
      "1/1 [==============================] - 0s 74ms/step - loss: 0.9483 - accuracy: 0.5753 - val_loss: 1.1893 - val_accuracy: 0.4042\n",
      "Epoch 51/250\n",
      "1/1 [==============================] - 0s 87ms/step - loss: 0.9469 - accuracy: 0.5757 - val_loss: 1.1891 - val_accuracy: 0.4049\n",
      "Epoch 52/250\n",
      "1/1 [==============================] - 0s 67ms/step - loss: 0.9455 - accuracy: 0.5764 - val_loss: 1.1889 - val_accuracy: 0.4042\n",
      "Epoch 53/250\n",
      "1/1 [==============================] - 0s 94ms/step - loss: 0.9441 - accuracy: 0.5768 - val_loss: 1.1888 - val_accuracy: 0.4028\n",
      "Epoch 54/250\n",
      "1/1 [==============================] - 0s 83ms/step - loss: 0.9428 - accuracy: 0.5771 - val_loss: 1.1887 - val_accuracy: 0.4000\n",
      "Epoch 55/250\n",
      "1/1 [==============================] - 0s 82ms/step - loss: 0.9415 - accuracy: 0.5779 - val_loss: 1.1886 - val_accuracy: 0.3993\n",
      "Epoch 56/250\n",
      "1/1 [==============================] - 0s 71ms/step - loss: 0.9403 - accuracy: 0.5790 - val_loss: 1.1885 - val_accuracy: 0.3986\n",
      "Epoch 57/250\n",
      "1/1 [==============================] - 0s 68ms/step - loss: 0.9391 - accuracy: 0.5798 - val_loss: 1.1884 - val_accuracy: 0.3986\n",
      "Epoch 58/250\n",
      "1/1 [==============================] - 0s 72ms/step - loss: 0.9379 - accuracy: 0.5799 - val_loss: 1.1882 - val_accuracy: 0.3993\n",
      "Epoch 59/250\n"
     ]
    },
    {
     "name": "stdout",
     "output_type": "stream",
     "text": [
      "1/1 [==============================] - 0s 76ms/step - loss: 0.9368 - accuracy: 0.5798 - val_loss: 1.1880 - val_accuracy: 0.3979\n",
      "Epoch 60/250\n",
      "1/1 [==============================] - 0s 80ms/step - loss: 0.9357 - accuracy: 0.5803 - val_loss: 1.1879 - val_accuracy: 0.3986\n",
      "Epoch 61/250\n",
      "1/1 [==============================] - 0s 71ms/step - loss: 0.9347 - accuracy: 0.5805 - val_loss: 1.1879 - val_accuracy: 0.3979\n",
      "Epoch 62/250\n",
      "1/1 [==============================] - 0s 64ms/step - loss: 0.9336 - accuracy: 0.5810 - val_loss: 1.1881 - val_accuracy: 0.3986\n",
      "Epoch 63/250\n",
      "1/1 [==============================] - 0s 75ms/step - loss: 0.9326 - accuracy: 0.5813 - val_loss: 1.1883 - val_accuracy: 0.3979\n",
      "Epoch 64/250\n",
      "1/1 [==============================] - 0s 72ms/step - loss: 0.9317 - accuracy: 0.5816 - val_loss: 1.1884 - val_accuracy: 0.3986\n",
      "Epoch 65/250\n",
      "1/1 [==============================] - 0s 75ms/step - loss: 0.9307 - accuracy: 0.5815 - val_loss: 1.1886 - val_accuracy: 0.3986\n",
      "Epoch 66/250\n",
      "1/1 [==============================] - 0s 58ms/step - loss: 0.9298 - accuracy: 0.5821 - val_loss: 1.1888 - val_accuracy: 0.4000\n",
      "Epoch 67/250\n",
      "1/1 [==============================] - 0s 71ms/step - loss: 0.9289 - accuracy: 0.5822 - val_loss: 1.1892 - val_accuracy: 0.4007\n",
      "Epoch 68/250\n",
      "1/1 [==============================] - 0s 93ms/step - loss: 0.9280 - accuracy: 0.5826 - val_loss: 1.1894 - val_accuracy: 0.3993\n",
      "Epoch 69/250\n",
      "1/1 [==============================] - 0s 81ms/step - loss: 0.9272 - accuracy: 0.5825 - val_loss: 1.1897 - val_accuracy: 0.4000\n",
      "Epoch 70/250\n",
      "1/1 [==============================] - 0s 75ms/step - loss: 0.9263 - accuracy: 0.5828 - val_loss: 1.1899 - val_accuracy: 0.4007\n"
     ]
    }
   ],
   "source": [
    "test, Y_test, His1, His2, His3, Mod1, Mod2, Mod3 = Run_Dense(data_std, Y, \"test\", v_split, t_split)"
   ]
  },
  {
   "cell_type": "markdown",
   "metadata": {},
   "source": [
    "#### Model 1 ####"
   ]
  },
  {
   "cell_type": "code",
   "execution_count": 32,
   "metadata": {
    "scrolled": false
   },
   "outputs": [
    {
     "data": {
      "text/plain": [
       "[<matplotlib.lines.Line2D at 0x7f89ab39c520>]"
      ]
     },
     "execution_count": 32,
     "metadata": {},
     "output_type": "execute_result"
    },
    {
     "data": {
      "image/png": "[encoded data removed]",
      "text/plain": [
       "<Figure size 432x288 with 1 Axes>"
      ]
     },
     "metadata": {
      "needs_background": "light"
     },
     "output_type": "display_data"
    }
   ],
   "source": [
    "plt.plot(His1.history['loss'])\n",
    "plt.plot(His1.history['val_loss'])  "
   ]
  },
  {
   "cell_type": "code",
   "execution_count": 33,
   "metadata": {
    "scrolled": false
   },
   "outputs": [
    {
     "name": "stdout",
     "output_type": "stream",
     "text": [
      "Accuray = 0.36585365853658536, ROC = 0.5245379335603032\n"
     ]
    }
   ],
   "source": [
    "Eval(Mod1, test, Y_test)"
   ]
  },
  {
   "cell_type": "markdown",
   "metadata": {},
   "source": [
    "#### Model 2 ####"
   ]
  },
  {
   "cell_type": "code",
   "execution_count": 35,
   "metadata": {},
   "outputs": [
    {
     "data": {
      "text/plain": [
       "[<matplotlib.lines.Line2D at 0x7f89cad70b50>]"
      ]
     },
     "execution_count": 35,
     "metadata": {},
     "output_type": "execute_result"
    },
    {
     "data": {
      "image/png": "[encoded data removed]",
      "text/plain": [
       "<Figure size 432x288 with 1 Axes>"
      ]
     },
     "metadata": {
      "needs_background": "light"
     },
     "output_type": "display_data"
    }
   ],
   "source": [
    "plt.plot(His2.history['loss'])\n",
    "plt.plot(His2.history['val_loss'])  "
   ]
  },
  {
   "cell_type": "code",
   "execution_count": 36,
   "metadata": {},
   "outputs": [
    {
     "name": "stdout",
     "output_type": "stream",
     "text": [
      "Accuray = 0.3679442508710801, ROC = 0.5245856580019005\n"
     ]
    }
   ],
   "source": [
    "Eval(Mod2, test, Y_test)"
   ]
  },
  {
   "cell_type": "markdown",
   "metadata": {},
   "source": [
    "#### Model 3 ####"
   ]
  },
  {
   "cell_type": "code",
   "execution_count": 39,
   "metadata": {},
   "outputs": [
    {
     "data": {
      "text/plain": [
       "[<matplotlib.lines.Line2D at 0x7f89edf10880>]"
      ]
     },
     "execution_count": 39,
     "metadata": {},
     "output_type": "execute_result"
    },
    {
     "data": {
      "image/png": "[encoded data removed]",
      "text/plain": [
       "<Figure size 432x288 with 1 Axes>"
      ]
     },
     "metadata": {
      "needs_background": "light"
     },
     "output_type": "display_data"
    }
   ],
   "source": [
    "plt.plot(His3.history['loss'])\n",
    "plt.plot(His3.history['val_loss']) "
   ]
  },
  {
   "cell_type": "code",
   "execution_count": 40,
   "metadata": {},
   "outputs": [
    {
     "name": "stdout",
     "output_type": "stream",
     "text": [
      "Accuray = 0.3804878048780488, ROC = 0.514962210262541\n"
     ]
    }
   ],
   "source": [
    "Eval(Mod3, test, Y_test)"
   ]
  },
  {
   "cell_type": "markdown",
   "metadata": {},
   "source": [
    "### LSTM Models ###"
   ]
  },
  {
   "cell_type": "markdown",
   "metadata": {},
   "source": [
    "#### Bid Ask Features ####"
   ]
  },
  {
   "cell_type": "code",
   "execution_count": 4,
   "metadata": {},
   "outputs": [],
   "source": [
    "data_std = pd.read_csv(\"data/final/1min/BidAsk/BTC_std.csv\")"
   ]
  },
  {
   "cell_type": "code",
   "execution_count": 11,
   "metadata": {
    "scrolled": true
   },
   "outputs": [],
   "source": [
    "test_lstm, Y_test_lstm, His1, Mod1 = Run_LSTM(data_std, Y, \"test\", v_split, t_split)"
   ]
  },
  {
   "cell_type": "markdown",
   "metadata": {},
   "source": [
    "#### Model 1 #####"
   ]
  },
  {
   "cell_type": "code",
   "execution_count": 12,
   "metadata": {},
   "outputs": [
    {
     "data": {
      "text/plain": [
       "[<matplotlib.lines.Line2D at 0x7fe346d1cee0>]"
      ]
     },
     "execution_count": 12,
     "metadata": {},
     "output_type": "execute_result"
    },
    {
     "data": {
      "image/png": "[encoded data removed]",
      "text/plain": [
       "<Figure size 432x288 with 1 Axes>"
      ]
     },
     "metadata": {
      "needs_background": "light"
     },
     "output_type": "display_data"
    }
   ],
   "source": [
    "plt.plot(His1.history['loss'])\n",
    "plt.plot(His1.history['val_loss'])  "
   ]
  },
  {
   "cell_type": "code",
   "execution_count": 15,
   "metadata": {},
   "outputs": [
    {
     "name": "stdout",
     "output_type": "stream",
     "text": [
      "Accuray = 0.3597222222222222, ROC = 0.5084159784335566\n"
     ]
    }
   ],
   "source": [
    "Eval_LSTM(Mod1, test_lstm, Y_test_lstm, t_split)"
   ]
  },
  {
   "cell_type": "markdown",
   "metadata": {},
   "source": [
    "#### Order Flow Features ####"
   ]
  },
  {
   "cell_type": "code",
   "execution_count": 16,
   "metadata": {},
   "outputs": [],
   "source": [
    "data_std = pd.read_csv(\"data/final/1min/OrderFlow/BTC_std.csv\")"
   ]
  },
  {
   "cell_type": "code",
   "execution_count": 18,
   "metadata": {
    "scrolled": true
   },
   "outputs": [],
   "source": [
    "test_lstm, Y_test_lstm, His1, Mod1 = Run_LSTM(data_std, Y, \"test\", v_split, t_split)"
   ]
  },
  {
   "cell_type": "markdown",
   "metadata": {},
   "source": [
    "#### Model 1 #####"
   ]
  },
  {
   "cell_type": "code",
   "execution_count": 19,
   "metadata": {
    "scrolled": true
   },
   "outputs": [
    {
     "data": {
      "text/plain": [
       "[<matplotlib.lines.Line2D at 0x7fe34a533a00>]"
      ]
     },
     "execution_count": 19,
     "metadata": {},
     "output_type": "execute_result"
    },
    {
     "data": {
      "image/png": "[encoded data removed]",
      "text/plain": [
       "<Figure size 432x288 with 1 Axes>"
      ]
     },
     "metadata": {
      "needs_background": "light"
     },
     "output_type": "display_data"
    }
   ],
   "source": [
    "plt.plot(His1.history['loss'])\n",
    "plt.plot(His1.history['val_loss'])  "
   ]
  },
  {
   "cell_type": "code",
   "execution_count": 20,
   "metadata": {},
   "outputs": [
    {
     "name": "stdout",
     "output_type": "stream",
     "text": [
      "Accuray = 0.39444444444444443, ROC = 0.5523531493446486\n"
     ]
    }
   ],
   "source": [
    "Eval_LSTM(Mod1, test_lstm, Y_test_lstm, t_split)"
   ]
  },
  {
   "cell_type": "markdown",
   "metadata": {},
   "source": [
    "#### High Frequency Features ####"
   ]
  },
  {
   "cell_type": "code",
   "execution_count": 21,
   "metadata": {},
   "outputs": [],
   "source": [
    "data_std = pd.read_csv(\"data/final/1min/HF/BTC_std.csv\")"
   ]
  },
  {
   "cell_type": "code",
   "execution_count": 22,
   "metadata": {
    "scrolled": true
   },
   "outputs": [],
   "source": [
    "test_lstm, Y_test_lstm, His1, Mod1 = Run_LSTM(data_std, Y, \"test\", v_split, t_split)"
   ]
  },
  {
   "cell_type": "markdown",
   "metadata": {},
   "source": [
    "#### Model 1 #####"
   ]
  },
  {
   "cell_type": "code",
   "execution_count": 23,
   "metadata": {},
   "outputs": [
    {
     "data": {
      "text/plain": [
       "[<matplotlib.lines.Line2D at 0x7fe3488c7190>]"
      ]
     },
     "execution_count": 23,
     "metadata": {},
     "output_type": "execute_result"
    },
    {
     "data": {
      "image/png": "[encoded data removed]",
      "text/plain": [
       "<Figure size 432x288 with 1 Axes>"
      ]
     },
     "metadata": {
      "needs_background": "light"
     },
     "output_type": "display_data"
    }
   ],
   "source": [
    "plt.plot(His1.history['loss'])\n",
    "plt.plot(His1.history['val_loss'])  "
   ]
  },
  {
   "cell_type": "code",
   "execution_count": 24,
   "metadata": {},
   "outputs": [
    {
     "name": "stdout",
     "output_type": "stream",
     "text": [
      "Accuray = 0.3402777777777778, ROC = 0.5209447322399096\n"
     ]
    }
   ],
   "source": [
    "Eval_LSTM(Mod1, test_lstm, Y_test_lstm, t_split)"
   ]
  },
  {
   "cell_type": "code",
   "execution_count": null,
   "metadata": {},
   "outputs": [],
   "source": []
  }
 ],
 "metadata": {
  "kernelspec": {
   "display_name": "Python 3",
   "language": "python",
   "name": "python3"
  },
  "language_info": {
   "codemirror_mode": {
    "name": "ipython",
    "version": 3
   },
   "file_extension": ".py",
   "mimetype": "text/x-python",
   "name": "python",
   "nbconvert_exporter": "python",
   "pygments_lexer": "ipython3",
   "version": "3.8.5"
  }
 },
 "nbformat": 4,
 "nbformat_minor": 4
}
