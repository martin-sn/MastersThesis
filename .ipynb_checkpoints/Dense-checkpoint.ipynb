{
 "cells": [
  {
   "cell_type": "code",
   "execution_count": 36,
   "metadata": {},
   "outputs": [],
   "source": [
    "import pandas as pd\n",
    "import numpy as np\n",
    "import keras\n",
    "import matplotlib.pyplot as plt"
   ]
  },
  {
   "cell_type": "code",
   "execution_count": 16,
   "metadata": {},
   "outputs": [],
   "source": [
    "data_c = pd.read_csv(\"data/final/1min/BTC.csv\")\n",
    "data_c.drop(\"system_time\", axis = 1)\n",
    "data_c['Next_mid'] = data_c.midpoint.shift(-1)\n",
    "data_c['Price_move'] = (data_c.Next_mid - data_c.midpoint) / data_c.midpoint\n",
    "data_c.dropna(axis=0, inplace=True) #drop the last row which is now Nan\n",
    "\n",
    "data_c['y'] = 0\n",
    "data_c.loc[(data_c['Price_move'] < -0.0005), 'y'] = 1\n",
    "data_c.loc[(data_c['Price_move'] > 0.0005), 'y'] = 2\n",
    "data_c.drop(['Next_mid', 'midpoint', 'Price_move', \"system_time\", \"Return\"], axis=1, inplace=True)"
   ]
  },
  {
   "cell_type": "code",
   "execution_count": 17,
   "metadata": {},
   "outputs": [
    {
     "data": {
      "text/html": [
       "<div>\n",
       "<style scoped>\n",
       "    .dataframe tbody tr th:only-of-type {\n",
       "        vertical-align: middle;\n",
       "    }\n",
       "\n",
       "    .dataframe tbody tr th {\n",
       "        vertical-align: top;\n",
       "    }\n",
       "\n",
       "    .dataframe thead th {\n",
       "        text-align: right;\n",
       "    }\n",
       "</style>\n",
       "<table border=\"1\" class=\"dataframe\">\n",
       "  <thead>\n",
       "    <tr style=\"text-align: right;\">\n",
       "      <th>col_0</th>\n",
       "      <th>count</th>\n",
       "    </tr>\n",
       "    <tr>\n",
       "      <th>y</th>\n",
       "      <th></th>\n",
       "    </tr>\n",
       "  </thead>\n",
       "  <tbody>\n",
       "    <tr>\n",
       "      <th>0</th>\n",
       "      <td>9143</td>\n",
       "    </tr>\n",
       "    <tr>\n",
       "      <th>1</th>\n",
       "      <td>3893</td>\n",
       "    </tr>\n",
       "    <tr>\n",
       "      <th>2</th>\n",
       "      <td>4012</td>\n",
       "    </tr>\n",
       "  </tbody>\n",
       "</table>\n",
       "</div>"
      ],
      "text/plain": [
       "col_0  count\n",
       "y           \n",
       "0       9143\n",
       "1       3893\n",
       "2       4012"
      ]
     },
     "execution_count": 17,
     "metadata": {},
     "output_type": "execute_result"
    }
   ],
   "source": [
    "my_tab = pd.crosstab(index=data_c[\"y\"],  # Make a crosstab\n",
    "                     columns=\"count\")                  # Name the count column\n",
    "my_tab"
   ]
  },
  {
   "cell_type": "code",
   "execution_count": null,
   "metadata": {},
   "outputs": [],
   "source": []
  },
  {
   "cell_type": "code",
   "execution_count": 18,
   "metadata": {},
   "outputs": [],
   "source": [
    "Y = data_c.pop(\"y\")"
   ]
  },
  {
   "cell_type": "code",
   "execution_count": 19,
   "metadata": {},
   "outputs": [],
   "source": [
    "bids = data_c.iloc[:,0:18]\n",
    "asks = data_c.iloc[:,78:93]\n",
    "data_bid_ask  = pd.concat([bids.reset_index(drop=True), asks], axis=1)"
   ]
  },
  {
   "cell_type": "code",
   "execution_count": 20,
   "metadata": {},
   "outputs": [],
   "source": [
    "r, x = data_bid_ask.shape"
   ]
  },
  {
   "cell_type": "code",
   "execution_count": 21,
   "metadata": {},
   "outputs": [],
   "source": [
    "data_std = data_bid_ask"
   ]
  },
  {
   "cell_type": "code",
   "execution_count": 22,
   "metadata": {},
   "outputs": [],
   "source": [
    "for i in range(60, r):\n",
    "    for j in range(x):\n",
    "        m = data_bid_ask.iloc[0:i,j].mean()\n",
    "        s = data_bid_ask.iloc[0:i,j].std()\n",
    "        data_std.iloc[i,j] = (data_bid_ask.iloc[i,j] - m) / s"
   ]
  },
  {
   "cell_type": "code",
   "execution_count": 23,
   "metadata": {},
   "outputs": [],
   "source": [
    "data_std = data_std.iloc[60:,:]"
   ]
  },
  {
   "cell_type": "code",
   "execution_count": 26,
   "metadata": {},
   "outputs": [],
   "source": [
    "r, x = data_std.shape"
   ]
  },
  {
   "cell_type": "code",
   "execution_count": 24,
   "metadata": {},
   "outputs": [],
   "source": [
    "data_std.to_csv(\"data/final/1min/data_1min_std.csv\")"
   ]
  },
  {
   "cell_type": "code",
   "execution_count": 27,
   "metadata": {},
   "outputs": [],
   "source": [
    "dat = np.zeros((r-5, 5, x))\n",
    "\n",
    "for i in range(r-5):\n",
    "    dat[i,:,:] = data_std.iloc[i:i+5,:].values\n"
   ]
  },
  {
   "cell_type": "code",
   "execution_count": 28,
   "metadata": {},
   "outputs": [],
   "source": [
    "Y = Y[65:]\n",
    "Y = Y.reset_index(drop = True)"
   ]
  },
  {
   "cell_type": "code",
   "execution_count": 29,
   "metadata": {},
   "outputs": [],
   "source": [
    "train = dat[:14000, :,:]\n",
    "val = dat[14000:15500, :,:]\n",
    "test = dat[15500:, :,:]"
   ]
  },
  {
   "cell_type": "code",
   "execution_count": 30,
   "metadata": {},
   "outputs": [],
   "source": [
    "Y_train = Y[:14000]\n",
    "Y_val = Y[14000:15500]\n",
    "Y_test = Y[15500:]"
   ]
  },
  {
   "cell_type": "code",
   "execution_count": 60,
   "metadata": {},
   "outputs": [],
   "source": [
    "model = keras.models.Sequential([\n",
    "keras.layers.Flatten(input_shape=[5, x]),\n",
    "#keras.layers.Dense(128, activation=\"relu\"),\n",
    "#keras.layers.Dense(64, activation=\"relu\"),\n",
    "#keras.layers.Dense(32, activation=\"relu\"),\n",
    "#keras.layers.Dense(16, activation=\"relu\"),\n",
    "#keras.layers.Dense(8, activation=\"relu\"),\n",
    "keras.layers.Dense(4, activation=\"relu\"),\n",
    "keras.layers.Dense(3, activation=\"softmax\")\n",
    "])"
   ]
  },
  {
   "cell_type": "code",
   "execution_count": 61,
   "metadata": {},
   "outputs": [],
   "source": [
    "model.compile(loss=\"sparse_categorical_crossentropy\", optimizer=\"Adam\", metrics=[\"accuracy\"])"
   ]
  },
  {
   "cell_type": "code",
   "execution_count": 62,
   "metadata": {
    "scrolled": true
   },
   "outputs": [
    {
     "name": "stdout",
     "output_type": "stream",
     "text": [
      "Epoch 1/100\n",
      "438/438 [==============================] - 1s 1ms/step - loss: 1.2849 - accuracy: 0.4405 - val_loss: 1.1561 - val_accuracy: 0.3860\n",
      "Epoch 2/100\n",
      "438/438 [==============================] - 0s 1ms/step - loss: 0.9946 - accuracy: 0.5770 - val_loss: 1.1597 - val_accuracy: 0.3873\n",
      "Epoch 3/100\n",
      "438/438 [==============================] - 0s 1ms/step - loss: 0.9822 - accuracy: 0.5713 - val_loss: 1.1582 - val_accuracy: 0.3873\n",
      "Epoch 4/100\n",
      "438/438 [==============================] - 1s 1ms/step - loss: 0.9778 - accuracy: 0.5731 - val_loss: 1.1572 - val_accuracy: 0.3880\n",
      "Epoch 5/100\n",
      "438/438 [==============================] - 1s 2ms/step - loss: 0.9882 - accuracy: 0.5624 - val_loss: 1.1659 - val_accuracy: 0.3880\n",
      "Epoch 6/100\n",
      "438/438 [==============================] - 0s 981us/step - loss: 0.9742 - accuracy: 0.5772 - val_loss: 1.1712 - val_accuracy: 0.3873\n",
      "Epoch 7/100\n",
      "438/438 [==============================] - 0s 951us/step - loss: 0.9768 - accuracy: 0.5750 - val_loss: 1.1653 - val_accuracy: 0.3880\n",
      "Epoch 8/100\n",
      "438/438 [==============================] - 0s 996us/step - loss: 0.9836 - accuracy: 0.5668 - val_loss: 1.1624 - val_accuracy: 0.3873\n",
      "Epoch 9/100\n",
      "438/438 [==============================] - 0s 1ms/step - loss: 0.9863 - accuracy: 0.5645 - val_loss: 1.1655 - val_accuracy: 0.3867\n",
      "Epoch 10/100\n",
      "438/438 [==============================] - 0s 1ms/step - loss: 0.9787 - accuracy: 0.5719 - val_loss: 1.1607 - val_accuracy: 0.3873\n",
      "Epoch 11/100\n",
      "438/438 [==============================] - 0s 883us/step - loss: 0.9761 - accuracy: 0.5748 - val_loss: 1.1598 - val_accuracy: 0.3880\n",
      "Epoch 12/100\n",
      "438/438 [==============================] - 0s 938us/step - loss: 0.9726 - accuracy: 0.5780 - val_loss: 1.1580 - val_accuracy: 0.3880\n",
      "Epoch 13/100\n",
      "438/438 [==============================] - 0s 902us/step - loss: 0.9793 - accuracy: 0.5713 - val_loss: 1.1593 - val_accuracy: 0.3873\n",
      "Epoch 14/100\n",
      "438/438 [==============================] - 0s 901us/step - loss: 0.9726 - accuracy: 0.5773 - val_loss: 1.1542 - val_accuracy: 0.3873\n",
      "Epoch 15/100\n",
      "438/438 [==============================] - 0s 908us/step - loss: 0.9764 - accuracy: 0.5721 - val_loss: 1.1513 - val_accuracy: 0.3860\n",
      "Epoch 16/100\n",
      "438/438 [==============================] - 0s 1ms/step - loss: 0.9744 - accuracy: 0.5727 - val_loss: 1.1491 - val_accuracy: 0.3873\n",
      "Epoch 17/100\n",
      "438/438 [==============================] - 1s 1ms/step - loss: 0.9719 - accuracy: 0.5742 - val_loss: 1.1472 - val_accuracy: 0.3880\n",
      "Epoch 18/100\n",
      "438/438 [==============================] - 0s 949us/step - loss: 0.9732 - accuracy: 0.5724 - val_loss: 1.1431 - val_accuracy: 0.3880\n",
      "Epoch 19/100\n",
      "438/438 [==============================] - 0s 959us/step - loss: 0.9726 - accuracy: 0.5724 - val_loss: 1.1377 - val_accuracy: 0.3880\n",
      "Epoch 20/100\n",
      "438/438 [==============================] - 0s 910us/step - loss: 0.9663 - accuracy: 0.5789 - val_loss: 1.1349 - val_accuracy: 0.3880\n",
      "Epoch 21/100\n",
      "438/438 [==============================] - 0s 968us/step - loss: 0.9712 - accuracy: 0.5728 - val_loss: 1.1303 - val_accuracy: 0.3880\n",
      "Epoch 22/100\n",
      "438/438 [==============================] - 0s 948us/step - loss: 0.9756 - accuracy: 0.5685 - val_loss: 1.1339 - val_accuracy: 0.3873\n",
      "Epoch 23/100\n",
      "438/438 [==============================] - 0s 916us/step - loss: 0.9678 - accuracy: 0.5743 - val_loss: 1.1319 - val_accuracy: 0.3873\n",
      "Epoch 24/100\n",
      "438/438 [==============================] - 0s 885us/step - loss: 0.9727 - accuracy: 0.5693 - val_loss: 1.1321 - val_accuracy: 0.3873\n",
      "Epoch 25/100\n",
      "438/438 [==============================] - 0s 932us/step - loss: 0.9647 - accuracy: 0.5764 - val_loss: 1.1231 - val_accuracy: 0.3867\n",
      "Epoch 26/100\n",
      "438/438 [==============================] - 0s 861us/step - loss: 0.9695 - accuracy: 0.5724 - val_loss: 1.1157 - val_accuracy: 0.3873\n",
      "Epoch 27/100\n",
      "438/438 [==============================] - 0s 862us/step - loss: 0.9698 - accuracy: 0.5708 - val_loss: 1.1159 - val_accuracy: 0.3873\n",
      "Epoch 28/100\n",
      "438/438 [==============================] - 0s 918us/step - loss: 0.9617 - accuracy: 0.5788 - val_loss: 1.1286 - val_accuracy: 0.3873\n",
      "Epoch 29/100\n",
      "438/438 [==============================] - 0s 935us/step - loss: 0.9749 - accuracy: 0.5665 - val_loss: 1.1371 - val_accuracy: 0.3880\n",
      "Epoch 30/100\n",
      "438/438 [==============================] - 0s 892us/step - loss: 0.9724 - accuracy: 0.5679 - val_loss: 1.1219 - val_accuracy: 0.3873\n",
      "Epoch 31/100\n",
      "438/438 [==============================] - 0s 935us/step - loss: 0.9693 - accuracy: 0.5696 - val_loss: 1.1457 - val_accuracy: 0.3880\n",
      "Epoch 32/100\n",
      "438/438 [==============================] - 0s 953us/step - loss: 0.9700 - accuracy: 0.5706 - val_loss: 1.1097 - val_accuracy: 0.3873\n",
      "Epoch 33/100\n",
      "438/438 [==============================] - 0s 903us/step - loss: 0.9689 - accuracy: 0.5700 - val_loss: 1.1046 - val_accuracy: 0.3873\n",
      "Epoch 34/100\n",
      "438/438 [==============================] - 0s 894us/step - loss: 0.9684 - accuracy: 0.5725 - val_loss: 1.1047 - val_accuracy: 0.3873\n",
      "Epoch 35/100\n",
      "438/438 [==============================] - 0s 883us/step - loss: 0.9678 - accuracy: 0.5717 - val_loss: 1.1277 - val_accuracy: 0.3880\n",
      "Epoch 36/100\n",
      "438/438 [==============================] - 0s 893us/step - loss: 0.9630 - accuracy: 0.5761 - val_loss: 1.1097 - val_accuracy: 0.3873\n",
      "Epoch 37/100\n",
      "438/438 [==============================] - 0s 940us/step - loss: 0.9692 - accuracy: 0.5710 - val_loss: 1.1021 - val_accuracy: 0.3873\n",
      "Epoch 38/100\n",
      "438/438 [==============================] - 0s 890us/step - loss: 0.9665 - accuracy: 0.5725 - val_loss: 1.1097 - val_accuracy: 0.3867\n",
      "Epoch 39/100\n",
      "438/438 [==============================] - 0s 894us/step - loss: 0.9693 - accuracy: 0.5701 - val_loss: 1.1187 - val_accuracy: 0.3867\n",
      "Epoch 40/100\n",
      "438/438 [==============================] - 0s 876us/step - loss: 0.9678 - accuracy: 0.5723 - val_loss: 1.1165 - val_accuracy: 0.3873\n",
      "Epoch 41/100\n",
      "438/438 [==============================] - 0s 902us/step - loss: 0.9712 - accuracy: 0.5682 - val_loss: 1.1100 - val_accuracy: 0.3873\n",
      "Epoch 42/100\n",
      "438/438 [==============================] - 0s 893us/step - loss: 0.9628 - accuracy: 0.5754 - val_loss: 1.1002 - val_accuracy: 0.3873\n",
      "Epoch 43/100\n",
      "438/438 [==============================] - 0s 900us/step - loss: 0.9659 - accuracy: 0.5730 - val_loss: 1.1080 - val_accuracy: 0.3873\n",
      "Epoch 44/100\n",
      "438/438 [==============================] - 0s 908us/step - loss: 0.9690 - accuracy: 0.5718 - val_loss: 1.1054 - val_accuracy: 0.3873\n",
      "Epoch 45/100\n",
      "438/438 [==============================] - 0s 890us/step - loss: 0.9693 - accuracy: 0.5695 - val_loss: 1.1103 - val_accuracy: 0.3873\n",
      "Epoch 46/100\n",
      "438/438 [==============================] - 0s 907us/step - loss: 0.9627 - accuracy: 0.5781 - val_loss: 1.1041 - val_accuracy: 0.3873\n",
      "Epoch 47/100\n",
      "438/438 [==============================] - 0s 930us/step - loss: 0.9643 - accuracy: 0.5740 - val_loss: 1.1187 - val_accuracy: 0.3873\n",
      "Epoch 48/100\n",
      "438/438 [==============================] - 1s 1ms/step - loss: 0.9684 - accuracy: 0.5686 - val_loss: 1.1084 - val_accuracy: 0.3873\n",
      "Epoch 49/100\n",
      "438/438 [==============================] - 0s 1ms/step - loss: 0.9717 - accuracy: 0.5678 - val_loss: 1.1176 - val_accuracy: 0.3873\n",
      "Epoch 50/100\n",
      "438/438 [==============================] - 0s 1ms/step - loss: 0.9749 - accuracy: 0.5650 - val_loss: 1.1004 - val_accuracy: 0.3873\n",
      "Epoch 51/100\n",
      "438/438 [==============================] - 1s 1ms/step - loss: 0.9667 - accuracy: 0.5698 - val_loss: 1.0988 - val_accuracy: 0.3873\n",
      "Epoch 52/100\n",
      "438/438 [==============================] - 0s 1ms/step - loss: 0.9640 - accuracy: 0.5748 - val_loss: 1.1139 - val_accuracy: 0.3873\n",
      "Epoch 53/100\n",
      "438/438 [==============================] - 1s 2ms/step - loss: 0.9742 - accuracy: 0.5655 - val_loss: 1.1007 - val_accuracy: 0.3873\n",
      "Epoch 54/100\n",
      "438/438 [==============================] - 1s 1ms/step - loss: 0.9649 - accuracy: 0.5728 - val_loss: 1.0966 - val_accuracy: 0.3873\n",
      "Epoch 55/100\n",
      "438/438 [==============================] - 1s 1ms/step - loss: 0.9700 - accuracy: 0.5698 - val_loss: 1.1224 - val_accuracy: 0.3873\n",
      "Epoch 56/100\n",
      "438/438 [==============================] - 1s 2ms/step - loss: 0.9701 - accuracy: 0.5699 - val_loss: 1.1077 - val_accuracy: 0.3873\n",
      "Epoch 57/100\n"
     ]
    },
    {
     "name": "stdout",
     "output_type": "stream",
     "text": [
      "438/438 [==============================] - 0s 1ms/step - loss: 0.9680 - accuracy: 0.5701 - val_loss: 1.1008 - val_accuracy: 0.3873\n",
      "Epoch 58/100\n",
      "438/438 [==============================] - 1s 1ms/step - loss: 0.9711 - accuracy: 0.5655 - val_loss: 1.1063 - val_accuracy: 0.3873\n",
      "Epoch 59/100\n",
      "438/438 [==============================] - 0s 1ms/step - loss: 0.9758 - accuracy: 0.5637 - val_loss: 1.1046 - val_accuracy: 0.3873\n",
      "Epoch 60/100\n",
      "438/438 [==============================] - 1s 2ms/step - loss: 0.9698 - accuracy: 0.5681 - val_loss: 1.1088 - val_accuracy: 0.3873\n",
      "Epoch 61/100\n",
      "438/438 [==============================] - 1s 2ms/step - loss: 0.9769 - accuracy: 0.5624 - val_loss: 1.1141 - val_accuracy: 0.3873\n",
      "Epoch 62/100\n",
      "438/438 [==============================] - 1s 1ms/step - loss: 0.9679 - accuracy: 0.5716 - val_loss: 1.0966 - val_accuracy: 0.3873\n",
      "Epoch 63/100\n",
      "438/438 [==============================] - 0s 890us/step - loss: 0.9657 - accuracy: 0.5721 - val_loss: 1.0945 - val_accuracy: 0.3873\n",
      "Epoch 64/100\n",
      "438/438 [==============================] - 1s 2ms/step - loss: 0.9538 - accuracy: 0.5845 - val_loss: 1.1009 - val_accuracy: 0.3873\n",
      "Epoch 65/100\n",
      "438/438 [==============================] - 1s 1ms/step - loss: 0.9590 - accuracy: 0.5791 - val_loss: 1.0959 - val_accuracy: 0.3873\n",
      "Epoch 66/100\n",
      "438/438 [==============================] - 0s 1ms/step - loss: 0.9641 - accuracy: 0.5747 - val_loss: 1.1011 - val_accuracy: 0.3873\n",
      "Epoch 67/100\n",
      "438/438 [==============================] - 0s 897us/step - loss: 0.9647 - accuracy: 0.5738 - val_loss: 1.1119 - val_accuracy: 0.3867\n",
      "Epoch 68/100\n",
      "438/438 [==============================] - 0s 1ms/step - loss: 0.9696 - accuracy: 0.5714 - val_loss: 1.0996 - val_accuracy: 0.3873\n",
      "Epoch 69/100\n",
      "438/438 [==============================] - 0s 892us/step - loss: 0.9698 - accuracy: 0.5686 - val_loss: 1.1075 - val_accuracy: 0.3873\n",
      "Epoch 70/100\n",
      "438/438 [==============================] - 1s 1ms/step - loss: 0.9661 - accuracy: 0.5731 - val_loss: 1.0965 - val_accuracy: 0.3873\n",
      "Epoch 71/100\n",
      "438/438 [==============================] - 1s 1ms/step - loss: 0.9722 - accuracy: 0.5653 - val_loss: 1.1106 - val_accuracy: 0.3873\n",
      "Epoch 72/100\n",
      "438/438 [==============================] - 0s 1ms/step - loss: 0.9695 - accuracy: 0.5676 - val_loss: 1.1166 - val_accuracy: 0.3873\n",
      "Epoch 73/100\n",
      "438/438 [==============================] - 0s 1ms/step - loss: 0.9635 - accuracy: 0.5750 - val_loss: 1.1195 - val_accuracy: 0.3867\n",
      "Epoch 74/100\n",
      "438/438 [==============================] - 1s 1ms/step - loss: 0.9735 - accuracy: 0.5652 - val_loss: 1.1048 - val_accuracy: 0.3873\n",
      "Epoch 75/100\n",
      "438/438 [==============================] - 0s 886us/step - loss: 0.9758 - accuracy: 0.5624 - val_loss: 1.1260 - val_accuracy: 0.3873\n",
      "Epoch 76/100\n",
      "438/438 [==============================] - 0s 1ms/step - loss: 0.9703 - accuracy: 0.5689 - val_loss: 1.1031 - val_accuracy: 0.3873\n",
      "Epoch 77/100\n",
      "438/438 [==============================] - 0s 916us/step - loss: 0.9617 - accuracy: 0.5718 - val_loss: 1.1043 - val_accuracy: 0.3873\n",
      "Epoch 78/100\n",
      "438/438 [==============================] - 0s 1ms/step - loss: 0.9608 - accuracy: 0.5765 - val_loss: 1.0916 - val_accuracy: 0.3873\n",
      "Epoch 79/100\n",
      "438/438 [==============================] - 0s 1ms/step - loss: 0.9688 - accuracy: 0.5716 - val_loss: 1.1067 - val_accuracy: 0.3873\n",
      "Epoch 80/100\n",
      "438/438 [==============================] - 0s 969us/step - loss: 0.9663 - accuracy: 0.5741 - val_loss: 1.1007 - val_accuracy: 0.3873\n",
      "Epoch 81/100\n",
      "438/438 [==============================] - 0s 1ms/step - loss: 0.9668 - accuracy: 0.5712 - val_loss: 1.1049 - val_accuracy: 0.3873\n",
      "Epoch 82/100\n",
      "438/438 [==============================] - 0s 973us/step - loss: 0.9653 - accuracy: 0.5747 - val_loss: 1.1030 - val_accuracy: 0.3873\n",
      "Epoch 83/100\n",
      "438/438 [==============================] - 0s 1ms/step - loss: 0.9625 - accuracy: 0.5737 - val_loss: 1.1176 - val_accuracy: 0.3867\n",
      "Epoch 84/100\n",
      "438/438 [==============================] - 1s 1ms/step - loss: 0.9696 - accuracy: 0.5703 - val_loss: 1.1070 - val_accuracy: 0.3873\n",
      "Epoch 85/100\n",
      "438/438 [==============================] - 1s 1ms/step - loss: 0.9642 - accuracy: 0.5745 - val_loss: 1.1051 - val_accuracy: 0.3873\n",
      "Epoch 86/100\n",
      "438/438 [==============================] - 0s 1ms/step - loss: 0.9607 - accuracy: 0.5787 - val_loss: 1.0910 - val_accuracy: 0.3873\n",
      "Epoch 87/100\n",
      "438/438 [==============================] - 0s 975us/step - loss: 0.9600 - accuracy: 0.5782 - val_loss: 1.1021 - val_accuracy: 0.3873\n",
      "Epoch 88/100\n",
      "438/438 [==============================] - 0s 1ms/step - loss: 0.9699 - accuracy: 0.5659 - val_loss: 1.0870 - val_accuracy: 0.3873\n",
      "Epoch 89/100\n",
      "438/438 [==============================] - 0s 946us/step - loss: 0.9576 - accuracy: 0.5827 - val_loss: 1.0993 - val_accuracy: 0.3873\n",
      "Epoch 90/100\n",
      "438/438 [==============================] - 1s 1ms/step - loss: 0.9606 - accuracy: 0.5792 - val_loss: 1.0909 - val_accuracy: 0.3873\n",
      "Epoch 91/100\n",
      "438/438 [==============================] - 1s 1ms/step - loss: 0.9634 - accuracy: 0.5742 - val_loss: 1.0996 - val_accuracy: 0.3873\n",
      "Epoch 92/100\n",
      "438/438 [==============================] - 1s 1ms/step - loss: 0.9603 - accuracy: 0.5766 - val_loss: 1.0953 - val_accuracy: 0.3873\n",
      "Epoch 93/100\n",
      "438/438 [==============================] - 1s 2ms/step - loss: 0.9648 - accuracy: 0.5754 - val_loss: 1.0975 - val_accuracy: 0.3873\n",
      "Epoch 94/100\n",
      "438/438 [==============================] - 0s 1ms/step - loss: 0.9537 - accuracy: 0.5840 - val_loss: 1.1027 - val_accuracy: 0.3873\n",
      "Epoch 95/100\n",
      "438/438 [==============================] - 0s 903us/step - loss: 0.9639 - accuracy: 0.5739 - val_loss: 1.1239 - val_accuracy: 0.3873\n",
      "Epoch 96/100\n",
      "438/438 [==============================] - 0s 982us/step - loss: 0.9675 - accuracy: 0.5710 - val_loss: 1.1091 - val_accuracy: 0.3867\n",
      "Epoch 97/100\n",
      "438/438 [==============================] - 1s 1ms/step - loss: 0.9651 - accuracy: 0.5734 - val_loss: 1.0898 - val_accuracy: 0.3873\n",
      "Epoch 98/100\n",
      "438/438 [==============================] - 0s 1ms/step - loss: 0.9594 - accuracy: 0.5760 - val_loss: 1.1008 - val_accuracy: 0.3873\n",
      "Epoch 99/100\n",
      "438/438 [==============================] - 0s 1ms/step - loss: 0.9560 - accuracy: 0.5808 - val_loss: 1.0947 - val_accuracy: 0.3873\n",
      "Epoch 100/100\n",
      "438/438 [==============================] - 0s 935us/step - loss: 0.9652 - accuracy: 0.5741 - val_loss: 1.1051 - val_accuracy: 0.3867\n"
     ]
    }
   ],
   "source": [
    "history = model.fit(train, Y_train, epochs=100, validation_data = (val,Y_val))"
   ]
  },
  {
   "cell_type": "code",
   "execution_count": 65,
   "metadata": {},
   "outputs": [
    {
     "data": {
      "text/plain": [
       "array([[0.37854177, 0.2956746 , 0.3257837 ],\n",
       "       [0.37854177, 0.2956746 , 0.3257837 ],\n",
       "       [0.39449492, 0.28831702, 0.31718808],\n",
       "       ...,\n",
       "       [0.5641029 , 0.20926505, 0.22663207],\n",
       "       [0.51901704, 0.23041046, 0.25057244],\n",
       "       [0.5994772 , 0.1926155 , 0.20790738]], dtype=float32)"
      ]
     },
     "execution_count": 65,
     "metadata": {},
     "output_type": "execute_result"
    }
   ],
   "source": [
    "model.predict(test)"
   ]
  },
  {
   "cell_type": "code",
   "execution_count": 66,
   "metadata": {},
   "outputs": [
    {
     "data": {
      "text/plain": [
       "[<matplotlib.lines.Line2D at 0x7fe35fb2cca0>]"
      ]
     },
     "execution_count": 66,
     "metadata": {},
     "output_type": "execute_result"
    },
    {
     "data": {
      "image/png": "[encoded data removed]",
      "text/plain": [
       "<Figure size 432x288 with 1 Axes>"
      ]
     },
     "metadata": {
      "needs_background": "light"
     },
     "output_type": "display_data"
    }
   ],
   "source": [
    "plt.plot(history.history[\"loss\"])\n",
    "plt.plot(history.history[\"val_loss\"])"
   ]
  },
  {
   "cell_type": "code",
   "execution_count": null,
   "metadata": {},
   "outputs": [],
   "source": []
  },
  {
   "cell_type": "code",
   "execution_count": null,
   "metadata": {},
   "outputs": [],
   "source": []
  }
 ],
 "metadata": {
  "kernelspec": {
   "display_name": "Python 3",
   "language": "python",
   "name": "python3"
  },
  "language_info": {
   "codemirror_mode": {
    "name": "ipython",
    "version": 3
   },
   "file_extension": ".py",
   "mimetype": "text/x-python",
   "name": "python",
   "nbconvert_exporter": "python",
   "pygments_lexer": "ipython3",
   "version": "3.8.5"
  }
 },
 "nbformat": 4,
 "nbformat_minor": 4
}
