{
 "cells": [
  {
   "cell_type": "code",
   "execution_count": 24,
   "metadata": {},
   "outputs": [],
   "source": [
    "import pandas as pd\n",
    "import numpy as np"
   ]
  },
  {
   "cell_type": "code",
   "execution_count": 3,
   "metadata": {},
   "outputs": [],
   "source": [
    "###### 1 Min Data - 1 Step Forecasting ######"
   ]
  },
  {
   "cell_type": "code",
   "execution_count": 4,
   "metadata": {},
   "outputs": [],
   "source": [
    "def CreateData(data_c, shif, train_index):\n",
    "    data_c.drop(\"system_time\", axis = 1)\n",
    "    data_c['Next_mid'] = data_c.midpoint.shift(-shif)\n",
    "    data_c['Price_move'] = (data_c.Next_mid - data_c.midpoint) / data_c.midpoint\n",
    "    data_c.dropna(axis=0, inplace=True) #drop the last row which is now Nan\n",
    "\n",
    "    data_c['y'] = 0\n",
    "    data_c.loc[(data_c['Price_move'] < -0.001), 'y'] = 1\n",
    "    data_c.loc[(data_c['Price_move'] > 0.001), 'y'] = 2\n",
    "    data_c.drop(['Next_mid', 'midpoint', 'Price_move', \"system_time\", \"Return\"], axis=1, inplace=True)\n",
    "    Y = data_c.pop(\"y\")\n",
    "    \n",
    "    data_std = data_c\n",
    "\n",
    "    r, x = data_c.shape\n",
    "\n",
    "    for j in range(x):\n",
    "        m = data_c.iloc[:train_index,j].mean()\n",
    "        s = data_c.iloc[:train_index,j].std()\n",
    "        for i in range(r):\n",
    "            data_std.iloc[i,j] = (data_c.iloc[i,j] - m) / s\n",
    "    \n",
    "    return data_std, Y"
   ]
  },
  {
   "cell_type": "code",
   "execution_count": 25,
   "metadata": {},
   "outputs": [],
   "source": [
    "def CreateBidAskData(data_c):\n",
    "    bids = data_c.iloc[:,0:18]\n",
    "    asks = data_c.iloc[:,78:93]\n",
    "    data_bid_ask  = pd.concat([bids.reset_index(drop=True), asks], axis=1)\n",
    "    \n",
    "    return data_bid_ask\n",
    "    "
   ]
  },
  {
   "cell_type": "code",
   "execution_count": 26,
   "metadata": {},
   "outputs": [],
   "source": [
    "def CreateOderFlowData(data_c):\n",
    "    data_order_flow = data_c.iloc[:,:153]\n",
    "    \n",
    "    return(data_order_flow)"
   ]
  },
  {
   "cell_type": "code",
   "execution_count": 50,
   "metadata": {},
   "outputs": [
    {
     "data": {
      "text/plain": [
       "279.25"
      ]
     },
     "execution_count": 50,
     "metadata": {},
     "output_type": "execute_result"
    }
   ],
   "source": [
    "3351/12"
   ]
  },
  {
   "cell_type": "code",
   "execution_count": 51,
   "metadata": {},
   "outputs": [
    {
     "data": {
      "text/plain": [
       "2790"
      ]
     },
     "execution_count": 51,
     "metadata": {},
     "output_type": "execute_result"
    }
   ],
   "source": [
    "3350-280*2"
   ]
  },
  {
   "cell_type": "code",
   "execution_count": 52,
   "metadata": {},
   "outputs": [],
   "source": [
    "data_1min_std, Y_1min = CreateData(data_1min, 1, 14000)\n",
    "data_1min = pd.read_csv(\"data/final/1min/ADA.csv\")\n",
    "data_5min = pd.read_csv(\"data/final/5min/ADA.csv\")\n",
    "\n",
    "data_1min = pd.read_csv(\"data/final/1min/ADA.csv\")\n",
    "\n"
   ]
  },
  {
   "cell_type": "code",
   "execution_count": 53,
   "metadata": {},
   "outputs": [
    {
     "data": {
      "text/plain": [
       "0    9675\n",
       "2    3738\n",
       "1    3631\n",
       "Name: y, dtype: int64"
      ]
     },
     "execution_count": 53,
     "metadata": {},
     "output_type": "execute_result"
    }
   ],
   "source": [
    "Y_1min.value_counts()"
   ]
  },
  {
   "cell_type": "code",
   "execution_count": 27,
   "metadata": {},
   "outputs": [],
   "source": [
    "def CreateData(data_c, shif, train_index):\n",
    "    data_c.drop(\"system_time\", axis = 1)\n",
    "    data_c['Next_mid'] = data_c.midpoint.shift(-shif)\n",
    "    data_c['Price_move'] = (data_c.Next_mid - data_c.midpoint) / data_c.midpoint\n",
    "    data_c.dropna(axis=0, inplace=True) #drop the last row which is now Nan\n",
    "\n",
    "    data_c['y'] = 0\n",
    "    data_c.loc[(data_c['Price_move'] < -0.002), 'y'] = 1\n",
    "    data_c.loc[(data_c['Price_move'] > 0.002), 'y'] = 2\n",
    "    data_c.drop(['Next_mid', 'midpoint', 'Price_move', \"system_time\", \"Return\"], axis=1, inplace=True)\n",
    "    Y = data_c.pop(\"y\")\n",
    "    \n",
    "    data_std = data_c\n",
    "\n",
    "    r, x = data_c.shape\n",
    "\n",
    "    for j in range(x):\n",
    "        m = data_c.iloc[:train_index,j].mean()\n",
    "        s = data_c.iloc[:train_index,j].std()\n",
    "        for i in range(r):\n",
    "            data_std.iloc[i,j] = (data_c.iloc[i,j] - m) / s\n",
    "    \n",
    "    return data_std, Y"
   ]
  },
  {
   "cell_type": "code",
   "execution_count": 30,
   "metadata": {},
   "outputs": [],
   "source": [
    "data_1min = pd.read_csv(\"data/final/1min/ADA.csv\")\n",
    "data_5min = pd.read_csv(\"data/final/5min/ADA.csv\")\n",
    "\n",
    "data_1min_5_std, Y_1_5min = CreateData(data_1min, 5, 14000)\n",
    "data_5min_std, Y_5min = CreateData(data_5min, 1, 2790)\n",
    "\n",
    "\n",
    "data_1min_5_std.to_csv(\"data/final/1min/HF/ADA_std_5.csv\", index = False)\n",
    "Y_1_5min.to_csv(\"data/final/1min/ADA_Y_5_std.csv\", index = False)\n",
    "\n",
    "OrderFlow1_5 = CreateOderFlowData(data_1min_5_std)\n",
    "OrderFlow1_5.to_csv(\"data/final/1min/OrderFlow/ADA_std_5.csv\", index = False)\n",
    "\n",
    "BidAsk1_5 = CreateBidAskData(data_1min_5_std)\n",
    "BidAsk1_5.to_csv(\"data/final/1min/BidAsk/ADA_std_5.csv\", index = False)\n",
    "\n",
    "data_5min_std.to_csv(\"data/final/5min/HF/ADA_std.csv\", index = False)\n",
    "Y_5min.to_csv(\"data/final/5min/ADA_Y_std.csv\", index = False)\n",
    "\n",
    "OrderFlow5 = CreateOderFlowData(data_5min_std)\n",
    "OrderFlow5.to_csv(\"data/final/5min/OrderFlow/ADA_std.csv\", index = False)\n",
    "\n",
    "BidAsk5 = CreateBidAskData(data_5min_std)\n",
    "BidAsk5.to_csv(\"data/final/5min/BidAsk/ADA_std.csv\", index = False)\n"
   ]
  },
  {
   "cell_type": "code",
   "execution_count": 22,
   "metadata": {},
   "outputs": [
    {
     "data": {
      "text/plain": [
       "0    2126\n",
       "2     623\n",
       "1     599\n",
       "Name: y, dtype: int64"
      ]
     },
     "execution_count": 22,
     "metadata": {},
     "output_type": "execute_result"
    }
   ],
   "source": [
    "Y_5min.value_counts()"
   ]
  },
  {
   "cell_type": "code",
   "execution_count": 57,
   "metadata": {},
   "outputs": [],
   "source": [
    "data_1min_std.to_csv(\"data/final/1min/HF/ADA_std.csv\", index = False)\n",
    "Y_1min.to_csv(\"data/final/1min/ADA_Y_std.csv\", index = False)\n",
    "\n",
    "OrderFlow1 = CreateOderFlowData(data_1min_std)\n",
    "OrderFlow1.to_csv(\"data/final/1min/OrderFlow/ADA_std.csv\", index = False)\n",
    "\n",
    "BidAsk1 = CreateBidAskData(data_1min_std)\n",
    "BidAsk1.to_csv(\"data/final/1min/BidAsk/ADA_std.csv\", index = False)\n"
   ]
  }
 ],
 "metadata": {
  "kernelspec": {
   "display_name": "Python 3",
   "language": "python",
   "name": "python3"
  },
  "language_info": {
   "codemirror_mode": {
    "name": "ipython",
    "version": 3
   },
   "file_extension": ".py",
   "mimetype": "text/x-python",
   "name": "python",
   "nbconvert_exporter": "python",
   "pygments_lexer": "ipython3",
   "version": "3.8.8"
  }
 },
 "nbformat": 4,
 "nbformat_minor": 4
}
