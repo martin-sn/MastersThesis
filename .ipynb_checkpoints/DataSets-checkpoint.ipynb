{
 "cells": [
  {
   "cell_type": "code",
   "execution_count": 318,
   "metadata": {},
   "outputs": [],
   "source": [
    "import pandas as pd\n",
    "import numpy as np"
   ]
  },
  {
   "cell_type": "code",
   "execution_count": 319,
   "metadata": {},
   "outputs": [],
   "source": [
    "###### 1 Min Data - 1 Step Forecasting ######"
   ]
  },
  {
   "cell_type": "code",
   "execution_count": 356,
   "metadata": {},
   "outputs": [],
   "source": [
    "def CreateData(data_c, shif, train_index):\n",
    "    data_c.drop(\"system_time\", axis = 1)\n",
    "    data_c['Next_mid'] = data_c.midpoint.shift(-shif)\n",
    "    data_c['Price_move'] = (data_c.Next_mid - data_c.midpoint) / data_c.midpoint\n",
    "    data_c.dropna(axis=0, inplace=True) #drop the last row which is now Nan\n",
    "\n",
    "    data_c['y'] = 0\n",
    "    data_c.loc[(data_c['Price_move'] < -0.0005), 'y'] = 1\n",
    "    data_c.loc[(data_c['Price_move'] > 0.0005), 'y'] = 2\n",
    "    data_c.drop(['Next_mid', 'midpoint', 'Price_move', \"system_time\", \"Return\"], axis=1, inplace=True)\n",
    "    Y = data_c.pop(\"y\")\n",
    "    \n",
    "    data_std = data_c\n",
    "\n",
    "    r, x = data_c.shape\n",
    "\n",
    "    for j in range(x):\n",
    "        m = data_c.iloc[:train_index,j].mean()\n",
    "        s = data_c.iloc[:train_index,j].std()\n",
    "        for i in range(r):\n",
    "            data_std.iloc[i,j] = (data_c.iloc[i,j] - m) / s\n",
    "    \n",
    "    return data_std, Y"
   ]
  },
  {
   "cell_type": "code",
   "execution_count": 350,
   "metadata": {},
   "outputs": [],
   "source": [
    "def CreateBidAskData(data_c):\n",
    "    bids = data_c.iloc[:,0:18]\n",
    "    asks = data_c.iloc[:,78:93]\n",
    "    data_bid_ask  = pd.concat([bids.reset_index(drop=True), asks], axis=1)\n",
    "    \n",
    "    return data_bid_ask\n",
    "    "
   ]
  },
  {
   "cell_type": "code",
   "execution_count": 352,
   "metadata": {},
   "outputs": [],
   "source": [
    "def CreateOderFlowData(data_c):\n",
    "    data_order_flow = data_c.iloc[:,:153]\n",
    "    \n",
    "    return(data_order_flow)"
   ]
  },
  {
   "cell_type": "code",
   "execution_count": 361,
   "metadata": {},
   "outputs": [],
   "source": [
    "data_1min = pd.read_csv(\"data/final/1min/BTC.csv\")\n",
    "data_5min = pd.read_csv(\"data/final/5min/BTC.csv\")"
   ]
  },
  {
   "cell_type": "code",
   "execution_count": 359,
   "metadata": {},
   "outputs": [],
   "source": [
    "data_1min_std, Y_1min = CreateData(data_1min, 1, 14000)\n",
    "data_5min_std, Y_5min = CreateData(data_5min, 1, 14000)\n",
    "data_1min_5_std, Y_1_5min = CreateData(data_1min, 5, 14000)"
   ]
  },
  {
   "cell_type": "code",
   "execution_count": 325,
   "metadata": {},
   "outputs": [],
   "source": [
    "data_1min_std.to_csv(\"data/final/1min/HF/BTC_std.csv\", index = False)\n",
    "data_5min_std.to_csv(\"data/final/5min/HF/BTC_std.csv\", index = False)\n",
    "data_1min_5_std.to_csv(\"data/final/1min/HF/BTC_std_5.csv\", index = False)"
   ]
  },
  {
   "cell_type": "code",
   "execution_count": null,
   "metadata": {},
   "outputs": [],
   "source": []
  },
  {
   "cell_type": "code",
   "execution_count": 326,
   "metadata": {},
   "outputs": [],
   "source": [
    "Y.to_csv(\"data/final/5min/BidAsk/BTC_Y_std.csv\", index = False)"
   ]
  },
  {
   "cell_type": "code",
   "execution_count": 327,
   "metadata": {},
   "outputs": [],
   "source": [
    "data_order_flow = data_c.iloc[:,:153]"
   ]
  },
  {
   "cell_type": "code",
   "execution_count": 329,
   "metadata": {},
   "outputs": [],
   "source": [
    "data_std_order.to_csv(\"data/final/5min/OrderFlow/BTC_std.csv\", index = False)"
   ]
  },
  {
   "cell_type": "code",
   "execution_count": 330,
   "metadata": {},
   "outputs": [],
   "source": [
    "data_hf = data_c"
   ]
  },
  {
   "cell_type": "code",
   "execution_count": 332,
   "metadata": {},
   "outputs": [],
   "source": [
    "data_std_hf.to_csv(\"data/final/5min/HF/BTC_std.csv\", index = False)"
   ]
  },
  {
   "cell_type": "code",
   "execution_count": null,
   "metadata": {},
   "outputs": [],
   "source": []
  }
 ],
 "metadata": {
  "kernelspec": {
   "display_name": "Python 3",
   "language": "python",
   "name": "python3"
  },
  "language_info": {
   "codemirror_mode": {
    "name": "ipython",
    "version": 3
   },
   "file_extension": ".py",
   "mimetype": "text/x-python",
   "name": "python",
   "nbconvert_exporter": "python",
   "pygments_lexer": "ipython3",
   "version": "3.8.5"
  }
 },
 "nbformat": 4,
 "nbformat_minor": 4
}
