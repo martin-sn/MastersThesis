{
 "cells": [
  {
   "cell_type": "code",
   "execution_count": 42,
   "metadata": {},
   "outputs": [],
   "source": [
    "import pandas as pd\n",
    "import numpy as np"
   ]
  },
  {
   "cell_type": "code",
   "execution_count": 43,
   "metadata": {},
   "outputs": [],
   "source": [
    "###### 1 Min Data - 1 Step Forecasting ######"
   ]
  },
  {
   "cell_type": "code",
   "execution_count": 44,
   "metadata": {},
   "outputs": [],
   "source": [
    "def CreateData(data_c, shif, train_index):\n",
    "    data_c.drop(\"system_time\", axis = 1)\n",
    "    data_c['Next_mid'] = data_c.midpoint.shift(-shif)\n",
    "    data_c['Price_move'] = (data_c.Next_mid - data_c.midpoint) / data_c.midpoint\n",
    "    data_c.dropna(axis=0, inplace=True) #drop the last row which is now Nan\n",
    "\n",
    "    data_c['y'] = 0\n",
    "    data_c.loc[(data_c['Price_move'] < -0.001), 'y'] = 1\n",
    "    data_c.loc[(data_c['Price_move'] > 0.001), 'y'] = 2\n",
    "    data_c.drop(['Next_mid', 'midpoint', 'Price_move', \"system_time\", \"Return\"], axis=1, inplace=True)\n",
    "    Y = data_c.pop(\"y\")\n",
    "    \n",
    "    data_std = data_c\n",
    "\n",
    "    r, x = data_c.shape\n",
    "\n",
    "    for j in range(x):\n",
    "        m = data_c.iloc[:train_index,j].mean()\n",
    "        s = data_c.iloc[:train_index,j].std()\n",
    "        for i in range(r):\n",
    "            data_std.iloc[i,j] = (data_c.iloc[i,j] - m) / s\n",
    "    \n",
    "    return data_std, Y"
   ]
  },
  {
   "cell_type": "code",
   "execution_count": 45,
   "metadata": {},
   "outputs": [],
   "source": [
    "def CreateBidAskData(data_c):\n",
    "    bids = data_c.iloc[:,0:18]\n",
    "    asks = data_c.iloc[:,78:93]\n",
    "    data_bid_ask  = pd.concat([bids.reset_index(drop=True), asks], axis=1)\n",
    "    \n",
    "    return data_bid_ask\n",
    "    "
   ]
  },
  {
   "cell_type": "code",
   "execution_count": 46,
   "metadata": {},
   "outputs": [],
   "source": [
    "def CreateOderFlowData(data_c):\n",
    "    data_order_flow = data_c.iloc[:,:153]\n",
    "    \n",
    "    return(data_order_flow)"
   ]
  },
  {
   "cell_type": "code",
   "execution_count": 47,
   "metadata": {},
   "outputs": [],
   "source": [
    "data_1min = pd.read_csv(\"data/final/1min/ADA.csv\")\n",
    "data_5min = pd.read_csv(\"data/final/5min/ADA.csv\")"
   ]
  },
  {
   "cell_type": "code",
   "execution_count": 48,
   "metadata": {},
   "outputs": [
    {
     "data": {
      "text/html": [
       "<div>\n",
       "<style scoped>\n",
       "    .dataframe tbody tr th:only-of-type {\n",
       "        vertical-align: middle;\n",
       "    }\n",
       "\n",
       "    .dataframe tbody tr th {\n",
       "        vertical-align: top;\n",
       "    }\n",
       "\n",
       "    .dataframe thead th {\n",
       "        text-align: right;\n",
       "    }\n",
       "</style>\n",
       "<table border=\"1\" class=\"dataframe\">\n",
       "  <thead>\n",
       "    <tr style=\"text-align: right;\">\n",
       "      <th></th>\n",
       "      <th>system_time</th>\n",
       "      <th>midpoint</th>\n",
       "      <th>spread</th>\n",
       "      <th>buys</th>\n",
       "      <th>sells</th>\n",
       "      <th>bids_distance_0</th>\n",
       "      <th>bids_distance_1</th>\n",
       "      <th>bids_distance_2</th>\n",
       "      <th>bids_distance_3</th>\n",
       "      <th>bids_distance_4</th>\n",
       "      <th>...</th>\n",
       "      <th>RK</th>\n",
       "      <th>PreAvg</th>\n",
       "      <th>JV</th>\n",
       "      <th>PJ</th>\n",
       "      <th>SV</th>\n",
       "      <th>ASV</th>\n",
       "      <th>RQ</th>\n",
       "      <th>RQTri</th>\n",
       "      <th>RQQuad</th>\n",
       "      <th>NV</th>\n",
       "    </tr>\n",
       "  </thead>\n",
       "  <tbody>\n",
       "    <tr>\n",
       "      <th>0</th>\n",
       "      <td>2021-04-07 12:52:59.055697+00:00</td>\n",
       "      <td>1.18950</td>\n",
       "      <td>0.0006</td>\n",
       "      <td>167316.421241</td>\n",
       "      <td>146494.881971</td>\n",
       "      <td>-0.000252</td>\n",
       "      <td>-0.000504</td>\n",
       "      <td>-0.000588</td>\n",
       "      <td>-0.000757</td>\n",
       "      <td>-0.000841</td>\n",
       "      <td>...</td>\n",
       "      <td>0.000105</td>\n",
       "      <td>-0.000019</td>\n",
       "      <td>0.0</td>\n",
       "      <td>0.0</td>\n",
       "      <td>5.140600e-06</td>\n",
       "      <td>0.000029</td>\n",
       "      <td>3.154452e-06</td>\n",
       "      <td>4.580964e-07</td>\n",
       "      <td>3.249198e-07</td>\n",
       "      <td>0.000021</td>\n",
       "    </tr>\n",
       "    <tr>\n",
       "      <th>1</th>\n",
       "      <td>2021-04-07 12:57:59.055697+00:00</td>\n",
       "      <td>1.19220</td>\n",
       "      <td>0.0002</td>\n",
       "      <td>225174.698211</td>\n",
       "      <td>154055.431994</td>\n",
       "      <td>-0.000084</td>\n",
       "      <td>-0.000168</td>\n",
       "      <td>-0.000252</td>\n",
       "      <td>-0.000336</td>\n",
       "      <td>-0.000419</td>\n",
       "      <td>...</td>\n",
       "      <td>0.000352</td>\n",
       "      <td>-0.000014</td>\n",
       "      <td>0.0</td>\n",
       "      <td>0.0</td>\n",
       "      <td>1.098163e-06</td>\n",
       "      <td>0.000021</td>\n",
       "      <td>1.753774e-06</td>\n",
       "      <td>2.541538e-07</td>\n",
       "      <td>2.885373e-07</td>\n",
       "      <td>0.000020</td>\n",
       "    </tr>\n",
       "    <tr>\n",
       "      <th>2</th>\n",
       "      <td>2021-04-07 13:02:59.055697+00:00</td>\n",
       "      <td>1.19345</td>\n",
       "      <td>0.0013</td>\n",
       "      <td>207601.867885</td>\n",
       "      <td>172724.620118</td>\n",
       "      <td>-0.000545</td>\n",
       "      <td>-0.000628</td>\n",
       "      <td>-0.000712</td>\n",
       "      <td>-0.000880</td>\n",
       "      <td>-0.001131</td>\n",
       "      <td>...</td>\n",
       "      <td>0.000225</td>\n",
       "      <td>-0.000010</td>\n",
       "      <td>0.0</td>\n",
       "      <td>0.0</td>\n",
       "      <td>8.575423e-06</td>\n",
       "      <td>0.000016</td>\n",
       "      <td>1.128024e-06</td>\n",
       "      <td>1.633196e-07</td>\n",
       "      <td>2.579751e-07</td>\n",
       "      <td>0.000015</td>\n",
       "    </tr>\n",
       "    <tr>\n",
       "      <th>3</th>\n",
       "      <td>2021-04-07 13:07:59.055697+00:00</td>\n",
       "      <td>1.19695</td>\n",
       "      <td>0.0011</td>\n",
       "      <td>276967.880405</td>\n",
       "      <td>261804.113318</td>\n",
       "      <td>-0.000460</td>\n",
       "      <td>-0.000543</td>\n",
       "      <td>-0.000710</td>\n",
       "      <td>-0.000794</td>\n",
       "      <td>-0.000877</td>\n",
       "      <td>...</td>\n",
       "      <td>0.000254</td>\n",
       "      <td>-0.000009</td>\n",
       "      <td>0.0</td>\n",
       "      <td>0.0</td>\n",
       "      <td>9.784793e-06</td>\n",
       "      <td>0.000014</td>\n",
       "      <td>9.890948e-07</td>\n",
       "      <td>1.421479e-07</td>\n",
       "      <td>2.214980e-07</td>\n",
       "      <td>0.000011</td>\n",
       "    </tr>\n",
       "    <tr>\n",
       "      <th>4</th>\n",
       "      <td>2021-04-07 13:12:59.055697+00:00</td>\n",
       "      <td>1.20070</td>\n",
       "      <td>0.0004</td>\n",
       "      <td>126267.772824</td>\n",
       "      <td>99449.433003</td>\n",
       "      <td>-0.000167</td>\n",
       "      <td>-0.000583</td>\n",
       "      <td>-0.000666</td>\n",
       "      <td>-0.000916</td>\n",
       "      <td>-0.000999</td>\n",
       "      <td>...</td>\n",
       "      <td>0.000500</td>\n",
       "      <td>-0.000007</td>\n",
       "      <td>0.0</td>\n",
       "      <td>0.0</td>\n",
       "      <td>6.258348e-06</td>\n",
       "      <td>0.000010</td>\n",
       "      <td>5.863093e-07</td>\n",
       "      <td>8.164674e-08</td>\n",
       "      <td>1.226600e-07</td>\n",
       "      <td>0.000010</td>\n",
       "    </tr>\n",
       "    <tr>\n",
       "      <th>...</th>\n",
       "      <td>...</td>\n",
       "      <td>...</td>\n",
       "      <td>...</td>\n",
       "      <td>...</td>\n",
       "      <td>...</td>\n",
       "      <td>...</td>\n",
       "      <td>...</td>\n",
       "      <td>...</td>\n",
       "      <td>...</td>\n",
       "      <td>...</td>\n",
       "      <td>...</td>\n",
       "      <td>...</td>\n",
       "      <td>...</td>\n",
       "      <td>...</td>\n",
       "      <td>...</td>\n",
       "      <td>...</td>\n",
       "      <td>...</td>\n",
       "      <td>...</td>\n",
       "      <td>...</td>\n",
       "      <td>...</td>\n",
       "      <td>...</td>\n",
       "    </tr>\n",
       "    <tr>\n",
       "      <th>3346</th>\n",
       "      <td>2021-04-19 09:20:00.442103+00:00</td>\n",
       "      <td>1.26760</td>\n",
       "      <td>0.0008</td>\n",
       "      <td>33206.342863</td>\n",
       "      <td>52792.581120</td>\n",
       "      <td>-0.000316</td>\n",
       "      <td>-0.000394</td>\n",
       "      <td>-0.000473</td>\n",
       "      <td>-0.000552</td>\n",
       "      <td>-0.000789</td>\n",
       "      <td>...</td>\n",
       "      <td>0.000255</td>\n",
       "      <td>-0.000015</td>\n",
       "      <td>0.0</td>\n",
       "      <td>0.0</td>\n",
       "      <td>3.577968e-06</td>\n",
       "      <td>0.000023</td>\n",
       "      <td>2.173087e-06</td>\n",
       "      <td>3.142804e-07</td>\n",
       "      <td>1.300461e-07</td>\n",
       "      <td>0.000019</td>\n",
       "    </tr>\n",
       "    <tr>\n",
       "      <th>3347</th>\n",
       "      <td>2021-04-19 09:25:00.442103+00:00</td>\n",
       "      <td>1.27000</td>\n",
       "      <td>0.0008</td>\n",
       "      <td>65347.061121</td>\n",
       "      <td>91306.476898</td>\n",
       "      <td>-0.000315</td>\n",
       "      <td>-0.000394</td>\n",
       "      <td>-0.000709</td>\n",
       "      <td>-0.000787</td>\n",
       "      <td>-0.000866</td>\n",
       "      <td>...</td>\n",
       "      <td>0.000107</td>\n",
       "      <td>-0.000014</td>\n",
       "      <td>0.0</td>\n",
       "      <td>0.0</td>\n",
       "      <td>6.199524e-09</td>\n",
       "      <td>0.000021</td>\n",
       "      <td>2.054053e-06</td>\n",
       "      <td>2.967316e-07</td>\n",
       "      <td>1.281094e-07</td>\n",
       "      <td>0.000019</td>\n",
       "    </tr>\n",
       "    <tr>\n",
       "      <th>3348</th>\n",
       "      <td>2021-04-19 09:30:00.442103+00:00</td>\n",
       "      <td>1.27010</td>\n",
       "      <td>0.0006</td>\n",
       "      <td>57570.223597</td>\n",
       "      <td>43808.038077</td>\n",
       "      <td>-0.000236</td>\n",
       "      <td>-0.000315</td>\n",
       "      <td>-0.000472</td>\n",
       "      <td>-0.000787</td>\n",
       "      <td>-0.000945</td>\n",
       "      <td>...</td>\n",
       "      <td>0.000083</td>\n",
       "      <td>-0.000012</td>\n",
       "      <td>0.0</td>\n",
       "      <td>0.0</td>\n",
       "      <td>5.752836e-06</td>\n",
       "      <td>0.000019</td>\n",
       "      <td>1.919410e-06</td>\n",
       "      <td>2.786151e-07</td>\n",
       "      <td>1.174656e-07</td>\n",
       "      <td>0.000017</td>\n",
       "    </tr>\n",
       "    <tr>\n",
       "      <th>3349</th>\n",
       "      <td>2021-04-19 09:35:00.442103+00:00</td>\n",
       "      <td>1.27315</td>\n",
       "      <td>0.0007</td>\n",
       "      <td>101466.684214</td>\n",
       "      <td>70765.245668</td>\n",
       "      <td>-0.000275</td>\n",
       "      <td>-0.000353</td>\n",
       "      <td>-0.000511</td>\n",
       "      <td>-0.000589</td>\n",
       "      <td>-0.000668</td>\n",
       "      <td>...</td>\n",
       "      <td>0.000216</td>\n",
       "      <td>-0.000007</td>\n",
       "      <td>0.0</td>\n",
       "      <td>0.0</td>\n",
       "      <td>3.696051e-06</td>\n",
       "      <td>0.000011</td>\n",
       "      <td>4.285714e-07</td>\n",
       "      <td>6.157737e-08</td>\n",
       "      <td>1.012418e-07</td>\n",
       "      <td>0.000015</td>\n",
       "    </tr>\n",
       "    <tr>\n",
       "      <th>3350</th>\n",
       "      <td>2021-04-19 09:40:00.442103+00:00</td>\n",
       "      <td>1.27560</td>\n",
       "      <td>0.0010</td>\n",
       "      <td>92889.088477</td>\n",
       "      <td>121347.599926</td>\n",
       "      <td>-0.000392</td>\n",
       "      <td>-0.000470</td>\n",
       "      <td>-0.000549</td>\n",
       "      <td>-0.000627</td>\n",
       "      <td>-0.000784</td>\n",
       "      <td>...</td>\n",
       "      <td>0.000092</td>\n",
       "      <td>-0.000005</td>\n",
       "      <td>0.0</td>\n",
       "      <td>0.0</td>\n",
       "      <td>3.400223e-06</td>\n",
       "      <td>0.000009</td>\n",
       "      <td>3.020591e-07</td>\n",
       "      <td>4.290979e-08</td>\n",
       "      <td>5.262861e-08</td>\n",
       "      <td>0.000009</td>\n",
       "    </tr>\n",
       "  </tbody>\n",
       "</table>\n",
       "<p>3351 rows × 170 columns</p>\n",
       "</div>"
      ],
      "text/plain": [
       "                           system_time  midpoint  spread           buys  \\\n",
       "0     2021-04-07 12:52:59.055697+00:00   1.18950  0.0006  167316.421241   \n",
       "1     2021-04-07 12:57:59.055697+00:00   1.19220  0.0002  225174.698211   \n",
       "2     2021-04-07 13:02:59.055697+00:00   1.19345  0.0013  207601.867885   \n",
       "3     2021-04-07 13:07:59.055697+00:00   1.19695  0.0011  276967.880405   \n",
       "4     2021-04-07 13:12:59.055697+00:00   1.20070  0.0004  126267.772824   \n",
       "...                                ...       ...     ...            ...   \n",
       "3346  2021-04-19 09:20:00.442103+00:00   1.26760  0.0008   33206.342863   \n",
       "3347  2021-04-19 09:25:00.442103+00:00   1.27000  0.0008   65347.061121   \n",
       "3348  2021-04-19 09:30:00.442103+00:00   1.27010  0.0006   57570.223597   \n",
       "3349  2021-04-19 09:35:00.442103+00:00   1.27315  0.0007  101466.684214   \n",
       "3350  2021-04-19 09:40:00.442103+00:00   1.27560  0.0010   92889.088477   \n",
       "\n",
       "              sells  bids_distance_0  bids_distance_1  bids_distance_2  \\\n",
       "0     146494.881971        -0.000252        -0.000504        -0.000588   \n",
       "1     154055.431994        -0.000084        -0.000168        -0.000252   \n",
       "2     172724.620118        -0.000545        -0.000628        -0.000712   \n",
       "3     261804.113318        -0.000460        -0.000543        -0.000710   \n",
       "4      99449.433003        -0.000167        -0.000583        -0.000666   \n",
       "...             ...              ...              ...              ...   \n",
       "3346   52792.581120        -0.000316        -0.000394        -0.000473   \n",
       "3347   91306.476898        -0.000315        -0.000394        -0.000709   \n",
       "3348   43808.038077        -0.000236        -0.000315        -0.000472   \n",
       "3349   70765.245668        -0.000275        -0.000353        -0.000511   \n",
       "3350  121347.599926        -0.000392        -0.000470        -0.000549   \n",
       "\n",
       "      bids_distance_3  bids_distance_4  ...        RK    PreAvg   JV   PJ  \\\n",
       "0           -0.000757        -0.000841  ...  0.000105 -0.000019  0.0  0.0   \n",
       "1           -0.000336        -0.000419  ...  0.000352 -0.000014  0.0  0.0   \n",
       "2           -0.000880        -0.001131  ...  0.000225 -0.000010  0.0  0.0   \n",
       "3           -0.000794        -0.000877  ...  0.000254 -0.000009  0.0  0.0   \n",
       "4           -0.000916        -0.000999  ...  0.000500 -0.000007  0.0  0.0   \n",
       "...               ...              ...  ...       ...       ...  ...  ...   \n",
       "3346        -0.000552        -0.000789  ...  0.000255 -0.000015  0.0  0.0   \n",
       "3347        -0.000787        -0.000866  ...  0.000107 -0.000014  0.0  0.0   \n",
       "3348        -0.000787        -0.000945  ...  0.000083 -0.000012  0.0  0.0   \n",
       "3349        -0.000589        -0.000668  ...  0.000216 -0.000007  0.0  0.0   \n",
       "3350        -0.000627        -0.000784  ...  0.000092 -0.000005  0.0  0.0   \n",
       "\n",
       "                SV       ASV            RQ         RQTri        RQQuad  \\\n",
       "0     5.140600e-06  0.000029  3.154452e-06  4.580964e-07  3.249198e-07   \n",
       "1     1.098163e-06  0.000021  1.753774e-06  2.541538e-07  2.885373e-07   \n",
       "2     8.575423e-06  0.000016  1.128024e-06  1.633196e-07  2.579751e-07   \n",
       "3     9.784793e-06  0.000014  9.890948e-07  1.421479e-07  2.214980e-07   \n",
       "4     6.258348e-06  0.000010  5.863093e-07  8.164674e-08  1.226600e-07   \n",
       "...            ...       ...           ...           ...           ...   \n",
       "3346  3.577968e-06  0.000023  2.173087e-06  3.142804e-07  1.300461e-07   \n",
       "3347  6.199524e-09  0.000021  2.054053e-06  2.967316e-07  1.281094e-07   \n",
       "3348  5.752836e-06  0.000019  1.919410e-06  2.786151e-07  1.174656e-07   \n",
       "3349  3.696051e-06  0.000011  4.285714e-07  6.157737e-08  1.012418e-07   \n",
       "3350  3.400223e-06  0.000009  3.020591e-07  4.290979e-08  5.262861e-08   \n",
       "\n",
       "            NV  \n",
       "0     0.000021  \n",
       "1     0.000020  \n",
       "2     0.000015  \n",
       "3     0.000011  \n",
       "4     0.000010  \n",
       "...        ...  \n",
       "3346  0.000019  \n",
       "3347  0.000019  \n",
       "3348  0.000017  \n",
       "3349  0.000015  \n",
       "3350  0.000009  \n",
       "\n",
       "[3351 rows x 170 columns]"
      ]
     },
     "execution_count": 48,
     "metadata": {},
     "output_type": "execute_result"
    }
   ],
   "source": [
    "data_5min"
   ]
  },
  {
   "cell_type": "code",
   "execution_count": 49,
   "metadata": {},
   "outputs": [
    {
     "data": {
      "text/plain": [
       "(3351, 170)"
      ]
     },
     "execution_count": 49,
     "metadata": {},
     "output_type": "execute_result"
    }
   ],
   "source": [
    "data_5min.shape"
   ]
  },
  {
   "cell_type": "code",
   "execution_count": 50,
   "metadata": {},
   "outputs": [
    {
     "data": {
      "text/plain": [
       "279.25"
      ]
     },
     "execution_count": 50,
     "metadata": {},
     "output_type": "execute_result"
    }
   ],
   "source": [
    "3351/12"
   ]
  },
  {
   "cell_type": "code",
   "execution_count": 51,
   "metadata": {},
   "outputs": [
    {
     "data": {
      "text/plain": [
       "2790"
      ]
     },
     "execution_count": 51,
     "metadata": {},
     "output_type": "execute_result"
    }
   ],
   "source": [
    "3350-280*2"
   ]
  },
  {
   "cell_type": "code",
   "execution_count": 52,
   "metadata": {},
   "outputs": [],
   "source": [
    "data_1min_std, Y_1min = CreateData(data_1min, 1, 14000)\n",
    "data_1min = pd.read_csv(\"data/final/1min/ADA.csv\")\n",
    "data_5min = pd.read_csv(\"data/final/5min/ADA.csv\")\n",
    "\n",
    "data_1min = pd.read_csv(\"data/final/1min/ADA.csv\")\n",
    "\n",
    "data_1min_5_std, Y_1_5min = CreateData(data_1min, 5, 14000)"
   ]
  },
  {
   "cell_type": "code",
   "execution_count": 53,
   "metadata": {},
   "outputs": [
    {
     "data": {
      "text/plain": [
       "0    9675\n",
       "2    3738\n",
       "1    3631\n",
       "Name: y, dtype: int64"
      ]
     },
     "execution_count": 53,
     "metadata": {},
     "output_type": "execute_result"
    }
   ],
   "source": [
    "Y_1min.value_counts()"
   ]
  },
  {
   "cell_type": "code",
   "execution_count": 54,
   "metadata": {},
   "outputs": [],
   "source": [
    "def CreateData(data_c, shif, train_index):\n",
    "    data_c.drop(\"system_time\", axis = 1)\n",
    "    data_c['Next_mid'] = data_c.midpoint.shift(-shif)\n",
    "    data_c['Price_move'] = (data_c.Next_mid - data_c.midpoint) / data_c.midpoint\n",
    "    data_c.dropna(axis=0, inplace=True) #drop the last row which is now Nan\n",
    "\n",
    "    data_c['y'] = 0\n",
    "    data_c.loc[(data_c['Price_move'] < -0.001), 'y'] = 1\n",
    "    data_c.loc[(data_c['Price_move'] > 0.001), 'y'] = 2\n",
    "    data_c.drop(['Next_mid', 'midpoint', 'Price_move', \"system_time\", \"Return\"], axis=1, inplace=True)\n",
    "    Y = data_c.pop(\"y\")\n",
    "    \n",
    "    data_std = data_c\n",
    "\n",
    "    r, x = data_c.shape\n",
    "\n",
    "    for j in range(x):\n",
    "        m = data_c.iloc[:train_index,j].mean()\n",
    "        s = data_c.iloc[:train_index,j].std()\n",
    "        for i in range(r):\n",
    "            data_std.iloc[i,j] = (data_c.iloc[i,j] - m) / s\n",
    "    \n",
    "    return data_std, Y"
   ]
  },
  {
   "cell_type": "code",
   "execution_count": 55,
   "metadata": {},
   "outputs": [],
   "source": [
    "data_5min = pd.read_csv(\"data/final/5min/ADA.csv\")\n",
    "data_5min_std, Y_5min = CreateData(data_5min, 1, 2790)"
   ]
  },
  {
   "cell_type": "code",
   "execution_count": 56,
   "metadata": {},
   "outputs": [
    {
     "data": {
      "text/plain": [
       "2    1218\n",
       "1    1190\n",
       "0     942\n",
       "Name: y, dtype: int64"
      ]
     },
     "execution_count": 56,
     "metadata": {},
     "output_type": "execute_result"
    }
   ],
   "source": [
    "Y_5min.value_counts()"
   ]
  },
  {
   "cell_type": "code",
   "execution_count": 57,
   "metadata": {},
   "outputs": [],
   "source": [
    "data_1min_std.to_csv(\"data/final/1min/HF/ADA_std.csv\", index = False)\n",
    "data_1min_5_std.to_csv(\"data/final/1min/HF/ADA_std_5.csv\", index = False)"
   ]
  },
  {
   "cell_type": "code",
   "execution_count": 58,
   "metadata": {},
   "outputs": [],
   "source": [
    "data_5min_std.to_csv(\"data/final/5min/HF/ADA_std.csv\", index = False)"
   ]
  },
  {
   "cell_type": "code",
   "execution_count": 59,
   "metadata": {},
   "outputs": [],
   "source": [
    "Y_1min.to_csv(\"data/final/1min/ADA_Y_std.csv\", index = False)\n",
    "Y_1_5min.to_csv(\"data/final/1min/ADA_Y_5_std.csv\", index = False)\n"
   ]
  },
  {
   "cell_type": "code",
   "execution_count": 60,
   "metadata": {},
   "outputs": [],
   "source": [
    "Y_5min.to_csv(\"data/final/5min/ADA_Y_std.csv\", index = False)"
   ]
  },
  {
   "cell_type": "code",
   "execution_count": 61,
   "metadata": {},
   "outputs": [],
   "source": [
    "OrderFlow1 = CreateOderFlowData(data_1min_std)\n",
    "OrderFlow1_5 = CreateOderFlowData(data_1min_5_std)\n",
    "\n",
    "\n",
    "\n",
    "OrderFlow1.to_csv(\"data/final/1min/OrderFlow/ADA_std.csv\", index = False)\n",
    "OrderFlow1_5.to_csv(\"data/final/1min/OrderFlow/ADA_std_5.csv\", index = False)\n"
   ]
  },
  {
   "cell_type": "code",
   "execution_count": 62,
   "metadata": {},
   "outputs": [],
   "source": [
    "OrderFlow5 = CreateOderFlowData(data_5min_std)\n",
    "OrderFlow5.to_csv(\"data/final/5min/OrderFlow/ADA_std.csv\", index = False)"
   ]
  },
  {
   "cell_type": "code",
   "execution_count": 63,
   "metadata": {},
   "outputs": [],
   "source": [
    "BidAsk1 = CreateBidAskData(data_1min_std)\n",
    "BidAsk1_5 = CreateBidAskData(data_1min_5_std)\n",
    "\n",
    "BidAsk1.to_csv(\"data/final/1min/BidAsk/ADA_std.csv\", index = False)\n",
    "BidAsk1_5.to_csv(\"data/final/1min/BidAsk/ADA_std_5.csv\", index = False)\n"
   ]
  },
  {
   "cell_type": "code",
   "execution_count": 64,
   "metadata": {},
   "outputs": [],
   "source": [
    "BidAsk5 = CreateBidAskData(data_5min_std)\n",
    "BidAsk5.to_csv(\"data/final/5min/BidAsk/ADA_std.csv\", index = False)"
   ]
  },
  {
   "cell_type": "code",
   "execution_count": null,
   "metadata": {},
   "outputs": [],
   "source": []
  },
  {
   "cell_type": "code",
   "execution_count": null,
   "metadata": {},
   "outputs": [],
   "source": []
  }
 ],
 "metadata": {
  "kernelspec": {
   "display_name": "Python 3",
   "language": "python",
   "name": "python3"
  },
  "language_info": {
   "codemirror_mode": {
    "name": "ipython",
    "version": 3
   },
   "file_extension": ".py",
   "mimetype": "text/x-python",
   "name": "python",
   "nbconvert_exporter": "python",
   "pygments_lexer": "ipython3",
   "version": "3.8.8"
  }
 },
 "nbformat": 4,
 "nbformat_minor": 4
}
