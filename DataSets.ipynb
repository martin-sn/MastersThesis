{
 "cells": [
  {
   "cell_type": "code",
   "execution_count": 29,
   "metadata": {},
   "outputs": [],
   "source": [
    "import pandas as pd\n",
    "import numpy as np"
   ]
  },
  {
   "cell_type": "code",
   "execution_count": 30,
   "metadata": {},
   "outputs": [],
   "source": [
    "###### 1 Min Data - 1 Step Forecasting ######"
   ]
  },
  {
   "cell_type": "code",
   "execution_count": 31,
   "metadata": {},
   "outputs": [],
   "source": [
    "def CreateData(data_c, shif, train_index):\n",
    "    data_c.drop(\"system_time\", axis = 1)\n",
    "    data_c['Next_mid'] = data_c.midpoint.shift(-shif)\n",
    "    data_c['Price_move'] = (data_c.Next_mid - data_c.midpoint) / data_c.midpoint\n",
    "    data_c.dropna(axis=0, inplace=True) #drop the last row which is now Nan\n",
    "\n",
    "    data_c['y'] = 0\n",
    "    data_c.loc[(data_c['Price_move'] < -0.001), 'y'] = 1\n",
    "    data_c.loc[(data_c['Price_move'] > 0.001), 'y'] = 2\n",
    "    data_c.drop(['Next_mid', 'midpoint', 'Price_move', \"system_time\", \"Return\"], axis=1, inplace=True)\n",
    "    Y = data_c.pop(\"y\")\n",
    "    \n",
    "    data_std = data_c\n",
    "\n",
    "    r, x = data_c.shape\n",
    "\n",
    "    for j in range(x):\n",
    "        m = data_c.iloc[:train_index,j].mean()\n",
    "        s = data_c.iloc[:train_index,j].std()\n",
    "        for i in range(r):\n",
    "            data_std.iloc[i,j] = (data_c.iloc[i,j] - m) / s\n",
    "    \n",
    "    return data_std, Y"
   ]
  },
  {
   "cell_type": "code",
   "execution_count": 32,
   "metadata": {},
   "outputs": [],
   "source": [
    "def CreateBidAskData(data_c):\n",
    "    bids = data_c.iloc[:,0:18]\n",
    "    asks = data_c.iloc[:,78:93]\n",
    "    data_bid_ask  = pd.concat([bids.reset_index(drop=True), asks], axis=1)\n",
    "    \n",
    "    return data_bid_ask\n",
    "    "
   ]
  },
  {
   "cell_type": "code",
   "execution_count": 33,
   "metadata": {},
   "outputs": [],
   "source": [
    "def CreateOderFlowData(data_c):\n",
    "    data_order_flow = data_c.iloc[:,:153]\n",
    "    \n",
    "    return(data_order_flow)"
   ]
  },
  {
   "cell_type": "code",
   "execution_count": 34,
   "metadata": {},
   "outputs": [],
   "source": [
    "data_1min = pd.read_csv(\"data/final/1min/BTC.csv\")\n",
    "data_5min = pd.read_csv(\"data/final/5min/BTC.csv\")"
   ]
  },
  {
   "cell_type": "code",
   "execution_count": 35,
   "metadata": {},
   "outputs": [
    {
     "data": {
      "text/html": [
       "<div>\n",
       "<style scoped>\n",
       "    .dataframe tbody tr th:only-of-type {\n",
       "        vertical-align: middle;\n",
       "    }\n",
       "\n",
       "    .dataframe tbody tr th {\n",
       "        vertical-align: top;\n",
       "    }\n",
       "\n",
       "    .dataframe thead th {\n",
       "        text-align: right;\n",
       "    }\n",
       "</style>\n",
       "<table border=\"1\" class=\"dataframe\">\n",
       "  <thead>\n",
       "    <tr style=\"text-align: right;\">\n",
       "      <th></th>\n",
       "      <th>system_time</th>\n",
       "      <th>midpoint</th>\n",
       "      <th>spread</th>\n",
       "      <th>buys</th>\n",
       "      <th>sells</th>\n",
       "      <th>bids_distance_0</th>\n",
       "      <th>bids_distance_1</th>\n",
       "      <th>bids_distance_2</th>\n",
       "      <th>bids_distance_3</th>\n",
       "      <th>bids_distance_4</th>\n",
       "      <th>...</th>\n",
       "      <th>RK</th>\n",
       "      <th>PreAvg</th>\n",
       "      <th>JV</th>\n",
       "      <th>PJ</th>\n",
       "      <th>SV</th>\n",
       "      <th>ASV</th>\n",
       "      <th>RQ</th>\n",
       "      <th>RQTri</th>\n",
       "      <th>RQQuad</th>\n",
       "      <th>NV</th>\n",
       "    </tr>\n",
       "  </thead>\n",
       "  <tbody>\n",
       "    <tr>\n",
       "      <th>0</th>\n",
       "      <td>2021-04-07 12:52:41.122161+00:00</td>\n",
       "      <td>56440.805</td>\n",
       "      <td>0.01</td>\n",
       "      <td>5.171417e+06</td>\n",
       "      <td>2.174014e+06</td>\n",
       "      <td>-8.858839e-08</td>\n",
       "      <td>-6.156893e-05</td>\n",
       "      <td>-1.473225e-04</td>\n",
       "      <td>-0.000357</td>\n",
       "      <td>-0.000358</td>\n",
       "      <td>...</td>\n",
       "      <td>54816.870101</td>\n",
       "      <td>-0.000003</td>\n",
       "      <td>0.000000</td>\n",
       "      <td>0.000000</td>\n",
       "      <td>3.995435e-06</td>\n",
       "      <td>0.000004</td>\n",
       "      <td>7.192014e-08</td>\n",
       "      <td>9.243683e-09</td>\n",
       "      <td>2.818324e-09</td>\n",
       "      <td>6131.632817</td>\n",
       "    </tr>\n",
       "    <tr>\n",
       "      <th>1</th>\n",
       "      <td>2021-04-07 12:57:41.122161+00:00</td>\n",
       "      <td>56553.735</td>\n",
       "      <td>0.01</td>\n",
       "      <td>3.691003e+06</td>\n",
       "      <td>1.786106e+06</td>\n",
       "      <td>-8.841149e-08</td>\n",
       "      <td>-2.652345e-07</td>\n",
       "      <td>-9.725264e-07</td>\n",
       "      <td>-0.000038</td>\n",
       "      <td>-0.000052</td>\n",
       "      <td>...</td>\n",
       "      <td>146805.013079</td>\n",
       "      <td>-0.000003</td>\n",
       "      <td>0.000000</td>\n",
       "      <td>0.000000</td>\n",
       "      <td>3.162972e-06</td>\n",
       "      <td>0.000005</td>\n",
       "      <td>7.393567e-08</td>\n",
       "      <td>9.210710e-09</td>\n",
       "      <td>3.035693e-09</td>\n",
       "      <td>6965.551013</td>\n",
       "    </tr>\n",
       "    <tr>\n",
       "      <th>2</th>\n",
       "      <td>2021-04-07 13:02:41.122161+00:00</td>\n",
       "      <td>56453.245</td>\n",
       "      <td>0.01</td>\n",
       "      <td>4.135456e+06</td>\n",
       "      <td>3.622263e+06</td>\n",
       "      <td>-8.856887e-08</td>\n",
       "      <td>-2.571154e-04</td>\n",
       "      <td>-2.647323e-04</td>\n",
       "      <td>-0.000265</td>\n",
       "      <td>-0.000272</td>\n",
       "      <td>...</td>\n",
       "      <td>211591.248911</td>\n",
       "      <td>-0.000003</td>\n",
       "      <td>0.000000</td>\n",
       "      <td>0.000000</td>\n",
       "      <td>5.148534e-06</td>\n",
       "      <td>0.000005</td>\n",
       "      <td>7.321718e-08</td>\n",
       "      <td>1.009486e-08</td>\n",
       "      <td>3.248477e-09</td>\n",
       "      <td>7312.396113</td>\n",
       "    </tr>\n",
       "    <tr>\n",
       "      <th>3</th>\n",
       "      <td>2021-04-07 13:07:41.122161+00:00</td>\n",
       "      <td>56581.485</td>\n",
       "      <td>0.01</td>\n",
       "      <td>2.670256e+06</td>\n",
       "      <td>1.796536e+06</td>\n",
       "      <td>-8.836813e-08</td>\n",
       "      <td>-2.606860e-05</td>\n",
       "      <td>-2.624533e-05</td>\n",
       "      <td>-0.000037</td>\n",
       "      <td>-0.000037</td>\n",
       "      <td>...</td>\n",
       "      <td>167717.635532</td>\n",
       "      <td>-0.000003</td>\n",
       "      <td>0.000000</td>\n",
       "      <td>0.000000</td>\n",
       "      <td>2.431962e-07</td>\n",
       "      <td>0.000005</td>\n",
       "      <td>7.640872e-08</td>\n",
       "      <td>1.033797e-08</td>\n",
       "      <td>3.792979e-09</td>\n",
       "      <td>7224.027300</td>\n",
       "    </tr>\n",
       "    <tr>\n",
       "      <th>4</th>\n",
       "      <td>2021-04-07 13:12:41.122161+00:00</td>\n",
       "      <td>56609.395</td>\n",
       "      <td>0.01</td>\n",
       "      <td>2.285696e+06</td>\n",
       "      <td>8.870143e+05</td>\n",
       "      <td>-8.832456e-08</td>\n",
       "      <td>-2.649737e-07</td>\n",
       "      <td>-3.541815e-05</td>\n",
       "      <td>-0.000050</td>\n",
       "      <td>-0.000061</td>\n",
       "      <td>...</td>\n",
       "      <td>328190.278009</td>\n",
       "      <td>-0.000003</td>\n",
       "      <td>0.000000</td>\n",
       "      <td>0.000000</td>\n",
       "      <td>1.533561e-06</td>\n",
       "      <td>0.000004</td>\n",
       "      <td>5.972297e-08</td>\n",
       "      <td>8.121679e-09</td>\n",
       "      <td>3.583862e-09</td>\n",
       "      <td>7636.151300</td>\n",
       "    </tr>\n",
       "    <tr>\n",
       "      <th>...</th>\n",
       "      <td>...</td>\n",
       "      <td>...</td>\n",
       "      <td>...</td>\n",
       "      <td>...</td>\n",
       "      <td>...</td>\n",
       "      <td>...</td>\n",
       "      <td>...</td>\n",
       "      <td>...</td>\n",
       "      <td>...</td>\n",
       "      <td>...</td>\n",
       "      <td>...</td>\n",
       "      <td>...</td>\n",
       "      <td>...</td>\n",
       "      <td>...</td>\n",
       "      <td>...</td>\n",
       "      <td>...</td>\n",
       "      <td>...</td>\n",
       "      <td>...</td>\n",
       "      <td>...</td>\n",
       "      <td>...</td>\n",
       "      <td>...</td>\n",
       "    </tr>\n",
       "    <tr>\n",
       "      <th>3346</th>\n",
       "      <td>2021-04-19 09:25:00.386544+00:00</td>\n",
       "      <td>56875.045</td>\n",
       "      <td>0.01</td>\n",
       "      <td>3.338628e+05</td>\n",
       "      <td>3.432730e+05</td>\n",
       "      <td>-8.791202e-08</td>\n",
       "      <td>-3.138459e-05</td>\n",
       "      <td>-8.799993e-05</td>\n",
       "      <td>-0.000095</td>\n",
       "      <td>-0.000101</td>\n",
       "      <td>...</td>\n",
       "      <td>55980.964250</td>\n",
       "      <td>-0.000002</td>\n",
       "      <td>0.000000</td>\n",
       "      <td>0.000000</td>\n",
       "      <td>8.748612e-09</td>\n",
       "      <td>0.000003</td>\n",
       "      <td>4.156521e-08</td>\n",
       "      <td>5.683997e-09</td>\n",
       "      <td>1.127492e-09</td>\n",
       "      <td>5486.265889</td>\n",
       "    </tr>\n",
       "    <tr>\n",
       "      <th>3347</th>\n",
       "      <td>2021-04-19 09:30:00.386544+00:00</td>\n",
       "      <td>56880.365</td>\n",
       "      <td>0.01</td>\n",
       "      <td>4.450456e+05</td>\n",
       "      <td>3.306800e+05</td>\n",
       "      <td>-8.790379e-08</td>\n",
       "      <td>-9.309012e-05</td>\n",
       "      <td>-1.099677e-04</td>\n",
       "      <td>-0.000118</td>\n",
       "      <td>-0.000157</td>\n",
       "      <td>...</td>\n",
       "      <td>28701.456502</td>\n",
       "      <td>-0.000002</td>\n",
       "      <td>0.000000</td>\n",
       "      <td>0.000000</td>\n",
       "      <td>1.249401e-05</td>\n",
       "      <td>0.000002</td>\n",
       "      <td>2.371535e-08</td>\n",
       "      <td>3.445745e-09</td>\n",
       "      <td>9.973341e-10</td>\n",
       "      <td>5379.504242</td>\n",
       "    </tr>\n",
       "    <tr>\n",
       "      <th>3348</th>\n",
       "      <td>2021-04-19 09:35:00.386544+00:00</td>\n",
       "      <td>57081.775</td>\n",
       "      <td>0.01</td>\n",
       "      <td>4.093789e+05</td>\n",
       "      <td>2.487355e+05</td>\n",
       "      <td>-8.759363e-08</td>\n",
       "      <td>-1.138717e-06</td>\n",
       "      <td>-1.270108e-05</td>\n",
       "      <td>-0.000014</td>\n",
       "      <td>-0.000014</td>\n",
       "      <td>...</td>\n",
       "      <td>68519.049162</td>\n",
       "      <td>-0.000002</td>\n",
       "      <td>0.000002</td>\n",
       "      <td>0.068193</td>\n",
       "      <td>1.491607e-07</td>\n",
       "      <td>0.000003</td>\n",
       "      <td>3.059876e-08</td>\n",
       "      <td>1.179851e-09</td>\n",
       "      <td>8.073865e-10</td>\n",
       "      <td>3870.652804</td>\n",
       "    </tr>\n",
       "    <tr>\n",
       "      <th>3349</th>\n",
       "      <td>2021-04-19 09:40:00.386544+00:00</td>\n",
       "      <td>57103.825</td>\n",
       "      <td>0.01</td>\n",
       "      <td>1.766741e+06</td>\n",
       "      <td>1.765380e+06</td>\n",
       "      <td>-8.755981e-08</td>\n",
       "      <td>-6.768373e-05</td>\n",
       "      <td>-6.961005e-05</td>\n",
       "      <td>-0.000070</td>\n",
       "      <td>-0.000144</td>\n",
       "      <td>...</td>\n",
       "      <td>83009.739264</td>\n",
       "      <td>-0.000002</td>\n",
       "      <td>0.000000</td>\n",
       "      <td>0.000000</td>\n",
       "      <td>3.711875e-07</td>\n",
       "      <td>0.000002</td>\n",
       "      <td>3.043640e-08</td>\n",
       "      <td>1.155797e-09</td>\n",
       "      <td>5.129654e-10</td>\n",
       "      <td>4149.622242</td>\n",
       "    </tr>\n",
       "    <tr>\n",
       "      <th>3350</th>\n",
       "      <td>2021-04-19 09:45:00.386544+00:00</td>\n",
       "      <td>57069.045</td>\n",
       "      <td>0.01</td>\n",
       "      <td>3.494125e+05</td>\n",
       "      <td>1.034334e+06</td>\n",
       "      <td>-8.761317e-08</td>\n",
       "      <td>-3.241687e-06</td>\n",
       "      <td>-7.972799e-06</td>\n",
       "      <td>-0.000010</td>\n",
       "      <td>-0.000023</td>\n",
       "      <td>...</td>\n",
       "      <td>95172.884266</td>\n",
       "      <td>-0.000002</td>\n",
       "      <td>0.000000</td>\n",
       "      <td>0.000000</td>\n",
       "      <td>1.123352e-05</td>\n",
       "      <td>0.000003</td>\n",
       "      <td>3.045620e-08</td>\n",
       "      <td>4.421823e-09</td>\n",
       "      <td>4.743313e-10</td>\n",
       "      <td>4024.149862</td>\n",
       "    </tr>\n",
       "  </tbody>\n",
       "</table>\n",
       "<p>3351 rows × 170 columns</p>\n",
       "</div>"
      ],
      "text/plain": [
       "                           system_time   midpoint  spread          buys  \\\n",
       "0     2021-04-07 12:52:41.122161+00:00  56440.805    0.01  5.171417e+06   \n",
       "1     2021-04-07 12:57:41.122161+00:00  56553.735    0.01  3.691003e+06   \n",
       "2     2021-04-07 13:02:41.122161+00:00  56453.245    0.01  4.135456e+06   \n",
       "3     2021-04-07 13:07:41.122161+00:00  56581.485    0.01  2.670256e+06   \n",
       "4     2021-04-07 13:12:41.122161+00:00  56609.395    0.01  2.285696e+06   \n",
       "...                                ...        ...     ...           ...   \n",
       "3346  2021-04-19 09:25:00.386544+00:00  56875.045    0.01  3.338628e+05   \n",
       "3347  2021-04-19 09:30:00.386544+00:00  56880.365    0.01  4.450456e+05   \n",
       "3348  2021-04-19 09:35:00.386544+00:00  57081.775    0.01  4.093789e+05   \n",
       "3349  2021-04-19 09:40:00.386544+00:00  57103.825    0.01  1.766741e+06   \n",
       "3350  2021-04-19 09:45:00.386544+00:00  57069.045    0.01  3.494125e+05   \n",
       "\n",
       "             sells  bids_distance_0  bids_distance_1  bids_distance_2  \\\n",
       "0     2.174014e+06    -8.858839e-08    -6.156893e-05    -1.473225e-04   \n",
       "1     1.786106e+06    -8.841149e-08    -2.652345e-07    -9.725264e-07   \n",
       "2     3.622263e+06    -8.856887e-08    -2.571154e-04    -2.647323e-04   \n",
       "3     1.796536e+06    -8.836813e-08    -2.606860e-05    -2.624533e-05   \n",
       "4     8.870143e+05    -8.832456e-08    -2.649737e-07    -3.541815e-05   \n",
       "...            ...              ...              ...              ...   \n",
       "3346  3.432730e+05    -8.791202e-08    -3.138459e-05    -8.799993e-05   \n",
       "3347  3.306800e+05    -8.790379e-08    -9.309012e-05    -1.099677e-04   \n",
       "3348  2.487355e+05    -8.759363e-08    -1.138717e-06    -1.270108e-05   \n",
       "3349  1.765380e+06    -8.755981e-08    -6.768373e-05    -6.961005e-05   \n",
       "3350  1.034334e+06    -8.761317e-08    -3.241687e-06    -7.972799e-06   \n",
       "\n",
       "      bids_distance_3  bids_distance_4  ...             RK    PreAvg  \\\n",
       "0           -0.000357        -0.000358  ...   54816.870101 -0.000003   \n",
       "1           -0.000038        -0.000052  ...  146805.013079 -0.000003   \n",
       "2           -0.000265        -0.000272  ...  211591.248911 -0.000003   \n",
       "3           -0.000037        -0.000037  ...  167717.635532 -0.000003   \n",
       "4           -0.000050        -0.000061  ...  328190.278009 -0.000003   \n",
       "...               ...              ...  ...            ...       ...   \n",
       "3346        -0.000095        -0.000101  ...   55980.964250 -0.000002   \n",
       "3347        -0.000118        -0.000157  ...   28701.456502 -0.000002   \n",
       "3348        -0.000014        -0.000014  ...   68519.049162 -0.000002   \n",
       "3349        -0.000070        -0.000144  ...   83009.739264 -0.000002   \n",
       "3350        -0.000010        -0.000023  ...   95172.884266 -0.000002   \n",
       "\n",
       "            JV        PJ            SV       ASV            RQ         RQTri  \\\n",
       "0     0.000000  0.000000  3.995435e-06  0.000004  7.192014e-08  9.243683e-09   \n",
       "1     0.000000  0.000000  3.162972e-06  0.000005  7.393567e-08  9.210710e-09   \n",
       "2     0.000000  0.000000  5.148534e-06  0.000005  7.321718e-08  1.009486e-08   \n",
       "3     0.000000  0.000000  2.431962e-07  0.000005  7.640872e-08  1.033797e-08   \n",
       "4     0.000000  0.000000  1.533561e-06  0.000004  5.972297e-08  8.121679e-09   \n",
       "...        ...       ...           ...       ...           ...           ...   \n",
       "3346  0.000000  0.000000  8.748612e-09  0.000003  4.156521e-08  5.683997e-09   \n",
       "3347  0.000000  0.000000  1.249401e-05  0.000002  2.371535e-08  3.445745e-09   \n",
       "3348  0.000002  0.068193  1.491607e-07  0.000003  3.059876e-08  1.179851e-09   \n",
       "3349  0.000000  0.000000  3.711875e-07  0.000002  3.043640e-08  1.155797e-09   \n",
       "3350  0.000000  0.000000  1.123352e-05  0.000003  3.045620e-08  4.421823e-09   \n",
       "\n",
       "            RQQuad           NV  \n",
       "0     2.818324e-09  6131.632817  \n",
       "1     3.035693e-09  6965.551013  \n",
       "2     3.248477e-09  7312.396113  \n",
       "3     3.792979e-09  7224.027300  \n",
       "4     3.583862e-09  7636.151300  \n",
       "...            ...          ...  \n",
       "3346  1.127492e-09  5486.265889  \n",
       "3347  9.973341e-10  5379.504242  \n",
       "3348  8.073865e-10  3870.652804  \n",
       "3349  5.129654e-10  4149.622242  \n",
       "3350  4.743313e-10  4024.149862  \n",
       "\n",
       "[3351 rows x 170 columns]"
      ]
     },
     "execution_count": 35,
     "metadata": {},
     "output_type": "execute_result"
    }
   ],
   "source": [
    "data_5min"
   ]
  },
  {
   "cell_type": "code",
   "execution_count": 36,
   "metadata": {},
   "outputs": [
    {
     "data": {
      "text/plain": [
       "(3351, 170)"
      ]
     },
     "execution_count": 36,
     "metadata": {},
     "output_type": "execute_result"
    }
   ],
   "source": [
    "data_5min.shape"
   ]
  },
  {
   "cell_type": "code",
   "execution_count": 37,
   "metadata": {},
   "outputs": [
    {
     "data": {
      "text/plain": [
       "279.25"
      ]
     },
     "execution_count": 37,
     "metadata": {},
     "output_type": "execute_result"
    }
   ],
   "source": [
    "3351/12"
   ]
  },
  {
   "cell_type": "code",
   "execution_count": 38,
   "metadata": {},
   "outputs": [
    {
     "data": {
      "text/plain": [
       "2790"
      ]
     },
     "execution_count": 38,
     "metadata": {},
     "output_type": "execute_result"
    }
   ],
   "source": [
    "3350-280*2"
   ]
  },
  {
   "cell_type": "code",
   "execution_count": 39,
   "metadata": {},
   "outputs": [],
   "source": [
    "data_1min_std, Y_1min = CreateData(data_1min, 1, 14000)\n",
    "data_1min = pd.read_csv(\"data/final/1min/BTC.csv\")\n",
    "data_5min = pd.read_csv(\"data/final/5min/BTC.csv\")\n",
    "\n",
    "data_1min = pd.read_csv(\"data/final/1min/BTC.csv\")\n",
    "\n",
    "data_1min_5_std, Y_1_5min = CreateData(data_1min, 5, 14000)"
   ]
  },
  {
   "cell_type": "code",
   "execution_count": 40,
   "metadata": {},
   "outputs": [
    {
     "data": {
      "text/plain": [
       "0    13901\n",
       "1     1596\n",
       "2     1551\n",
       "Name: y, dtype: int64"
      ]
     },
     "execution_count": 40,
     "metadata": {},
     "output_type": "execute_result"
    }
   ],
   "source": [
    "Y_1min.value_counts()"
   ]
  },
  {
   "cell_type": "code",
   "execution_count": 20,
   "metadata": {},
   "outputs": [],
   "source": [
    "def CreateData(data_c, shif, train_index):\n",
    "    data_c.drop(\"system_time\", axis = 1)\n",
    "    data_c['Next_mid'] = data_c.midpoint.shift(-shif)\n",
    "    data_c['Price_move'] = (data_c.Next_mid - data_c.midpoint) / data_c.midpoint\n",
    "    data_c.dropna(axis=0, inplace=True) #drop the last row which is now Nan\n",
    "\n",
    "    data_c['y'] = 0\n",
    "    data_c.loc[(data_c['Price_move'] < -0.001), 'y'] = 1\n",
    "    data_c.loc[(data_c['Price_move'] > 0.001), 'y'] = 2\n",
    "    data_c.drop(['Next_mid', 'midpoint', 'Price_move', \"system_time\", \"Return\"], axis=1, inplace=True)\n",
    "    Y = data_c.pop(\"y\")\n",
    "    \n",
    "    data_std = data_c\n",
    "\n",
    "    r, x = data_c.shape\n",
    "\n",
    "    for j in range(x):\n",
    "        m = data_c.iloc[:train_index,j].mean()\n",
    "        s = data_c.iloc[:train_index,j].std()\n",
    "        for i in range(r):\n",
    "            data_std.iloc[i,j] = (data_c.iloc[i,j] - m) / s\n",
    "    \n",
    "    return data_std, Y"
   ]
  },
  {
   "cell_type": "code",
   "execution_count": 21,
   "metadata": {},
   "outputs": [],
   "source": [
    "data_5min = pd.read_csv(\"data/final/5min/BTC.csv\")\n",
    "data_5min_std, Y_5min = CreateData(data_5min, 1, 2790)"
   ]
  },
  {
   "cell_type": "code",
   "execution_count": 23,
   "metadata": {},
   "outputs": [
    {
     "data": {
      "text/plain": [
       "0    1540\n",
       "2     911\n",
       "1     899\n",
       "Name: y, dtype: int64"
      ]
     },
     "execution_count": 23,
     "metadata": {},
     "output_type": "execute_result"
    }
   ],
   "source": [
    "Y_5min.value_counts()"
   ]
  },
  {
   "cell_type": "code",
   "execution_count": 11,
   "metadata": {},
   "outputs": [],
   "source": [
    "data_1min_std.to_csv(\"data/final/1min/HF/BTC_std.csv\", index = False)\n",
    "data_1min_5_std.to_csv(\"data/final/1min/HF/BTC_std_5.csv\", index = False)"
   ]
  },
  {
   "cell_type": "code",
   "execution_count": 24,
   "metadata": {},
   "outputs": [],
   "source": [
    "data_5min_std.to_csv(\"data/final/5min/HF/BTC_std.csv\", index = False)"
   ]
  },
  {
   "cell_type": "code",
   "execution_count": 12,
   "metadata": {},
   "outputs": [],
   "source": [
    "Y_1min.to_csv(\"data/final/1min/BTC_Y_std.csv\", index = False)\n",
    "Y_1_5min.to_csv(\"data/final/1min/BTC_Y_5_std.csv\", index = False)\n"
   ]
  },
  {
   "cell_type": "code",
   "execution_count": 25,
   "metadata": {},
   "outputs": [],
   "source": [
    "Y_5min.to_csv(\"data/final/5min/BTC_Y_std.csv\", index = False)"
   ]
  },
  {
   "cell_type": "code",
   "execution_count": 18,
   "metadata": {},
   "outputs": [],
   "source": [
    "OrderFlow1 = CreateOderFlowData(data_1min_std)\n",
    "OrderFlow1_5 = CreateOderFlowData(data_1min_5_std)\n",
    "\n",
    "\n",
    "\n",
    "OrderFlow1.to_csv(\"data/final/1min/OrderFlow/BTC_std.csv\", index = False)\n",
    "OrderFlow1_5.to_csv(\"data/final/1min/OrderFlow/BTC_std_5.csv\", index = False)\n"
   ]
  },
  {
   "cell_type": "code",
   "execution_count": 26,
   "metadata": {},
   "outputs": [],
   "source": [
    "OrderFlow5 = CreateOderFlowData(data_5min_std)\n",
    "OrderFlow5.to_csv(\"data/final/5min/OrderFlow/BTC_std.csv\", index = False)"
   ]
  },
  {
   "cell_type": "code",
   "execution_count": 19,
   "metadata": {},
   "outputs": [],
   "source": [
    "BidAsk1 = CreateBidAskData(data_1min_std)\n",
    "BidAsk1_5 = CreateBidAskData(data_1min_5_std)\n",
    "\n",
    "BidAsk1.to_csv(\"data/final/1min/BidASk/BTC_std.csv\", index = False)\n",
    "BidAsk1_5.to_csv(\"data/final/1min/BidAsk/BTC_std_5.csv\", index = False)\n"
   ]
  },
  {
   "cell_type": "code",
   "execution_count": 27,
   "metadata": {},
   "outputs": [],
   "source": [
    "BidAsk5 = CreateBidAskData(data_5min_std)\n",
    "BidAsk5.to_csv(\"data/final/5min/BidAsk/BTC_std.csv\", index = False)"
   ]
  },
  {
   "cell_type": "code",
   "execution_count": null,
   "metadata": {},
   "outputs": [],
   "source": []
  }
 ],
 "metadata": {
  "kernelspec": {
   "display_name": "Python 3",
   "language": "python",
   "name": "python3"
  },
  "language_info": {
   "codemirror_mode": {
    "name": "ipython",
    "version": 3
   },
   "file_extension": ".py",
   "mimetype": "text/x-python",
   "name": "python",
   "nbconvert_exporter": "python",
   "pygments_lexer": "ipython3",
   "version": "3.8.5"
  }
 },
 "nbformat": 4,
 "nbformat_minor": 4
}
