{
 "cells": [
  {
   "cell_type": "markdown",
   "metadata": {},
   "source": [
    "## The Limit Order Book  & Coinbase ## \n",
    "\n",
    "### Level 1 Orderbook ###\n",
    " \n",
    "Includes only prices at the best ask and best bid, and the volumes at those prices. \n",
    "\n",
    "### Level 2 Orderbook ###\n",
    "\n",
    "Includes the 50 best bid and the 50 best ask prices, and the (aggregated) volume at those prices. \n",
    "\n",
    "### Level 3 Orderbook ###\n",
    "\n",
    "The full order book. The volumes at each price level are not aggregated, so it is possible to see the size of the individual orders. \n",
    "\n",
    "\n",
    "#### Illustration \n",
    "\n",
    "\n",
    "![title](img/LOB.jpg)\n",
    "\n",
    "\n",
    "### Coinbase ### \n",
    "\n",
    "https://pro.coinbase.com/trade/BTC-USD\n",
    "\n",
    "\n"
   ]
  },
  {
   "cell_type": "code",
   "execution_count": 38,
   "metadata": {},
   "outputs": [],
   "source": [
    "import cbpro\n",
    "public_client = cbpro.PublicClient()\n",
    "raw_data = public_client.get_product_order_book('BTC-USD', level=2)"
   ]
  },
  {
   "cell_type": "code",
   "execution_count": 39,
   "metadata": {},
   "outputs": [
    {
     "data": {
      "text/plain": [
       "{'bids': [['50897.91', '0.5', 1],\n",
       "  ['50895.73', '0.03212', 1],\n",
       "  ['50895.62', '0.03212', 1],\n",
       "  ['50895.37', '0.28', 1],\n",
       "  ['50894.69', '1.66617404', 1],\n",
       "  ['50894.68', '0.5', 1],\n",
       "  ['50892.14', '0.9262', 2],\n",
       "  ['50891.85', '3.05257737', 4],\n",
       "  ['50890.99', '0.06', 1],\n",
       "  ['50885.8', '0.10230404', 1],\n",
       "  ['50885.79', '0.26471208', 1],\n",
       "  ['50885.26', '0.56', 1],\n",
       "  ['50884.43', '1.54702585', 1],\n",
       "  ['50884.19', '0.05', 1],\n",
       "  ['50879.34', '0.02884', 1],\n",
       "  ['50879.13', '0.0412', 1],\n",
       "  ['50877.32', '0.1', 1],\n",
       "  ['50873.1', '0.39303112', 1],\n",
       "  ['50873.05', '0.1', 1],\n",
       "  ['50871.32', '0.1', 1],\n",
       "  ['50870.76', '0.39301507', 1],\n",
       "  ['50869.07', '0.0883', 1],\n",
       "  ['50867.93', '0.39307131', 1],\n",
       "  ['50866.97', '0.20050079', 1],\n",
       "  ['50866.38', '0.182', 1],\n",
       "  ['50865.57', '0.182', 1],\n",
       "  ['50864.71', '0.182', 1],\n",
       "  ['50862.83', '0.8', 1],\n",
       "  ['50862.78', '0.18495329', 1],\n",
       "  ['50861.55', '1', 1],\n",
       "  ['50859.9', '0.0388', 1],\n",
       "  ['50852.05', '0.59', 1],\n",
       "  ['50848.62', '0.06506', 1],\n",
       "  ['50848.47', '0.41372664', 1],\n",
       "  ['50848.03', '0.74', 1],\n",
       "  ['50847.27', '0.0388', 1],\n",
       "  ['50845.41', '0.1109', 1],\n",
       "  ['50841.59', '0.04101587', 1],\n",
       "  ['50841.34', '0.431', 1],\n",
       "  ['50840.96', '0.02050978', 1],\n",
       "  ['50840.34', '1.22413518', 1],\n",
       "  ['50840.33', '0.01', 1],\n",
       "  ['50840.23', '0.01026585', 1],\n",
       "  ['50835.65', '0.04106643', 1],\n",
       "  ['50835.47', '0.7', 1],\n",
       "  ['50835.46', '0.0412', 1],\n",
       "  ['50828.47', '0.09229403', 1],\n",
       "  ['50826.84', '0.015', 1],\n",
       "  ['50826.27', '0.09358215', 1],\n",
       "  ['50826.08', '0.015', 1]],\n",
       " 'asks': [['50915.74', '0.28', 1],\n",
       "  ['50916.43', '0.39313214', 1],\n",
       "  ['50922.4', '0.1', 1],\n",
       "  ['50924.45', '0.00699371', 2],\n",
       "  ['50926.54', '0.39313214', 1],\n",
       "  ['50929.62', '0.10230553', 1],\n",
       "  ['50930.58', '0.0047', 1],\n",
       "  ['50931.51', '0.01', 1],\n",
       "  ['50931.73', '0.393091', 1],\n",
       "  ['50932.64', '0.517', 1],\n",
       "  ['50936.82', '0.06', 1],\n",
       "  ['50938.96', '0.4168', 1],\n",
       "  ['50938.98', '1.22778855', 1],\n",
       "  ['50938.99', '1.2042094', 5],\n",
       "  ['50940.92', '0.0408', 1],\n",
       "  ['50943.4', '0.59', 1],\n",
       "  ['50944.16', '0.57', 1],\n",
       "  ['50948.14', '0.04104434', 1],\n",
       "  ['50949.6', '0.057', 1],\n",
       "  ['50950.25', '0.0032988', 1],\n",
       "  ['50951.52', '0.00912462', 3],\n",
       "  ['50951.69', '0.000122', 1],\n",
       "  ['50951.83', '0.01', 1],\n",
       "  ['50952.2', '0.01026108', 1],\n",
       "  ['50953', '0.001', 1],\n",
       "  ['50953.97', '0.0026', 1],\n",
       "  ['50954.4', '0.0001', 1],\n",
       "  ['50954.79', '0.00018266', 1],\n",
       "  ['50956.14', '0.01', 1],\n",
       "  ['50956.29', '0.0063', 1],\n",
       "  ['50956.33', '0.02050373', 1],\n",
       "  ['50957.44', '0.3926222', 1],\n",
       "  ['50957.47', '0.0086', 1],\n",
       "  ['50957.57', '0.00115824', 1],\n",
       "  ['50957.59', '0.0011', 1],\n",
       "  ['50958.28', '0.008363', 1],\n",
       "  ['50958.41', '0.041006', 1],\n",
       "  ['50959.36', '0.058', 1],\n",
       "  ['50960.14', '0.00115961', 1],\n",
       "  ['50960.77', '0.0082', 1],\n",
       "  ['50961.02', '0.6', 1],\n",
       "  ['50961.15', '0.0088', 1],\n",
       "  ['50961.18', '0.0001', 1],\n",
       "  ['50961.23', '0.0010001', 1],\n",
       "  ['50961.59', '0.00027254', 1],\n",
       "  ['50961.72', '0.00472354', 1],\n",
       "  ['50961.77', '0.01296416', 1],\n",
       "  ['50963.21', '0.00147165', 1],\n",
       "  ['50964.36', '0.0022', 1],\n",
       "  ['50964.41', '0.0376', 1]],\n",
       " 'sequence': 21835881535}"
      ]
     },
     "execution_count": 39,
     "metadata": {},
     "output_type": "execute_result"
    }
   ],
   "source": [
    "raw_data"
   ]
  },
  {
   "cell_type": "markdown",
   "metadata": {},
   "source": [
    "### The extracted order book needs to be transformed into useful features \n",
    "\n",
    "##### Stationairy Features\n",
    "\n",
    "Paper: \"Using Deep Learning for price prediction by exploiting stationary limit order book features\"\n",
    "Link: https://arxiv.org/abs/1810.09965v1\n",
    "\n",
    "Price levels are transformed to the percentage difference from the current mid price. \n",
    "\n",
    "\n",
    "##### Order-Flow Metrics\n",
    "\n",
    "Paper: \"Multi-Level Order-Flow Imbalance in a Limit Order Book\"\n",
    "Link: https://arxiv.org/pdf/1907.06\n",
    "\n",
    "Metrics for number of market orders, limit orders and canceled orders are included. \n",
    "\n",
    "\n",
    "\n",
    "##### Example\n",
    "\n",
    "The following dataset was created by saving the 15 best ask, and 15 best bid prices in the limit order book of the cryptocurrency Litecoin every second for ~24 hours and then transforming the data into features according to the papers. \n",
    "\n",
    "The data is collected using the following framework: https://github.com/sadighian/crypto-rl\n"
   ]
  },
  {
   "cell_type": "code",
   "execution_count": 2,
   "metadata": {},
   "outputs": [],
   "source": [
    "import pandas as pd\n",
    "import numpy as np\n",
    "import matplotlib.pyplot as plt"
   ]
  },
  {
   "cell_type": "code",
   "execution_count": 3,
   "metadata": {},
   "outputs": [],
   "source": [
    "df = pd.read_csv(\"demo_LTC-USD_20190926.csv\")"
   ]
  },
  {
   "cell_type": "code",
   "execution_count": 40,
   "metadata": {
    "scrolled": true
   },
   "outputs": [
    {
     "data": {
      "text/html": [
       "<div>\n",
       "<style scoped>\n",
       "    .dataframe tbody tr th:only-of-type {\n",
       "        vertical-align: middle;\n",
       "    }\n",
       "\n",
       "    .dataframe tbody tr th {\n",
       "        vertical-align: top;\n",
       "    }\n",
       "\n",
       "    .dataframe thead th {\n",
       "        text-align: right;\n",
       "    }\n",
       "</style>\n",
       "<table border=\"1\" class=\"dataframe\">\n",
       "  <thead>\n",
       "    <tr style=\"text-align: right;\">\n",
       "      <th></th>\n",
       "      <th>system_time</th>\n",
       "      <th>midpoint</th>\n",
       "      <th>spread</th>\n",
       "      <th>buys</th>\n",
       "      <th>sells</th>\n",
       "      <th>bids_distance_0</th>\n",
       "      <th>bids_distance_1</th>\n",
       "      <th>bids_distance_2</th>\n",
       "      <th>bids_distance_3</th>\n",
       "      <th>bids_distance_4</th>\n",
       "      <th>...</th>\n",
       "      <th>asks_market_notional_5</th>\n",
       "      <th>asks_market_notional_6</th>\n",
       "      <th>asks_market_notional_7</th>\n",
       "      <th>asks_market_notional_8</th>\n",
       "      <th>asks_market_notional_9</th>\n",
       "      <th>asks_market_notional_10</th>\n",
       "      <th>asks_market_notional_11</th>\n",
       "      <th>asks_market_notional_12</th>\n",
       "      <th>asks_market_notional_13</th>\n",
       "      <th>asks_market_notional_14</th>\n",
       "    </tr>\n",
       "  </thead>\n",
       "  <tbody>\n",
       "    <tr>\n",
       "      <th>0</th>\n",
       "      <td>2019-09-26 20:36:38.067000+00:00</td>\n",
       "      <td>53.825</td>\n",
       "      <td>0.01</td>\n",
       "      <td>0.0</td>\n",
       "      <td>0.000000</td>\n",
       "      <td>-0.000093</td>\n",
       "      <td>-0.00065</td>\n",
       "      <td>-0.001022</td>\n",
       "      <td>-0.001393</td>\n",
       "      <td>-0.001579</td>\n",
       "      <td>...</td>\n",
       "      <td>0.0</td>\n",
       "      <td>0</td>\n",
       "      <td>0.0</td>\n",
       "      <td>0</td>\n",
       "      <td>0</td>\n",
       "      <td>0.0</td>\n",
       "      <td>0</td>\n",
       "      <td>0</td>\n",
       "      <td>0</td>\n",
       "      <td>0</td>\n",
       "    </tr>\n",
       "    <tr>\n",
       "      <th>1</th>\n",
       "      <td>2019-09-26 20:36:39.067000+00:00</td>\n",
       "      <td>53.825</td>\n",
       "      <td>0.01</td>\n",
       "      <td>0.0</td>\n",
       "      <td>5.500119</td>\n",
       "      <td>-0.000093</td>\n",
       "      <td>-0.00065</td>\n",
       "      <td>-0.001022</td>\n",
       "      <td>-0.001393</td>\n",
       "      <td>-0.001579</td>\n",
       "      <td>...</td>\n",
       "      <td>0.0</td>\n",
       "      <td>0</td>\n",
       "      <td>0.0</td>\n",
       "      <td>0</td>\n",
       "      <td>0</td>\n",
       "      <td>0.0</td>\n",
       "      <td>0</td>\n",
       "      <td>0</td>\n",
       "      <td>0</td>\n",
       "      <td>0</td>\n",
       "    </tr>\n",
       "    <tr>\n",
       "      <th>2</th>\n",
       "      <td>2019-09-26 20:36:40.067000+00:00</td>\n",
       "      <td>53.825</td>\n",
       "      <td>0.01</td>\n",
       "      <td>0.0</td>\n",
       "      <td>0.000000</td>\n",
       "      <td>-0.000093</td>\n",
       "      <td>-0.00065</td>\n",
       "      <td>-0.001022</td>\n",
       "      <td>-0.001393</td>\n",
       "      <td>-0.001579</td>\n",
       "      <td>...</td>\n",
       "      <td>0.0</td>\n",
       "      <td>0</td>\n",
       "      <td>0.0</td>\n",
       "      <td>0</td>\n",
       "      <td>0</td>\n",
       "      <td>0.0</td>\n",
       "      <td>0</td>\n",
       "      <td>0</td>\n",
       "      <td>0</td>\n",
       "      <td>0</td>\n",
       "    </tr>\n",
       "    <tr>\n",
       "      <th>3</th>\n",
       "      <td>2019-09-26 20:36:41.067000+00:00</td>\n",
       "      <td>53.825</td>\n",
       "      <td>0.01</td>\n",
       "      <td>0.0</td>\n",
       "      <td>0.000000</td>\n",
       "      <td>-0.000093</td>\n",
       "      <td>-0.00065</td>\n",
       "      <td>-0.001022</td>\n",
       "      <td>-0.001393</td>\n",
       "      <td>-0.001579</td>\n",
       "      <td>...</td>\n",
       "      <td>0.0</td>\n",
       "      <td>0</td>\n",
       "      <td>0.0</td>\n",
       "      <td>0</td>\n",
       "      <td>0</td>\n",
       "      <td>0.0</td>\n",
       "      <td>0</td>\n",
       "      <td>0</td>\n",
       "      <td>0</td>\n",
       "      <td>0</td>\n",
       "    </tr>\n",
       "    <tr>\n",
       "      <th>4</th>\n",
       "      <td>2019-09-26 20:36:42.067000+00:00</td>\n",
       "      <td>53.825</td>\n",
       "      <td>0.01</td>\n",
       "      <td>0.0</td>\n",
       "      <td>0.000000</td>\n",
       "      <td>-0.000093</td>\n",
       "      <td>-0.00065</td>\n",
       "      <td>-0.001022</td>\n",
       "      <td>-0.001393</td>\n",
       "      <td>-0.001579</td>\n",
       "      <td>...</td>\n",
       "      <td>0.0</td>\n",
       "      <td>0</td>\n",
       "      <td>0.0</td>\n",
       "      <td>0</td>\n",
       "      <td>0</td>\n",
       "      <td>0.0</td>\n",
       "      <td>0</td>\n",
       "      <td>0</td>\n",
       "      <td>0</td>\n",
       "      <td>0</td>\n",
       "    </tr>\n",
       "  </tbody>\n",
       "</table>\n",
       "<p>5 rows × 155 columns</p>\n",
       "</div>"
      ],
      "text/plain": [
       "                        system_time  midpoint  spread  buys     sells  \\\n",
       "0  2019-09-26 20:36:38.067000+00:00    53.825    0.01   0.0  0.000000   \n",
       "1  2019-09-26 20:36:39.067000+00:00    53.825    0.01   0.0  5.500119   \n",
       "2  2019-09-26 20:36:40.067000+00:00    53.825    0.01   0.0  0.000000   \n",
       "3  2019-09-26 20:36:41.067000+00:00    53.825    0.01   0.0  0.000000   \n",
       "4  2019-09-26 20:36:42.067000+00:00    53.825    0.01   0.0  0.000000   \n",
       "\n",
       "   bids_distance_0  bids_distance_1  bids_distance_2  bids_distance_3  \\\n",
       "0        -0.000093         -0.00065        -0.001022        -0.001393   \n",
       "1        -0.000093         -0.00065        -0.001022        -0.001393   \n",
       "2        -0.000093         -0.00065        -0.001022        -0.001393   \n",
       "3        -0.000093         -0.00065        -0.001022        -0.001393   \n",
       "4        -0.000093         -0.00065        -0.001022        -0.001393   \n",
       "\n",
       "   bids_distance_4  ...  asks_market_notional_5  asks_market_notional_6  \\\n",
       "0        -0.001579  ...                     0.0                       0   \n",
       "1        -0.001579  ...                     0.0                       0   \n",
       "2        -0.001579  ...                     0.0                       0   \n",
       "3        -0.001579  ...                     0.0                       0   \n",
       "4        -0.001579  ...                     0.0                       0   \n",
       "\n",
       "   asks_market_notional_7  asks_market_notional_8  asks_market_notional_9  \\\n",
       "0                     0.0                       0                       0   \n",
       "1                     0.0                       0                       0   \n",
       "2                     0.0                       0                       0   \n",
       "3                     0.0                       0                       0   \n",
       "4                     0.0                       0                       0   \n",
       "\n",
       "   asks_market_notional_10  asks_market_notional_11  asks_market_notional_12  \\\n",
       "0                      0.0                        0                        0   \n",
       "1                      0.0                        0                        0   \n",
       "2                      0.0                        0                        0   \n",
       "3                      0.0                        0                        0   \n",
       "4                      0.0                        0                        0   \n",
       "\n",
       "   asks_market_notional_13  asks_market_notional_14  \n",
       "0                        0                        0  \n",
       "1                        0                        0  \n",
       "2                        0                        0  \n",
       "3                        0                        0  \n",
       "4                        0                        0  \n",
       "\n",
       "[5 rows x 155 columns]"
      ]
     },
     "execution_count": 40,
     "metadata": {},
     "output_type": "execute_result"
    }
   ],
   "source": [
    "df.head(5)"
   ]
  },
  {
   "cell_type": "code",
   "execution_count": 5,
   "metadata": {
    "scrolled": false
   },
   "outputs": [
    {
     "data": {
      "text/html": [
       "<div>\n",
       "<style scoped>\n",
       "    .dataframe tbody tr th:only-of-type {\n",
       "        vertical-align: middle;\n",
       "    }\n",
       "\n",
       "    .dataframe tbody tr th {\n",
       "        vertical-align: top;\n",
       "    }\n",
       "\n",
       "    .dataframe thead th {\n",
       "        text-align: right;\n",
       "    }\n",
       "</style>\n",
       "<table border=\"1\" class=\"dataframe\">\n",
       "  <thead>\n",
       "    <tr style=\"text-align: right;\">\n",
       "      <th></th>\n",
       "      <th>system_time</th>\n",
       "      <th>midpoint</th>\n",
       "      <th>spread</th>\n",
       "      <th>buys</th>\n",
       "      <th>sells</th>\n",
       "      <th>bids_distance_0</th>\n",
       "      <th>bids_distance_1</th>\n",
       "      <th>bids_distance_2</th>\n",
       "      <th>bids_distance_3</th>\n",
       "      <th>bids_distance_4</th>\n",
       "      <th>...</th>\n",
       "      <th>asks_market_notional_5</th>\n",
       "      <th>asks_market_notional_6</th>\n",
       "      <th>asks_market_notional_7</th>\n",
       "      <th>asks_market_notional_8</th>\n",
       "      <th>asks_market_notional_9</th>\n",
       "      <th>asks_market_notional_10</th>\n",
       "      <th>asks_market_notional_11</th>\n",
       "      <th>asks_market_notional_12</th>\n",
       "      <th>asks_market_notional_13</th>\n",
       "      <th>asks_market_notional_14</th>\n",
       "    </tr>\n",
       "  </thead>\n",
       "  <tbody>\n",
       "    <tr>\n",
       "      <th>91397</th>\n",
       "      <td>2019-09-27 21:59:55.067000+00:00</td>\n",
       "      <td>56.475</td>\n",
       "      <td>0.03</td>\n",
       "      <td>0.0</td>\n",
       "      <td>0.0</td>\n",
       "      <td>-0.000266</td>\n",
       "      <td>-0.000620</td>\n",
       "      <td>-0.000797</td>\n",
       "      <td>-0.000974</td>\n",
       "      <td>-0.001151</td>\n",
       "      <td>...</td>\n",
       "      <td>0.0</td>\n",
       "      <td>0</td>\n",
       "      <td>0.0</td>\n",
       "      <td>0</td>\n",
       "      <td>0</td>\n",
       "      <td>0.0</td>\n",
       "      <td>0</td>\n",
       "      <td>0</td>\n",
       "      <td>0</td>\n",
       "      <td>0</td>\n",
       "    </tr>\n",
       "    <tr>\n",
       "      <th>91398</th>\n",
       "      <td>2019-09-27 21:59:56.067000+00:00</td>\n",
       "      <td>56.475</td>\n",
       "      <td>0.03</td>\n",
       "      <td>0.0</td>\n",
       "      <td>0.0</td>\n",
       "      <td>-0.000266</td>\n",
       "      <td>-0.000620</td>\n",
       "      <td>-0.000797</td>\n",
       "      <td>-0.000974</td>\n",
       "      <td>-0.001328</td>\n",
       "      <td>...</td>\n",
       "      <td>0.0</td>\n",
       "      <td>0</td>\n",
       "      <td>0.0</td>\n",
       "      <td>0</td>\n",
       "      <td>0</td>\n",
       "      <td>0.0</td>\n",
       "      <td>0</td>\n",
       "      <td>0</td>\n",
       "      <td>0</td>\n",
       "      <td>0</td>\n",
       "    </tr>\n",
       "    <tr>\n",
       "      <th>91399</th>\n",
       "      <td>2019-09-27 21:59:57.067000+00:00</td>\n",
       "      <td>56.475</td>\n",
       "      <td>0.03</td>\n",
       "      <td>0.0</td>\n",
       "      <td>0.0</td>\n",
       "      <td>-0.000266</td>\n",
       "      <td>-0.000620</td>\n",
       "      <td>-0.000797</td>\n",
       "      <td>-0.000974</td>\n",
       "      <td>-0.001328</td>\n",
       "      <td>...</td>\n",
       "      <td>0.0</td>\n",
       "      <td>0</td>\n",
       "      <td>0.0</td>\n",
       "      <td>0</td>\n",
       "      <td>0</td>\n",
       "      <td>0.0</td>\n",
       "      <td>0</td>\n",
       "      <td>0</td>\n",
       "      <td>0</td>\n",
       "      <td>0</td>\n",
       "    </tr>\n",
       "    <tr>\n",
       "      <th>91400</th>\n",
       "      <td>2019-09-27 21:59:58.067000+00:00</td>\n",
       "      <td>56.475</td>\n",
       "      <td>0.03</td>\n",
       "      <td>0.0</td>\n",
       "      <td>0.0</td>\n",
       "      <td>-0.000266</td>\n",
       "      <td>-0.000620</td>\n",
       "      <td>-0.000797</td>\n",
       "      <td>-0.000974</td>\n",
       "      <td>-0.001505</td>\n",
       "      <td>...</td>\n",
       "      <td>0.0</td>\n",
       "      <td>0</td>\n",
       "      <td>0.0</td>\n",
       "      <td>0</td>\n",
       "      <td>0</td>\n",
       "      <td>0.0</td>\n",
       "      <td>0</td>\n",
       "      <td>0</td>\n",
       "      <td>0</td>\n",
       "      <td>0</td>\n",
       "    </tr>\n",
       "    <tr>\n",
       "      <th>91401</th>\n",
       "      <td>2019-09-27 21:59:59.067000+00:00</td>\n",
       "      <td>56.460</td>\n",
       "      <td>0.04</td>\n",
       "      <td>0.0</td>\n",
       "      <td>0.0</td>\n",
       "      <td>-0.000354</td>\n",
       "      <td>-0.000708</td>\n",
       "      <td>-0.001240</td>\n",
       "      <td>-0.001417</td>\n",
       "      <td>-0.001948</td>\n",
       "      <td>...</td>\n",
       "      <td>0.0</td>\n",
       "      <td>0</td>\n",
       "      <td>0.0</td>\n",
       "      <td>0</td>\n",
       "      <td>0</td>\n",
       "      <td>0.0</td>\n",
       "      <td>0</td>\n",
       "      <td>0</td>\n",
       "      <td>0</td>\n",
       "      <td>0</td>\n",
       "    </tr>\n",
       "  </tbody>\n",
       "</table>\n",
       "<p>5 rows × 155 columns</p>\n",
       "</div>"
      ],
      "text/plain": [
       "                            system_time  midpoint  spread  buys  sells  \\\n",
       "91397  2019-09-27 21:59:55.067000+00:00    56.475    0.03   0.0    0.0   \n",
       "91398  2019-09-27 21:59:56.067000+00:00    56.475    0.03   0.0    0.0   \n",
       "91399  2019-09-27 21:59:57.067000+00:00    56.475    0.03   0.0    0.0   \n",
       "91400  2019-09-27 21:59:58.067000+00:00    56.475    0.03   0.0    0.0   \n",
       "91401  2019-09-27 21:59:59.067000+00:00    56.460    0.04   0.0    0.0   \n",
       "\n",
       "       bids_distance_0  bids_distance_1  bids_distance_2  bids_distance_3  \\\n",
       "91397        -0.000266        -0.000620        -0.000797        -0.000974   \n",
       "91398        -0.000266        -0.000620        -0.000797        -0.000974   \n",
       "91399        -0.000266        -0.000620        -0.000797        -0.000974   \n",
       "91400        -0.000266        -0.000620        -0.000797        -0.000974   \n",
       "91401        -0.000354        -0.000708        -0.001240        -0.001417   \n",
       "\n",
       "       bids_distance_4  ...  asks_market_notional_5  asks_market_notional_6  \\\n",
       "91397        -0.001151  ...                     0.0                       0   \n",
       "91398        -0.001328  ...                     0.0                       0   \n",
       "91399        -0.001328  ...                     0.0                       0   \n",
       "91400        -0.001505  ...                     0.0                       0   \n",
       "91401        -0.001948  ...                     0.0                       0   \n",
       "\n",
       "       asks_market_notional_7  asks_market_notional_8  asks_market_notional_9  \\\n",
       "91397                     0.0                       0                       0   \n",
       "91398                     0.0                       0                       0   \n",
       "91399                     0.0                       0                       0   \n",
       "91400                     0.0                       0                       0   \n",
       "91401                     0.0                       0                       0   \n",
       "\n",
       "       asks_market_notional_10  asks_market_notional_11  \\\n",
       "91397                      0.0                        0   \n",
       "91398                      0.0                        0   \n",
       "91399                      0.0                        0   \n",
       "91400                      0.0                        0   \n",
       "91401                      0.0                        0   \n",
       "\n",
       "       asks_market_notional_12  asks_market_notional_13  \\\n",
       "91397                        0                        0   \n",
       "91398                        0                        0   \n",
       "91399                        0                        0   \n",
       "91400                        0                        0   \n",
       "91401                        0                        0   \n",
       "\n",
       "       asks_market_notional_14  \n",
       "91397                        0  \n",
       "91398                        0  \n",
       "91399                        0  \n",
       "91400                        0  \n",
       "91401                        0  \n",
       "\n",
       "[5 rows x 155 columns]"
      ]
     },
     "execution_count": 5,
     "metadata": {},
     "output_type": "execute_result"
    }
   ],
   "source": [
    "df.tail(5)"
   ]
  },
  {
   "cell_type": "markdown",
   "metadata": {},
   "source": [
    "## Features ##\n",
    "\n",
    "Midpoint = $\\frac{LowestAsk + HighestBid}{2}$\n",
    "\n",
    "Spread = LowestAsk - HighestBid\n",
    "\n",
    "\"Distance\" features:  Difference between the price level and the current mid price \n",
    "\n",
    "\"Notional\" features: Price*Quantity \n",
    "\n",
    "\"Market\": Orders executed instantly at the current market price \n",
    "\n",
    "\"Limit\": Orders set to execute at a certain price \n",
    "\n",
    "\"Cancel\": Cancelled Orders  \n"
   ]
  },
  {
   "cell_type": "code",
   "execution_count": 8,
   "metadata": {
    "scrolled": true
   },
   "outputs": [
    {
     "data": {
      "text/plain": [
       "array(['system_time', 'midpoint', 'spread', 'buys', 'sells',\n",
       "       'bids_distance_0', 'bids_distance_1', 'bids_distance_2',\n",
       "       'bids_distance_3', 'bids_distance_4', 'bids_distance_5',\n",
       "       'bids_distance_6', 'bids_distance_7', 'bids_distance_8',\n",
       "       'bids_distance_9', 'bids_distance_10', 'bids_distance_11',\n",
       "       'bids_distance_12', 'bids_distance_13', 'bids_distance_14',\n",
       "       'bids_notional_0', 'bids_notional_1', 'bids_notional_2',\n",
       "       'bids_notional_3', 'bids_notional_4', 'bids_notional_5',\n",
       "       'bids_notional_6', 'bids_notional_7', 'bids_notional_8',\n",
       "       'bids_notional_9', 'bids_notional_10', 'bids_notional_11',\n",
       "       'bids_notional_12', 'bids_notional_13', 'bids_notional_14',\n",
       "       'bids_cancel_notional_0', 'bids_cancel_notional_1',\n",
       "       'bids_cancel_notional_2', 'bids_cancel_notional_3',\n",
       "       'bids_cancel_notional_4', 'bids_cancel_notional_5',\n",
       "       'bids_cancel_notional_6', 'bids_cancel_notional_7',\n",
       "       'bids_cancel_notional_8', 'bids_cancel_notional_9',\n",
       "       'bids_cancel_notional_10', 'bids_cancel_notional_11',\n",
       "       'bids_cancel_notional_12', 'bids_cancel_notional_13',\n",
       "       'bids_cancel_notional_14', 'bids_limit_notional_0',\n",
       "       'bids_limit_notional_1', 'bids_limit_notional_2',\n",
       "       'bids_limit_notional_3', 'bids_limit_notional_4',\n",
       "       'bids_limit_notional_5', 'bids_limit_notional_6',\n",
       "       'bids_limit_notional_7', 'bids_limit_notional_8',\n",
       "       'bids_limit_notional_9', 'bids_limit_notional_10',\n",
       "       'bids_limit_notional_11', 'bids_limit_notional_12',\n",
       "       'bids_limit_notional_13', 'bids_limit_notional_14',\n",
       "       'bids_market_notional_0', 'bids_market_notional_1',\n",
       "       'bids_market_notional_2', 'bids_market_notional_3',\n",
       "       'bids_market_notional_4', 'bids_market_notional_5',\n",
       "       'bids_market_notional_6', 'bids_market_notional_7',\n",
       "       'bids_market_notional_8', 'bids_market_notional_9',\n",
       "       'bids_market_notional_10', 'bids_market_notional_11',\n",
       "       'bids_market_notional_12', 'bids_market_notional_13',\n",
       "       'bids_market_notional_14', 'asks_distance_0', 'asks_distance_1',\n",
       "       'asks_distance_2', 'asks_distance_3', 'asks_distance_4',\n",
       "       'asks_distance_5', 'asks_distance_6', 'asks_distance_7',\n",
       "       'asks_distance_8', 'asks_distance_9', 'asks_distance_10',\n",
       "       'asks_distance_11', 'asks_distance_12', 'asks_distance_13',\n",
       "       'asks_distance_14', 'asks_notional_0', 'asks_notional_1',\n",
       "       'asks_notional_2', 'asks_notional_3', 'asks_notional_4',\n",
       "       'asks_notional_5', 'asks_notional_6', 'asks_notional_7',\n",
       "       'asks_notional_8', 'asks_notional_9', 'asks_notional_10',\n",
       "       'asks_notional_11', 'asks_notional_12', 'asks_notional_13',\n",
       "       'asks_notional_14', 'asks_cancel_notional_0',\n",
       "       'asks_cancel_notional_1', 'asks_cancel_notional_2',\n",
       "       'asks_cancel_notional_3', 'asks_cancel_notional_4',\n",
       "       'asks_cancel_notional_5', 'asks_cancel_notional_6',\n",
       "       'asks_cancel_notional_7', 'asks_cancel_notional_8',\n",
       "       'asks_cancel_notional_9', 'asks_cancel_notional_10',\n",
       "       'asks_cancel_notional_11', 'asks_cancel_notional_12',\n",
       "       'asks_cancel_notional_13', 'asks_cancel_notional_14',\n",
       "       'asks_limit_notional_0', 'asks_limit_notional_1',\n",
       "       'asks_limit_notional_2', 'asks_limit_notional_3',\n",
       "       'asks_limit_notional_4', 'asks_limit_notional_5',\n",
       "       'asks_limit_notional_6', 'asks_limit_notional_7',\n",
       "       'asks_limit_notional_8', 'asks_limit_notional_9',\n",
       "       'asks_limit_notional_10', 'asks_limit_notional_11',\n",
       "       'asks_limit_notional_12', 'asks_limit_notional_13',\n",
       "       'asks_limit_notional_14', 'asks_market_notional_0',\n",
       "       'asks_market_notional_1', 'asks_market_notional_2',\n",
       "       'asks_market_notional_3', 'asks_market_notional_4',\n",
       "       'asks_market_notional_5', 'asks_market_notional_6',\n",
       "       'asks_market_notional_7', 'asks_market_notional_8',\n",
       "       'asks_market_notional_9', 'asks_market_notional_10',\n",
       "       'asks_market_notional_11', 'asks_market_notional_12',\n",
       "       'asks_market_notional_13', 'asks_market_notional_14'], dtype=object)"
      ]
     },
     "execution_count": 8,
     "metadata": {},
     "output_type": "execute_result"
    }
   ],
   "source": [
    "df.columns.values"
   ]
  },
  {
   "cell_type": "code",
   "execution_count": 11,
   "metadata": {},
   "outputs": [
    {
     "data": {
      "text/plain": [
       "[<matplotlib.lines.Line2D at 0x7ff7b65644f0>]"
      ]
     },
     "execution_count": 11,
     "metadata": {},
     "output_type": "execute_result"
    },
    {
     "data": {
      "image/png": "[encoded data removed]",
      "text/plain": [
       "<Figure size 432x288 with 1 Axes>"
      ]
     },
     "metadata": {
      "needs_background": "light"
     },
     "output_type": "display_data"
    }
   ],
   "source": [
    "plt.plot(df[\"midpoint\"])"
   ]
  },
  {
   "cell_type": "code",
   "execution_count": 12,
   "metadata": {},
   "outputs": [
    {
     "data": {
      "text/plain": [
       "[<matplotlib.lines.Line2D at 0x7f8536d97d30>]"
      ]
     },
     "execution_count": 12,
     "metadata": {},
     "output_type": "execute_result"
    },
    {
     "data": {
      "image/png": "[encoded data removed]",
      "text/plain": [
       "<Figure size 432x288 with 1 Axes>"
      ]
     },
     "metadata": {
      "needs_background": "light"
     },
     "output_type": "display_data"
    }
   ],
   "source": [
    "plt.plot(df[\"midpoint\"][1:1000])"
   ]
  },
  {
   "cell_type": "code",
   "execution_count": 12,
   "metadata": {},
   "outputs": [
    {
     "data": {
      "text/plain": [
       "[<matplotlib.lines.Line2D at 0x7ff7b67208e0>]"
      ]
     },
     "execution_count": 12,
     "metadata": {},
     "output_type": "execute_result"
    },
    {
     "data": {
      "image/png": "[encoded data removed]",
      "text/plain": [
       "<Figure size 432x288 with 1 Axes>"
      ]
     },
     "metadata": {
      "needs_background": "light"
     },
     "output_type": "display_data"
    }
   ],
   "source": [
    "plt.plot(df[\"spread\"][1:1000])"
   ]
  },
  {
   "cell_type": "code",
   "execution_count": 23,
   "metadata": {},
   "outputs": [
    {
     "data": {
      "text/plain": [
       "[<matplotlib.lines.Line2D at 0x7fdf33d7ccf8>]"
      ]
     },
     "execution_count": 23,
     "metadata": {},
     "output_type": "execute_result"
    },
    {
     "data": {
      "image/png": "[encoded data removed]",
      "text/plain": [
       "<Figure size 432x288 with 1 Axes>"
      ]
     },
     "metadata": {
      "needs_background": "light"
     },
     "output_type": "display_data"
    }
   ],
   "source": [
    "plt.plot(df[\"spread\"])"
   ]
  },
  {
   "cell_type": "code",
   "execution_count": 55,
   "metadata": {},
   "outputs": [
    {
     "data": {
      "text/plain": [
       "[<matplotlib.lines.Line2D at 0x7ff766646fd0>]"
      ]
     },
     "execution_count": 55,
     "metadata": {},
     "output_type": "execute_result"
    },
    {
     "data": {
      "image/png": "[encoded data removed]",
      "text/plain": [
       "<Figure size 432x288 with 1 Axes>"
      ]
     },
     "metadata": {
      "needs_background": "light"
     },
     "output_type": "display_data"
    }
   ],
   "source": [
    "plt.plot(df[\"asks_distance_0\"])"
   ]
  },
  {
   "cell_type": "code",
   "execution_count": 13,
   "metadata": {},
   "outputs": [
    {
     "data": {
      "text/plain": [
       "[<matplotlib.lines.Line2D at 0x7ff7b737e970>]"
      ]
     },
     "execution_count": 13,
     "metadata": {},
     "output_type": "execute_result"
    },
    {
     "data": {
      "image/png": "[encoded data removed]",
      "text/plain": [
       "<Figure size 432x288 with 1 Axes>"
      ]
     },
     "metadata": {
      "needs_background": "light"
     },
     "output_type": "display_data"
    }
   ],
   "source": [
    "plt.plot(df[\"bids_distance_0\"])"
   ]
  },
  {
   "cell_type": "code",
   "execution_count": 27,
   "metadata": {},
   "outputs": [
    {
     "data": {
      "text/plain": [
       "[<matplotlib.lines.Line2D at 0x7fdf353c5f28>]"
      ]
     },
     "execution_count": 27,
     "metadata": {},
     "output_type": "execute_result"
    },
    {
     "data": {
      "image/png": "[encoded data removed]",
      "text/plain": [
       "<Figure size 432x288 with 1 Axes>"
      ]
     },
     "metadata": {
      "needs_background": "light"
     },
     "output_type": "display_data"
    }
   ],
   "source": [
    "plt.plot(df[\"asks_market_notional_0\"])"
   ]
  },
  {
   "cell_type": "code",
   "execution_count": 56,
   "metadata": {},
   "outputs": [
    {
     "data": {
      "text/plain": [
       "[<matplotlib.lines.Line2D at 0x7ff78d985340>]"
      ]
     },
     "execution_count": 56,
     "metadata": {},
     "output_type": "execute_result"
    },
    {
     "data": {
      "image/png": "[encoded data removed]",
      "text/plain": [
       "<Figure size 432x288 with 1 Axes>"
      ]
     },
     "metadata": {
      "needs_background": "light"
     },
     "output_type": "display_data"
    }
   ],
   "source": [
    "plt.plot(df[\"asks_market_notional_1\"])"
   ]
  },
  {
   "cell_type": "code",
   "execution_count": 57,
   "metadata": {},
   "outputs": [
    {
     "data": {
      "text/plain": [
       "[<matplotlib.lines.Line2D at 0x7ff78cf60ac0>]"
      ]
     },
     "execution_count": 57,
     "metadata": {},
     "output_type": "execute_result"
    },
    {
     "data": {
      "image/png": "[encoded data removed]",
      "text/plain": [
       "<Figure size 432x288 with 1 Axes>"
      ]
     },
     "metadata": {
      "needs_background": "light"
     },
     "output_type": "display_data"
    }
   ],
   "source": [
    "plt.plot(df[\"asks_market_notional_2\"])"
   ]
  },
  {
   "cell_type": "code",
   "execution_count": 58,
   "metadata": {},
   "outputs": [
    {
     "data": {
      "text/plain": [
       "[<matplotlib.lines.Line2D at 0x7ff78cf81eb0>]"
      ]
     },
     "execution_count": 58,
     "metadata": {},
     "output_type": "execute_result"
    },
    {
     "data": {
      "image/png": "[encoded data removed]",
      "text/plain": [
       "<Figure size 432x288 with 1 Axes>"
      ]
     },
     "metadata": {
      "needs_background": "light"
     },
     "output_type": "display_data"
    }
   ],
   "source": [
    "plt.plot(df[\"bids_market_notional_0\"])"
   ]
  },
  {
   "cell_type": "code",
   "execution_count": 14,
   "metadata": {},
   "outputs": [
    {
     "data": {
      "text/plain": [
       "[<matplotlib.lines.Line2D at 0x7ff7b753fe80>]"
      ]
     },
     "execution_count": 14,
     "metadata": {},
     "output_type": "execute_result"
    },
    {
     "data": {
      "image/png": "[encoded data removed]",
      "text/plain": [
       "<Figure size 432x288 with 1 Axes>"
      ]
     },
     "metadata": {
      "needs_background": "light"
     },
     "output_type": "display_data"
    }
   ],
   "source": [
    "plt.plot(df[\"sells\"])"
   ]
  },
  {
   "cell_type": "code",
   "execution_count": 60,
   "metadata": {},
   "outputs": [
    {
     "data": {
      "text/plain": [
       "[<matplotlib.lines.Line2D at 0x7ff7c4167490>]"
      ]
     },
     "execution_count": 60,
     "metadata": {},
     "output_type": "execute_result"
    },
    {
     "data": {
      "image/png": "[encoded data removed]",
      "text/plain": [
       "<Figure size 432x288 with 1 Axes>"
      ]
     },
     "metadata": {
      "needs_background": "light"
     },
     "output_type": "display_data"
    }
   ],
   "source": [
    "plt.plot(df[\"bids_cancel_notional_0\"])"
   ]
  },
  {
   "cell_type": "code",
   "execution_count": 61,
   "metadata": {},
   "outputs": [
    {
     "data": {
      "text/plain": [
       "[<matplotlib.lines.Line2D at 0x7ff76661c730>]"
      ]
     },
     "execution_count": 61,
     "metadata": {},
     "output_type": "execute_result"
    },
    {
     "data": {
      "image/png": "[encoded data removed]",
      "text/plain": [
       "<Figure size 432x288 with 1 Axes>"
      ]
     },
     "metadata": {
      "needs_background": "light"
     },
     "output_type": "display_data"
    }
   ],
   "source": [
    "plt.plot(df[\"bids_cancel_notional_1\"])"
   ]
  },
  {
   "cell_type": "markdown",
   "metadata": {},
   "source": [
    "## Deep Learning ##\n",
    "\n",
    "### Relevant Papers ###\n",
    "\n",
    "###### Feature engineering for mid-price prediction with deep learning\n",
    "\n",
    "Paper: https://arxiv.org/abs/1904.05384\n",
    "\n",
    "Results: Features from High Frequency Financial Econometrics can be useful for improving the performance of a deep learning model for midprice prediction. \n",
    "\n",
    "\n",
    "######  Deep learning for limit order books\n",
    "\n",
    "Paper: https://arxiv.org/abs/1601.01987\n",
    "\n",
    "Models the joint probability distribution of the best bid and ask prices. \n",
    "The probability distribution is useful as it allows for applications in risk management.\n",
    "\n",
    "Results: Develops \"Spatial neural networks\" which outperforms standard neural networks in the tails of the probability distribtion (important for risk management). \n",
    "\n",
    "Note: In high frequency setting, financial markets have a large amount of noise. Modelling the noise is just as important as modeling the most likely outcome. \\\n",
    "Results: \n",
    "\n",
    "###### VLSTM: Very Long Short-Term Memory Networks for High-Frequency Trading\n",
    "\n",
    "Paper: https://arxiv.org/abs/1809.01506\n",
    "\n",
    "LSTM (Long Short-Term Mememory) Networks are very useful for time-series prediction. However, the author argues that they are not well suited for the sequences that are thousands of datapoints long, which can occur when dealing with high frequency data. The author proposes VLSTM (Very Long Short-Term Memory) networks for high freuqency data, and shows that they indeed provide superior performance in terms of prediction the midprice movement of a limit order book. \n",
    "\n"
   ]
  },
  {
   "cell_type": "markdown",
   "metadata": {},
   "source": [
    "### Tensorflow Test \n",
    "\n",
    "Koden herunder er bare en hurtig test af at jeg kan få tensorflow til at køre"
   ]
  },
  {
   "cell_type": "code",
   "execution_count": 26,
   "metadata": {},
   "outputs": [],
   "source": [
    "import tensorflow as tf\n",
    "import tensorflow.keras as keras\n",
    "from tensorflow.keras.layers.experimental import preprocessing"
   ]
  },
  {
   "cell_type": "code",
   "execution_count": 27,
   "metadata": {},
   "outputs": [],
   "source": [
    "X = df.drop(\"system_time\", axis = 1).iloc[:(len(df)-1)]"
   ]
  },
  {
   "cell_type": "code",
   "execution_count": 28,
   "metadata": {},
   "outputs": [],
   "source": [
    "Y = df[\"midpoint\"].iloc[1:]"
   ]
  },
  {
   "cell_type": "code",
   "execution_count": 29,
   "metadata": {},
   "outputs": [],
   "source": [
    "Y = Y.reset_index(drop = True)"
   ]
  },
  {
   "cell_type": "code",
   "execution_count": 30,
   "metadata": {},
   "outputs": [],
   "source": [
    "X[\"Y\"] = Y"
   ]
  },
  {
   "cell_type": "code",
   "execution_count": 31,
   "metadata": {},
   "outputs": [],
   "source": [
    "train_dataset = X[:73120]\n",
    "test_dataset = X.drop(train_dataset.index)"
   ]
  },
  {
   "cell_type": "code",
   "execution_count": 32,
   "metadata": {},
   "outputs": [],
   "source": [
    "train_y = train_dataset.pop(\"Y\")\n",
    "test_y = test_dataset.pop(\"Y\")"
   ]
  },
  {
   "cell_type": "code",
   "execution_count": 23,
   "metadata": {},
   "outputs": [],
   "source": [
    "normalizer = preprocessing.Normalization()\n",
    "normalizer.adapt(np.array(train_dataset))"
   ]
  },
  {
   "cell_type": "code",
   "execution_count": 34,
   "metadata": {},
   "outputs": [],
   "source": [
    "from tensorflow import keras\n",
    "from tensorflow.keras import layers\n",
    "from keras.models import Sequential\n",
    "from keras.layers import Dense\n",
    "from keras.wrappers.scikit_learn import KerasRegressor"
   ]
  },
  {
   "cell_type": "code",
   "execution_count": 35,
   "metadata": {},
   "outputs": [
    {
     "name": "stdout",
     "output_type": "stream",
     "text": [
      "Model: \"sequential_1\"\n",
      "_________________________________________________________________\n",
      "Layer (type)                 Output Shape              Param #   \n",
      "=================================================================\n",
      "normalization (Normalization (None, 154)               309       \n",
      "_________________________________________________________________\n",
      "dense_2 (Dense)              (None, 154)               23870     \n",
      "_________________________________________________________________\n",
      "dense_3 (Dense)              (None, 1)                 155       \n",
      "=================================================================\n",
      "Total params: 24,334\n",
      "Trainable params: 24,025\n",
      "Non-trainable params: 309\n",
      "_________________________________________________________________\n"
     ]
    }
   ],
   "source": [
    "model = tf.keras.Sequential([\n",
    "    normalizer,\n",
    "    layers.Dense(154, activation = \"relu\"),\n",
    "    layers.Dense(1)\n",
    "])\n",
    "\n",
    "model.summary()"
   ]
  },
  {
   "cell_type": "code",
   "execution_count": 37,
   "metadata": {},
   "outputs": [],
   "source": [
    "model.compile(\n",
    "    optimizer=tf.optimizers.Adam(learning_rate=0.001),\n",
    "    loss='mean_squared_error')"
   ]
  },
  {
   "cell_type": "code",
   "execution_count": 39,
   "metadata": {
    "scrolled": true
   },
   "outputs": [
    {
     "name": "stdout",
     "output_type": "stream",
     "text": [
      "CPU times: user 4min 32s, sys: 48.8 s, total: 5min 21s\n",
      "Wall time: 3min 6s\n"
     ]
    }
   ],
   "source": [
    "%%time\n",
    "history = model.fit(\n",
    "    train_dataset, train_y,\n",
    "    epochs=250,\n",
    "    batch_size = 100,\n",
    "    verbose=0,\n",
    "    validation_split = 0.2)"
   ]
  },
  {
   "cell_type": "code",
   "execution_count": 41,
   "metadata": {},
   "outputs": [
    {
     "data": {
      "text/html": [
       "<div>\n",
       "<style scoped>\n",
       "    .dataframe tbody tr th:only-of-type {\n",
       "        vertical-align: middle;\n",
       "    }\n",
       "\n",
       "    .dataframe tbody tr th {\n",
       "        vertical-align: top;\n",
       "    }\n",
       "\n",
       "    .dataframe thead th {\n",
       "        text-align: right;\n",
       "    }\n",
       "</style>\n",
       "<table border=\"1\" class=\"dataframe\">\n",
       "  <thead>\n",
       "    <tr style=\"text-align: right;\">\n",
       "      <th></th>\n",
       "      <th>loss</th>\n",
       "      <th>val_loss</th>\n",
       "      <th>epoch</th>\n",
       "    </tr>\n",
       "  </thead>\n",
       "  <tbody>\n",
       "    <tr>\n",
       "      <th>245</th>\n",
       "      <td>0.210750</td>\n",
       "      <td>116.725693</td>\n",
       "      <td>245</td>\n",
       "    </tr>\n",
       "    <tr>\n",
       "      <th>246</th>\n",
       "      <td>0.176190</td>\n",
       "      <td>110.322403</td>\n",
       "      <td>246</td>\n",
       "    </tr>\n",
       "    <tr>\n",
       "      <th>247</th>\n",
       "      <td>0.128053</td>\n",
       "      <td>122.138512</td>\n",
       "      <td>247</td>\n",
       "    </tr>\n",
       "    <tr>\n",
       "      <th>248</th>\n",
       "      <td>0.104635</td>\n",
       "      <td>122.659874</td>\n",
       "      <td>248</td>\n",
       "    </tr>\n",
       "    <tr>\n",
       "      <th>249</th>\n",
       "      <td>0.194914</td>\n",
       "      <td>119.606239</td>\n",
       "      <td>249</td>\n",
       "    </tr>\n",
       "  </tbody>\n",
       "</table>\n",
       "</div>"
      ],
      "text/plain": [
       "         loss    val_loss  epoch\n",
       "245  0.210750  116.725693    245\n",
       "246  0.176190  110.322403    246\n",
       "247  0.128053  122.138512    247\n",
       "248  0.104635  122.659874    248\n",
       "249  0.194914  119.606239    249"
      ]
     },
     "execution_count": 41,
     "metadata": {},
     "output_type": "execute_result"
    }
   ],
   "source": [
    "hist = pd.DataFrame(history.history)\n",
    "hist['epoch'] = history.epoch\n",
    "hist.tail()"
   ]
  },
  {
   "cell_type": "code",
   "execution_count": 52,
   "metadata": {},
   "outputs": [],
   "source": [
    "def plot_loss(history):\n",
    "  plt.plot(history.history['loss'], label='loss')\n",
    "  plt.plot(history.history['val_loss'], label='val_loss')\n",
    "  plt.ylim([0, 300])\n",
    "  plt.xlabel('Epoch')\n",
    "  plt.ylabel('Error')\n",
    "  plt.legend()\n",
    "  plt.grid(True)"
   ]
  },
  {
   "cell_type": "code",
   "execution_count": 53,
   "metadata": {},
   "outputs": [
    {
     "data": {
      "image/png": "[encoded data removed]",
      "text/plain": [
       "<Figure size 432x288 with 1 Axes>"
      ]
     },
     "metadata": {
      "needs_background": "light"
     },
     "output_type": "display_data"
    }
   ],
   "source": [
    "plot_loss(history)"
   ]
  },
  {
   "cell_type": "code",
   "execution_count": 44,
   "metadata": {},
   "outputs": [],
   "source": [
    "pred = model.predict(test_dataset)"
   ]
  },
  {
   "cell_type": "code",
   "execution_count": 45,
   "metadata": {
    "scrolled": true
   },
   "outputs": [
    {
     "data": {
      "text/plain": [
       "[<matplotlib.lines.Line2D at 0x7ff78cf78c70>]"
      ]
     },
     "execution_count": 45,
     "metadata": {},
     "output_type": "execute_result"
    },
    {
     "data": {
      "image/png": "[encoded data removed]",
      "text/plain": [
       "<Figure size 432x288 with 1 Axes>"
      ]
     },
     "metadata": {
      "needs_background": "light"
     },
     "output_type": "display_data"
    }
   ],
   "source": [
    "plt.plot(pred[1:1000])"
   ]
  },
  {
   "cell_type": "code",
   "execution_count": 47,
   "metadata": {},
   "outputs": [
    {
     "data": {
      "text/plain": [
       "[<matplotlib.lines.Line2D at 0x7ff766a2a4f0>]"
      ]
     },
     "execution_count": 47,
     "metadata": {},
     "output_type": "execute_result"
    },
    {
     "data": {
      "image/png": "[encoded data removed]",
      "text/plain": [
       "<Figure size 432x288 with 1 Axes>"
      ]
     },
     "metadata": {
      "needs_background": "light"
     },
     "output_type": "display_data"
    }
   ],
   "source": [
    "plt.plot(test_y[1:1000,])"
   ]
  }
 ],
 "metadata": {
  "kernelspec": {
   "display_name": "Python 3",
   "language": "python",
   "name": "python3"
  },
  "language_info": {
   "codemirror_mode": {
    "name": "ipython",
    "version": 3
   },
   "file_extension": ".py",
   "mimetype": "text/x-python",
   "name": "python",
   "nbconvert_exporter": "python",
   "pygments_lexer": "ipython3",
   "version": "3.8.8"
  }
 },
 "nbformat": 4,
 "nbformat_minor": 4
}
