{
 "cells": [
  {
   "cell_type": "code",
   "execution_count": 1,
   "metadata": {},
   "outputs": [],
   "source": [
    "import pandas as pd\n",
    "import numpy as np\n",
    "import matplotlib.pyplot as plt"
   ]
  },
  {
   "cell_type": "code",
   "execution_count": 2,
   "metadata": {},
   "outputs": [],
   "source": [
    "df = pd.read_csv(\"demo_LTC-USD_20190926.csv\")"
   ]
  },
  {
   "cell_type": "code",
   "execution_count": 3,
   "metadata": {},
   "outputs": [
    {
     "data": {
      "text/html": [
       "<div>\n",
       "<style scoped>\n",
       "    .dataframe tbody tr th:only-of-type {\n",
       "        vertical-align: middle;\n",
       "    }\n",
       "\n",
       "    .dataframe tbody tr th {\n",
       "        vertical-align: top;\n",
       "    }\n",
       "\n",
       "    .dataframe thead th {\n",
       "        text-align: right;\n",
       "    }\n",
       "</style>\n",
       "<table border=\"1\" class=\"dataframe\">\n",
       "  <thead>\n",
       "    <tr style=\"text-align: right;\">\n",
       "      <th></th>\n",
       "      <th>system_time</th>\n",
       "      <th>midpoint</th>\n",
       "      <th>spread</th>\n",
       "      <th>buys</th>\n",
       "      <th>sells</th>\n",
       "      <th>bids_distance_0</th>\n",
       "      <th>bids_distance_1</th>\n",
       "      <th>bids_distance_2</th>\n",
       "      <th>bids_distance_3</th>\n",
       "      <th>bids_distance_4</th>\n",
       "      <th>...</th>\n",
       "      <th>asks_market_notional_5</th>\n",
       "      <th>asks_market_notional_6</th>\n",
       "      <th>asks_market_notional_7</th>\n",
       "      <th>asks_market_notional_8</th>\n",
       "      <th>asks_market_notional_9</th>\n",
       "      <th>asks_market_notional_10</th>\n",
       "      <th>asks_market_notional_11</th>\n",
       "      <th>asks_market_notional_12</th>\n",
       "      <th>asks_market_notional_13</th>\n",
       "      <th>asks_market_notional_14</th>\n",
       "    </tr>\n",
       "  </thead>\n",
       "  <tbody>\n",
       "    <tr>\n",
       "      <th>0</th>\n",
       "      <td>2019-09-26 20:36:38.067000+00:00</td>\n",
       "      <td>53.825</td>\n",
       "      <td>0.01</td>\n",
       "      <td>0.0</td>\n",
       "      <td>0.000000</td>\n",
       "      <td>-0.000093</td>\n",
       "      <td>-0.00065</td>\n",
       "      <td>-0.001022</td>\n",
       "      <td>-0.001393</td>\n",
       "      <td>-0.001579</td>\n",
       "      <td>...</td>\n",
       "      <td>0.0</td>\n",
       "      <td>0</td>\n",
       "      <td>0.0</td>\n",
       "      <td>0</td>\n",
       "      <td>0</td>\n",
       "      <td>0.0</td>\n",
       "      <td>0</td>\n",
       "      <td>0</td>\n",
       "      <td>0</td>\n",
       "      <td>0</td>\n",
       "    </tr>\n",
       "    <tr>\n",
       "      <th>1</th>\n",
       "      <td>2019-09-26 20:36:39.067000+00:00</td>\n",
       "      <td>53.825</td>\n",
       "      <td>0.01</td>\n",
       "      <td>0.0</td>\n",
       "      <td>5.500119</td>\n",
       "      <td>-0.000093</td>\n",
       "      <td>-0.00065</td>\n",
       "      <td>-0.001022</td>\n",
       "      <td>-0.001393</td>\n",
       "      <td>-0.001579</td>\n",
       "      <td>...</td>\n",
       "      <td>0.0</td>\n",
       "      <td>0</td>\n",
       "      <td>0.0</td>\n",
       "      <td>0</td>\n",
       "      <td>0</td>\n",
       "      <td>0.0</td>\n",
       "      <td>0</td>\n",
       "      <td>0</td>\n",
       "      <td>0</td>\n",
       "      <td>0</td>\n",
       "    </tr>\n",
       "    <tr>\n",
       "      <th>2</th>\n",
       "      <td>2019-09-26 20:36:40.067000+00:00</td>\n",
       "      <td>53.825</td>\n",
       "      <td>0.01</td>\n",
       "      <td>0.0</td>\n",
       "      <td>0.000000</td>\n",
       "      <td>-0.000093</td>\n",
       "      <td>-0.00065</td>\n",
       "      <td>-0.001022</td>\n",
       "      <td>-0.001393</td>\n",
       "      <td>-0.001579</td>\n",
       "      <td>...</td>\n",
       "      <td>0.0</td>\n",
       "      <td>0</td>\n",
       "      <td>0.0</td>\n",
       "      <td>0</td>\n",
       "      <td>0</td>\n",
       "      <td>0.0</td>\n",
       "      <td>0</td>\n",
       "      <td>0</td>\n",
       "      <td>0</td>\n",
       "      <td>0</td>\n",
       "    </tr>\n",
       "    <tr>\n",
       "      <th>3</th>\n",
       "      <td>2019-09-26 20:36:41.067000+00:00</td>\n",
       "      <td>53.825</td>\n",
       "      <td>0.01</td>\n",
       "      <td>0.0</td>\n",
       "      <td>0.000000</td>\n",
       "      <td>-0.000093</td>\n",
       "      <td>-0.00065</td>\n",
       "      <td>-0.001022</td>\n",
       "      <td>-0.001393</td>\n",
       "      <td>-0.001579</td>\n",
       "      <td>...</td>\n",
       "      <td>0.0</td>\n",
       "      <td>0</td>\n",
       "      <td>0.0</td>\n",
       "      <td>0</td>\n",
       "      <td>0</td>\n",
       "      <td>0.0</td>\n",
       "      <td>0</td>\n",
       "      <td>0</td>\n",
       "      <td>0</td>\n",
       "      <td>0</td>\n",
       "    </tr>\n",
       "    <tr>\n",
       "      <th>4</th>\n",
       "      <td>2019-09-26 20:36:42.067000+00:00</td>\n",
       "      <td>53.825</td>\n",
       "      <td>0.01</td>\n",
       "      <td>0.0</td>\n",
       "      <td>0.000000</td>\n",
       "      <td>-0.000093</td>\n",
       "      <td>-0.00065</td>\n",
       "      <td>-0.001022</td>\n",
       "      <td>-0.001393</td>\n",
       "      <td>-0.001579</td>\n",
       "      <td>...</td>\n",
       "      <td>0.0</td>\n",
       "      <td>0</td>\n",
       "      <td>0.0</td>\n",
       "      <td>0</td>\n",
       "      <td>0</td>\n",
       "      <td>0.0</td>\n",
       "      <td>0</td>\n",
       "      <td>0</td>\n",
       "      <td>0</td>\n",
       "      <td>0</td>\n",
       "    </tr>\n",
       "  </tbody>\n",
       "</table>\n",
       "<p>5 rows × 155 columns</p>\n",
       "</div>"
      ],
      "text/plain": [
       "                        system_time  midpoint  spread  buys     sells  \\\n",
       "0  2019-09-26 20:36:38.067000+00:00    53.825    0.01   0.0  0.000000   \n",
       "1  2019-09-26 20:36:39.067000+00:00    53.825    0.01   0.0  5.500119   \n",
       "2  2019-09-26 20:36:40.067000+00:00    53.825    0.01   0.0  0.000000   \n",
       "3  2019-09-26 20:36:41.067000+00:00    53.825    0.01   0.0  0.000000   \n",
       "4  2019-09-26 20:36:42.067000+00:00    53.825    0.01   0.0  0.000000   \n",
       "\n",
       "   bids_distance_0  bids_distance_1  bids_distance_2  bids_distance_3  \\\n",
       "0        -0.000093         -0.00065        -0.001022        -0.001393   \n",
       "1        -0.000093         -0.00065        -0.001022        -0.001393   \n",
       "2        -0.000093         -0.00065        -0.001022        -0.001393   \n",
       "3        -0.000093         -0.00065        -0.001022        -0.001393   \n",
       "4        -0.000093         -0.00065        -0.001022        -0.001393   \n",
       "\n",
       "   bids_distance_4  ...  asks_market_notional_5  asks_market_notional_6  \\\n",
       "0        -0.001579  ...                     0.0                       0   \n",
       "1        -0.001579  ...                     0.0                       0   \n",
       "2        -0.001579  ...                     0.0                       0   \n",
       "3        -0.001579  ...                     0.0                       0   \n",
       "4        -0.001579  ...                     0.0                       0   \n",
       "\n",
       "   asks_market_notional_7  asks_market_notional_8  asks_market_notional_9  \\\n",
       "0                     0.0                       0                       0   \n",
       "1                     0.0                       0                       0   \n",
       "2                     0.0                       0                       0   \n",
       "3                     0.0                       0                       0   \n",
       "4                     0.0                       0                       0   \n",
       "\n",
       "   asks_market_notional_10  asks_market_notional_11  asks_market_notional_12  \\\n",
       "0                      0.0                        0                        0   \n",
       "1                      0.0                        0                        0   \n",
       "2                      0.0                        0                        0   \n",
       "3                      0.0                        0                        0   \n",
       "4                      0.0                        0                        0   \n",
       "\n",
       "   asks_market_notional_13  asks_market_notional_14  \n",
       "0                        0                        0  \n",
       "1                        0                        0  \n",
       "2                        0                        0  \n",
       "3                        0                        0  \n",
       "4                        0                        0  \n",
       "\n",
       "[5 rows x 155 columns]"
      ]
     },
     "execution_count": 3,
     "metadata": {},
     "output_type": "execute_result"
    }
   ],
   "source": [
    "df.head(5)"
   ]
  },
  {
   "cell_type": "code",
   "execution_count": 14,
   "metadata": {
    "scrolled": false
   },
   "outputs": [
    {
     "data": {
      "text/html": [
       "<div>\n",
       "<style scoped>\n",
       "    .dataframe tbody tr th:only-of-type {\n",
       "        vertical-align: middle;\n",
       "    }\n",
       "\n",
       "    .dataframe tbody tr th {\n",
       "        vertical-align: top;\n",
       "    }\n",
       "\n",
       "    .dataframe thead th {\n",
       "        text-align: right;\n",
       "    }\n",
       "</style>\n",
       "<table border=\"1\" class=\"dataframe\">\n",
       "  <thead>\n",
       "    <tr style=\"text-align: right;\">\n",
       "      <th></th>\n",
       "      <th>system_time</th>\n",
       "      <th>midpoint</th>\n",
       "      <th>spread</th>\n",
       "      <th>buys</th>\n",
       "      <th>sells</th>\n",
       "      <th>bids_distance_0</th>\n",
       "      <th>bids_distance_1</th>\n",
       "      <th>bids_distance_2</th>\n",
       "      <th>bids_distance_3</th>\n",
       "      <th>bids_distance_4</th>\n",
       "      <th>...</th>\n",
       "      <th>asks_market_notional_5</th>\n",
       "      <th>asks_market_notional_6</th>\n",
       "      <th>asks_market_notional_7</th>\n",
       "      <th>asks_market_notional_8</th>\n",
       "      <th>asks_market_notional_9</th>\n",
       "      <th>asks_market_notional_10</th>\n",
       "      <th>asks_market_notional_11</th>\n",
       "      <th>asks_market_notional_12</th>\n",
       "      <th>asks_market_notional_13</th>\n",
       "      <th>asks_market_notional_14</th>\n",
       "    </tr>\n",
       "  </thead>\n",
       "  <tbody>\n",
       "    <tr>\n",
       "      <th>91397</th>\n",
       "      <td>2019-09-27 21:59:55.067000+00:00</td>\n",
       "      <td>56.475</td>\n",
       "      <td>0.03</td>\n",
       "      <td>0.0</td>\n",
       "      <td>0.0</td>\n",
       "      <td>-0.000266</td>\n",
       "      <td>-0.000620</td>\n",
       "      <td>-0.000797</td>\n",
       "      <td>-0.000974</td>\n",
       "      <td>-0.001151</td>\n",
       "      <td>...</td>\n",
       "      <td>0.0</td>\n",
       "      <td>0</td>\n",
       "      <td>0.0</td>\n",
       "      <td>0</td>\n",
       "      <td>0</td>\n",
       "      <td>0.0</td>\n",
       "      <td>0</td>\n",
       "      <td>0</td>\n",
       "      <td>0</td>\n",
       "      <td>0</td>\n",
       "    </tr>\n",
       "    <tr>\n",
       "      <th>91398</th>\n",
       "      <td>2019-09-27 21:59:56.067000+00:00</td>\n",
       "      <td>56.475</td>\n",
       "      <td>0.03</td>\n",
       "      <td>0.0</td>\n",
       "      <td>0.0</td>\n",
       "      <td>-0.000266</td>\n",
       "      <td>-0.000620</td>\n",
       "      <td>-0.000797</td>\n",
       "      <td>-0.000974</td>\n",
       "      <td>-0.001328</td>\n",
       "      <td>...</td>\n",
       "      <td>0.0</td>\n",
       "      <td>0</td>\n",
       "      <td>0.0</td>\n",
       "      <td>0</td>\n",
       "      <td>0</td>\n",
       "      <td>0.0</td>\n",
       "      <td>0</td>\n",
       "      <td>0</td>\n",
       "      <td>0</td>\n",
       "      <td>0</td>\n",
       "    </tr>\n",
       "    <tr>\n",
       "      <th>91399</th>\n",
       "      <td>2019-09-27 21:59:57.067000+00:00</td>\n",
       "      <td>56.475</td>\n",
       "      <td>0.03</td>\n",
       "      <td>0.0</td>\n",
       "      <td>0.0</td>\n",
       "      <td>-0.000266</td>\n",
       "      <td>-0.000620</td>\n",
       "      <td>-0.000797</td>\n",
       "      <td>-0.000974</td>\n",
       "      <td>-0.001328</td>\n",
       "      <td>...</td>\n",
       "      <td>0.0</td>\n",
       "      <td>0</td>\n",
       "      <td>0.0</td>\n",
       "      <td>0</td>\n",
       "      <td>0</td>\n",
       "      <td>0.0</td>\n",
       "      <td>0</td>\n",
       "      <td>0</td>\n",
       "      <td>0</td>\n",
       "      <td>0</td>\n",
       "    </tr>\n",
       "    <tr>\n",
       "      <th>91400</th>\n",
       "      <td>2019-09-27 21:59:58.067000+00:00</td>\n",
       "      <td>56.475</td>\n",
       "      <td>0.03</td>\n",
       "      <td>0.0</td>\n",
       "      <td>0.0</td>\n",
       "      <td>-0.000266</td>\n",
       "      <td>-0.000620</td>\n",
       "      <td>-0.000797</td>\n",
       "      <td>-0.000974</td>\n",
       "      <td>-0.001505</td>\n",
       "      <td>...</td>\n",
       "      <td>0.0</td>\n",
       "      <td>0</td>\n",
       "      <td>0.0</td>\n",
       "      <td>0</td>\n",
       "      <td>0</td>\n",
       "      <td>0.0</td>\n",
       "      <td>0</td>\n",
       "      <td>0</td>\n",
       "      <td>0</td>\n",
       "      <td>0</td>\n",
       "    </tr>\n",
       "    <tr>\n",
       "      <th>91401</th>\n",
       "      <td>2019-09-27 21:59:59.067000+00:00</td>\n",
       "      <td>56.460</td>\n",
       "      <td>0.04</td>\n",
       "      <td>0.0</td>\n",
       "      <td>0.0</td>\n",
       "      <td>-0.000354</td>\n",
       "      <td>-0.000708</td>\n",
       "      <td>-0.001240</td>\n",
       "      <td>-0.001417</td>\n",
       "      <td>-0.001948</td>\n",
       "      <td>...</td>\n",
       "      <td>0.0</td>\n",
       "      <td>0</td>\n",
       "      <td>0.0</td>\n",
       "      <td>0</td>\n",
       "      <td>0</td>\n",
       "      <td>0.0</td>\n",
       "      <td>0</td>\n",
       "      <td>0</td>\n",
       "      <td>0</td>\n",
       "      <td>0</td>\n",
       "    </tr>\n",
       "  </tbody>\n",
       "</table>\n",
       "<p>5 rows × 155 columns</p>\n",
       "</div>"
      ],
      "text/plain": [
       "                            system_time  midpoint  spread  buys  sells  \\\n",
       "91397  2019-09-27 21:59:55.067000+00:00    56.475    0.03   0.0    0.0   \n",
       "91398  2019-09-27 21:59:56.067000+00:00    56.475    0.03   0.0    0.0   \n",
       "91399  2019-09-27 21:59:57.067000+00:00    56.475    0.03   0.0    0.0   \n",
       "91400  2019-09-27 21:59:58.067000+00:00    56.475    0.03   0.0    0.0   \n",
       "91401  2019-09-27 21:59:59.067000+00:00    56.460    0.04   0.0    0.0   \n",
       "\n",
       "       bids_distance_0  bids_distance_1  bids_distance_2  bids_distance_3  \\\n",
       "91397        -0.000266        -0.000620        -0.000797        -0.000974   \n",
       "91398        -0.000266        -0.000620        -0.000797        -0.000974   \n",
       "91399        -0.000266        -0.000620        -0.000797        -0.000974   \n",
       "91400        -0.000266        -0.000620        -0.000797        -0.000974   \n",
       "91401        -0.000354        -0.000708        -0.001240        -0.001417   \n",
       "\n",
       "       bids_distance_4  ...  asks_market_notional_5  asks_market_notional_6  \\\n",
       "91397        -0.001151  ...                     0.0                       0   \n",
       "91398        -0.001328  ...                     0.0                       0   \n",
       "91399        -0.001328  ...                     0.0                       0   \n",
       "91400        -0.001505  ...                     0.0                       0   \n",
       "91401        -0.001948  ...                     0.0                       0   \n",
       "\n",
       "       asks_market_notional_7  asks_market_notional_8  asks_market_notional_9  \\\n",
       "91397                     0.0                       0                       0   \n",
       "91398                     0.0                       0                       0   \n",
       "91399                     0.0                       0                       0   \n",
       "91400                     0.0                       0                       0   \n",
       "91401                     0.0                       0                       0   \n",
       "\n",
       "       asks_market_notional_10  asks_market_notional_11  \\\n",
       "91397                      0.0                        0   \n",
       "91398                      0.0                        0   \n",
       "91399                      0.0                        0   \n",
       "91400                      0.0                        0   \n",
       "91401                      0.0                        0   \n",
       "\n",
       "       asks_market_notional_12  asks_market_notional_13  \\\n",
       "91397                        0                        0   \n",
       "91398                        0                        0   \n",
       "91399                        0                        0   \n",
       "91400                        0                        0   \n",
       "91401                        0                        0   \n",
       "\n",
       "       asks_market_notional_14  \n",
       "91397                        0  \n",
       "91398                        0  \n",
       "91399                        0  \n",
       "91400                        0  \n",
       "91401                        0  \n",
       "\n",
       "[5 rows x 155 columns]"
      ]
     },
     "execution_count": 14,
     "metadata": {},
     "output_type": "execute_result"
    }
   ],
   "source": [
    "df.tail(5)"
   ]
  },
  {
   "cell_type": "markdown",
   "metadata": {},
   "source": [
    "## This is a level 2 heading ##\n",
    "\n",
    "\n",
    "\n",
    "ABCDEFG"
   ]
  },
  {
   "cell_type": "code",
   "execution_count": 10,
   "metadata": {},
   "outputs": [
    {
     "data": {
      "text/plain": [
       "array(['system_time', 'midpoint', 'spread', 'buys', 'sells',\n",
       "       'bids_distance_0', 'bids_distance_1', 'bids_distance_2',\n",
       "       'bids_distance_3', 'bids_distance_4', 'bids_distance_5',\n",
       "       'bids_distance_6', 'bids_distance_7', 'bids_distance_8',\n",
       "       'bids_distance_9', 'bids_distance_10', 'bids_distance_11',\n",
       "       'bids_distance_12', 'bids_distance_13', 'bids_distance_14',\n",
       "       'bids_notional_0', 'bids_notional_1', 'bids_notional_2',\n",
       "       'bids_notional_3', 'bids_notional_4', 'bids_notional_5',\n",
       "       'bids_notional_6', 'bids_notional_7', 'bids_notional_8',\n",
       "       'bids_notional_9', 'bids_notional_10', 'bids_notional_11',\n",
       "       'bids_notional_12', 'bids_notional_13', 'bids_notional_14',\n",
       "       'bids_cancel_notional_0', 'bids_cancel_notional_1',\n",
       "       'bids_cancel_notional_2', 'bids_cancel_notional_3',\n",
       "       'bids_cancel_notional_4', 'bids_cancel_notional_5',\n",
       "       'bids_cancel_notional_6', 'bids_cancel_notional_7',\n",
       "       'bids_cancel_notional_8', 'bids_cancel_notional_9',\n",
       "       'bids_cancel_notional_10', 'bids_cancel_notional_11',\n",
       "       'bids_cancel_notional_12', 'bids_cancel_notional_13',\n",
       "       'bids_cancel_notional_14', 'bids_limit_notional_0',\n",
       "       'bids_limit_notional_1', 'bids_limit_notional_2',\n",
       "       'bids_limit_notional_3', 'bids_limit_notional_4',\n",
       "       'bids_limit_notional_5', 'bids_limit_notional_6',\n",
       "       'bids_limit_notional_7', 'bids_limit_notional_8',\n",
       "       'bids_limit_notional_9', 'bids_limit_notional_10',\n",
       "       'bids_limit_notional_11', 'bids_limit_notional_12',\n",
       "       'bids_limit_notional_13', 'bids_limit_notional_14',\n",
       "       'bids_market_notional_0', 'bids_market_notional_1',\n",
       "       'bids_market_notional_2', 'bids_market_notional_3',\n",
       "       'bids_market_notional_4', 'bids_market_notional_5',\n",
       "       'bids_market_notional_6', 'bids_market_notional_7',\n",
       "       'bids_market_notional_8', 'bids_market_notional_9',\n",
       "       'bids_market_notional_10', 'bids_market_notional_11',\n",
       "       'bids_market_notional_12', 'bids_market_notional_13',\n",
       "       'bids_market_notional_14', 'asks_distance_0', 'asks_distance_1',\n",
       "       'asks_distance_2', 'asks_distance_3', 'asks_distance_4',\n",
       "       'asks_distance_5', 'asks_distance_6', 'asks_distance_7',\n",
       "       'asks_distance_8', 'asks_distance_9', 'asks_distance_10',\n",
       "       'asks_distance_11', 'asks_distance_12', 'asks_distance_13',\n",
       "       'asks_distance_14', 'asks_notional_0', 'asks_notional_1',\n",
       "       'asks_notional_2', 'asks_notional_3', 'asks_notional_4',\n",
       "       'asks_notional_5', 'asks_notional_6', 'asks_notional_7',\n",
       "       'asks_notional_8', 'asks_notional_9', 'asks_notional_10',\n",
       "       'asks_notional_11', 'asks_notional_12', 'asks_notional_13',\n",
       "       'asks_notional_14', 'asks_cancel_notional_0',\n",
       "       'asks_cancel_notional_1', 'asks_cancel_notional_2',\n",
       "       'asks_cancel_notional_3', 'asks_cancel_notional_4',\n",
       "       'asks_cancel_notional_5', 'asks_cancel_notional_6',\n",
       "       'asks_cancel_notional_7', 'asks_cancel_notional_8',\n",
       "       'asks_cancel_notional_9', 'asks_cancel_notional_10',\n",
       "       'asks_cancel_notional_11', 'asks_cancel_notional_12',\n",
       "       'asks_cancel_notional_13', 'asks_cancel_notional_14',\n",
       "       'asks_limit_notional_0', 'asks_limit_notional_1',\n",
       "       'asks_limit_notional_2', 'asks_limit_notional_3',\n",
       "       'asks_limit_notional_4', 'asks_limit_notional_5',\n",
       "       'asks_limit_notional_6', 'asks_limit_notional_7',\n",
       "       'asks_limit_notional_8', 'asks_limit_notional_9',\n",
       "       'asks_limit_notional_10', 'asks_limit_notional_11',\n",
       "       'asks_limit_notional_12', 'asks_limit_notional_13',\n",
       "       'asks_limit_notional_14', 'asks_market_notional_0',\n",
       "       'asks_market_notional_1', 'asks_market_notional_2',\n",
       "       'asks_market_notional_3', 'asks_market_notional_4',\n",
       "       'asks_market_notional_5', 'asks_market_notional_6',\n",
       "       'asks_market_notional_7', 'asks_market_notional_8',\n",
       "       'asks_market_notional_9', 'asks_market_notional_10',\n",
       "       'asks_market_notional_11', 'asks_market_notional_12',\n",
       "       'asks_market_notional_13', 'asks_market_notional_14'], dtype=object)"
      ]
     },
     "execution_count": 10,
     "metadata": {},
     "output_type": "execute_result"
    }
   ],
   "source": [
    "df.columns.values"
   ]
  },
  {
   "cell_type": "code",
   "execution_count": 13,
   "metadata": {},
   "outputs": [
    {
     "data": {
      "text/plain": [
       "'bids_notional_10'"
      ]
     },
     "execution_count": 13,
     "metadata": {},
     "output_type": "execute_result"
    }
   ],
   "source": [
    "df.columns[30]"
   ]
  },
  {
   "cell_type": "code",
   "execution_count": 19,
   "metadata": {},
   "outputs": [
    {
     "data": {
      "text/plain": [
       "[<matplotlib.lines.Line2D at 0x7fdf336a8be0>]"
      ]
     },
     "execution_count": 19,
     "metadata": {},
     "output_type": "execute_result"
    },
    {
     "data": {
      "image/png": "[encoded data removed]",
      "text/plain": [
       "<Figure size 432x288 with 1 Axes>"
      ]
     },
     "metadata": {
      "needs_background": "light"
     },
     "output_type": "display_data"
    }
   ],
   "source": [
    "plt.plot(df[\"midpoint\"])"
   ]
  },
  {
   "cell_type": "code",
   "execution_count": 12,
   "metadata": {},
   "outputs": [
    {
     "data": {
      "text/plain": [
       "[<matplotlib.lines.Line2D at 0x7f8536d97d30>]"
      ]
     },
     "execution_count": 12,
     "metadata": {},
     "output_type": "execute_result"
    },
    {
     "data": {
      "image/png": "[encoded data removed]",
      "text/plain": [
       "<Figure size 432x288 with 1 Axes>"
      ]
     },
     "metadata": {
      "needs_background": "light"
     },
     "output_type": "display_data"
    }
   ],
   "source": [
    "plt.plot(df[\"midpoint\"][1:1000])"
   ]
  },
  {
   "cell_type": "code",
   "execution_count": 13,
   "metadata": {},
   "outputs": [
    {
     "data": {
      "text/plain": [
       "[<matplotlib.lines.Line2D at 0x7f8536e00828>]"
      ]
     },
     "execution_count": 13,
     "metadata": {},
     "output_type": "execute_result"
    },
    {
     "data": {
      "image/png": "[encoded data removed]",
      "text/plain": [
       "<Figure size 432x288 with 1 Axes>"
      ]
     },
     "metadata": {
      "needs_background": "light"
     },
     "output_type": "display_data"
    }
   ],
   "source": [
    "plt.plot(df[\"spread\"][1:1000])"
   ]
  },
  {
   "cell_type": "code",
   "execution_count": 23,
   "metadata": {},
   "outputs": [
    {
     "data": {
      "text/plain": [
       "[<matplotlib.lines.Line2D at 0x7fdf33d7ccf8>]"
      ]
     },
     "execution_count": 23,
     "metadata": {},
     "output_type": "execute_result"
    },
    {
     "data": {
      "image/png": "[encoded data removed]",
      "text/plain": [
       "<Figure size 432x288 with 1 Axes>"
      ]
     },
     "metadata": {
      "needs_background": "light"
     },
     "output_type": "display_data"
    }
   ],
   "source": [
    "plt.plot(df[\"spread\"])"
   ]
  },
  {
   "cell_type": "code",
   "execution_count": 25,
   "metadata": {},
   "outputs": [
    {
     "data": {
      "text/plain": [
       "[<matplotlib.lines.Line2D at 0x7fdf348317b8>]"
      ]
     },
     "execution_count": 25,
     "metadata": {},
     "output_type": "execute_result"
    },
    {
     "data": {
      "image/png": "[encoded data removed]",
      "text/plain": [
       "<Figure size 432x288 with 1 Axes>"
      ]
     },
     "metadata": {
      "needs_background": "light"
     },
     "output_type": "display_data"
    }
   ],
   "source": [
    "plt.plot(df[\"bids_distance_0\"])"
   ]
  },
  {
   "cell_type": "code",
   "execution_count": 27,
   "metadata": {},
   "outputs": [
    {
     "data": {
      "text/plain": [
       "[<matplotlib.lines.Line2D at 0x7fdf353c5f28>]"
      ]
     },
     "execution_count": 27,
     "metadata": {},
     "output_type": "execute_result"
    },
    {
     "data": {
      "image/png": "[encoded data removed]",
      "text/plain": [
       "<Figure size 432x288 with 1 Axes>"
      ]
     },
     "metadata": {
      "needs_background": "light"
     },
     "output_type": "display_data"
    }
   ],
   "source": [
    "plt.plot(df[\"asks_market_notional_0\"])"
   ]
  },
  {
   "cell_type": "code",
   "execution_count": 28,
   "metadata": {},
   "outputs": [
    {
     "data": {
      "text/plain": [
       "[<matplotlib.lines.Line2D at 0x7fdf355e6588>]"
      ]
     },
     "execution_count": 28,
     "metadata": {},
     "output_type": "execute_result"
    },
    {
     "data": {
      "image/png": "[encoded data removed]",
      "text/plain": [
       "<Figure size 432x288 with 1 Axes>"
      ]
     },
     "metadata": {
      "needs_background": "light"
     },
     "output_type": "display_data"
    }
   ],
   "source": [
    "plt.plot(df[\"sells\"])"
   ]
  }
 ],
 "metadata": {
  "kernelspec": {
   "display_name": "Python 3",
   "language": "python",
   "name": "python3"
  },
  "language_info": {
   "codemirror_mode": {
    "name": "ipython",
    "version": 3
   },
   "file_extension": ".py",
   "mimetype": "text/x-python",
   "name": "python",
   "nbconvert_exporter": "python",
   "pygments_lexer": "ipython3",
   "version": "3.6.12"
  }
 },
 "nbformat": 4,
 "nbformat_minor": 4
}
