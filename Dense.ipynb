{
 "cells": [
  {
   "cell_type": "code",
   "execution_count": 19,
   "metadata": {},
   "outputs": [],
   "source": [
    "import pandas as pd\n",
    "import numpy as np\n",
    "import keras\n",
    "import matplotlib.pyplot as plt\n",
    "from keras.layers import Dense\n",
    "from keras.regularizers import l2"
   ]
  },
  {
   "cell_type": "code",
   "execution_count": 20,
   "metadata": {},
   "outputs": [],
   "source": [
    "data_std = pd.read_csv(\"data/final/1min/BidAsk/BTC_std.csv\")\n",
    "Y = pd.read_csv(\"data/final/1min/BTC_Y_std.csv\")\n",
    "\n",
    "#data_std = pd.read_csv(\"data/final/1min/OrderFlow/BTC_std.csv\")\n",
    "#Y = pd.read_csv(\"data/final/1min/BidAsk/BTC_Y_std.csv\")\n",
    "\n",
    "\n",
    "#data_std = pd.read_csv(\"data/final/1min/HF/BTC_std.csv\")\n",
    "#Y = pd.read_csv(\"data/final/1min/BidAsk/BTC_Y_std.csv\")"
   ]
  },
  {
   "cell_type": "code",
   "execution_count": 21,
   "metadata": {},
   "outputs": [
    {
     "data": {
      "text/html": [
       "<div>\n",
       "<style scoped>\n",
       "    .dataframe tbody tr th:only-of-type {\n",
       "        vertical-align: middle;\n",
       "    }\n",
       "\n",
       "    .dataframe tbody tr th {\n",
       "        vertical-align: top;\n",
       "    }\n",
       "\n",
       "    .dataframe thead th {\n",
       "        text-align: right;\n",
       "    }\n",
       "</style>\n",
       "<table border=\"1\" class=\"dataframe\">\n",
       "  <thead>\n",
       "    <tr style=\"text-align: right;\">\n",
       "      <th></th>\n",
       "      <th>y</th>\n",
       "    </tr>\n",
       "  </thead>\n",
       "  <tbody>\n",
       "    <tr>\n",
       "      <th>0</th>\n",
       "      <td>0</td>\n",
       "    </tr>\n",
       "    <tr>\n",
       "      <th>1</th>\n",
       "      <td>2</td>\n",
       "    </tr>\n",
       "    <tr>\n",
       "      <th>2</th>\n",
       "      <td>2</td>\n",
       "    </tr>\n",
       "    <tr>\n",
       "      <th>3</th>\n",
       "      <td>2</td>\n",
       "    </tr>\n",
       "    <tr>\n",
       "      <th>4</th>\n",
       "      <td>1</td>\n",
       "    </tr>\n",
       "    <tr>\n",
       "      <th>...</th>\n",
       "      <td>...</td>\n",
       "    </tr>\n",
       "    <tr>\n",
       "      <th>17043</th>\n",
       "      <td>1</td>\n",
       "    </tr>\n",
       "    <tr>\n",
       "      <th>17044</th>\n",
       "      <td>0</td>\n",
       "    </tr>\n",
       "    <tr>\n",
       "      <th>17045</th>\n",
       "      <td>2</td>\n",
       "    </tr>\n",
       "    <tr>\n",
       "      <th>17046</th>\n",
       "      <td>1</td>\n",
       "    </tr>\n",
       "    <tr>\n",
       "      <th>17047</th>\n",
       "      <td>1</td>\n",
       "    </tr>\n",
       "  </tbody>\n",
       "</table>\n",
       "<p>17048 rows × 1 columns</p>\n",
       "</div>"
      ],
      "text/plain": [
       "       y\n",
       "0      0\n",
       "1      2\n",
       "2      2\n",
       "3      2\n",
       "4      1\n",
       "...   ..\n",
       "17043  1\n",
       "17044  0\n",
       "17045  2\n",
       "17046  1\n",
       "17047  1\n",
       "\n",
       "[17048 rows x 1 columns]"
      ]
     },
     "execution_count": 21,
     "metadata": {},
     "output_type": "execute_result"
    }
   ],
   "source": [
    "Y"
   ]
  },
  {
   "cell_type": "code",
   "execution_count": 22,
   "metadata": {},
   "outputs": [],
   "source": [
    "def CreateTestTrain(data_std, Y, window):\n",
    "    r,x = data_std.shape\n",
    "    \n",
    "    dat = np.zeros((r-window, window, x))\n",
    "    \n",
    "\n",
    "    for i in range(r-window):\n",
    "        dat[i,:,:] = data_std.iloc[i:i+window,:].values\n",
    "\n",
    "\n",
    "\n",
    "    train = dat[:14000, :,:]\n",
    "    val = dat[14000:15500, :,:]\n",
    "    test = dat[15500:, :,:]\n",
    "\n",
    "    Y_train = Y[window:14005]\n",
    "    Y_val = Y[14000 + window:15500 + window]\n",
    "    Y_test = Y[15500 + window:]\n",
    "    \n",
    "    return train, val, test, Y_train, Y_val, Y_test\n",
    "    \n",
    "    "
   ]
  },
  {
   "cell_type": "code",
   "execution_count": 23,
   "metadata": {},
   "outputs": [
    {
     "ename": "SyntaxError",
     "evalue": "unexpected EOF while parsing (<ipython-input-23-c1861c929bdf>, line 14)",
     "output_type": "error",
     "traceback": [
      "\u001b[0;36m  File \u001b[0;32m\"<ipython-input-23-c1861c929bdf>\"\u001b[0;36m, line \u001b[0;32m14\u001b[0m\n\u001b[0;31m    keras.layers.\u001b[0m\n\u001b[0m                 ^\u001b[0m\n\u001b[0;31mSyntaxError\u001b[0m\u001b[0;31m:\u001b[0m unexpected EOF while parsing\n"
     ]
    }
   ],
   "source": [
    "model = keras.models.Sequential([\n",
    "keras.layers.Flatten(input_shape=[5, x]),\n",
    "#keras.layers.Dense(256, activation=\"relu\"),\n",
    "#keras.layers.Dropout(0.2), \n",
    "#keras.layers.Dense(128, activation=\"relu\"),\n",
    "#keras.layers.Dropout(0.15), \n",
    "#keras.layers.Dense(64, activation=\"relu\", kernel_regularizer=l2(0.01), bias_regularizer=l2(0.01)),\n",
    "#keras.layers.Dropout(0.1), \n",
    "#keras.layers.Dense(32, activation=\"relu\", kernel_regularizer=l2(0.01), bias_regularizer=l2(0.01)),\n",
    "#keras.layers.Dropout(0.05), \n",
    "keras.layers.Dense(16, activation=\"relu\"),\n",
    "keras.layers.Dense(8, activation=\"relu\"),\n",
    "keras.layers.Dense(4, activation=\"relu\"),\n",
    "keras.layers."
   ]
  },
  {
   "cell_type": "code",
   "execution_count": 24,
   "metadata": {},
   "outputs": [],
   "source": [
    "def Model_1(train,val,test,Y_train,Y_val, Y_test, EP, window, x):\n",
    "    model = keras.models.Sequential([\n",
    "    keras.layers.Flatten(input_shape=[window, x]),\n",
    "    keras.layers.Dense(4, activation=\"relu\"),\n",
    "    keras.layers.Dense(3, activation=\"softmax\")\n",
    "    ])\n",
    "    \n",
    "    \n",
    "    model.compile(loss=\"sparse_categorical_crossentropy\", optimizer=\"adam\", metrics=[\"accuracy\"])\n",
    "    history = model.fit(train, Y_train, epochs=EP, validation_data = (val,Y_val))\n",
    "    \n",
    "    return history, model\n",
    "    "
   ]
  },
  {
   "cell_type": "code",
   "execution_count": 25,
   "metadata": {},
   "outputs": [],
   "source": [
    "def Model_2(train,val,test,Y_train,Y_val, Y_test, EP, window, x):\n",
    "    model = keras.models.Sequential([\n",
    "    keras.layers.Flatten(input_shape=[window, x]),\n",
    "    keras.layers.Dense(8, activation=\"relu\"),\n",
    "    keras.layers.Dense(4, activation=\"relu\"),\n",
    "    keras.layers.Dense(3, activation=\"softmax\")\n",
    "    ])\n",
    "        \n",
    "    model.compile(loss=\"sparse_categorical_crossentropy\", optimizer=\"adam\", metrics=[\"accuracy\"])\n",
    "    history = model.fit(train, Y_train, epochs=EP, validation_data = (val,Y_val))\n",
    "    \n",
    "    return history, model\n",
    "    "
   ]
  },
  {
   "cell_type": "code",
   "execution_count": 26,
   "metadata": {},
   "outputs": [],
   "source": [
    "def Model_3(train,val,test,Y_train,Y_val, Y_test, EP, window, x):\n",
    "    model = keras.models.Sequential([\n",
    "    keras.layers.Flatten(input_shape=[window, x]),\n",
    "    keras.layers.Dense(8, activation=\"relu\"),\n",
    "    keras.layers.Dense(8, activation=\"relu\"),\n",
    "    keras.layers.Dense(4, activation=\"relu\"),\n",
    "    keras.layers.Dense(3, activation=\"softmax\")\n",
    "    ])\n",
    "        \n",
    "    model.compile(loss=\"sparse_categorical_crossentropy\", optimizer=\"adam\", metrics=[\"accuracy\"])\n",
    "    history = model.fit(train, Y_train, epochs=EP, validation_data = (val,Y_val))\n",
    "    \n",
    "    return history, model"
   ]
  },
  {
   "cell_type": "code",
   "execution_count": 27,
   "metadata": {},
   "outputs": [],
   "source": [
    "def Run_Dense(data_std, Y, name, window = 5, EP = 50):\n",
    "    r,x = data_std.shape\n",
    "    \n",
    "    train, val, test, Y_train, Y_val, Y_test = CreateTestTrain(data_std, Y, window)\n",
    "    \n",
    "    His1, Mod1 = Model_1(train,val,test,Y_train,Y_val, Y_test, EP, window, x)\n",
    "    His2, Mod2 = Model_2(train,val,test,Y_train,Y_val, Y_test, EP, window, x)\n",
    "    His3, Mod3 = Model_3(train,val,test,Y_train,Y_val, Y_test, EP, window, x)\n",
    "    \n",
    "    \n",
    "    return test, Y_test, His1, His2, His3, Mod1, Mod2, Mod3"
   ]
  },
  {
   "cell_type": "code",
   "execution_count": 28,
   "metadata": {
    "scrolled": true
   },
   "outputs": [
    {
     "name": "stdout",
     "output_type": "stream",
     "text": [
      "Epoch 1/50\n",
      "438/438 [==============================] - 1s 2ms/step - loss: 1.1062 - accuracy: 0.4621 - val_loss: 1.0998 - val_accuracy: 0.4073\n",
      "Epoch 2/50\n",
      "438/438 [==============================] - 0s 986us/step - loss: 0.9821 - accuracy: 0.5698 - val_loss: 1.0976 - val_accuracy: 0.4080\n",
      "Epoch 3/50\n",
      "438/438 [==============================] - 0s 908us/step - loss: 0.9679 - accuracy: 0.5763 - val_loss: 1.1050 - val_accuracy: 0.4067\n",
      "Epoch 4/50\n",
      "438/438 [==============================] - 0s 1ms/step - loss: 0.9705 - accuracy: 0.5708 - val_loss: 1.1173 - val_accuracy: 0.4080\n",
      "Epoch 5/50\n",
      "438/438 [==============================] - 1s 1ms/step - loss: 0.9729 - accuracy: 0.5684 - val_loss: 1.1250 - val_accuracy: 0.4100\n",
      "Epoch 6/50\n",
      "438/438 [==============================] - 0s 1ms/step - loss: 0.9667 - accuracy: 0.5682 - val_loss: 1.1113 - val_accuracy: 0.4067\n",
      "Epoch 7/50\n",
      "438/438 [==============================] - 0s 993us/step - loss: 0.9604 - accuracy: 0.5753 - val_loss: 1.1035 - val_accuracy: 0.4100\n",
      "Epoch 8/50\n",
      "438/438 [==============================] - 1s 1ms/step - loss: 0.9641 - accuracy: 0.5715 - val_loss: 1.1104 - val_accuracy: 0.4293\n",
      "Epoch 9/50\n",
      "438/438 [==============================] - 0s 1ms/step - loss: 0.9584 - accuracy: 0.5810 - val_loss: 1.1060 - val_accuracy: 0.4380\n",
      "Epoch 10/50\n",
      "438/438 [==============================] - 1s 1ms/step - loss: 0.9593 - accuracy: 0.5790 - val_loss: 1.0805 - val_accuracy: 0.4393\n",
      "Epoch 11/50\n",
      "438/438 [==============================] - 1s 1ms/step - loss: 0.9502 - accuracy: 0.5838 - val_loss: 1.0788 - val_accuracy: 0.4460\n",
      "Epoch 12/50\n",
      "438/438 [==============================] - 0s 982us/step - loss: 0.9605 - accuracy: 0.5716 - val_loss: 1.0918 - val_accuracy: 0.4453\n",
      "Epoch 13/50\n",
      "438/438 [==============================] - 0s 926us/step - loss: 0.9636 - accuracy: 0.5699 - val_loss: 1.0739 - val_accuracy: 0.4487\n",
      "Epoch 14/50\n",
      "438/438 [==============================] - 0s 913us/step - loss: 0.9567 - accuracy: 0.5754 - val_loss: 1.0740 - val_accuracy: 0.4473\n",
      "Epoch 15/50\n",
      "438/438 [==============================] - 0s 940us/step - loss: 0.9511 - accuracy: 0.5815 - val_loss: 1.0781 - val_accuracy: 0.4533\n",
      "Epoch 16/50\n",
      "438/438 [==============================] - 0s 938us/step - loss: 0.9549 - accuracy: 0.5784 - val_loss: 1.0737 - val_accuracy: 0.4467\n",
      "Epoch 17/50\n",
      "438/438 [==============================] - 0s 910us/step - loss: 0.9578 - accuracy: 0.5729 - val_loss: 1.0947 - val_accuracy: 0.4487\n",
      "Epoch 18/50\n",
      "438/438 [==============================] - 0s 936us/step - loss: 0.9552 - accuracy: 0.5758 - val_loss: 1.0745 - val_accuracy: 0.4460\n",
      "Epoch 19/50\n",
      "438/438 [==============================] - 0s 930us/step - loss: 0.9542 - accuracy: 0.5816 - val_loss: 1.0689 - val_accuracy: 0.4467\n",
      "Epoch 20/50\n",
      "438/438 [==============================] - 0s 1ms/step - loss: 0.9512 - accuracy: 0.5793 - val_loss: 1.0710 - val_accuracy: 0.4480\n",
      "Epoch 21/50\n",
      "438/438 [==============================] - 0s 985us/step - loss: 0.9438 - accuracy: 0.5869 - val_loss: 1.0704 - val_accuracy: 0.4540\n",
      "Epoch 22/50\n",
      "438/438 [==============================] - 1s 1ms/step - loss: 0.9462 - accuracy: 0.5832 - val_loss: 1.0832 - val_accuracy: 0.4527\n",
      "Epoch 23/50\n",
      "438/438 [==============================] - 0s 1ms/step - loss: 0.9586 - accuracy: 0.5772 - val_loss: 1.0765 - val_accuracy: 0.4507\n",
      "Epoch 24/50\n",
      "438/438 [==============================] - 0s 1ms/step - loss: 0.9488 - accuracy: 0.5830 - val_loss: 1.0757 - val_accuracy: 0.4493\n",
      "Epoch 25/50\n",
      "438/438 [==============================] - 0s 1ms/step - loss: 0.9516 - accuracy: 0.5813 - val_loss: 1.0765 - val_accuracy: 0.4473\n",
      "Epoch 26/50\n",
      "438/438 [==============================] - 0s 1ms/step - loss: 0.9470 - accuracy: 0.5808 - val_loss: 1.0761 - val_accuracy: 0.4473\n",
      "Epoch 27/50\n",
      "438/438 [==============================] - 0s 990us/step - loss: 0.9484 - accuracy: 0.5826 - val_loss: 1.0782 - val_accuracy: 0.4493\n",
      "Epoch 28/50\n",
      "438/438 [==============================] - 0s 943us/step - loss: 0.9522 - accuracy: 0.5770 - val_loss: 1.0780 - val_accuracy: 0.4513\n",
      "Epoch 29/50\n",
      "438/438 [==============================] - 0s 989us/step - loss: 0.9518 - accuracy: 0.5789 - val_loss: 1.0768 - val_accuracy: 0.4567\n",
      "Epoch 30/50\n",
      "438/438 [==============================] - 1s 1ms/step - loss: 0.9554 - accuracy: 0.5748 - val_loss: 1.0764 - val_accuracy: 0.4533\n",
      "Epoch 31/50\n",
      "438/438 [==============================] - 1s 1ms/step - loss: 0.9531 - accuracy: 0.5769 - val_loss: 1.0867 - val_accuracy: 0.4520\n",
      "Epoch 32/50\n",
      "438/438 [==============================] - 1s 1ms/step - loss: 0.9495 - accuracy: 0.5827 - val_loss: 1.1156 - val_accuracy: 0.4400\n",
      "Epoch 33/50\n",
      "438/438 [==============================] - 1s 1ms/step - loss: 0.9631 - accuracy: 0.5663 - val_loss: 1.0772 - val_accuracy: 0.4493\n",
      "Epoch 34/50\n",
      "438/438 [==============================] - 1s 1ms/step - loss: 0.9551 - accuracy: 0.5772 - val_loss: 1.0893 - val_accuracy: 0.4513\n",
      "Epoch 35/50\n",
      "438/438 [==============================] - 0s 1ms/step - loss: 0.9507 - accuracy: 0.5764 - val_loss: 1.0948 - val_accuracy: 0.4480\n",
      "Epoch 36/50\n",
      "438/438 [==============================] - 1s 1ms/step - loss: 0.9548 - accuracy: 0.5733 - val_loss: 1.0901 - val_accuracy: 0.4520\n",
      "Epoch 37/50\n",
      "438/438 [==============================] - 1s 1ms/step - loss: 0.9482 - accuracy: 0.5788 - val_loss: 1.0823 - val_accuracy: 0.4527\n",
      "Epoch 38/50\n",
      "438/438 [==============================] - 1s 2ms/step - loss: 0.9519 - accuracy: 0.5773 - val_loss: 1.0930 - val_accuracy: 0.4533\n",
      "Epoch 39/50\n",
      "438/438 [==============================] - 0s 1ms/step - loss: 0.9400 - accuracy: 0.5894 - val_loss: 1.0754 - val_accuracy: 0.4527\n",
      "Epoch 40/50\n",
      "438/438 [==============================] - 1s 1ms/step - loss: 0.9523 - accuracy: 0.5721 - val_loss: 1.0906 - val_accuracy: 0.4480\n",
      "Epoch 41/50\n",
      "438/438 [==============================] - 1s 1ms/step - loss: 0.9549 - accuracy: 0.5757 - val_loss: 1.0930 - val_accuracy: 0.4547\n",
      "Epoch 42/50\n",
      "438/438 [==============================] - 0s 1ms/step - loss: 0.9539 - accuracy: 0.5744 - val_loss: 1.1035 - val_accuracy: 0.4507\n",
      "Epoch 43/50\n",
      "438/438 [==============================] - 1s 1ms/step - loss: 0.9452 - accuracy: 0.5837 - val_loss: 1.0806 - val_accuracy: 0.4527\n",
      "Epoch 44/50\n",
      "438/438 [==============================] - 1s 1ms/step - loss: 0.9431 - accuracy: 0.5807 - val_loss: 1.1143 - val_accuracy: 0.4553\n",
      "Epoch 45/50\n",
      "438/438 [==============================] - 0s 1ms/step - loss: 0.9545 - accuracy: 0.5754 - val_loss: 1.0901 - val_accuracy: 0.4520\n",
      "Epoch 46/50\n",
      "438/438 [==============================] - 0s 1ms/step - loss: 0.9452 - accuracy: 0.5805 - val_loss: 1.0882 - val_accuracy: 0.4513\n",
      "Epoch 47/50\n",
      "438/438 [==============================] - 0s 1ms/step - loss: 0.9477 - accuracy: 0.5801 - val_loss: 1.0913 - val_accuracy: 0.4560\n",
      "Epoch 48/50\n",
      "438/438 [==============================] - 1s 1ms/step - loss: 0.9465 - accuracy: 0.5775 - val_loss: 1.0895 - val_accuracy: 0.4587\n",
      "Epoch 49/50\n",
      "438/438 [==============================] - 1s 1ms/step - loss: 0.9413 - accuracy: 0.5853 - val_loss: 1.0917 - val_accuracy: 0.4540\n",
      "Epoch 50/50\n",
      "438/438 [==============================] - 1s 2ms/step - loss: 0.9502 - accuracy: 0.5767 - val_loss: 1.0914 - val_accuracy: 0.4573\n",
      "Epoch 1/50\n",
      "438/438 [==============================] - 1s 2ms/step - loss: 1.0661 - accuracy: 0.5414 - val_loss: 1.0912 - val_accuracy: 0.4060\n",
      "Epoch 2/50\n",
      "438/438 [==============================] - 0s 1ms/step - loss: 0.9720 - accuracy: 0.5718 - val_loss: 1.0929 - val_accuracy: 0.4060\n",
      "Epoch 3/50\n",
      "438/438 [==============================] - 0s 1ms/step - loss: 0.9691 - accuracy: 0.5702 - val_loss: 1.0991 - val_accuracy: 0.4047\n",
      "Epoch 4/50\n",
      "438/438 [==============================] - 0s 1ms/step - loss: 0.9605 - accuracy: 0.5752 - val_loss: 1.0949 - val_accuracy: 0.4053\n",
      "Epoch 5/50\n",
      "438/438 [==============================] - 0s 993us/step - loss: 0.9564 - accuracy: 0.5785 - val_loss: 1.0915 - val_accuracy: 0.4053\n",
      "Epoch 6/50\n",
      "438/438 [==============================] - 0s 1ms/step - loss: 0.9618 - accuracy: 0.5735 - val_loss: 1.0948 - val_accuracy: 0.4033\n",
      "Epoch 7/50\n",
      "438/438 [==============================] - 0s 1ms/step - loss: 0.9631 - accuracy: 0.5723 - val_loss: 1.0897 - val_accuracy: 0.4047\n",
      "Epoch 8/50\n"
     ]
    },
    {
     "name": "stdout",
     "output_type": "stream",
     "text": [
      "438/438 [==============================] - 0s 1ms/step - loss: 0.9548 - accuracy: 0.5789 - val_loss: 1.0860 - val_accuracy: 0.4033\n",
      "Epoch 9/50\n",
      "438/438 [==============================] - 0s 1ms/step - loss: 0.9578 - accuracy: 0.5706 - val_loss: 1.0998 - val_accuracy: 0.4053\n",
      "Epoch 10/50\n",
      "438/438 [==============================] - 1s 1ms/step - loss: 0.9588 - accuracy: 0.5709 - val_loss: 1.0936 - val_accuracy: 0.4067\n",
      "Epoch 11/50\n",
      "438/438 [==============================] - 0s 1ms/step - loss: 0.9476 - accuracy: 0.5812 - val_loss: 1.0824 - val_accuracy: 0.4033\n",
      "Epoch 12/50\n",
      "438/438 [==============================] - 1s 1ms/step - loss: 0.9546 - accuracy: 0.5737 - val_loss: 1.0925 - val_accuracy: 0.4033\n",
      "Epoch 13/50\n",
      "438/438 [==============================] - 1s 3ms/step - loss: 0.9576 - accuracy: 0.5702 - val_loss: 1.0863 - val_accuracy: 0.4047\n",
      "Epoch 14/50\n",
      "438/438 [==============================] - 1s 3ms/step - loss: 0.9484 - accuracy: 0.5800 - val_loss: 1.0923 - val_accuracy: 0.4047\n",
      "Epoch 15/50\n",
      "438/438 [==============================] - 1s 2ms/step - loss: 0.9512 - accuracy: 0.5753 - val_loss: 1.0990 - val_accuracy: 0.4053\n",
      "Epoch 16/50\n",
      "438/438 [==============================] - 1s 2ms/step - loss: 0.9561 - accuracy: 0.5729 - val_loss: 1.0851 - val_accuracy: 0.4087\n",
      "Epoch 17/50\n",
      "438/438 [==============================] - 2s 4ms/step - loss: 0.9563 - accuracy: 0.5713 - val_loss: 1.0965 - val_accuracy: 0.4033\n",
      "Epoch 18/50\n",
      "438/438 [==============================] - 1s 2ms/step - loss: 0.9421 - accuracy: 0.5805 - val_loss: 1.0886 - val_accuracy: 0.4033\n",
      "Epoch 19/50\n",
      "438/438 [==============================] - 1s 2ms/step - loss: 0.9500 - accuracy: 0.5769 - val_loss: 1.0924 - val_accuracy: 0.4040\n",
      "Epoch 20/50\n",
      "438/438 [==============================] - 1s 3ms/step - loss: 0.9485 - accuracy: 0.5758 - val_loss: 1.0886 - val_accuracy: 0.4067\n",
      "Epoch 21/50\n",
      "438/438 [==============================] - 1s 2ms/step - loss: 0.9447 - accuracy: 0.5780 - val_loss: 1.0899 - val_accuracy: 0.4553\n",
      "Epoch 22/50\n",
      "438/438 [==============================] - 1s 3ms/step - loss: 0.9481 - accuracy: 0.5800 - val_loss: 1.0872 - val_accuracy: 0.4580\n",
      "Epoch 23/50\n",
      "438/438 [==============================] - 1s 3ms/step - loss: 0.9520 - accuracy: 0.5764 - val_loss: 1.0971 - val_accuracy: 0.4527\n",
      "Epoch 24/50\n",
      "438/438 [==============================] - 1s 2ms/step - loss: 0.9506 - accuracy: 0.5764 - val_loss: 1.0923 - val_accuracy: 0.4560\n",
      "Epoch 25/50\n",
      "438/438 [==============================] - 1s 3ms/step - loss: 0.9389 - accuracy: 0.5879 - val_loss: 1.0939 - val_accuracy: 0.4547\n",
      "Epoch 26/50\n",
      "438/438 [==============================] - 1s 2ms/step - loss: 0.9411 - accuracy: 0.5849 - val_loss: 1.0891 - val_accuracy: 0.4647\n",
      "Epoch 27/50\n",
      "438/438 [==============================] - 1s 2ms/step - loss: 0.9435 - accuracy: 0.5816 - val_loss: 1.0896 - val_accuracy: 0.4533\n",
      "Epoch 28/50\n",
      "438/438 [==============================] - 1s 2ms/step - loss: 0.9329 - accuracy: 0.5906 - val_loss: 1.0852 - val_accuracy: 0.4567\n",
      "Epoch 29/50\n",
      "438/438 [==============================] - 1s 2ms/step - loss: 0.9403 - accuracy: 0.5841 - val_loss: 1.0954 - val_accuracy: 0.4527\n",
      "Epoch 30/50\n",
      "438/438 [==============================] - 0s 1ms/step - loss: 0.9306 - accuracy: 0.5915 - val_loss: 1.0916 - val_accuracy: 0.4560\n",
      "Epoch 31/50\n",
      "438/438 [==============================] - 1s 1ms/step - loss: 0.9443 - accuracy: 0.5824 - val_loss: 1.0918 - val_accuracy: 0.4493\n",
      "Epoch 32/50\n",
      "438/438 [==============================] - 1s 1ms/step - loss: 0.9386 - accuracy: 0.5889 - val_loss: 1.0988 - val_accuracy: 0.4540\n",
      "Epoch 33/50\n",
      "438/438 [==============================] - 1s 1ms/step - loss: 0.9357 - accuracy: 0.5873 - val_loss: 1.0927 - val_accuracy: 0.4567\n",
      "Epoch 34/50\n",
      "438/438 [==============================] - 0s 1ms/step - loss: 0.9345 - accuracy: 0.5890 - val_loss: 1.0927 - val_accuracy: 0.4613\n",
      "Epoch 35/50\n",
      "438/438 [==============================] - 0s 1ms/step - loss: 0.9454 - accuracy: 0.5825 - val_loss: 1.0991 - val_accuracy: 0.4573\n",
      "Epoch 36/50\n",
      "438/438 [==============================] - 0s 1ms/step - loss: 0.9344 - accuracy: 0.5880 - val_loss: 1.0948 - val_accuracy: 0.4560\n",
      "Epoch 37/50\n",
      "438/438 [==============================] - 0s 1ms/step - loss: 0.9285 - accuracy: 0.5886 - val_loss: 1.1013 - val_accuracy: 0.4573\n",
      "Epoch 38/50\n",
      "438/438 [==============================] - 0s 1ms/step - loss: 0.9364 - accuracy: 0.5869 - val_loss: 1.0887 - val_accuracy: 0.4587\n",
      "Epoch 39/50\n",
      "438/438 [==============================] - 0s 1ms/step - loss: 0.9425 - accuracy: 0.5785 - val_loss: 1.1055 - val_accuracy: 0.4553\n",
      "Epoch 40/50\n",
      "438/438 [==============================] - 0s 1ms/step - loss: 0.9291 - accuracy: 0.5939 - val_loss: 1.0960 - val_accuracy: 0.4547\n",
      "Epoch 41/50\n",
      "438/438 [==============================] - 0s 1ms/step - loss: 0.9335 - accuracy: 0.5854 - val_loss: 1.0919 - val_accuracy: 0.4547\n",
      "Epoch 42/50\n",
      "438/438 [==============================] - 0s 1ms/step - loss: 0.9319 - accuracy: 0.5926 - val_loss: 1.1054 - val_accuracy: 0.4567\n",
      "Epoch 43/50\n",
      "438/438 [==============================] - 0s 1ms/step - loss: 0.9359 - accuracy: 0.5833 - val_loss: 1.1115 - val_accuracy: 0.4540\n",
      "Epoch 44/50\n",
      "438/438 [==============================] - 0s 1ms/step - loss: 0.9218 - accuracy: 0.5982 - val_loss: 1.0989 - val_accuracy: 0.4587\n",
      "Epoch 45/50\n",
      "438/438 [==============================] - 0s 1ms/step - loss: 0.9350 - accuracy: 0.5882 - val_loss: 1.0966 - val_accuracy: 0.4553\n",
      "Epoch 46/50\n",
      "438/438 [==============================] - 0s 1ms/step - loss: 0.9311 - accuracy: 0.5905 - val_loss: 1.0986 - val_accuracy: 0.4587\n",
      "Epoch 47/50\n",
      "438/438 [==============================] - 0s 1ms/step - loss: 0.9382 - accuracy: 0.5840 - val_loss: 1.1028 - val_accuracy: 0.4553: 0s - loss: 0.9385 - accuracy: 0.58\n",
      "Epoch 48/50\n",
      "438/438 [==============================] - 1s 2ms/step - loss: 0.9254 - accuracy: 0.5929 - val_loss: 1.0956 - val_accuracy: 0.4573\n",
      "Epoch 49/50\n",
      "438/438 [==============================] - 1s 2ms/step - loss: 0.9266 - accuracy: 0.5937 - val_loss: 1.1041 - val_accuracy: 0.4547\n",
      "Epoch 50/50\n",
      "438/438 [==============================] - 1s 2ms/step - loss: 0.9192 - accuracy: 0.5947 - val_loss: 1.1002 - val_accuracy: 0.4547\n",
      "Epoch 1/50\n",
      "438/438 [==============================] - 1s 2ms/step - loss: 1.0579 - accuracy: 0.4644 - val_loss: 1.0894 - val_accuracy: 0.4187\n",
      "Epoch 2/50\n",
      "438/438 [==============================] - 0s 1ms/step - loss: 0.9643 - accuracy: 0.5744 - val_loss: 1.0716 - val_accuracy: 0.4433\n",
      "Epoch 3/50\n",
      "438/438 [==============================] - 1s 1ms/step - loss: 0.9627 - accuracy: 0.5741 - val_loss: 1.0598 - val_accuracy: 0.4487\n",
      "Epoch 4/50\n",
      "438/438 [==============================] - 1s 1ms/step - loss: 0.9628 - accuracy: 0.5746 - val_loss: 1.0643 - val_accuracy: 0.4500\n",
      "Epoch 5/50\n",
      "438/438 [==============================] - 1s 1ms/step - loss: 0.9609 - accuracy: 0.5777 - val_loss: 1.0726 - val_accuracy: 0.4407\n",
      "Epoch 6/50\n",
      "438/438 [==============================] - 0s 1ms/step - loss: 0.9519 - accuracy: 0.5818 - val_loss: 1.0660 - val_accuracy: 0.4493\n",
      "Epoch 7/50\n",
      "438/438 [==============================] - 0s 995us/step - loss: 0.9571 - accuracy: 0.5774 - val_loss: 1.0817 - val_accuracy: 0.4567\n",
      "Epoch 8/50\n",
      "438/438 [==============================] - 0s 1ms/step - loss: 0.9547 - accuracy: 0.5777 - val_loss: 1.0825 - val_accuracy: 0.4407\n",
      "Epoch 9/50\n",
      "438/438 [==============================] - 0s 986us/step - loss: 0.9558 - accuracy: 0.5783 - val_loss: 1.0762 - val_accuracy: 0.4527\n",
      "Epoch 10/50\n",
      "438/438 [==============================] - 0s 1ms/step - loss: 0.9594 - accuracy: 0.5758 - val_loss: 1.0733 - val_accuracy: 0.4513\n",
      "Epoch 11/50\n",
      "438/438 [==============================] - 0s 1ms/step - loss: 0.9537 - accuracy: 0.5765 - val_loss: 1.0927 - val_accuracy: 0.4547\n",
      "Epoch 12/50\n",
      "438/438 [==============================] - 0s 1ms/step - loss: 0.9448 - accuracy: 0.5859 - val_loss: 1.0816 - val_accuracy: 0.4533\n",
      "Epoch 13/50\n",
      "438/438 [==============================] - 0s 985us/step - loss: 0.9487 - accuracy: 0.5829 - val_loss: 1.0807 - val_accuracy: 0.4553\n",
      "Epoch 14/50\n",
      "438/438 [==============================] - 0s 1ms/step - loss: 0.9497 - accuracy: 0.5792 - val_loss: 1.0852 - val_accuracy: 0.4493\n",
      "Epoch 15/50\n"
     ]
    },
    {
     "name": "stdout",
     "output_type": "stream",
     "text": [
      "438/438 [==============================] - 0s 1ms/step - loss: 0.9512 - accuracy: 0.5811 - val_loss: 1.0856 - val_accuracy: 0.4487\n",
      "Epoch 16/50\n",
      "438/438 [==============================] - 1s 1ms/step - loss: 0.9497 - accuracy: 0.5801 - val_loss: 1.0881 - val_accuracy: 0.4520\n",
      "Epoch 17/50\n",
      "438/438 [==============================] - 1s 1ms/step - loss: 0.9507 - accuracy: 0.5782 - val_loss: 1.0939 - val_accuracy: 0.4580\n",
      "Epoch 18/50\n",
      "438/438 [==============================] - 1s 1ms/step - loss: 0.9541 - accuracy: 0.5792 - val_loss: 1.1061 - val_accuracy: 0.4493\n",
      "Epoch 19/50\n",
      "438/438 [==============================] - 1s 1ms/step - loss: 0.9514 - accuracy: 0.5809 - val_loss: 1.1103 - val_accuracy: 0.4600\n",
      "Epoch 20/50\n",
      "438/438 [==============================] - 0s 1ms/step - loss: 0.9449 - accuracy: 0.5864 - val_loss: 1.0976 - val_accuracy: 0.4520\n",
      "Epoch 21/50\n",
      "438/438 [==============================] - 1s 1ms/step - loss: 0.9463 - accuracy: 0.5848 - val_loss: 1.1079 - val_accuracy: 0.4527\n",
      "Epoch 22/50\n",
      "438/438 [==============================] - 1s 1ms/step - loss: 0.9496 - accuracy: 0.5820 - val_loss: 1.1043 - val_accuracy: 0.4480\n",
      "Epoch 23/50\n",
      "438/438 [==============================] - 0s 1ms/step - loss: 0.9399 - accuracy: 0.5876 - val_loss: 1.1059 - val_accuracy: 0.4527\n",
      "Epoch 24/50\n",
      "438/438 [==============================] - 1s 2ms/step - loss: 0.9408 - accuracy: 0.5870 - val_loss: 1.1166 - val_accuracy: 0.4527\n",
      "Epoch 25/50\n",
      "438/438 [==============================] - 1s 2ms/step - loss: 0.9358 - accuracy: 0.5914 - val_loss: 1.1032 - val_accuracy: 0.4493\n",
      "Epoch 26/50\n",
      "438/438 [==============================] - 1s 2ms/step - loss: 0.9407 - accuracy: 0.5900 - val_loss: 1.1180 - val_accuracy: 0.4493\n",
      "Epoch 27/50\n",
      "438/438 [==============================] - 1s 2ms/step - loss: 0.9366 - accuracy: 0.5892 - val_loss: 1.1293 - val_accuracy: 0.4480\n",
      "Epoch 28/50\n",
      "438/438 [==============================] - 1s 2ms/step - loss: 0.9361 - accuracy: 0.5915 - val_loss: 1.1336 - val_accuracy: 0.4567\n",
      "Epoch 29/50\n",
      "438/438 [==============================] - 1s 3ms/step - loss: 0.9285 - accuracy: 0.5981 - val_loss: 1.1426 - val_accuracy: 0.4487\n",
      "Epoch 30/50\n",
      "438/438 [==============================] - 1s 1ms/step - loss: 0.9381 - accuracy: 0.5892 - val_loss: 1.1480 - val_accuracy: 0.4407\n",
      "Epoch 31/50\n",
      "438/438 [==============================] - 0s 1ms/step - loss: 0.9337 - accuracy: 0.5932 - val_loss: 1.1435 - val_accuracy: 0.4500\n",
      "Epoch 32/50\n",
      "438/438 [==============================] - 1s 1ms/step - loss: 0.9344 - accuracy: 0.5956 - val_loss: 1.1335 - val_accuracy: 0.4467\n",
      "Epoch 33/50\n",
      "438/438 [==============================] - 1s 1ms/step - loss: 0.9350 - accuracy: 0.5933 - val_loss: 1.1398 - val_accuracy: 0.4387\n",
      "Epoch 34/50\n",
      "438/438 [==============================] - 0s 1ms/step - loss: 0.9375 - accuracy: 0.5893 - val_loss: 1.1493 - val_accuracy: 0.4493\n",
      "Epoch 35/50\n",
      "438/438 [==============================] - 1s 1ms/step - loss: 0.9331 - accuracy: 0.5962 - val_loss: 1.1283 - val_accuracy: 0.4480\n",
      "Epoch 36/50\n",
      "438/438 [==============================] - 1s 1ms/step - loss: 0.9378 - accuracy: 0.5855 - val_loss: 1.1427 - val_accuracy: 0.4467\n",
      "Epoch 37/50\n",
      "438/438 [==============================] - 1s 1ms/step - loss: 0.9396 - accuracy: 0.5889 - val_loss: 1.1350 - val_accuracy: 0.4493\n",
      "Epoch 38/50\n",
      "438/438 [==============================] - 1s 1ms/step - loss: 0.9281 - accuracy: 0.5938 - val_loss: 1.1545 - val_accuracy: 0.4467\n",
      "Epoch 39/50\n",
      "438/438 [==============================] - 1s 1ms/step - loss: 0.9263 - accuracy: 0.6002 - val_loss: 1.1375 - val_accuracy: 0.4513\n",
      "Epoch 40/50\n",
      "438/438 [==============================] - 1s 1ms/step - loss: 0.9356 - accuracy: 0.5944 - val_loss: 1.1498 - val_accuracy: 0.4427\n",
      "Epoch 41/50\n",
      "438/438 [==============================] - 1s 1ms/step - loss: 0.9263 - accuracy: 0.6009 - val_loss: 1.1504 - val_accuracy: 0.4493\n",
      "Epoch 42/50\n",
      "438/438 [==============================] - 0s 1ms/step - loss: 0.9259 - accuracy: 0.5968 - val_loss: 1.1396 - val_accuracy: 0.4427\n",
      "Epoch 43/50\n",
      "438/438 [==============================] - 1s 1ms/step - loss: 0.9310 - accuracy: 0.5941 - val_loss: 1.1597 - val_accuracy: 0.4513\n",
      "Epoch 44/50\n",
      "438/438 [==============================] - 1s 1ms/step - loss: 0.9293 - accuracy: 0.5985 - val_loss: 1.1575 - val_accuracy: 0.4447\n",
      "Epoch 45/50\n",
      "438/438 [==============================] - 1s 2ms/step - loss: 0.9247 - accuracy: 0.5976 - val_loss: 1.1565 - val_accuracy: 0.4513\n",
      "Epoch 46/50\n",
      "438/438 [==============================] - 1s 3ms/step - loss: 0.9320 - accuracy: 0.5935 - val_loss: 1.1791 - val_accuracy: 0.4493\n",
      "Epoch 47/50\n",
      "438/438 [==============================] - 2s 3ms/step - loss: 0.9317 - accuracy: 0.5926 - val_loss: 1.1651 - val_accuracy: 0.4367\n",
      "Epoch 48/50\n",
      "438/438 [==============================] - 1s 3ms/step - loss: 0.9291 - accuracy: 0.5957 - val_loss: 1.1812 - val_accuracy: 0.4487\n",
      "Epoch 49/50\n",
      "438/438 [==============================] - 1s 3ms/step - loss: 0.9140 - accuracy: 0.6055 - val_loss: 1.1608 - val_accuracy: 0.4433\n",
      "Epoch 50/50\n",
      "438/438 [==============================] - 1s 3ms/step - loss: 0.9308 - accuracy: 0.5944 - val_loss: 1.1823 - val_accuracy: 0.4447\n"
     ]
    }
   ],
   "source": [
    "test, Y_test, His1, His2, His3, Mod1, Mod2, Mod3 = Run_Dense(data_std, Y, \"test\")"
   ]
  },
  {
   "cell_type": "code",
   "execution_count": 43,
   "metadata": {},
   "outputs": [
    {
     "data": {
      "text/plain": [
       "1.0688960552215576"
      ]
     },
     "execution_count": 43,
     "metadata": {},
     "output_type": "execute_result"
    }
   ],
   "source": [
    "min(His1.history[\"val_loss\"])"
   ]
  },
  {
   "cell_type": "code",
   "execution_count": 29,
   "metadata": {},
   "outputs": [],
   "source": []
  },
  {
   "cell_type": "code",
   "execution_count": 34,
   "metadata": {
    "scrolled": true
   },
   "outputs": [],
   "source": [
    "Mods.append(Mod2)"
   ]
  },
  {
   "cell_type": "code",
   "execution_count": 45,
   "metadata": {},
   "outputs": [
    {
     "data": {
      "text/plain": [
       "<tensorflow.python.keras.engine.sequential.Sequential at 0x7f97e1604430>"
      ]
     },
     "execution_count": 45,
     "metadata": {},
     "output_type": "execute_result"
    }
   ],
   "source": [
    "Mods[0]"
   ]
  },
  {
   "cell_type": "code",
   "execution_count": 35,
   "metadata": {},
   "outputs": [
    {
     "data": {
      "text/plain": [
       "[<tensorflow.python.keras.engine.sequential.Sequential at 0x7f97e1604430>,\n",
       " <tensorflow.python.keras.engine.sequential.Sequential at 0x7f97e1604280>]"
      ]
     },
     "execution_count": 35,
     "metadata": {},
     "output_type": "execute_result"
    }
   ],
   "source": [
    "Mods"
   ]
  },
  {
   "cell_type": "code",
   "execution_count": 14,
   "metadata": {
    "scrolled": true
   },
   "outputs": [
    {
     "data": {
      "text/plain": [
       "array([[0.5360693 , 0.24001837, 0.22391239],\n",
       "       [0.52927905, 0.23074456, 0.23997648],\n",
       "       [0.43087754, 0.30636546, 0.262757  ],\n",
       "       ...,\n",
       "       [0.49599108, 0.2139881 , 0.2900208 ],\n",
       "       [0.49516997, 0.21432708, 0.290503  ],\n",
       "       [0.57057583, 0.20854287, 0.22088136]], dtype=float32)"
      ]
     },
     "execution_count": 14,
     "metadata": {},
     "output_type": "execute_result"
    }
   ],
   "source": [
    "Mod1.predict(test)"
   ]
  },
  {
   "cell_type": "code",
   "execution_count": 15,
   "metadata": {
    "scrolled": true
   },
   "outputs": [
    {
     "data": {
      "text/plain": [
       "[<matplotlib.lines.Line2D at 0x7f97e131df10>]"
      ]
     },
     "execution_count": 15,
     "metadata": {},
     "output_type": "execute_result"
    },
    {
     "data": {
      "image/png": "[encoded data removed]",
      "text/plain": [
       "<Figure size 432x288 with 1 Axes>"
      ]
     },
     "metadata": {
      "needs_background": "light"
     },
     "output_type": "display_data"
    }
   ],
   "source": [
    "plt.plot(His2.history[\"loss\"])\n",
    "plt.plot(His2.history[\"val_loss\"])"
   ]
  },
  {
   "cell_type": "code",
   "execution_count": 48,
   "metadata": {
    "scrolled": true
   },
   "outputs": [
    {
     "data": {
      "text/plain": [
       "[<matplotlib.lines.Line2D at 0x7fd264283e80>]"
      ]
     },
     "execution_count": 48,
     "metadata": {},
     "output_type": "execute_result"
    },
    {
     "data": {
      "image/png": "[encoded data removed]",
      "text/plain": [
       "<Figure size 432x288 with 1 Axes>"
      ]
     },
     "metadata": {
      "needs_background": "light"
     },
     "output_type": "display_data"
    }
   ],
   "source": [
    "plt.plot(His3.history[\"loss\"])\n",
    "plt.plot(His3.history[\"val_loss\"])"
   ]
  },
  {
   "cell_type": "code",
   "execution_count": 46,
   "metadata": {
    "scrolled": true
   },
   "outputs": [
    {
     "data": {
      "text/plain": [
       "[<matplotlib.lines.Line2D at 0x7fd263cddf10>]"
      ]
     },
     "execution_count": 46,
     "metadata": {},
     "output_type": "execute_result"
    },
    {
     "data": {
      "image/png": "[encoded data removed]",
      "text/plain": [
       "<Figure size 432x288 with 1 Axes>"
      ]
     },
     "metadata": {
      "needs_background": "light"
     },
     "output_type": "display_data"
    }
   ],
   "source": [
    "plt.plot(His1.history[\"loss\"])\n",
    "plt.plot(His1.history[\"val_loss\"])"
   ]
  },
  {
   "cell_type": "code",
   "execution_count": 16,
   "metadata": {},
   "outputs": [
    {
     "data": {
      "text/plain": [
       "0.37005832793259885"
      ]
     },
     "execution_count": 16,
     "metadata": {},
     "output_type": "execute_result"
    }
   ],
   "source": [
    "### Accuracy ###\n",
    "pred = np.argmax(Mod1.predict(test), axis=-1)\n",
    "n = pred.shape[0]\n",
    "\n",
    "sum(pred == Y_test.iloc[:,0]) / n"
   ]
  },
  {
   "cell_type": "code",
   "execution_count": 17,
   "metadata": {},
   "outputs": [
    {
     "data": {
      "text/plain": [
       "(1543,)"
      ]
     },
     "execution_count": 17,
     "metadata": {},
     "output_type": "execute_result"
    }
   ],
   "source": [
    "pred.shape"
   ]
  },
  {
   "cell_type": "code",
   "execution_count": 18,
   "metadata": {},
   "outputs": [
    {
     "data": {
      "text/plain": [
       "array([False, False, False, ..., False, False, False])"
      ]
     },
     "execution_count": 18,
     "metadata": {},
     "output_type": "execute_result"
    }
   ],
   "source": [
    "pred == 1"
   ]
  },
  {
   "cell_type": "code",
   "execution_count": 50,
   "metadata": {},
   "outputs": [
    {
     "data": {
      "text/plain": [
       "0.37005832793259885"
      ]
     },
     "execution_count": 50,
     "metadata": {},
     "output_type": "execute_result"
    }
   ],
   "source": [
    "### Accuracy ###\n",
    "pred = np.argmax(Mod2.predict(test), axis=-1)\n",
    "n = pred.shape[0]\n",
    "\n",
    "sum(pred == Y_test.iloc[:,0]) / n"
   ]
  },
  {
   "cell_type": "code",
   "execution_count": 1,
   "metadata": {},
   "outputs": [
    {
     "ename": "NameError",
     "evalue": "name 'np' is not defined",
     "output_type": "error",
     "traceback": [
      "\u001b[0;31m---------------------------------------------------------------------------\u001b[0m",
      "\u001b[0;31mNameError\u001b[0m                                 Traceback (most recent call last)",
      "\u001b[0;32m<ipython-input-1-47ae038d1d71>\u001b[0m in \u001b[0;36m<module>\u001b[0;34m\u001b[0m\n\u001b[1;32m      1\u001b[0m \u001b[0;31m### Accuracy ###\u001b[0m\u001b[0;34m\u001b[0m\u001b[0;34m\u001b[0m\u001b[0;34m\u001b[0m\u001b[0m\n\u001b[0;32m----> 2\u001b[0;31m \u001b[0mpred\u001b[0m \u001b[0;34m=\u001b[0m \u001b[0mnp\u001b[0m\u001b[0;34m.\u001b[0m\u001b[0margmax\u001b[0m\u001b[0;34m(\u001b[0m\u001b[0mMod3\u001b[0m\u001b[0;34m.\u001b[0m\u001b[0mpredict\u001b[0m\u001b[0;34m(\u001b[0m\u001b[0mtest\u001b[0m\u001b[0;34m)\u001b[0m\u001b[0;34m,\u001b[0m \u001b[0maxis\u001b[0m\u001b[0;34m=\u001b[0m\u001b[0;34m-\u001b[0m\u001b[0;36m1\u001b[0m\u001b[0;34m)\u001b[0m\u001b[0;34m\u001b[0m\u001b[0;34m\u001b[0m\u001b[0m\n\u001b[0m\u001b[1;32m      3\u001b[0m \u001b[0mn\u001b[0m \u001b[0;34m=\u001b[0m \u001b[0mpred\u001b[0m\u001b[0;34m.\u001b[0m\u001b[0mshape\u001b[0m\u001b[0;34m[\u001b[0m\u001b[0;36m0\u001b[0m\u001b[0;34m]\u001b[0m\u001b[0;34m\u001b[0m\u001b[0;34m\u001b[0m\u001b[0m\n\u001b[1;32m      4\u001b[0m \u001b[0;34m\u001b[0m\u001b[0m\n\u001b[1;32m      5\u001b[0m \u001b[0msum\u001b[0m\u001b[0;34m(\u001b[0m\u001b[0mpred\u001b[0m \u001b[0;34m==\u001b[0m \u001b[0mY_test\u001b[0m\u001b[0;34m.\u001b[0m\u001b[0miloc\u001b[0m\u001b[0;34m[\u001b[0m\u001b[0;34m:\u001b[0m\u001b[0;34m,\u001b[0m\u001b[0;36m0\u001b[0m\u001b[0;34m]\u001b[0m\u001b[0;34m)\u001b[0m \u001b[0;34m/\u001b[0m \u001b[0mn\u001b[0m\u001b[0;34m\u001b[0m\u001b[0;34m\u001b[0m\u001b[0m\n",
      "\u001b[0;31mNameError\u001b[0m: name 'np' is not defined"
     ]
    }
   ],
   "source": [
    "### Accuracy ###\n",
    "pred = np.argmax(Mod3.predict(test), axis=-1)\n",
    "n = pred.shape[0]\n",
    "\n",
    "sum(pred == Y_test.iloc[:,0]) / n"
   ]
  },
  {
   "cell_type": "code",
   "execution_count": 54,
   "metadata": {},
   "outputs": [],
   "source": [
    "import sklearn\n",
    "from sklearn.metrics import roc_auc_score"
   ]
  },
  {
   "cell_type": "code",
   "execution_count": 55,
   "metadata": {},
   "outputs": [
    {
     "data": {
      "text/plain": [
       "0.5570072097420699"
      ]
     },
     "execution_count": 55,
     "metadata": {},
     "output_type": "execute_result"
    }
   ],
   "source": [
    "pred = Mod1.predict(test)\n",
    "roc_auc_score(pd.get_dummies(Y_test), pred, multi_class=\"ovr\")"
   ]
  },
  {
   "cell_type": "code",
   "execution_count": 56,
   "metadata": {},
   "outputs": [
    {
     "data": {
      "text/plain": [
       "0.545774843339723"
      ]
     },
     "execution_count": 56,
     "metadata": {},
     "output_type": "execute_result"
    }
   ],
   "source": [
    "pred = Mod2.predict(test)\n",
    "roc_auc_score(pd.get_dummies(Y_test), pred, multi_class=\"ovr\")"
   ]
  },
  {
   "cell_type": "code",
   "execution_count": 57,
   "metadata": {},
   "outputs": [
    {
     "data": {
      "text/plain": [
       "0.5451939332823635"
      ]
     },
     "execution_count": 57,
     "metadata": {},
     "output_type": "execute_result"
    }
   ],
   "source": [
    "pred = Mod3.predict(test)\n",
    "roc_auc_score(pd.get_dummies(Y_test), pred, multi_class=\"ovr\")"
   ]
  },
  {
   "cell_type": "code",
   "execution_count": null,
   "metadata": {},
   "outputs": [],
   "source": []
  }
 ],
 "metadata": {
  "kernelspec": {
   "display_name": "Python 3",
   "language": "python",
   "name": "python3"
  },
  "language_info": {
   "codemirror_mode": {
    "name": "ipython",
    "version": 3
   },
   "file_extension": ".py",
   "mimetype": "text/x-python",
   "name": "python",
   "nbconvert_exporter": "python",
   "pygments_lexer": "ipython3",
   "version": "3.8.5"
  }
 },
 "nbformat": 4,
 "nbformat_minor": 4
}
