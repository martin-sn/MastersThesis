{
 "cells": [
  {
   "cell_type": "code",
   "execution_count": 5,
   "metadata": {},
   "outputs": [],
   "source": [
    "import pandas as pd\n",
    "import numpy as np\n",
    "import keras\n",
    "import matplotlib.pyplot as plt\n",
    "from keras.layers import Dense\n",
    "from keras.regularizers import l2"
   ]
  },
  {
   "cell_type": "code",
   "execution_count": 22,
   "metadata": {},
   "outputs": [],
   "source": [
    "data_std = pd.read_csv(\"data/final/1min/BidAsk/BTC_std.csv\")\n",
    "Y = pd.read_csv(\"data/final/1min/BTC_Y_std.csv\")\n",
    "\n",
    "#data_std = pd.read_csv(\"data/final/1min/OrderFlow/BTC_std.csv\")\n",
    "#Y = pd.read_csv(\"data/final/1min/BidAsk/BTC_Y_std.csv\")\n",
    "\n",
    "\n",
    "#data_std = pd.read_csv(\"data/final/1min/HF/BTC_std.csv\")\n",
    "#Y = pd.read_csv(\"data/final/1min/BidAsk/BTC_Y_std.csv\")"
   ]
  },
  {
   "cell_type": "code",
   "execution_count": 24,
   "metadata": {},
   "outputs": [
    {
     "data": {
      "text/html": [
       "<div>\n",
       "<style scoped>\n",
       "    .dataframe tbody tr th:only-of-type {\n",
       "        vertical-align: middle;\n",
       "    }\n",
       "\n",
       "    .dataframe tbody tr th {\n",
       "        vertical-align: top;\n",
       "    }\n",
       "\n",
       "    .dataframe thead th {\n",
       "        text-align: right;\n",
       "    }\n",
       "</style>\n",
       "<table border=\"1\" class=\"dataframe\">\n",
       "  <thead>\n",
       "    <tr style=\"text-align: right;\">\n",
       "      <th></th>\n",
       "      <th>y</th>\n",
       "    </tr>\n",
       "  </thead>\n",
       "  <tbody>\n",
       "    <tr>\n",
       "      <th>0</th>\n",
       "      <td>0</td>\n",
       "    </tr>\n",
       "    <tr>\n",
       "      <th>1</th>\n",
       "      <td>2</td>\n",
       "    </tr>\n",
       "    <tr>\n",
       "      <th>2</th>\n",
       "      <td>2</td>\n",
       "    </tr>\n",
       "    <tr>\n",
       "      <th>3</th>\n",
       "      <td>2</td>\n",
       "    </tr>\n",
       "    <tr>\n",
       "      <th>4</th>\n",
       "      <td>1</td>\n",
       "    </tr>\n",
       "    <tr>\n",
       "      <th>...</th>\n",
       "      <td>...</td>\n",
       "    </tr>\n",
       "    <tr>\n",
       "      <th>17043</th>\n",
       "      <td>1</td>\n",
       "    </tr>\n",
       "    <tr>\n",
       "      <th>17044</th>\n",
       "      <td>0</td>\n",
       "    </tr>\n",
       "    <tr>\n",
       "      <th>17045</th>\n",
       "      <td>2</td>\n",
       "    </tr>\n",
       "    <tr>\n",
       "      <th>17046</th>\n",
       "      <td>1</td>\n",
       "    </tr>\n",
       "    <tr>\n",
       "      <th>17047</th>\n",
       "      <td>1</td>\n",
       "    </tr>\n",
       "  </tbody>\n",
       "</table>\n",
       "<p>17048 rows × 1 columns</p>\n",
       "</div>"
      ],
      "text/plain": [
       "       y\n",
       "0      0\n",
       "1      2\n",
       "2      2\n",
       "3      2\n",
       "4      1\n",
       "...   ..\n",
       "17043  1\n",
       "17044  0\n",
       "17045  2\n",
       "17046  1\n",
       "17047  1\n",
       "\n",
       "[17048 rows x 1 columns]"
      ]
     },
     "execution_count": 24,
     "metadata": {},
     "output_type": "execute_result"
    }
   ],
   "source": [
    "Y"
   ]
  },
  {
   "cell_type": "code",
   "execution_count": 16,
   "metadata": {},
   "outputs": [],
   "source": [
    "def CreateTestTrain(data_std, Y, window):\n",
    "    r,x = data_std.shape\n",
    "    \n",
    "    dat = np.zeros((r-window, window, x))\n",
    "    \n",
    "\n",
    "    for i in range(r-window):\n",
    "        dat[i,:,:] = data_std.iloc[i:i+window,:].values\n",
    "\n",
    "\n",
    "\n",
    "    train = dat[:14000, :,:]\n",
    "    val = dat[14000:15500, :,:]\n",
    "    test = dat[15500:, :,:]\n",
    "\n",
    "    Y_train = Y[window:14005]\n",
    "    Y_val = Y[14000 + window:15500 + window]\n",
    "    Y_test = Y[15500 + window:]\n",
    "    \n",
    "    return train, val, test, Y_train, Y_val, Y_test\n",
    "    \n",
    "    "
   ]
  },
  {
   "cell_type": "code",
   "execution_count": 10,
   "metadata": {},
   "outputs": [
    {
     "ename": "SyntaxError",
     "evalue": "unexpected EOF while parsing (<ipython-input-10-4313b9157629>, line 13)",
     "output_type": "error",
     "traceback": [
      "\u001b[0;36m  File \u001b[0;32m\"<ipython-input-10-4313b9157629>\"\u001b[0;36m, line \u001b[0;32m13\u001b[0m\n\u001b[0;31m    keras.layers.Dense(4, activation=\"relu\"),\u001b[0m\n\u001b[0m                                             ^\u001b[0m\n\u001b[0;31mSyntaxError\u001b[0m\u001b[0;31m:\u001b[0m unexpected EOF while parsing\n"
     ]
    }
   ],
   "source": [
    "model = keras.models.Sequential([\n",
    "keras.layers.Flatten(input_shape=[5, x]),\n",
    "#keras.layers.Dense(256, activation=\"relu\"),\n",
    "#keras.layers.Dropout(0.2), \n",
    "#keras.layers.Dense(128, activation=\"relu\"),\n",
    "#keras.layers.Dropout(0.15), \n",
    "keras.layers.Dense(64, activation=\"relu\", kernel_regularizer=l2(0.01), bias_regularizer=l2(0.01)),\n",
    "keras.layers.Dropout(0.1), \n",
    "keras.layers.Dense(32, activation=\"relu\", kernel_regularizer=l2(0.01), bias_regularizer=l2(0.01)),\n",
    "keras.layers.Dropout(0.05), \n",
    "keras.layers.Dense(16, activation=\"relu\"),\n",
    "keras.layers.Dense(8, activation=\"relu\"),\n",
    "keras.layers.Dense(4, activation=\"relu\"),"
   ]
  },
  {
   "cell_type": "code",
   "execution_count": 36,
   "metadata": {},
   "outputs": [],
   "source": [
    "def Model_1(train,val,test,Y_train,Y_val, Y_test, EP, window, x):\n",
    "    model = keras.models.Sequential([\n",
    "    keras.layers.Flatten(input_shape=[window, x]),\n",
    "    keras.layers.Dense(4, activation=\"relu\"),\n",
    "    keras.layers.Dense(3, activation=\"softmax\")\n",
    "    ])\n",
    "    \n",
    "    \n",
    "    model.compile(loss=\"sparse_categorical_crossentropy\", optimizer=\"adam\", metrics=[\"accuracy\"])\n",
    "    history = model.fit(train, Y_train, epochs=EP, validation_data = (val,Y_val))\n",
    "    \n",
    "    return history, model\n",
    "    "
   ]
  },
  {
   "cell_type": "code",
   "execution_count": 37,
   "metadata": {},
   "outputs": [],
   "source": [
    "def Model_2(train,val,test,Y_train,Y_val, Y_test, EP, window, x):\n",
    "    model = keras.models.Sequential([\n",
    "    keras.layers.Flatten(input_shape=[window, x]),\n",
    "    keras.layers.Dense(8, activation=\"relu\"),\n",
    "    keras.layers.Dense(4, activation=\"relu\"),\n",
    "    keras.layers.Dense(3, activation=\"softmax\")\n",
    "    ])\n",
    "        \n",
    "    model.compile(loss=\"sparse_categorical_crossentropy\", optimizer=\"adam\", metrics=[\"accuracy\"])\n",
    "    history = model.fit(train, Y_train, epochs=EP, validation_data = (val,Y_val))\n",
    "    \n",
    "    return history, model\n",
    "    "
   ]
  },
  {
   "cell_type": "code",
   "execution_count": 38,
   "metadata": {},
   "outputs": [],
   "source": [
    "def Model_3(train,val,test,Y_train,Y_val, Y_test, EP, window, x):\n",
    "    model = keras.models.Sequential([\n",
    "    keras.layers.Flatten(input_shape=[window, x]),\n",
    "    keras.layers.Dense(8, activation=\"relu\"),\n",
    "    keras.layers.Dense(8, activation=\"relu\"),\n",
    "    keras.layers.Dense(4, activation=\"relu\"),\n",
    "    keras.layers.Dense(3, activation=\"softmax\")\n",
    "    ])\n",
    "        \n",
    "    model.compile(loss=\"sparse_categorical_crossentropy\", optimizer=\"adam\", metrics=[\"accuracy\"])\n",
    "    history = model.fit(train, Y_train, epochs=EP, validation_data = (val,Y_val))\n",
    "    \n",
    "    return history, model"
   ]
  },
  {
   "cell_type": "code",
   "execution_count": 43,
   "metadata": {},
   "outputs": [],
   "source": [
    "def Run_Dense(data_std, Y, name, window = 5, EP = 50):\n",
    "    r,x = data_std.shape\n",
    "    \n",
    "    train, val, test, Y_train, Y_val, Y_test = CreateTestTrain(data_std, Y, window)\n",
    "    \n",
    "    His1, Mod1 = Model_1(train,val,test,Y_train,Y_val, Y_test, EP, window, x)\n",
    "    His2, Mod2 = Model_2(train,val,test,Y_train,Y_val, Y_test, EP, window, x)\n",
    "    His3, Mod3 = Model_3(train,val,test,Y_train,Y_val, Y_test, EP, window, x)\n",
    "    \n",
    "    \n",
    "    return test, Y_test, His1, His2, His3, Mod1, Mod2, Mod3"
   ]
  },
  {
   "cell_type": "code",
   "execution_count": 45,
   "metadata": {
    "scrolled": true
   },
   "outputs": [
    {
     "name": "stdout",
     "output_type": "stream",
     "text": [
      "Epoch 1/50\n",
      "438/438 [==============================] - 1s 1ms/step - loss: 1.1564 - accuracy: 0.4722 - val_loss: 1.1118 - val_accuracy: 0.3967\n",
      "Epoch 2/50\n",
      "438/438 [==============================] - 0s 929us/step - loss: 0.9913 - accuracy: 0.5631 - val_loss: 1.1196 - val_accuracy: 0.4100\n",
      "Epoch 3/50\n",
      "438/438 [==============================] - 0s 966us/step - loss: 0.9770 - accuracy: 0.5712 - val_loss: 1.1142 - val_accuracy: 0.4067\n",
      "Epoch 4/50\n",
      "438/438 [==============================] - 0s 959us/step - loss: 0.9754 - accuracy: 0.5693 - val_loss: 1.1201 - val_accuracy: 0.4060\n",
      "Epoch 5/50\n",
      "438/438 [==============================] - 0s 976us/step - loss: 0.9720 - accuracy: 0.5679 - val_loss: 1.1215 - val_accuracy: 0.4100\n",
      "Epoch 6/50\n",
      "438/438 [==============================] - 0s 930us/step - loss: 0.9678 - accuracy: 0.5734 - val_loss: 1.1180 - val_accuracy: 0.4060\n",
      "Epoch 7/50\n",
      "438/438 [==============================] - 0s 982us/step - loss: 0.9722 - accuracy: 0.5638 - val_loss: 1.1134 - val_accuracy: 0.4060\n",
      "Epoch 8/50\n",
      "438/438 [==============================] - 0s 970us/step - loss: 0.9597 - accuracy: 0.5753 - val_loss: 1.1220 - val_accuracy: 0.4200\n",
      "Epoch 9/50\n",
      "438/438 [==============================] - 0s 998us/step - loss: 0.9604 - accuracy: 0.5773 - val_loss: 1.1165 - val_accuracy: 0.4107\n",
      "Epoch 10/50\n",
      "438/438 [==============================] - 0s 1ms/step - loss: 0.9639 - accuracy: 0.5688 - val_loss: 1.1094 - val_accuracy: 0.4080\n",
      "Epoch 11/50\n",
      "438/438 [==============================] - 1s 1ms/step - loss: 0.9685 - accuracy: 0.5674 - val_loss: 1.1527 - val_accuracy: 0.4413\n",
      "Epoch 12/50\n",
      "438/438 [==============================] - 1s 1ms/step - loss: 0.9657 - accuracy: 0.5681 - val_loss: 1.1250 - val_accuracy: 0.4140\n",
      "Epoch 13/50\n",
      "438/438 [==============================] - 1s 1ms/step - loss: 0.9633 - accuracy: 0.5705 - val_loss: 1.1103 - val_accuracy: 0.41070s - loss: 0.9638 - accuracy: 0.\n",
      "Epoch 14/50\n",
      "438/438 [==============================] - 1s 2ms/step - loss: 0.9523 - accuracy: 0.5805 - val_loss: 1.1352 - val_accuracy: 0.4453\n",
      "Epoch 15/50\n",
      "438/438 [==============================] - 1s 2ms/step - loss: 0.9621 - accuracy: 0.5685 - val_loss: 1.1316 - val_accuracy: 0.4527\n",
      "Epoch 16/50\n",
      "438/438 [==============================] - 1s 1ms/step - loss: 0.9563 - accuracy: 0.5782 - val_loss: 1.1149 - val_accuracy: 0.4440\n",
      "Epoch 17/50\n",
      "438/438 [==============================] - 1s 1ms/step - loss: 0.9533 - accuracy: 0.5807 - val_loss: 1.1189 - val_accuracy: 0.4533\n",
      "Epoch 18/50\n",
      "438/438 [==============================] - 1s 1ms/step - loss: 0.9588 - accuracy: 0.5769 - val_loss: 1.1038 - val_accuracy: 0.4453\n",
      "Epoch 19/50\n",
      "438/438 [==============================] - 1s 1ms/step - loss: 0.9518 - accuracy: 0.5803 - val_loss: 1.0913 - val_accuracy: 0.4460\n",
      "Epoch 20/50\n",
      "438/438 [==============================] - 1s 1ms/step - loss: 0.9531 - accuracy: 0.5800 - val_loss: 1.0836 - val_accuracy: 0.4487\n",
      "Epoch 21/50\n",
      "438/438 [==============================] - 1s 1ms/step - loss: 0.9535 - accuracy: 0.5808 - val_loss: 1.0932 - val_accuracy: 0.4453\n",
      "Epoch 22/50\n",
      "438/438 [==============================] - 1s 2ms/step - loss: 0.9577 - accuracy: 0.5778 - val_loss: 1.0871 - val_accuracy: 0.4453\n",
      "Epoch 23/50\n",
      "438/438 [==============================] - 1s 2ms/step - loss: 0.9567 - accuracy: 0.5771 - val_loss: 1.0930 - val_accuracy: 0.4467\n",
      "Epoch 24/50\n",
      "438/438 [==============================] - 1s 1ms/step - loss: 0.9589 - accuracy: 0.5725 - val_loss: 1.0987 - val_accuracy: 0.4473\n",
      "Epoch 25/50\n",
      "438/438 [==============================] - 1s 1ms/step - loss: 0.9538 - accuracy: 0.5779 - val_loss: 1.0862 - val_accuracy: 0.4460\n",
      "Epoch 26/50\n",
      "438/438 [==============================] - 1s 2ms/step - loss: 0.9504 - accuracy: 0.5820 - val_loss: 1.0971 - val_accuracy: 0.4513\n",
      "Epoch 27/50\n",
      "438/438 [==============================] - 1s 2ms/step - loss: 0.9518 - accuracy: 0.5794 - val_loss: 1.0895 - val_accuracy: 0.4473\n",
      "Epoch 28/50\n",
      "438/438 [==============================] - 1s 1ms/step - loss: 0.9524 - accuracy: 0.5808 - val_loss: 1.0934 - val_accuracy: 0.4500\n",
      "Epoch 29/50\n",
      "438/438 [==============================] - 1s 1ms/step - loss: 0.9539 - accuracy: 0.5774 - val_loss: 1.0911 - val_accuracy: 0.4453\n",
      "Epoch 30/50\n",
      "438/438 [==============================] - 1s 1ms/step - loss: 0.9497 - accuracy: 0.5803 - val_loss: 1.0919 - val_accuracy: 0.4487\n",
      "Epoch 31/50\n",
      "438/438 [==============================] - 1s 2ms/step - loss: 0.9547 - accuracy: 0.5763 - val_loss: 1.1001 - val_accuracy: 0.4480\n",
      "Epoch 32/50\n",
      "438/438 [==============================] - 1s 2ms/step - loss: 0.9552 - accuracy: 0.5778 - val_loss: 1.1029 - val_accuracy: 0.4513\n",
      "Epoch 33/50\n",
      "438/438 [==============================] - 1s 2ms/step - loss: 0.9446 - accuracy: 0.5871 - val_loss: 1.0920 - val_accuracy: 0.4460\n",
      "Epoch 34/50\n",
      "438/438 [==============================] - 1s 2ms/step - loss: 0.9511 - accuracy: 0.5784 - val_loss: 1.1047 - val_accuracy: 0.4527\n",
      "Epoch 35/50\n",
      "438/438 [==============================] - 0s 1ms/step - loss: 0.9411 - accuracy: 0.5891 - val_loss: 1.0882 - val_accuracy: 0.4467\n",
      "Epoch 36/50\n",
      "438/438 [==============================] - 1s 1ms/step - loss: 0.9587 - accuracy: 0.5695 - val_loss: 1.1079 - val_accuracy: 0.4513\n",
      "Epoch 37/50\n",
      "438/438 [==============================] - 1s 1ms/step - loss: 0.9485 - accuracy: 0.5816 - val_loss: 1.0891 - val_accuracy: 0.4460\n",
      "Epoch 38/50\n",
      "438/438 [==============================] - 1s 1ms/step - loss: 0.9554 - accuracy: 0.5725 - val_loss: 1.0985 - val_accuracy: 0.4500\n",
      "Epoch 39/50\n",
      "438/438 [==============================] - 1s 1ms/step - loss: 0.9438 - accuracy: 0.5818 - val_loss: 1.1056 - val_accuracy: 0.4500\n",
      "Epoch 40/50\n",
      "438/438 [==============================] - 1s 1ms/step - loss: 0.9461 - accuracy: 0.5845 - val_loss: 1.1000 - val_accuracy: 0.4513\n",
      "Epoch 41/50\n",
      "438/438 [==============================] - 1s 1ms/step - loss: 0.9519 - accuracy: 0.5777 - val_loss: 1.0990 - val_accuracy: 0.4573\n",
      "Epoch 42/50\n",
      "438/438 [==============================] - 0s 1ms/step - loss: 0.9463 - accuracy: 0.5811 - val_loss: 1.1063 - val_accuracy: 0.4540\n",
      "Epoch 43/50\n",
      "438/438 [==============================] - 1s 1ms/step - loss: 0.9544 - accuracy: 0.5773 - val_loss: 1.1120 - val_accuracy: 0.4560\n",
      "Epoch 44/50\n",
      "438/438 [==============================] - 0s 1ms/step - loss: 0.9524 - accuracy: 0.5771 - val_loss: 1.1078 - val_accuracy: 0.4547\n",
      "Epoch 45/50\n",
      "438/438 [==============================] - 0s 1ms/step - loss: 0.9533 - accuracy: 0.5705 - val_loss: 1.1040 - val_accuracy: 0.4507\n",
      "Epoch 46/50\n",
      "438/438 [==============================] - 1s 1ms/step - loss: 0.9450 - accuracy: 0.5846 - val_loss: 1.1151 - val_accuracy: 0.4587\n",
      "Epoch 47/50\n",
      "438/438 [==============================] - 0s 1ms/step - loss: 0.9398 - accuracy: 0.5891 - val_loss: 1.1104 - val_accuracy: 0.4580\n",
      "Epoch 48/50\n",
      "438/438 [==============================] - 0s 1ms/step - loss: 0.9469 - accuracy: 0.5805 - val_loss: 1.1159 - val_accuracy: 0.4513\n",
      "Epoch 49/50\n",
      "438/438 [==============================] - 1s 1ms/step - loss: 0.9514 - accuracy: 0.5772 - val_loss: 1.1026 - val_accuracy: 0.4527\n",
      "Epoch 50/50\n",
      "438/438 [==============================] - 0s 1ms/step - loss: 0.9414 - accuracy: 0.5870 - val_loss: 1.0986 - val_accuracy: 0.4547\n",
      "Epoch 1/50\n",
      "438/438 [==============================] - 1s 1ms/step - loss: 1.0267 - accuracy: 0.5366 - val_loss: 1.0836 - val_accuracy: 0.4153\n",
      "Epoch 2/50\n",
      "438/438 [==============================] - 0s 1ms/step - loss: 0.9708 - accuracy: 0.5728 - val_loss: 1.1074 - val_accuracy: 0.4093\n",
      "Epoch 3/50\n",
      "438/438 [==============================] - 0s 1ms/step - loss: 0.9686 - accuracy: 0.5695 - val_loss: 1.1003 - val_accuracy: 0.4100\n",
      "Epoch 4/50\n",
      "438/438 [==============================] - 0s 1ms/step - loss: 0.9626 - accuracy: 0.5718 - val_loss: 1.0873 - val_accuracy: 0.4440\n",
      "Epoch 5/50\n",
      "438/438 [==============================] - 0s 1ms/step - loss: 0.9597 - accuracy: 0.5776 - val_loss: 1.0810 - val_accuracy: 0.4467\n",
      "Epoch 6/50\n",
      "438/438 [==============================] - 0s 1ms/step - loss: 0.9572 - accuracy: 0.5746 - val_loss: 1.0764 - val_accuracy: 0.4493\n",
      "Epoch 7/50\n",
      "438/438 [==============================] - 1s 1ms/step - loss: 0.9548 - accuracy: 0.5794 - val_loss: 1.0721 - val_accuracy: 0.4527\n",
      "Epoch 8/50\n"
     ]
    },
    {
     "name": "stdout",
     "output_type": "stream",
     "text": [
      "438/438 [==============================] - 0s 1ms/step - loss: 0.9532 - accuracy: 0.5772 - val_loss: 1.0832 - val_accuracy: 0.4447\n",
      "Epoch 9/50\n",
      "438/438 [==============================] - 0s 970us/step - loss: 0.9568 - accuracy: 0.5763 - val_loss: 1.0822 - val_accuracy: 0.4553\n",
      "Epoch 10/50\n",
      "438/438 [==============================] - 0s 1ms/step - loss: 0.9557 - accuracy: 0.5783 - val_loss: 1.0899 - val_accuracy: 0.4587\n",
      "Epoch 11/50\n",
      "438/438 [==============================] - 0s 1ms/step - loss: 0.9520 - accuracy: 0.5796 - val_loss: 1.0808 - val_accuracy: 0.4553\n",
      "Epoch 12/50\n",
      "438/438 [==============================] - 0s 1ms/step - loss: 0.9537 - accuracy: 0.5812 - val_loss: 1.0843 - val_accuracy: 0.4580\n",
      "Epoch 13/50\n",
      "438/438 [==============================] - 0s 1ms/step - loss: 0.9549 - accuracy: 0.5761 - val_loss: 1.0907 - val_accuracy: 0.4640\n",
      "Epoch 14/50\n",
      "438/438 [==============================] - 1s 1ms/step - loss: 0.9527 - accuracy: 0.5815 - val_loss: 1.0890 - val_accuracy: 0.4547\n",
      "Epoch 15/50\n",
      "438/438 [==============================] - 1s 1ms/step - loss: 0.9574 - accuracy: 0.5727 - val_loss: 1.0910 - val_accuracy: 0.4620\n",
      "Epoch 16/50\n",
      "438/438 [==============================] - 1s 1ms/step - loss: 0.9438 - accuracy: 0.5825 - val_loss: 1.0963 - val_accuracy: 0.4633\n",
      "Epoch 17/50\n",
      "438/438 [==============================] - 1s 1ms/step - loss: 0.9447 - accuracy: 0.5837 - val_loss: 1.0914 - val_accuracy: 0.4613\n",
      "Epoch 18/50\n",
      "438/438 [==============================] - 1s 1ms/step - loss: 0.9548 - accuracy: 0.5755 - val_loss: 1.1056 - val_accuracy: 0.4633\n",
      "Epoch 19/50\n",
      "438/438 [==============================] - 1s 2ms/step - loss: 0.9420 - accuracy: 0.5845 - val_loss: 1.1168 - val_accuracy: 0.4573\n",
      "Epoch 20/50\n",
      "438/438 [==============================] - 1s 2ms/step - loss: 0.9463 - accuracy: 0.5801 - val_loss: 1.1109 - val_accuracy: 0.4600\n",
      "Epoch 21/50\n",
      "438/438 [==============================] - 1s 1ms/step - loss: 0.9382 - accuracy: 0.5896 - val_loss: 1.1084 - val_accuracy: 0.4567\n",
      "Epoch 22/50\n",
      "438/438 [==============================] - 1s 2ms/step - loss: 0.9451 - accuracy: 0.5831 - val_loss: 1.1055 - val_accuracy: 0.4553\n",
      "Epoch 23/50\n",
      "438/438 [==============================] - 1s 2ms/step - loss: 0.9374 - accuracy: 0.5875 - val_loss: 1.1027 - val_accuracy: 0.4553\n",
      "Epoch 24/50\n",
      "438/438 [==============================] - 1s 1ms/step - loss: 0.9374 - accuracy: 0.5832 - val_loss: 1.1031 - val_accuracy: 0.4647\n",
      "Epoch 25/50\n",
      "438/438 [==============================] - 1s 1ms/step - loss: 0.9465 - accuracy: 0.5739 - val_loss: 1.1130 - val_accuracy: 0.4567\n",
      "Epoch 26/50\n",
      "438/438 [==============================] - 1s 1ms/step - loss: 0.9398 - accuracy: 0.5868 - val_loss: 1.1101 - val_accuracy: 0.4613\n",
      "Epoch 27/50\n",
      "438/438 [==============================] - 1s 1ms/step - loss: 0.9390 - accuracy: 0.5865 - val_loss: 1.1131 - val_accuracy: 0.4613\n",
      "Epoch 28/50\n",
      "438/438 [==============================] - 1s 1ms/step - loss: 0.9316 - accuracy: 0.5882 - val_loss: 1.1235 - val_accuracy: 0.4640\n",
      "Epoch 29/50\n",
      "438/438 [==============================] - 1s 1ms/step - loss: 0.9396 - accuracy: 0.5824 - val_loss: 1.1173 - val_accuracy: 0.4573\n",
      "Epoch 30/50\n",
      "438/438 [==============================] - 1s 2ms/step - loss: 0.9346 - accuracy: 0.5879 - val_loss: 1.1163 - val_accuracy: 0.4607\n",
      "Epoch 31/50\n",
      "438/438 [==============================] - 1s 2ms/step - loss: 0.9345 - accuracy: 0.5879 - val_loss: 1.1321 - val_accuracy: 0.4633\n",
      "Epoch 32/50\n",
      "438/438 [==============================] - 1s 1ms/step - loss: 0.9303 - accuracy: 0.5871 - val_loss: 1.1243 - val_accuracy: 0.4600\n",
      "Epoch 33/50\n",
      "438/438 [==============================] - 1s 2ms/step - loss: 0.9361 - accuracy: 0.5871 - val_loss: 1.1302 - val_accuracy: 0.4593\n",
      "Epoch 34/50\n",
      "438/438 [==============================] - 1s 2ms/step - loss: 0.9342 - accuracy: 0.5874 - val_loss: 1.1364 - val_accuracy: 0.4580\n",
      "Epoch 35/50\n",
      "438/438 [==============================] - 1s 2ms/step - loss: 0.9263 - accuracy: 0.5901 - val_loss: 1.1179 - val_accuracy: 0.4567\n",
      "Epoch 36/50\n",
      "438/438 [==============================] - 1s 2ms/step - loss: 0.9418 - accuracy: 0.5806 - val_loss: 1.1423 - val_accuracy: 0.4580\n",
      "Epoch 37/50\n",
      "438/438 [==============================] - 1s 2ms/step - loss: 0.9326 - accuracy: 0.5894 - val_loss: 1.1423 - val_accuracy: 0.4567\n",
      "Epoch 38/50\n",
      "438/438 [==============================] - 1s 2ms/step - loss: 0.9371 - accuracy: 0.5842 - val_loss: 1.1469 - val_accuracy: 0.4627\n",
      "Epoch 39/50\n",
      "438/438 [==============================] - 1s 1ms/step - loss: 0.9360 - accuracy: 0.5812 - val_loss: 1.1386 - val_accuracy: 0.4560\n",
      "Epoch 40/50\n",
      "438/438 [==============================] - 1s 2ms/step - loss: 0.9286 - accuracy: 0.5890 - val_loss: 1.1415 - val_accuracy: 0.4573\n",
      "Epoch 41/50\n",
      "438/438 [==============================] - 1s 2ms/step - loss: 0.9461 - accuracy: 0.5742 - val_loss: 1.1513 - val_accuracy: 0.4593\n",
      "Epoch 42/50\n",
      "438/438 [==============================] - 1s 1ms/step - loss: 0.9350 - accuracy: 0.5809 - val_loss: 1.1492 - val_accuracy: 0.4587\n",
      "Epoch 43/50\n",
      "438/438 [==============================] - 1s 1ms/step - loss: 0.9405 - accuracy: 0.5805 - val_loss: 1.1383 - val_accuracy: 0.4607\n",
      "Epoch 44/50\n",
      "438/438 [==============================] - 1s 2ms/step - loss: 0.9387 - accuracy: 0.5832 - val_loss: 1.1585 - val_accuracy: 0.4587\n",
      "Epoch 45/50\n",
      "438/438 [==============================] - 1s 2ms/step - loss: 0.9438 - accuracy: 0.5792 - val_loss: 1.1564 - val_accuracy: 0.4573\n",
      "Epoch 46/50\n",
      "438/438 [==============================] - 1s 2ms/step - loss: 0.9366 - accuracy: 0.5822 - val_loss: 1.1574 - val_accuracy: 0.4627\n",
      "Epoch 47/50\n",
      "438/438 [==============================] - 1s 1ms/step - loss: 0.9313 - accuracy: 0.5851 - val_loss: 1.1460 - val_accuracy: 0.4587\n",
      "Epoch 48/50\n",
      "438/438 [==============================] - 1s 1ms/step - loss: 0.9361 - accuracy: 0.5817 - val_loss: 1.1642 - val_accuracy: 0.4587\n",
      "Epoch 49/50\n",
      "438/438 [==============================] - 1s 1ms/step - loss: 0.9278 - accuracy: 0.5858 - val_loss: 1.1495 - val_accuracy: 0.4613\n",
      "Epoch 50/50\n",
      "438/438 [==============================] - 1s 1ms/step - loss: 0.9308 - accuracy: 0.5869 - val_loss: 1.1457 - val_accuracy: 0.4533\n",
      "Epoch 1/50\n",
      "438/438 [==============================] - 1s 2ms/step - loss: 1.0516 - accuracy: 0.4797 - val_loss: 1.1117 - val_accuracy: 0.4053\n",
      "Epoch 2/50\n",
      "438/438 [==============================] - 1s 1ms/step - loss: 0.9722 - accuracy: 0.5722 - val_loss: 1.1070 - val_accuracy: 0.4060\n",
      "Epoch 3/50\n",
      "438/438 [==============================] - 1s 2ms/step - loss: 0.9595 - accuracy: 0.5792 - val_loss: 1.0982 - val_accuracy: 0.4053\n",
      "Epoch 4/50\n",
      "438/438 [==============================] - 1s 1ms/step - loss: 0.9609 - accuracy: 0.5729 - val_loss: 1.0941 - val_accuracy: 0.4053\n",
      "Epoch 5/50\n",
      "438/438 [==============================] - 0s 1ms/step - loss: 0.9617 - accuracy: 0.5703 - val_loss: 1.0938 - val_accuracy: 0.4053\n",
      "Epoch 6/50\n",
      "438/438 [==============================] - 1s 1ms/step - loss: 0.9571 - accuracy: 0.5726 - val_loss: 1.0922 - val_accuracy: 0.4053\n",
      "Epoch 7/50\n",
      "438/438 [==============================] - 1s 2ms/step - loss: 0.9576 - accuracy: 0.5678 - val_loss: 1.1003 - val_accuracy: 0.4053\n",
      "Epoch 8/50\n",
      "438/438 [==============================] - 1s 1ms/step - loss: 0.9642 - accuracy: 0.5624 - val_loss: 1.1011 - val_accuracy: 0.4067\n",
      "Epoch 9/50\n",
      "438/438 [==============================] - 1s 2ms/step - loss: 0.9574 - accuracy: 0.5688 - val_loss: 1.1010 - val_accuracy: 0.4120\n",
      "Epoch 10/50\n",
      "438/438 [==============================] - 0s 1ms/step - loss: 0.9596 - accuracy: 0.5667 - val_loss: 1.1137 - val_accuracy: 0.4127\n",
      "Epoch 11/50\n",
      "438/438 [==============================] - 1s 1ms/step - loss: 0.9551 - accuracy: 0.5698 - val_loss: 1.0921 - val_accuracy: 0.4133\n",
      "Epoch 12/50\n",
      "438/438 [==============================] - 0s 1ms/step - loss: 0.9559 - accuracy: 0.5715 - val_loss: 1.0972 - val_accuracy: 0.4073\n",
      "Epoch 13/50\n",
      "438/438 [==============================] - 1s 1ms/step - loss: 0.9482 - accuracy: 0.5750 - val_loss: 1.0913 - val_accuracy: 0.4107\n",
      "Epoch 14/50\n",
      "438/438 [==============================] - 0s 1ms/step - loss: 0.9534 - accuracy: 0.5672 - val_loss: 1.1048 - val_accuracy: 0.4113\n",
      "Epoch 15/50\n"
     ]
    },
    {
     "name": "stdout",
     "output_type": "stream",
     "text": [
      "438/438 [==============================] - 0s 1ms/step - loss: 0.9411 - accuracy: 0.5827 - val_loss: 1.1133 - val_accuracy: 0.4547\n",
      "Epoch 16/50\n",
      "438/438 [==============================] - 0s 1ms/step - loss: 0.9484 - accuracy: 0.5775 - val_loss: 1.1227 - val_accuracy: 0.4473\n",
      "Epoch 17/50\n",
      "438/438 [==============================] - 0s 1ms/step - loss: 0.9383 - accuracy: 0.5821 - val_loss: 1.1339 - val_accuracy: 0.4507\n",
      "Epoch 18/50\n",
      "438/438 [==============================] - 1s 1ms/step - loss: 0.9454 - accuracy: 0.5765 - val_loss: 1.1152 - val_accuracy: 0.4480\n",
      "Epoch 19/50\n",
      "438/438 [==============================] - 0s 1ms/step - loss: 0.9409 - accuracy: 0.5824 - val_loss: 1.1362 - val_accuracy: 0.4460\n",
      "Epoch 20/50\n",
      "438/438 [==============================] - 1s 1ms/step - loss: 0.9466 - accuracy: 0.5798 - val_loss: 1.1502 - val_accuracy: 0.4447\n",
      "Epoch 21/50\n",
      "438/438 [==============================] - 1s 1ms/step - loss: 0.9466 - accuracy: 0.5749 - val_loss: 1.1159 - val_accuracy: 0.4500\n",
      "Epoch 22/50\n",
      "438/438 [==============================] - 1s 1ms/step - loss: 0.9460 - accuracy: 0.5779 - val_loss: 1.1794 - val_accuracy: 0.4520\n",
      "Epoch 23/50\n",
      "438/438 [==============================] - ETA: 0s - loss: 0.9404 - accuracy: 0.57 - 1s 2ms/step - loss: 0.9404 - accuracy: 0.5797 - val_loss: 1.1884 - val_accuracy: 0.4453\n",
      "Epoch 24/50\n",
      "438/438 [==============================] - 1s 2ms/step - loss: 0.9372 - accuracy: 0.5857 - val_loss: 1.1576 - val_accuracy: 0.4467\n",
      "Epoch 25/50\n",
      "438/438 [==============================] - 1s 1ms/step - loss: 0.9398 - accuracy: 0.5809 - val_loss: 1.1452 - val_accuracy: 0.4453\n",
      "Epoch 26/50\n",
      "438/438 [==============================] - 1s 1ms/step - loss: 0.9349 - accuracy: 0.5854 - val_loss: 1.1401 - val_accuracy: 0.4453\n",
      "Epoch 27/50\n",
      "438/438 [==============================] - 1s 2ms/step - loss: 0.9499 - accuracy: 0.5690 - val_loss: 1.1994 - val_accuracy: 0.4453\n",
      "Epoch 28/50\n",
      "438/438 [==============================] - 1s 2ms/step - loss: 0.9394 - accuracy: 0.5814 - val_loss: 1.1652 - val_accuracy: 0.4480\n",
      "Epoch 29/50\n",
      "438/438 [==============================] - 1s 2ms/step - loss: 0.9349 - accuracy: 0.5815 - val_loss: 1.2558 - val_accuracy: 0.4520\n",
      "Epoch 30/50\n",
      "438/438 [==============================] - 1s 2ms/step - loss: 0.9373 - accuracy: 0.5824 - val_loss: 1.1426 - val_accuracy: 0.4453\n",
      "Epoch 31/50\n",
      "438/438 [==============================] - 1s 1ms/step - loss: 0.9328 - accuracy: 0.5843 - val_loss: 1.1940 - val_accuracy: 0.4513\n",
      "Epoch 32/50\n",
      "438/438 [==============================] - 1s 2ms/step - loss: 0.9301 - accuracy: 0.5857 - val_loss: 1.1342 - val_accuracy: 0.4480\n",
      "Epoch 33/50\n",
      "438/438 [==============================] - 1s 2ms/step - loss: 0.9274 - accuracy: 0.5908 - val_loss: 1.1903 - val_accuracy: 0.4527\n",
      "Epoch 34/50\n",
      "438/438 [==============================] - 0s 1ms/step - loss: 0.9331 - accuracy: 0.5819 - val_loss: 1.1962 - val_accuracy: 0.4487\n",
      "Epoch 35/50\n",
      "438/438 [==============================] - 1s 1ms/step - loss: 0.9399 - accuracy: 0.5793 - val_loss: 1.1705 - val_accuracy: 0.4527\n",
      "Epoch 36/50\n",
      "438/438 [==============================] - 1s 1ms/step - loss: 0.9387 - accuracy: 0.5775 - val_loss: 1.1505 - val_accuracy: 0.4473\n",
      "Epoch 37/50\n",
      "438/438 [==============================] - 1s 2ms/step - loss: 0.9341 - accuracy: 0.5827 - val_loss: 1.1990 - val_accuracy: 0.4480\n",
      "Epoch 38/50\n",
      "438/438 [==============================] - 1s 1ms/step - loss: 0.9346 - accuracy: 0.5807 - val_loss: 1.2350 - val_accuracy: 0.4493\n",
      "Epoch 39/50\n",
      "438/438 [==============================] - 1s 1ms/step - loss: 0.9300 - accuracy: 0.5868 - val_loss: 1.1256 - val_accuracy: 0.4480\n",
      "Epoch 40/50\n",
      "438/438 [==============================] - 1s 1ms/step - loss: 0.9363 - accuracy: 0.5801 - val_loss: 1.2101 - val_accuracy: 0.4520\n",
      "Epoch 41/50\n",
      "438/438 [==============================] - 1s 1ms/step - loss: 0.9302 - accuracy: 0.5872 - val_loss: 1.1618 - val_accuracy: 0.4473\n",
      "Epoch 42/50\n",
      "438/438 [==============================] - 0s 1ms/step - loss: 0.9324 - accuracy: 0.5869 - val_loss: 1.1870 - val_accuracy: 0.4533\n",
      "Epoch 43/50\n",
      "438/438 [==============================] - 0s 1ms/step - loss: 0.9176 - accuracy: 0.5921 - val_loss: 1.2268 - val_accuracy: 0.4433\n",
      "Epoch 44/50\n",
      "438/438 [==============================] - 0s 1ms/step - loss: 0.9266 - accuracy: 0.5857 - val_loss: 1.1876 - val_accuracy: 0.4500\n",
      "Epoch 45/50\n",
      "438/438 [==============================] - 1s 1ms/step - loss: 0.9323 - accuracy: 0.5841 - val_loss: 1.1524 - val_accuracy: 0.4513\n",
      "Epoch 46/50\n",
      "438/438 [==============================] - 1s 1ms/step - loss: 0.9268 - accuracy: 0.5876 - val_loss: 1.1574 - val_accuracy: 0.4507\n",
      "Epoch 47/50\n",
      "438/438 [==============================] - 1s 1ms/step - loss: 0.9239 - accuracy: 0.5913 - val_loss: 1.1760 - val_accuracy: 0.4560\n",
      "Epoch 48/50\n",
      "438/438 [==============================] - 1s 1ms/step - loss: 0.9410 - accuracy: 0.5750 - val_loss: 1.2199 - val_accuracy: 0.4533\n",
      "Epoch 49/50\n",
      "438/438 [==============================] - 0s 1ms/step - loss: 0.9245 - accuracy: 0.5868 - val_loss: 1.1727 - val_accuracy: 0.4460\n",
      "Epoch 50/50\n",
      "438/438 [==============================] - 0s 1ms/step - loss: 0.9328 - accuracy: 0.5836 - val_loss: 1.1900 - val_accuracy: 0.4473\n"
     ]
    }
   ],
   "source": [
    "test, Y_test, His1, His2, His3, Mod1, Mod2, Mod3 = Run_Dense(data_std, Y, \"test\")"
   ]
  },
  {
   "cell_type": "code",
   "execution_count": 41,
   "metadata": {
    "scrolled": true
   },
   "outputs": [
    {
     "data": {
      "text/plain": [
       "<tensorflow.python.keras.engine.sequential.Sequential at 0x7fd266587910>"
      ]
     },
     "execution_count": 41,
     "metadata": {},
     "output_type": "execute_result"
    }
   ],
   "source": [
    "Mod1"
   ]
  },
  {
   "cell_type": "code",
   "execution_count": 42,
   "metadata": {
    "scrolled": true
   },
   "outputs": [
    {
     "ename": "NameError",
     "evalue": "name 'test' is not defined",
     "output_type": "error",
     "traceback": [
      "\u001b[0;31m---------------------------------------------------------------------------\u001b[0m",
      "\u001b[0;31mNameError\u001b[0m                                 Traceback (most recent call last)",
      "\u001b[0;32m<ipython-input-42-874c397e7119>\u001b[0m in \u001b[0;36m<module>\u001b[0;34m\u001b[0m\n\u001b[0;32m----> 1\u001b[0;31m \u001b[0mMod1\u001b[0m\u001b[0;34m.\u001b[0m\u001b[0mpredict\u001b[0m\u001b[0;34m(\u001b[0m\u001b[0mtest\u001b[0m\u001b[0;34m)\u001b[0m\u001b[0;34m\u001b[0m\u001b[0;34m\u001b[0m\u001b[0m\n\u001b[0m",
      "\u001b[0;31mNameError\u001b[0m: name 'test' is not defined"
     ]
    }
   ],
   "source": [
    "Mod1.predict(test)"
   ]
  },
  {
   "cell_type": "code",
   "execution_count": 47,
   "metadata": {
    "scrolled": true
   },
   "outputs": [
    {
     "data": {
      "text/plain": [
       "[<matplotlib.lines.Line2D at 0x7fd264158070>]"
      ]
     },
     "execution_count": 47,
     "metadata": {},
     "output_type": "execute_result"
    },
    {
     "data": {
      "image/png": "[encoded data removed]",
      "text/plain": [
       "<Figure size 432x288 with 1 Axes>"
      ]
     },
     "metadata": {
      "needs_background": "light"
     },
     "output_type": "display_data"
    }
   ],
   "source": [
    "plt.plot(His2.history[\"loss\"])\n",
    "plt.plot(His2.history[\"val_loss\"])"
   ]
  },
  {
   "cell_type": "code",
   "execution_count": 48,
   "metadata": {
    "scrolled": true
   },
   "outputs": [
    {
     "data": {
      "text/plain": [
       "[<matplotlib.lines.Line2D at 0x7fd264283e80>]"
      ]
     },
     "execution_count": 48,
     "metadata": {},
     "output_type": "execute_result"
    },
    {
     "data": {
      "image/png": "[encoded data removed]",
      "text/plain": [
       "<Figure size 432x288 with 1 Axes>"
      ]
     },
     "metadata": {
      "needs_background": "light"
     },
     "output_type": "display_data"
    }
   ],
   "source": [
    "plt.plot(His3.history[\"loss\"])\n",
    "plt.plot(His3.history[\"val_loss\"])"
   ]
  },
  {
   "cell_type": "code",
   "execution_count": 46,
   "metadata": {
    "scrolled": true
   },
   "outputs": [
    {
     "data": {
      "text/plain": [
       "[<matplotlib.lines.Line2D at 0x7fd263cddf10>]"
      ]
     },
     "execution_count": 46,
     "metadata": {},
     "output_type": "execute_result"
    },
    {
     "data": {
      "image/png": "[encoded data removed]",
      "text/plain": [
       "<Figure size 432x288 with 1 Axes>"
      ]
     },
     "metadata": {
      "needs_background": "light"
     },
     "output_type": "display_data"
    }
   ],
   "source": [
    "plt.plot(His1.history[\"loss\"])\n",
    "plt.plot(His1.history[\"val_loss\"])"
   ]
  },
  {
   "cell_type": "code",
   "execution_count": 49,
   "metadata": {},
   "outputs": [
    {
     "data": {
      "text/plain": [
       "0.37848347375243035"
      ]
     },
     "execution_count": 49,
     "metadata": {},
     "output_type": "execute_result"
    }
   ],
   "source": [
    "### Accuracy ###\n",
    "pred = np.argmax(Mod1.predict(test), axis=-1)\n",
    "n = pred.shape[0]\n",
    "\n",
    "sum(pred == Y_test.iloc[:,0]) / n"
   ]
  },
  {
   "cell_type": "code",
   "execution_count": 50,
   "metadata": {},
   "outputs": [
    {
     "data": {
      "text/plain": [
       "0.37005832793259885"
      ]
     },
     "execution_count": 50,
     "metadata": {},
     "output_type": "execute_result"
    }
   ],
   "source": [
    "### Accuracy ###\n",
    "pred = np.argmax(Mod2.predict(test), axis=-1)\n",
    "n = pred.shape[0]\n",
    "\n",
    "sum(pred == Y_test.iloc[:,0]) / n"
   ]
  },
  {
   "cell_type": "code",
   "execution_count": 51,
   "metadata": {},
   "outputs": [
    {
     "data": {
      "text/plain": [
       "0.3836681788723266"
      ]
     },
     "execution_count": 51,
     "metadata": {},
     "output_type": "execute_result"
    }
   ],
   "source": [
    "### Accuracy ###\n",
    "pred = np.argmax(Mod3.predict(test), axis=-1)\n",
    "n = pred.shape[0]\n",
    "\n",
    "sum(pred == Y_test.iloc[:,0]) / n"
   ]
  },
  {
   "cell_type": "code",
   "execution_count": 54,
   "metadata": {},
   "outputs": [],
   "source": [
    "import sklearn\n",
    "from sklearn.metrics import roc_auc_score"
   ]
  },
  {
   "cell_type": "code",
   "execution_count": 55,
   "metadata": {},
   "outputs": [
    {
     "data": {
      "text/plain": [
       "0.5570072097420699"
      ]
     },
     "execution_count": 55,
     "metadata": {},
     "output_type": "execute_result"
    }
   ],
   "source": [
    "pred = Mod1.predict(test)\n",
    "roc_auc_score(pd.get_dummies(Y_test), pred, multi_class=\"ovr\")"
   ]
  },
  {
   "cell_type": "code",
   "execution_count": 56,
   "metadata": {},
   "outputs": [
    {
     "data": {
      "text/plain": [
       "0.545774843339723"
      ]
     },
     "execution_count": 56,
     "metadata": {},
     "output_type": "execute_result"
    }
   ],
   "source": [
    "pred = Mod2.predict(test)\n",
    "roc_auc_score(pd.get_dummies(Y_test), pred, multi_class=\"ovr\")"
   ]
  },
  {
   "cell_type": "code",
   "execution_count": 57,
   "metadata": {},
   "outputs": [
    {
     "data": {
      "text/plain": [
       "0.5451939332823635"
      ]
     },
     "execution_count": 57,
     "metadata": {},
     "output_type": "execute_result"
    }
   ],
   "source": [
    "pred = Mod3.predict(test)\n",
    "roc_auc_score(pd.get_dummies(Y_test), pred, multi_class=\"ovr\")"
   ]
  },
  {
   "cell_type": "code",
   "execution_count": null,
   "metadata": {},
   "outputs": [],
   "source": []
  }
 ],
 "metadata": {
  "kernelspec": {
   "display_name": "Python 3",
   "language": "python",
   "name": "python3"
  },
  "language_info": {
   "codemirror_mode": {
    "name": "ipython",
    "version": 3
   },
   "file_extension": ".py",
   "mimetype": "text/x-python",
   "name": "python",
   "nbconvert_exporter": "python",
   "pygments_lexer": "ipython3",
   "version": "3.8.5"
  }
 },
 "nbformat": 4,
 "nbformat_minor": 4
}
