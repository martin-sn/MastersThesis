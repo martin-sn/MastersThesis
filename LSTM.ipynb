{
 "cells": [
  {
   "cell_type": "code",
   "execution_count": 38,
   "metadata": {},
   "outputs": [],
   "source": [
    "import pandas as pd\n",
    "import numpy as np\n",
    "import keras\n",
    "import matplotlib.pyplot as plt \n",
    "from keras.layers import Dense\n",
    "from keras.regularizers import l2\n",
    "import tensorflow as tf"
   ]
  },
  {
   "cell_type": "code",
   "execution_count": 39,
   "metadata": {},
   "outputs": [],
   "source": [
    "from keras.models import Sequential"
   ]
  },
  {
   "cell_type": "code",
   "execution_count": 40,
   "metadata": {},
   "outputs": [],
   "source": [
    "from keras.layers.recurrent import LSTM\n",
    "from keras.layers import Dense"
   ]
  },
  {
   "cell_type": "code",
   "execution_count": 41,
   "metadata": {},
   "outputs": [],
   "source": [
    "callback = tf.keras.callbacks.EarlyStopping(monitor='val_loss', patience=10, mode = \"min\", restore_best_weights = True)\n"
   ]
  },
  {
   "cell_type": "code",
   "execution_count": 68,
   "metadata": {},
   "outputs": [],
   "source": [
    "data_std = pd.read_csv(\"data/final/1min/BidAsk/BTC_std.csv\")\n",
    "Y = pd.read_csv(\"data/final/1min/BTC_Y_std.csv\")\n",
    "\n",
    "def CreateData_LSTM(data_std, Y, val_split, test_split):\n",
    "    r,x = data_std.shape\n",
    "    data = data_std.values.reshape((1, r, x))\n",
    "    Y_std = Y.values.reshape((1,r,1))\n",
    "    \n",
    "    train_lstm = data[:,:val_split,:]\n",
    "    val_lstm = data[:,14000:15500,:]\n",
    "    #val_lstm = data[:,:test_split,:]\n",
    "    test_lstm = data[:,15500:,:]\n",
    "    #test_lstm = data[:,:,:]\n",
    "    \n",
    "    Y_train_lstm = Y_std[:,:val_split,:]\n",
    "    Y_val_lstm = Y_std[:,14000:15500,:]\n",
    "    #Y_val_lstm = Y_std[:,:test_split,:]\n",
    "    Y_test_lstm = Y_std[:,15500:,:]\n",
    "    #Y_test_lstm = Y_std[:,:,:]\n",
    "\n",
    "\n",
    "    return train_lstm, val_lstm, test_lstm, Y_train_lstm, Y_val_lstm, Y_test_lstm\n",
    "    \n",
    "    "
   ]
  },
  {
   "cell_type": "code",
   "execution_count": 69,
   "metadata": {},
   "outputs": [],
   "source": [
    "def LSTM_Model_1(train_lstm, Y_train_lstm, val_lstm, Y_val_lstm, x, EP):\n",
    "\n",
    "    model = Sequential()\n",
    "    model.add(LSTM(16, input_shape=(None, x), return_sequences = True))\n",
    "    model.add(Dense(3, activation = \"softmax\"))\n",
    "    \n",
    "    model.compile(loss=\"sparse_categorical_crossentropy\", optimizer=\"adam\", metrics=[\"accuracy\"])\n",
    "    \n",
    "    history = model.fit(train_lstm, Y_train_lstm, epochs=25, validation_data = (val_lstm, Y_val_lstm), verbose = 1, callbacks=[callback])\n",
    "\n",
    "\n",
    "    return history, model\n",
    "    "
   ]
  },
  {
   "cell_type": "code",
   "execution_count": 71,
   "metadata": {},
   "outputs": [],
   "source": [
    "train_lstm, val_lstm, test_lstm, Y_train_lstm, Y_val_lstm, Y_test_lstm = CreateData_LSTM(data_std,Y, 14000, 15500)"
   ]
  },
  {
   "cell_type": "code",
   "execution_count": 46,
   "metadata": {},
   "outputs": [
    {
     "data": {
      "text/plain": [
       "(1, 14000, 33)"
      ]
     },
     "execution_count": 46,
     "metadata": {},
     "output_type": "execute_result"
    }
   ],
   "source": [
    "train_lstm.shape"
   ]
  },
  {
   "cell_type": "code",
   "execution_count": 47,
   "metadata": {},
   "outputs": [],
   "source": [
    "val_weight = Y_val_lstm"
   ]
  },
  {
   "cell_type": "code",
   "execution_count": 49,
   "metadata": {},
   "outputs": [],
   "source": [
    "val_weight = val_weight.reshape((1,15500))"
   ]
  },
  {
   "cell_type": "code",
   "execution_count": 50,
   "metadata": {},
   "outputs": [
    {
     "data": {
      "text/plain": [
       "(1, 15500)"
      ]
     },
     "execution_count": 50,
     "metadata": {},
     "output_type": "execute_result"
    }
   ],
   "source": [
    "val_weight.shape"
   ]
  },
  {
   "cell_type": "code",
   "execution_count": 52,
   "metadata": {},
   "outputs": [],
   "source": [
    "val_weight[:,:14000] = 0\n",
    "val_weight[:,14000:] = 1"
   ]
  },
  {
   "cell_type": "code",
   "execution_count": 54,
   "metadata": {},
   "outputs": [
    {
     "data": {
      "text/plain": [
       "(1, 15500)"
      ]
     },
     "execution_count": 54,
     "metadata": {},
     "output_type": "execute_result"
    }
   ],
   "source": [
    "val_weight.shape"
   ]
  },
  {
   "cell_type": "code",
   "execution_count": 57,
   "metadata": {},
   "outputs": [],
   "source": [
    "r,c,x = train_lstm.shape"
   ]
  },
  {
   "cell_type": "code",
   "execution_count": 72,
   "metadata": {},
   "outputs": [
    {
     "name": "stdout",
     "output_type": "stream",
     "text": [
      "Epoch 1/25\n",
      "1/1 [==============================] - 4s 4s/step - loss: 1.0896 - accuracy: 0.3889 - val_loss: 1.0945 - val_accuracy: 0.3600\n",
      "Epoch 2/25\n",
      "1/1 [==============================] - 2s 2s/step - loss: 1.0813 - accuracy: 0.4138 - val_loss: 1.0885 - val_accuracy: 0.3860\n",
      "Epoch 3/25\n",
      "1/1 [==============================] - 4s 4s/step - loss: 1.0732 - accuracy: 0.4363 - val_loss: 1.0831 - val_accuracy: 0.3967\n",
      "Epoch 4/25\n",
      "1/1 [==============================] - 6s 6s/step - loss: 1.0655 - accuracy: 0.4573 - val_loss: 1.0780 - val_accuracy: 0.4113\n",
      "Epoch 5/25\n",
      "1/1 [==============================] - 8s 8s/step - loss: 1.0582 - accuracy: 0.4724 - val_loss: 1.0735 - val_accuracy: 0.4247\n",
      "Epoch 6/25\n",
      "1/1 [==============================] - 10s 10s/step - loss: 1.0511 - accuracy: 0.4900 - val_loss: 1.0695 - val_accuracy: 0.4307\n",
      "Epoch 7/25\n",
      "1/1 [==============================] - 7s 7s/step - loss: 1.0444 - accuracy: 0.5044 - val_loss: 1.0659 - val_accuracy: 0.4373\n",
      "Epoch 8/25\n",
      "1/1 [==============================] - 7s 7s/step - loss: 1.0380 - accuracy: 0.5156 - val_loss: 1.0627 - val_accuracy: 0.4407\n",
      "Epoch 9/25\n",
      "1/1 [==============================] - 7s 7s/step - loss: 1.0319 - accuracy: 0.5239 - val_loss: 1.0599 - val_accuracy: 0.4487\n",
      "Epoch 10/25\n",
      "1/1 [==============================] - 7s 7s/step - loss: 1.0261 - accuracy: 0.5336 - val_loss: 1.0575 - val_accuracy: 0.4513\n",
      "Epoch 11/25\n",
      "1/1 [==============================] - 7s 7s/step - loss: 1.0206 - accuracy: 0.5383 - val_loss: 1.0554 - val_accuracy: 0.4567\n",
      "Epoch 12/25\n",
      "1/1 [==============================] - 7s 7s/step - loss: 1.0153 - accuracy: 0.5434 - val_loss: 1.0537 - val_accuracy: 0.4587\n",
      "Epoch 13/25\n",
      "1/1 [==============================] - 8s 8s/step - loss: 1.0104 - accuracy: 0.5456 - val_loss: 1.0523 - val_accuracy: 0.4613\n",
      "Epoch 14/25\n",
      "1/1 [==============================] - 8s 8s/step - loss: 1.0057 - accuracy: 0.5476 - val_loss: 1.0511 - val_accuracy: 0.4640\n",
      "Epoch 15/25\n",
      "1/1 [==============================] - 8s 8s/step - loss: 1.0012 - accuracy: 0.5514 - val_loss: 1.0503 - val_accuracy: 0.4647\n",
      "Epoch 16/25\n",
      "1/1 [==============================] - 7s 7s/step - loss: 0.9970 - accuracy: 0.5525 - val_loss: 1.0497 - val_accuracy: 0.4667\n",
      "Epoch 17/25\n",
      "1/1 [==============================] - 7s 7s/step - loss: 0.9931 - accuracy: 0.5543 - val_loss: 1.0493 - val_accuracy: 0.4667\n",
      "Epoch 18/25\n",
      "1/1 [==============================] - 7s 7s/step - loss: 0.9894 - accuracy: 0.5561 - val_loss: 1.0491 - val_accuracy: 0.4660\n",
      "Epoch 19/25\n",
      "1/1 [==============================] - 7s 7s/step - loss: 0.9860 - accuracy: 0.5578 - val_loss: 1.0492 - val_accuracy: 0.4693\n",
      "Epoch 20/25\n",
      "1/1 [==============================] - 8s 8s/step - loss: 0.9828 - accuracy: 0.5594 - val_loss: 1.0494 - val_accuracy: 0.4667\n",
      "Epoch 21/25\n",
      "1/1 [==============================] - 7s 7s/step - loss: 0.9798 - accuracy: 0.5614 - val_loss: 1.0499 - val_accuracy: 0.4660\n",
      "Epoch 22/25\n",
      "1/1 [==============================] - 7s 7s/step - loss: 0.9771 - accuracy: 0.5623 - val_loss: 1.0506 - val_accuracy: 0.4653\n",
      "Epoch 23/25\n",
      "1/1 [==============================] - 7s 7s/step - loss: 0.9746 - accuracy: 0.5649 - val_loss: 1.0514 - val_accuracy: 0.4673\n",
      "Epoch 24/25\n",
      "1/1 [==============================] - 7s 7s/step - loss: 0.9724 - accuracy: 0.5662 - val_loss: 1.0524 - val_accuracy: 0.4640\n",
      "Epoch 25/25\n",
      "1/1 [==============================] - 7s 7s/step - loss: 0.9704 - accuracy: 0.5673 - val_loss: 1.0536 - val_accuracy: 0.4647\n"
     ]
    }
   ],
   "source": [
    "history, model = LSTM_Model_1(train_lstm, Y_train_lstm, val_lstm, Y_val_lstm, x, 25)"
   ]
  },
  {
   "cell_type": "code",
   "execution_count": 73,
   "metadata": {},
   "outputs": [
    {
     "data": {
      "text/plain": [
       "[<matplotlib.lines.Line2D at 0x7f8f8398f100>]"
      ]
     },
     "execution_count": 73,
     "metadata": {},
     "output_type": "execute_result"
    },
    {
     "data": {
      "image/png": "[encoded data removed]",
      "text/plain": [
       "<Figure size 432x288 with 1 Axes>"
      ]
     },
     "metadata": {
      "needs_background": "light"
     },
     "output_type": "display_data"
    }
   ],
   "source": [
    "plt.plot(history.history['loss'])\n",
    "plt.plot(history.history['val_loss'])"
   ]
  },
  {
   "cell_type": "code",
   "execution_count": 74,
   "metadata": {},
   "outputs": [
    {
     "name": "stderr",
     "output_type": "stream",
     "text": [
      "/Users/martin/opt/anaconda3/lib/python3.8/site-packages/tensorflow/python/keras/engine/sequential.py:450: UserWarning: `model.predict_classes()` is deprecated and will be removed after 2021-01-01. Please use instead:* `np.argmax(model.predict(x), axis=-1)`,   if your model does multi-class classification   (e.g. if it uses a `softmax` last-layer activation).* `(model.predict(x) > 0.5).astype(\"int32\")`,   if your model does binary classification   (e.g. if it uses a `sigmoid` last-layer activation).\n",
      "  warnings.warn('`model.predict_classes()` is deprecated and '\n"
     ]
    },
    {
     "data": {
      "text/plain": [
       "array([[0, 0, 0, ..., 1, 0, 0]])"
      ]
     },
     "execution_count": 74,
     "metadata": {},
     "output_type": "execute_result"
    }
   ],
   "source": [
    "model.predict_classes(test_lstm)"
   ]
  },
  {
   "cell_type": "code",
   "execution_count": 75,
   "metadata": {},
   "outputs": [],
   "source": [
    "pred = np.argmax(model.predict(test_lstm), axis=-1)"
   ]
  },
  {
   "cell_type": "code",
   "execution_count": 76,
   "metadata": {},
   "outputs": [
    {
     "data": {
      "text/plain": [
       "(1, 1548)"
      ]
     },
     "execution_count": 76,
     "metadata": {},
     "output_type": "execute_result"
    }
   ],
   "source": [
    "pred.shape"
   ]
  },
  {
   "cell_type": "code",
   "execution_count": 476,
   "metadata": {},
   "outputs": [
    {
     "data": {
      "text/plain": [
       "array([0, 0, 0, ..., 0, 0, 0])"
      ]
     },
     "execution_count": 476,
     "metadata": {},
     "output_type": "execute_result"
    }
   ],
   "source": [
    "pred[0,15500:]"
   ]
  },
  {
   "cell_type": "code",
   "execution_count": 477,
   "metadata": {
    "scrolled": true
   },
   "outputs": [
    {
     "ename": "ValueError",
     "evalue": "could not broadcast input array from shape (0,17048,1) into shape (1548)",
     "output_type": "error",
     "traceback": [
      "\u001b[0;31m---------------------------------------------------------------------------\u001b[0m",
      "\u001b[0;31mValueError\u001b[0m                                Traceback (most recent call last)",
      "\u001b[0;32m<ipython-input-477-27d664ab8a9e>\u001b[0m in \u001b[0;36m<module>\u001b[0;34m\u001b[0m\n\u001b[0;32m----> 1\u001b[0;31m \u001b[0mpred\u001b[0m\u001b[0;34m[\u001b[0m\u001b[0;36m0\u001b[0m\u001b[0;34m,\u001b[0m\u001b[0;36m15500\u001b[0m\u001b[0;34m:\u001b[0m\u001b[0;34m]\u001b[0m \u001b[0;34m=\u001b[0m \u001b[0mY_std\u001b[0m\u001b[0;34m[\u001b[0m\u001b[0;36m15500\u001b[0m\u001b[0;34m:\u001b[0m\u001b[0;34m]\u001b[0m\u001b[0;34m\u001b[0m\u001b[0;34m\u001b[0m\u001b[0m\n\u001b[0m",
      "\u001b[0;31mValueError\u001b[0m: could not broadcast input array from shape (0,17048,1) into shape (1548)"
     ]
    }
   ],
   "source": [
    "pred[0,15500:] = Y_std[15500:]"
   ]
  },
  {
   "cell_type": "code",
   "execution_count": 27,
   "metadata": {},
   "outputs": [
    {
     "data": {
      "text/plain": [
       "(1, 17048, 1)"
      ]
     },
     "execution_count": 27,
     "metadata": {},
     "output_type": "execute_result"
    }
   ],
   "source": [
    ".shape"
   ]
  },
  {
   "cell_type": "code",
   "execution_count": 77,
   "metadata": {},
   "outputs": [
    {
     "ename": "NameError",
     "evalue": "name 'Y_std' is not defined",
     "output_type": "error",
     "traceback": [
      "\u001b[0;31m---------------------------------------------------------------------------\u001b[0m",
      "\u001b[0;31mNameError\u001b[0m                                 Traceback (most recent call last)",
      "\u001b[0;32m<ipython-input-77-a0b38f1b8080>\u001b[0m in \u001b[0;36m<module>\u001b[0;34m\u001b[0m\n\u001b[0;32m----> 1\u001b[0;31m \u001b[0msum\u001b[0m\u001b[0;34m(\u001b[0m\u001b[0mpred\u001b[0m\u001b[0;34m[\u001b[0m\u001b[0;36m0\u001b[0m\u001b[0;34m,\u001b[0m\u001b[0;36m15500\u001b[0m\u001b[0;34m:\u001b[0m\u001b[0;34m]\u001b[0m \u001b[0;34m==\u001b[0m \u001b[0mY_std\u001b[0m\u001b[0;34m[\u001b[0m\u001b[0;36m0\u001b[0m\u001b[0;34m,\u001b[0m\u001b[0;36m15500\u001b[0m\u001b[0;34m:\u001b[0m\u001b[0;34m,\u001b[0m\u001b[0;36m0\u001b[0m\u001b[0;34m]\u001b[0m\u001b[0;34m)\u001b[0m\u001b[0;34m/\u001b[0m\u001b[0;36m1548\u001b[0m\u001b[0;34m\u001b[0m\u001b[0;34m\u001b[0m\u001b[0m\n\u001b[0m",
      "\u001b[0;31mNameError\u001b[0m: name 'Y_std' is not defined"
     ]
    }
   ],
   "source": [
    "sum(pred[0,15500:] == Y_std[0,15500:,0])/1548"
   ]
  },
  {
   "cell_type": "code",
   "execution_count": 482,
   "metadata": {},
   "outputs": [
    {
     "data": {
      "text/plain": [
       "(1548,)"
      ]
     },
     "execution_count": 482,
     "metadata": {},
     "output_type": "execute_result"
    }
   ],
   "source": [
    "pred[0,15500:].shape"
   ]
  },
  {
   "cell_type": "code",
   "execution_count": 488,
   "metadata": {},
   "outputs": [
    {
     "data": {
      "text/plain": [
       "array([[[0.3019536 , 0.30216908, 0.39587733],\n",
       "        [0.3249775 , 0.3002733 , 0.37474924],\n",
       "        [0.36323813, 0.2354124 , 0.40134948],\n",
       "        ...,\n",
       "        [0.47215974, 0.2899163 , 0.23792394],\n",
       "        [0.5255605 , 0.2540053 , 0.22043416],\n",
       "        [0.53964335, 0.27854082, 0.18181585]]], dtype=float32)"
      ]
     },
     "execution_count": 488,
     "metadata": {},
     "output_type": "execute_result"
    }
   ],
   "source": [
    "model.predict(test_lstm)"
   ]
  },
  {
   "cell_type": "code",
   "execution_count": 318,
   "metadata": {},
   "outputs": [
    {
     "data": {
      "text/plain": [
       "array([[0, 0, 0, ..., 0, 0, 0]])"
      ]
     },
     "execution_count": 318,
     "metadata": {},
     "output_type": "execute_result"
    }
   ],
   "source": [
    "model.predict_classes(test_lstm)"
   ]
  },
  {
   "cell_type": "code",
   "execution_count": 247,
   "metadata": {},
   "outputs": [
    {
     "data": {
      "text/plain": [
       "array([[[2],\n",
       "        [2],\n",
       "        [1],\n",
       "        [1],\n",
       "        [1],\n",
       "        [2],\n",
       "        [2],\n",
       "        [1],\n",
       "        [1]]])"
      ]
     },
     "execution_count": 247,
     "metadata": {},
     "output_type": "execute_result"
    }
   ],
   "source": [
    "Y_test_lstm[:,1:10,:]"
   ]
  },
  {
   "cell_type": "code",
   "execution_count": 79,
   "metadata": {},
   "outputs": [],
   "source": [
    "pred = np.argmax(model.predict(test_lstm), axis=-1)"
   ]
  },
  {
   "cell_type": "code",
   "execution_count": 80,
   "metadata": {},
   "outputs": [
    {
     "data": {
      "text/plain": [
       "(1, 1548)"
      ]
     },
     "execution_count": 80,
     "metadata": {},
     "output_type": "execute_result"
    }
   ],
   "source": [
    "pred.shape"
   ]
  },
  {
   "cell_type": "code",
   "execution_count": 489,
   "metadata": {},
   "outputs": [],
   "source": [
    "pred = model.predict(test_lstm)"
   ]
  },
  {
   "cell_type": "code",
   "execution_count": 78,
   "metadata": {},
   "outputs": [
    {
     "data": {
      "text/plain": [
       "array([[0, 0, 0, ..., 1, 0, 0]])"
      ]
     },
     "execution_count": 78,
     "metadata": {},
     "output_type": "execute_result"
    }
   ],
   "source": [
    "pred"
   ]
  },
  {
   "cell_type": "code",
   "execution_count": 258,
   "metadata": {},
   "outputs": [
    {
     "data": {
      "text/plain": [
       "array([0, 0, 0, ..., 0, 0, 0])"
      ]
     },
     "execution_count": 258,
     "metadata": {},
     "output_type": "execute_result"
    }
   ],
   "source": [
    "pred[0,:]"
   ]
  },
  {
   "cell_type": "code",
   "execution_count": 282,
   "metadata": {},
   "outputs": [
    {
     "data": {
      "text/plain": [
       "array([1308])"
      ]
     },
     "execution_count": 282,
     "metadata": {},
     "output_type": "execute_result"
    }
   ],
   "source": [
    "np.bincount(pred[0,:])"
   ]
  },
  {
   "cell_type": "code",
   "execution_count": 263,
   "metadata": {},
   "outputs": [
    {
     "data": {
      "text/plain": [
       "(1, 1308)"
      ]
     },
     "execution_count": 263,
     "metadata": {},
     "output_type": "execute_result"
    }
   ],
   "source": [
    "pred.shape"
   ]
  },
  {
   "cell_type": "code",
   "execution_count": 262,
   "metadata": {},
   "outputs": [
    {
     "data": {
      "text/plain": [
       "(array([], dtype=int64),)"
      ]
     },
     "execution_count": 262,
     "metadata": {},
     "output_type": "execute_result"
    }
   ],
   "source": [
    "np.nonzero(pred[0,:])"
   ]
  },
  {
   "cell_type": "code",
   "execution_count": 491,
   "metadata": {},
   "outputs": [],
   "source": [
    "import sklearn\n",
    "from sklearn.metrics import roc_auc_score"
   ]
  },
  {
   "cell_type": "code",
   "execution_count": 502,
   "metadata": {},
   "outputs": [
    {
     "data": {
      "text/plain": [
       "(1, 17048, 3)"
      ]
     },
     "execution_count": 502,
     "metadata": {},
     "output_type": "execute_result"
    }
   ],
   "source": [
    "pred.shape"
   ]
  },
  {
   "cell_type": "code",
   "execution_count": 506,
   "metadata": {},
   "outputs": [
    {
     "data": {
      "text/plain": [
       "array([[0.5524039 , 0.23740539, 0.21019068],\n",
       "       [0.5160029 , 0.22005287, 0.2639443 ],\n",
       "       [0.44032782, 0.2586724 , 0.3009998 ],\n",
       "       ...,\n",
       "       [0.47215974, 0.2899163 , 0.23792394],\n",
       "       [0.5255605 , 0.2540053 , 0.22043416],\n",
       "       [0.53964335, 0.27854082, 0.18181585]], dtype=float32)"
      ]
     },
     "execution_count": 506,
     "metadata": {},
     "output_type": "execute_result"
    }
   ],
   "source": [
    "pred[:,15500:,:].reshape((1548,3))"
   ]
  },
  {
   "cell_type": "code",
   "execution_count": 505,
   "metadata": {},
   "outputs": [
    {
     "data": {
      "text/plain": [
       "array([[0.5524039 , 0.23740539, 0.21019068]], dtype=float32)"
      ]
     },
     "execution_count": 505,
     "metadata": {},
     "output_type": "execute_result"
    }
   ],
   "source": [
    "pred[:,15500,:]"
   ]
  },
  {
   "cell_type": "code",
   "execution_count": 507,
   "metadata": {},
   "outputs": [
    {
     "data": {
      "text/plain": [
       "0.555808694724654"
      ]
     },
     "execution_count": 507,
     "metadata": {},
     "output_type": "execute_result"
    }
   ],
   "source": [
    "roc_auc_score(pd.get_dummies(Y_std[:,15500:,:].reshape(1548)), pred[:,15500:,:].reshape((1548,3)), multi_class=\"ovo\")"
   ]
  },
  {
   "cell_type": "code",
   "execution_count": 496,
   "metadata": {},
   "outputs": [
    {
     "data": {
      "text/plain": [
       "(1, 17048, 1)"
      ]
     },
     "execution_count": 496,
     "metadata": {},
     "output_type": "execute_result"
    }
   ],
   "source": [
    "Y_std.shape"
   ]
  },
  {
   "cell_type": "code",
   "execution_count": null,
   "metadata": {},
   "outputs": [],
   "source": []
  }
 ],
 "metadata": {
  "kernelspec": {
   "display_name": "Python 3",
   "language": "python",
   "name": "python3"
  },
  "language_info": {
   "codemirror_mode": {
    "name": "ipython",
    "version": 3
   },
   "file_extension": ".py",
   "mimetype": "text/x-python",
   "name": "python",
   "nbconvert_exporter": "python",
   "pygments_lexer": "ipython3",
   "version": "3.8.5"
  }
 },
 "nbformat": 4,
 "nbformat_minor": 4
}
