{
 "cells": [
  {
   "cell_type": "code",
   "execution_count": 7,
   "metadata": {},
   "outputs": [],
   "source": [
    "import pandas as pd\n",
    "import numpy as np\n",
    "import keras\n",
    "import matplotlib.pyplot as plt "
   ]
  },
  {
   "cell_type": "code",
   "execution_count": 149,
   "metadata": {
    "scrolled": true
   },
   "outputs": [
    {
     "data": {
      "text/html": [
       "<div>\n",
       "<style scoped>\n",
       "    .dataframe tbody tr th:only-of-type {\n",
       "        vertical-align: middle;\n",
       "    }\n",
       "\n",
       "    .dataframe tbody tr th {\n",
       "        vertical-align: top;\n",
       "    }\n",
       "\n",
       "    .dataframe thead th {\n",
       "        text-align: right;\n",
       "    }\n",
       "</style>\n",
       "<table border=\"1\" class=\"dataframe\">\n",
       "  <thead>\n",
       "    <tr style=\"text-align: right;\">\n",
       "      <th></th>\n",
       "      <th>spread</th>\n",
       "      <th>buys</th>\n",
       "      <th>sells</th>\n",
       "      <th>bids_distance_0</th>\n",
       "      <th>bids_distance_1</th>\n",
       "      <th>bids_distance_2</th>\n",
       "      <th>bids_distance_3</th>\n",
       "      <th>bids_distance_4</th>\n",
       "      <th>bids_distance_5</th>\n",
       "      <th>bids_distance_6</th>\n",
       "      <th>...</th>\n",
       "      <th>PreAvg</th>\n",
       "      <th>JV</th>\n",
       "      <th>PJ</th>\n",
       "      <th>SV</th>\n",
       "      <th>ASV</th>\n",
       "      <th>RQ</th>\n",
       "      <th>RQTri</th>\n",
       "      <th>RQQuad</th>\n",
       "      <th>NV</th>\n",
       "      <th>y</th>\n",
       "    </tr>\n",
       "  </thead>\n",
       "  <tbody>\n",
       "    <tr>\n",
       "      <th>0</th>\n",
       "      <td>0.01</td>\n",
       "      <td>8.243388e+05</td>\n",
       "      <td>854362.503980</td>\n",
       "      <td>-8.890902e-08</td>\n",
       "      <td>-0.000002</td>\n",
       "      <td>-0.000042</td>\n",
       "      <td>-0.000169</td>\n",
       "      <td>-0.000191</td>\n",
       "      <td>-0.000252</td>\n",
       "      <td>-0.000443</td>\n",
       "      <td>...</td>\n",
       "      <td>0.001336</td>\n",
       "      <td>0.0</td>\n",
       "      <td>0.0</td>\n",
       "      <td>7.677271e-08</td>\n",
       "      <td>0.000003</td>\n",
       "      <td>0.000016</td>\n",
       "      <td>4.678313e-07</td>\n",
       "      <td>2.214260e-08</td>\n",
       "      <td>5398.546583</td>\n",
       "      <td>0</td>\n",
       "    </tr>\n",
       "    <tr>\n",
       "      <th>1</th>\n",
       "      <td>0.01</td>\n",
       "      <td>4.043096e+05</td>\n",
       "      <td>174798.367015</td>\n",
       "      <td>-8.893365e-08</td>\n",
       "      <td>-0.000030</td>\n",
       "      <td>-0.000050</td>\n",
       "      <td>-0.000206</td>\n",
       "      <td>-0.000216</td>\n",
       "      <td>-0.000250</td>\n",
       "      <td>-0.000256</td>\n",
       "      <td>...</td>\n",
       "      <td>0.001315</td>\n",
       "      <td>0.0</td>\n",
       "      <td>0.0</td>\n",
       "      <td>3.075970e-07</td>\n",
       "      <td>0.000003</td>\n",
       "      <td>0.000016</td>\n",
       "      <td>4.678492e-07</td>\n",
       "      <td>2.212838e-08</td>\n",
       "      <td>5318.152883</td>\n",
       "      <td>2</td>\n",
       "    </tr>\n",
       "    <tr>\n",
       "      <th>2</th>\n",
       "      <td>0.01</td>\n",
       "      <td>7.976876e+05</td>\n",
       "      <td>245080.699183</td>\n",
       "      <td>-8.888435e-08</td>\n",
       "      <td>-0.000043</td>\n",
       "      <td>-0.000044</td>\n",
       "      <td>-0.000065</td>\n",
       "      <td>-0.000066</td>\n",
       "      <td>-0.000085</td>\n",
       "      <td>-0.000160</td>\n",
       "      <td>...</td>\n",
       "      <td>0.001217</td>\n",
       "      <td>0.0</td>\n",
       "      <td>0.0</td>\n",
       "      <td>4.481803e-06</td>\n",
       "      <td>0.000003</td>\n",
       "      <td>0.000016</td>\n",
       "      <td>4.508335e-07</td>\n",
       "      <td>2.206376e-08</td>\n",
       "      <td>5320.068883</td>\n",
       "      <td>2</td>\n",
       "    </tr>\n",
       "    <tr>\n",
       "      <th>3</th>\n",
       "      <td>6.30</td>\n",
       "      <td>8.938642e+05</td>\n",
       "      <td>504274.642389</td>\n",
       "      <td>-5.587871e-05</td>\n",
       "      <td>-0.000091</td>\n",
       "      <td>-0.000128</td>\n",
       "      <td>-0.000252</td>\n",
       "      <td>-0.000259</td>\n",
       "      <td>-0.000265</td>\n",
       "      <td>-0.000267</td>\n",
       "      <td>...</td>\n",
       "      <td>0.001235</td>\n",
       "      <td>0.0</td>\n",
       "      <td>0.0</td>\n",
       "      <td>1.234156e-06</td>\n",
       "      <td>0.000003</td>\n",
       "      <td>0.000016</td>\n",
       "      <td>4.508341e-07</td>\n",
       "      <td>2.210425e-08</td>\n",
       "      <td>4994.242080</td>\n",
       "      <td>2</td>\n",
       "    </tr>\n",
       "    <tr>\n",
       "      <th>4</th>\n",
       "      <td>2.28</td>\n",
       "      <td>1.904225e+06</td>\n",
       "      <td>765199.134667</td>\n",
       "      <td>-2.020032e-05</td>\n",
       "      <td>-0.000107</td>\n",
       "      <td>-0.000107</td>\n",
       "      <td>-0.000158</td>\n",
       "      <td>-0.000189</td>\n",
       "      <td>-0.000189</td>\n",
       "      <td>-0.000235</td>\n",
       "      <td>...</td>\n",
       "      <td>0.001181</td>\n",
       "      <td>0.0</td>\n",
       "      <td>0.0</td>\n",
       "      <td>1.186346e-06</td>\n",
       "      <td>0.000003</td>\n",
       "      <td>0.000016</td>\n",
       "      <td>4.508435e-07</td>\n",
       "      <td>2.215744e-08</td>\n",
       "      <td>5112.644874</td>\n",
       "      <td>1</td>\n",
       "    </tr>\n",
       "  </tbody>\n",
       "</table>\n",
       "<p>5 rows × 168 columns</p>\n",
       "</div>"
      ],
      "text/plain": [
       "   spread          buys          sells  bids_distance_0  bids_distance_1  \\\n",
       "0    0.01  8.243388e+05  854362.503980    -8.890902e-08        -0.000002   \n",
       "1    0.01  4.043096e+05  174798.367015    -8.893365e-08        -0.000030   \n",
       "2    0.01  7.976876e+05  245080.699183    -8.888435e-08        -0.000043   \n",
       "3    6.30  8.938642e+05  504274.642389    -5.587871e-05        -0.000091   \n",
       "4    2.28  1.904225e+06  765199.134667    -2.020032e-05        -0.000107   \n",
       "\n",
       "   bids_distance_2  bids_distance_3  bids_distance_4  bids_distance_5  \\\n",
       "0        -0.000042        -0.000169        -0.000191        -0.000252   \n",
       "1        -0.000050        -0.000206        -0.000216        -0.000250   \n",
       "2        -0.000044        -0.000065        -0.000066        -0.000085   \n",
       "3        -0.000128        -0.000252        -0.000259        -0.000265   \n",
       "4        -0.000107        -0.000158        -0.000189        -0.000189   \n",
       "\n",
       "   bids_distance_6  ...    PreAvg   JV   PJ            SV       ASV        RQ  \\\n",
       "0        -0.000443  ...  0.001336  0.0  0.0  7.677271e-08  0.000003  0.000016   \n",
       "1        -0.000256  ...  0.001315  0.0  0.0  3.075970e-07  0.000003  0.000016   \n",
       "2        -0.000160  ...  0.001217  0.0  0.0  4.481803e-06  0.000003  0.000016   \n",
       "3        -0.000267  ...  0.001235  0.0  0.0  1.234156e-06  0.000003  0.000016   \n",
       "4        -0.000235  ...  0.001181  0.0  0.0  1.186346e-06  0.000003  0.000016   \n",
       "\n",
       "          RQTri        RQQuad           NV  y  \n",
       "0  4.678313e-07  2.214260e-08  5398.546583  0  \n",
       "1  4.678492e-07  2.212838e-08  5318.152883  2  \n",
       "2  4.508335e-07  2.206376e-08  5320.068883  2  \n",
       "3  4.508341e-07  2.210425e-08  4994.242080  2  \n",
       "4  4.508435e-07  2.215744e-08  5112.644874  1  \n",
       "\n",
       "[5 rows x 168 columns]"
      ]
     },
     "execution_count": 149,
     "metadata": {},
     "output_type": "execute_result"
    }
   ],
   "source": [
    "data_c = pd.read_csv(\"data/final/1min/BTC.csv\")\n",
    "data_c.drop(\"system_time\", axis = 1)\n",
    "data_c['Next_mid'] = data_c.midpoint.shift(-1)\n",
    "data_c['Price_move'] = (data_c.Next_mid - data_c.midpoint) / data_c.midpoint\n",
    "data_c.dropna(axis=0, inplace=True) #drop the last row which is now Nan\n",
    "\n",
    "data_c['y'] = 0\n",
    "data_c.loc[(data_c['Price_move'] < -0.0005), 'y'] = 1\n",
    "data_c.loc[(data_c['Price_move'] > 0.0005), 'y'] = 2\n",
    "data_c.drop(['Next_mid', 'midpoint', 'Price_move', \"system_time\", \"Return\"], axis=1, inplace=True)\n",
    "\n",
    "data_c.head()"
   ]
  },
  {
   "cell_type": "code",
   "execution_count": 154,
   "metadata": {},
   "outputs": [
    {
     "data": {
      "text/html": [
       "<div>\n",
       "<style scoped>\n",
       "    .dataframe tbody tr th:only-of-type {\n",
       "        vertical-align: middle;\n",
       "    }\n",
       "\n",
       "    .dataframe tbody tr th {\n",
       "        vertical-align: top;\n",
       "    }\n",
       "\n",
       "    .dataframe thead th {\n",
       "        text-align: right;\n",
       "    }\n",
       "</style>\n",
       "<table border=\"1\" class=\"dataframe\">\n",
       "  <thead>\n",
       "    <tr style=\"text-align: right;\">\n",
       "      <th></th>\n",
       "      <th>spread</th>\n",
       "      <th>buys</th>\n",
       "      <th>sells</th>\n",
       "      <th>bids_distance_0</th>\n",
       "      <th>bids_distance_1</th>\n",
       "      <th>bids_distance_2</th>\n",
       "      <th>bids_distance_3</th>\n",
       "      <th>bids_distance_4</th>\n",
       "      <th>bids_distance_5</th>\n",
       "      <th>bids_distance_6</th>\n",
       "      <th>...</th>\n",
       "      <th>PreAvg</th>\n",
       "      <th>JV</th>\n",
       "      <th>PJ</th>\n",
       "      <th>SV</th>\n",
       "      <th>ASV</th>\n",
       "      <th>RQ</th>\n",
       "      <th>RQTri</th>\n",
       "      <th>RQQuad</th>\n",
       "      <th>NV</th>\n",
       "      <th>y</th>\n",
       "    </tr>\n",
       "  </thead>\n",
       "  <tbody>\n",
       "    <tr>\n",
       "      <th>240</th>\n",
       "      <td>0.01</td>\n",
       "      <td>194648.658288</td>\n",
       "      <td>87041.803083</td>\n",
       "      <td>-8.847609e-08</td>\n",
       "      <td>-0.000043</td>\n",
       "      <td>-0.000098</td>\n",
       "      <td>-0.000102</td>\n",
       "      <td>-0.000160</td>\n",
       "      <td>-0.000160</td>\n",
       "      <td>-0.000189</td>\n",
       "      <td>...</td>\n",
       "      <td>0.000420</td>\n",
       "      <td>0.0</td>\n",
       "      <td>0.0</td>\n",
       "      <td>1.439337e-06</td>\n",
       "      <td>0.000001</td>\n",
       "      <td>7.744539e-07</td>\n",
       "      <td>2.172278e-08</td>\n",
       "      <td>7.834968e-09</td>\n",
       "      <td>1950.910332</td>\n",
       "      <td>2</td>\n",
       "    </tr>\n",
       "    <tr>\n",
       "      <th>241</th>\n",
       "      <td>0.01</td>\n",
       "      <td>270732.093621</td>\n",
       "      <td>363003.808715</td>\n",
       "      <td>-8.837000e-08</td>\n",
       "      <td>-0.000066</td>\n",
       "      <td>-0.000066</td>\n",
       "      <td>-0.000066</td>\n",
       "      <td>-0.000066</td>\n",
       "      <td>-0.000066</td>\n",
       "      <td>-0.000084</td>\n",
       "      <td>...</td>\n",
       "      <td>0.000421</td>\n",
       "      <td>0.0</td>\n",
       "      <td>0.0</td>\n",
       "      <td>1.730223e-07</td>\n",
       "      <td>0.000001</td>\n",
       "      <td>7.503164e-07</td>\n",
       "      <td>2.081325e-08</td>\n",
       "      <td>8.212244e-09</td>\n",
       "      <td>2023.330437</td>\n",
       "      <td>0</td>\n",
       "    </tr>\n",
       "    <tr>\n",
       "      <th>242</th>\n",
       "      <td>0.01</td>\n",
       "      <td>355102.850000</td>\n",
       "      <td>147063.422387</td>\n",
       "      <td>-8.833325e-08</td>\n",
       "      <td>-0.000015</td>\n",
       "      <td>-0.000068</td>\n",
       "      <td>-0.000276</td>\n",
       "      <td>-0.000336</td>\n",
       "      <td>-0.000336</td>\n",
       "      <td>-0.000361</td>\n",
       "      <td>...</td>\n",
       "      <td>0.000421</td>\n",
       "      <td>0.0</td>\n",
       "      <td>0.0</td>\n",
       "      <td>5.766543e-07</td>\n",
       "      <td>0.000001</td>\n",
       "      <td>7.503056e-07</td>\n",
       "      <td>2.158346e-08</td>\n",
       "      <td>8.274446e-09</td>\n",
       "      <td>1982.820997</td>\n",
       "      <td>2</td>\n",
       "    </tr>\n",
       "  </tbody>\n",
       "</table>\n",
       "<p>3 rows × 168 columns</p>\n",
       "</div>"
      ],
      "text/plain": [
       "     spread           buys          sells  bids_distance_0  bids_distance_1  \\\n",
       "240    0.01  194648.658288   87041.803083    -8.847609e-08        -0.000043   \n",
       "241    0.01  270732.093621  363003.808715    -8.837000e-08        -0.000066   \n",
       "242    0.01  355102.850000  147063.422387    -8.833325e-08        -0.000015   \n",
       "\n",
       "     bids_distance_2  bids_distance_3  bids_distance_4  bids_distance_5  \\\n",
       "240        -0.000098        -0.000102        -0.000160        -0.000160   \n",
       "241        -0.000066        -0.000066        -0.000066        -0.000066   \n",
       "242        -0.000068        -0.000276        -0.000336        -0.000336   \n",
       "\n",
       "     bids_distance_6  ...    PreAvg   JV   PJ            SV       ASV  \\\n",
       "240        -0.000189  ...  0.000420  0.0  0.0  1.439337e-06  0.000001   \n",
       "241        -0.000084  ...  0.000421  0.0  0.0  1.730223e-07  0.000001   \n",
       "242        -0.000361  ...  0.000421  0.0  0.0  5.766543e-07  0.000001   \n",
       "\n",
       "               RQ         RQTri        RQQuad           NV  y  \n",
       "240  7.744539e-07  2.172278e-08  7.834968e-09  1950.910332  2  \n",
       "241  7.503164e-07  2.081325e-08  8.212244e-09  2023.330437  0  \n",
       "242  7.503056e-07  2.158346e-08  8.274446e-09  1982.820997  2  \n",
       "\n",
       "[3 rows x 168 columns]"
      ]
     },
     "execution_count": 154,
     "metadata": {},
     "output_type": "execute_result"
    }
   ],
   "source": [
    "data_c.iloc[240:243,:]"
   ]
  },
  {
   "cell_type": "code",
   "execution_count": 164,
   "metadata": {},
   "outputs": [
    {
     "data": {
      "text/plain": [
       "array([-0.35013619, -0.3492982 ])"
      ]
     },
     "execution_count": 164,
     "metadata": {},
     "output_type": "execute_result"
    }
   ],
   "source": [
    "data[0,240:242,1]"
   ]
  },
  {
   "cell_type": "code",
   "execution_count": 158,
   "metadata": {},
   "outputs": [
    {
     "data": {
      "text/plain": [
       "(1, 16808, 34)"
      ]
     },
     "execution_count": 158,
     "metadata": {},
     "output_type": "execute_result"
    }
   ],
   "source": [
    "data.shape"
   ]
  },
  {
   "cell_type": "code",
   "execution_count": 201,
   "metadata": {},
   "outputs": [],
   "source": [
    "data = pd.read_csv(\"data/final/1min/BidAsk/BTC_std.csv\").values"
   ]
  },
  {
   "cell_type": "code",
   "execution_count": 168,
   "metadata": {},
   "outputs": [
    {
     "data": {
      "text/plain": [
       "array([[[2],\n",
       "        [0],\n",
       "        [2],\n",
       "        ...,\n",
       "        [1],\n",
       "        [1],\n",
       "        [1]]])"
      ]
     },
     "execution_count": 168,
     "metadata": {},
     "output_type": "execute_result"
    }
   ],
   "source": [
    "Y_train_lstm"
   ]
  },
  {
   "cell_type": "code",
   "execution_count": 202,
   "metadata": {},
   "outputs": [],
   "source": [
    "r,x = data.shape"
   ]
  },
  {
   "cell_type": "code",
   "execution_count": 170,
   "metadata": {},
   "outputs": [
    {
     "data": {
      "text/plain": [
       "16808"
      ]
     },
     "execution_count": 170,
     "metadata": {},
     "output_type": "execute_result"
    }
   ],
   "source": [
    "r"
   ]
  },
  {
   "cell_type": "code",
   "execution_count": 117,
   "metadata": {},
   "outputs": [],
   "source": [
    "from keras.models import Sequential"
   ]
  },
  {
   "cell_type": "code",
   "execution_count": 118,
   "metadata": {},
   "outputs": [],
   "source": [
    "from keras.layers.recurrent import LSTM\n",
    "from keras.layers import Dense"
   ]
  },
  {
   "cell_type": "code",
   "execution_count": 271,
   "metadata": {},
   "outputs": [],
   "source": [
    "model = Sequential()\n",
    "model.add(LSTM(32, input_shape=(None, x), return_sequences = True))\n",
    "#model.add(LSTM(8, return_sequences = True))\n",
    "#model.add(LSTM(4, return_sequences = True))\n",
    "#model.add(Dense(32, activation = \"relu\"))\n",
    "model.add(Dense(16, activation = \"relu\"))\n",
    "model.add(Dense(8, activation = \"relu\"))\n",
    "model.add(Dense(4, activation = \"relu\"))\n",
    "model.add(Dense(3, activation = \"softmax\"))"
   ]
  },
  {
   "cell_type": "code",
   "execution_count": 275,
   "metadata": {},
   "outputs": [],
   "source": [
    "#opt = keras.optimizers.Adam(learning_rate=1e-06)\n",
    "\n",
    "model.compile(loss=\"sparse_categorical_crossentropy\", optimizer=\"sgd\", metrics=[\"accuracy\"])"
   ]
  },
  {
   "cell_type": "code",
   "execution_count": null,
   "metadata": {},
   "outputs": [],
   "source": []
  },
  {
   "cell_type": "code",
   "execution_count": 213,
   "metadata": {},
   "outputs": [],
   "source": [
    "data = data.reshape((1, r, x))"
   ]
  },
  {
   "cell_type": "code",
   "execution_count": 199,
   "metadata": {},
   "outputs": [
    {
     "data": {
      "text/html": [
       "<div>\n",
       "<style scoped>\n",
       "    .dataframe tbody tr th:only-of-type {\n",
       "        vertical-align: middle;\n",
       "    }\n",
       "\n",
       "    .dataframe tbody tr th {\n",
       "        vertical-align: top;\n",
       "    }\n",
       "\n",
       "    .dataframe thead th {\n",
       "        text-align: right;\n",
       "    }\n",
       "</style>\n",
       "<table border=\"1\" class=\"dataframe\">\n",
       "  <thead>\n",
       "    <tr style=\"text-align: right;\">\n",
       "      <th></th>\n",
       "      <th>0</th>\n",
       "      <th>1</th>\n",
       "      <th>2</th>\n",
       "      <th>3</th>\n",
       "      <th>4</th>\n",
       "      <th>5</th>\n",
       "      <th>6</th>\n",
       "      <th>7</th>\n",
       "      <th>8</th>\n",
       "      <th>9</th>\n",
       "      <th>...</th>\n",
       "      <th>24</th>\n",
       "      <th>25</th>\n",
       "      <th>26</th>\n",
       "      <th>27</th>\n",
       "      <th>28</th>\n",
       "      <th>29</th>\n",
       "      <th>30</th>\n",
       "      <th>31</th>\n",
       "      <th>32</th>\n",
       "      <th>33</th>\n",
       "    </tr>\n",
       "  </thead>\n",
       "  <tbody>\n",
       "    <tr>\n",
       "      <th>0</th>\n",
       "      <td>0.0</td>\n",
       "      <td>-0.314976</td>\n",
       "      <td>-0.956187</td>\n",
       "      <td>-0.794095</td>\n",
       "      <td>0.315132</td>\n",
       "      <td>0.042656</td>\n",
       "      <td>-0.240160</td>\n",
       "      <td>0.219632</td>\n",
       "      <td>-0.218039</td>\n",
       "      <td>0.052889</td>\n",
       "      <td>...</td>\n",
       "      <td>0.181365</td>\n",
       "      <td>0.165688</td>\n",
       "      <td>-0.020475</td>\n",
       "      <td>0.148886</td>\n",
       "      <td>-0.046401</td>\n",
       "      <td>-0.207341</td>\n",
       "      <td>-0.171601</td>\n",
       "      <td>-0.319917</td>\n",
       "      <td>-0.463073</td>\n",
       "      <td>-0.519005</td>\n",
       "    </tr>\n",
       "    <tr>\n",
       "      <th>1</th>\n",
       "      <td>1.0</td>\n",
       "      <td>-0.313477</td>\n",
       "      <td>-0.699309</td>\n",
       "      <td>0.075948</td>\n",
       "      <td>-0.064149</td>\n",
       "      <td>-0.071685</td>\n",
       "      <td>0.065532</td>\n",
       "      <td>-0.060674</td>\n",
       "      <td>0.069833</td>\n",
       "      <td>-0.035636</td>\n",
       "      <td>...</td>\n",
       "      <td>-0.055824</td>\n",
       "      <td>-0.056365</td>\n",
       "      <td>0.149259</td>\n",
       "      <td>-0.048391</td>\n",
       "      <td>0.109151</td>\n",
       "      <td>0.073414</td>\n",
       "      <td>0.073723</td>\n",
       "      <td>0.071401</td>\n",
       "      <td>0.070304</td>\n",
       "      <td>0.070183</td>\n",
       "    </tr>\n",
       "    <tr>\n",
       "      <th>2</th>\n",
       "      <td>2.0</td>\n",
       "      <td>-0.311992</td>\n",
       "      <td>-0.417283</td>\n",
       "      <td>-0.596680</td>\n",
       "      <td>-0.049868</td>\n",
       "      <td>0.028043</td>\n",
       "      <td>0.045983</td>\n",
       "      <td>-0.055556</td>\n",
       "      <td>0.028337</td>\n",
       "      <td>-0.059413</td>\n",
       "      <td>...</td>\n",
       "      <td>-0.033186</td>\n",
       "      <td>-0.029933</td>\n",
       "      <td>-0.044991</td>\n",
       "      <td>-0.033474</td>\n",
       "      <td>-0.025897</td>\n",
       "      <td>0.045337</td>\n",
       "      <td>0.039590</td>\n",
       "      <td>0.051953</td>\n",
       "      <td>0.056235</td>\n",
       "      <td>0.056754</td>\n",
       "    </tr>\n",
       "    <tr>\n",
       "      <th>3</th>\n",
       "      <td>3.0</td>\n",
       "      <td>-0.310520</td>\n",
       "      <td>-0.411893</td>\n",
       "      <td>-0.927753</td>\n",
       "      <td>-0.039337</td>\n",
       "      <td>0.000210</td>\n",
       "      <td>0.030334</td>\n",
       "      <td>-0.030278</td>\n",
       "      <td>0.028530</td>\n",
       "      <td>0.015353</td>\n",
       "      <td>...</td>\n",
       "      <td>-0.034084</td>\n",
       "      <td>-0.029863</td>\n",
       "      <td>-0.036776</td>\n",
       "      <td>-0.030643</td>\n",
       "      <td>-0.026138</td>\n",
       "      <td>0.020755</td>\n",
       "      <td>0.012863</td>\n",
       "      <td>0.033678</td>\n",
       "      <td>0.042722</td>\n",
       "      <td>0.044629</td>\n",
       "    </tr>\n",
       "    <tr>\n",
       "      <th>4</th>\n",
       "      <td>4.0</td>\n",
       "      <td>2.372926</td>\n",
       "      <td>-0.420244</td>\n",
       "      <td>-0.129456</td>\n",
       "      <td>-0.033466</td>\n",
       "      <td>-0.010502</td>\n",
       "      <td>0.023046</td>\n",
       "      <td>-0.019258</td>\n",
       "      <td>0.026627</td>\n",
       "      <td>0.027127</td>\n",
       "      <td>...</td>\n",
       "      <td>-0.019045</td>\n",
       "      <td>-0.018797</td>\n",
       "      <td>-0.019813</td>\n",
       "      <td>-0.017198</td>\n",
       "      <td>-0.011661</td>\n",
       "      <td>0.015466</td>\n",
       "      <td>0.009895</td>\n",
       "      <td>0.027578</td>\n",
       "      <td>0.036627</td>\n",
       "      <td>0.038894</td>\n",
       "    </tr>\n",
       "    <tr>\n",
       "      <th>...</th>\n",
       "      <td>...</td>\n",
       "      <td>...</td>\n",
       "      <td>...</td>\n",
       "      <td>...</td>\n",
       "      <td>...</td>\n",
       "      <td>...</td>\n",
       "      <td>...</td>\n",
       "      <td>...</td>\n",
       "      <td>...</td>\n",
       "      <td>...</td>\n",
       "      <td>...</td>\n",
       "      <td>...</td>\n",
       "      <td>...</td>\n",
       "      <td>...</td>\n",
       "      <td>...</td>\n",
       "      <td>...</td>\n",
       "      <td>...</td>\n",
       "      <td>...</td>\n",
       "      <td>...</td>\n",
       "      <td>...</td>\n",
       "      <td>...</td>\n",
       "    </tr>\n",
       "    <tr>\n",
       "      <th>16803</th>\n",
       "      <td>16803.0</td>\n",
       "      <td>-0.234392</td>\n",
       "      <td>1.191716</td>\n",
       "      <td>1.859431</td>\n",
       "      <td>0.001226</td>\n",
       "      <td>0.001130</td>\n",
       "      <td>-0.003747</td>\n",
       "      <td>-0.002824</td>\n",
       "      <td>-0.003443</td>\n",
       "      <td>-0.006208</td>\n",
       "      <td>...</td>\n",
       "      <td>0.000042</td>\n",
       "      <td>0.003113</td>\n",
       "      <td>0.001377</td>\n",
       "      <td>0.002654</td>\n",
       "      <td>0.003937</td>\n",
       "      <td>0.009551</td>\n",
       "      <td>0.008093</td>\n",
       "      <td>0.006677</td>\n",
       "      <td>0.005893</td>\n",
       "      <td>0.008583</td>\n",
       "    </tr>\n",
       "    <tr>\n",
       "      <th>16804</th>\n",
       "      <td>16804.0</td>\n",
       "      <td>-0.234378</td>\n",
       "      <td>1.654534</td>\n",
       "      <td>0.839026</td>\n",
       "      <td>0.001214</td>\n",
       "      <td>0.003382</td>\n",
       "      <td>-0.007434</td>\n",
       "      <td>-0.006314</td>\n",
       "      <td>-0.004674</td>\n",
       "      <td>-0.004433</td>\n",
       "      <td>...</td>\n",
       "      <td>0.003697</td>\n",
       "      <td>0.004212</td>\n",
       "      <td>0.003778</td>\n",
       "      <td>0.003474</td>\n",
       "      <td>0.003143</td>\n",
       "      <td>0.004521</td>\n",
       "      <td>0.005485</td>\n",
       "      <td>0.004116</td>\n",
       "      <td>0.005588</td>\n",
       "      <td>0.005243</td>\n",
       "    </tr>\n",
       "    <tr>\n",
       "      <th>16805</th>\n",
       "      <td>16805.0</td>\n",
       "      <td>2.723757</td>\n",
       "      <td>0.958572</td>\n",
       "      <td>2.713586</td>\n",
       "      <td>-0.007800</td>\n",
       "      <td>-0.000358</td>\n",
       "      <td>0.001995</td>\n",
       "      <td>0.001876</td>\n",
       "      <td>0.002980</td>\n",
       "      <td>0.004241</td>\n",
       "      <td>...</td>\n",
       "      <td>-0.004161</td>\n",
       "      <td>-0.004701</td>\n",
       "      <td>-0.005988</td>\n",
       "      <td>-0.004201</td>\n",
       "      <td>-0.005354</td>\n",
       "      <td>-0.006599</td>\n",
       "      <td>-0.003196</td>\n",
       "      <td>-0.003843</td>\n",
       "      <td>-0.003939</td>\n",
       "      <td>-0.003135</td>\n",
       "    </tr>\n",
       "    <tr>\n",
       "      <th>16806</th>\n",
       "      <td>16806.0</td>\n",
       "      <td>0.925270</td>\n",
       "      <td>1.278939</td>\n",
       "      <td>0.473249</td>\n",
       "      <td>-0.002250</td>\n",
       "      <td>0.003275</td>\n",
       "      <td>-0.000266</td>\n",
       "      <td>0.001959</td>\n",
       "      <td>0.003141</td>\n",
       "      <td>0.003612</td>\n",
       "      <td>...</td>\n",
       "      <td>-0.004394</td>\n",
       "      <td>-0.001515</td>\n",
       "      <td>-0.001562</td>\n",
       "      <td>-0.002746</td>\n",
       "      <td>-0.003779</td>\n",
       "      <td>-0.004319</td>\n",
       "      <td>-0.005232</td>\n",
       "      <td>-0.005832</td>\n",
       "      <td>-0.006957</td>\n",
       "      <td>-0.007334</td>\n",
       "    </tr>\n",
       "    <tr>\n",
       "      <th>16807</th>\n",
       "      <td>16807.0</td>\n",
       "      <td>-0.234439</td>\n",
       "      <td>4.849773</td>\n",
       "      <td>2.089261</td>\n",
       "      <td>0.001296</td>\n",
       "      <td>-0.001807</td>\n",
       "      <td>-0.004757</td>\n",
       "      <td>-0.008243</td>\n",
       "      <td>-0.007292</td>\n",
       "      <td>-0.009242</td>\n",
       "      <td>...</td>\n",
       "      <td>-0.007785</td>\n",
       "      <td>-0.007323</td>\n",
       "      <td>-0.005798</td>\n",
       "      <td>-0.006674</td>\n",
       "      <td>-0.006655</td>\n",
       "      <td>-0.007570</td>\n",
       "      <td>-0.007538</td>\n",
       "      <td>-0.008717</td>\n",
       "      <td>-0.009739</td>\n",
       "      <td>-0.010520</td>\n",
       "    </tr>\n",
       "  </tbody>\n",
       "</table>\n",
       "<p>16808 rows × 34 columns</p>\n",
       "</div>"
      ],
      "text/plain": [
       "            0         1         2         3         4         5         6   \\\n",
       "0          0.0 -0.314976 -0.956187 -0.794095  0.315132  0.042656 -0.240160   \n",
       "1          1.0 -0.313477 -0.699309  0.075948 -0.064149 -0.071685  0.065532   \n",
       "2          2.0 -0.311992 -0.417283 -0.596680 -0.049868  0.028043  0.045983   \n",
       "3          3.0 -0.310520 -0.411893 -0.927753 -0.039337  0.000210  0.030334   \n",
       "4          4.0  2.372926 -0.420244 -0.129456 -0.033466 -0.010502  0.023046   \n",
       "...        ...       ...       ...       ...       ...       ...       ...   \n",
       "16803  16803.0 -0.234392  1.191716  1.859431  0.001226  0.001130 -0.003747   \n",
       "16804  16804.0 -0.234378  1.654534  0.839026  0.001214  0.003382 -0.007434   \n",
       "16805  16805.0  2.723757  0.958572  2.713586 -0.007800 -0.000358  0.001995   \n",
       "16806  16806.0  0.925270  1.278939  0.473249 -0.002250  0.003275 -0.000266   \n",
       "16807  16807.0 -0.234439  4.849773  2.089261  0.001296 -0.001807 -0.004757   \n",
       "\n",
       "             7         8         9   ...        24        25        26  \\\n",
       "0      0.219632 -0.218039  0.052889  ...  0.181365  0.165688 -0.020475   \n",
       "1     -0.060674  0.069833 -0.035636  ... -0.055824 -0.056365  0.149259   \n",
       "2     -0.055556  0.028337 -0.059413  ... -0.033186 -0.029933 -0.044991   \n",
       "3     -0.030278  0.028530  0.015353  ... -0.034084 -0.029863 -0.036776   \n",
       "4     -0.019258  0.026627  0.027127  ... -0.019045 -0.018797 -0.019813   \n",
       "...         ...       ...       ...  ...       ...       ...       ...   \n",
       "16803 -0.002824 -0.003443 -0.006208  ...  0.000042  0.003113  0.001377   \n",
       "16804 -0.006314 -0.004674 -0.004433  ...  0.003697  0.004212  0.003778   \n",
       "16805  0.001876  0.002980  0.004241  ... -0.004161 -0.004701 -0.005988   \n",
       "16806  0.001959  0.003141  0.003612  ... -0.004394 -0.001515 -0.001562   \n",
       "16807 -0.008243 -0.007292 -0.009242  ... -0.007785 -0.007323 -0.005798   \n",
       "\n",
       "             27        28        29        30        31        32        33  \n",
       "0      0.148886 -0.046401 -0.207341 -0.171601 -0.319917 -0.463073 -0.519005  \n",
       "1     -0.048391  0.109151  0.073414  0.073723  0.071401  0.070304  0.070183  \n",
       "2     -0.033474 -0.025897  0.045337  0.039590  0.051953  0.056235  0.056754  \n",
       "3     -0.030643 -0.026138  0.020755  0.012863  0.033678  0.042722  0.044629  \n",
       "4     -0.017198 -0.011661  0.015466  0.009895  0.027578  0.036627  0.038894  \n",
       "...         ...       ...       ...       ...       ...       ...       ...  \n",
       "16803  0.002654  0.003937  0.009551  0.008093  0.006677  0.005893  0.008583  \n",
       "16804  0.003474  0.003143  0.004521  0.005485  0.004116  0.005588  0.005243  \n",
       "16805 -0.004201 -0.005354 -0.006599 -0.003196 -0.003843 -0.003939 -0.003135  \n",
       "16806 -0.002746 -0.003779 -0.004319 -0.005232 -0.005832 -0.006957 -0.007334  \n",
       "16807 -0.006674 -0.006655 -0.007570 -0.007538 -0.008717 -0.009739 -0.010520  \n",
       "\n",
       "[16808 rows x 34 columns]"
      ]
     },
     "execution_count": 199,
     "metadata": {},
     "output_type": "execute_result"
    }
   ],
   "source": [
    "pd.DataFrame(data[0,:,:])"
   ]
  },
  {
   "cell_type": "code",
   "execution_count": 200,
   "metadata": {},
   "outputs": [
    {
     "data": {
      "text/plain": [
       "array([[[ 0.00000000e+00, -3.14975695e-01, -9.56186908e-01, ...,\n",
       "         -3.19916959e-01, -4.63072945e-01, -5.19004631e-01],\n",
       "        [ 1.00000000e+00, -3.13477309e-01, -6.99309456e-01, ...,\n",
       "          7.14008535e-02,  7.03036058e-02,  7.01830747e-02],\n",
       "        [ 2.00000000e+00, -3.11992248e-01, -4.17282876e-01, ...,\n",
       "          5.19529228e-02,  5.62353149e-02,  5.67544399e-02],\n",
       "        ...,\n",
       "        [ 1.68050000e+04,  2.72375710e+00,  9.58571674e-01, ...,\n",
       "         -3.84254887e-03, -3.93916540e-03, -3.13508972e-03],\n",
       "        [ 1.68060000e+04,  9.25270443e-01,  1.27893864e+00, ...,\n",
       "         -5.83238676e-03, -6.95739439e-03, -7.33438254e-03],\n",
       "        [ 1.68070000e+04, -2.34439090e-01,  4.84977311e+00, ...,\n",
       "         -8.71716433e-03, -9.73873496e-03, -1.05195856e-02]]])"
      ]
     },
     "execution_count": 200,
     "metadata": {},
     "output_type": "execute_result"
    }
   ],
   "source": [
    "data"
   ]
  },
  {
   "cell_type": "code",
   "execution_count": 205,
   "metadata": {},
   "outputs": [],
   "source": [
    "Y = pd.read_csv(\"data/final/1min/BidAsk/BTC_Y_std.csv\")"
   ]
  },
  {
   "cell_type": "code",
   "execution_count": 206,
   "metadata": {},
   "outputs": [],
   "source": [
    "Y = Y[\"y\"].values"
   ]
  },
  {
   "cell_type": "code",
   "execution_count": 207,
   "metadata": {},
   "outputs": [
    {
     "data": {
      "text/plain": [
       "array([2, 0, 2, ..., 2, 1, 1])"
      ]
     },
     "execution_count": 207,
     "metadata": {},
     "output_type": "execute_result"
    }
   ],
   "source": [
    "Y"
   ]
  },
  {
   "cell_type": "code",
   "execution_count": 211,
   "metadata": {},
   "outputs": [],
   "source": [
    "Y_std = Y.reshape((1,r,1))"
   ]
  },
  {
   "cell_type": "code",
   "execution_count": 209,
   "metadata": {},
   "outputs": [
    {
     "data": {
      "text/plain": [
       "0.6962755830556878"
      ]
     },
     "execution_count": 209,
     "metadata": {},
     "output_type": "execute_result"
    }
   ],
   "source": [
    "Y_std.mean()"
   ]
  },
  {
   "cell_type": "code",
   "execution_count": 214,
   "metadata": {},
   "outputs": [],
   "source": [
    "train_lstm = data[:,:14000,:]\n",
    "val_lstm = data[:,14000:15500,:]\n",
    "test_lstm = data[:,15500:,:]"
   ]
  },
  {
   "cell_type": "code",
   "execution_count": 215,
   "metadata": {},
   "outputs": [],
   "source": [
    "Y_train_lstm = Y_std[:,:14000,:]\n",
    "Y_val_lstm = Y_std[:,14000:15500,:]\n",
    "Y_test_lstm = Y_std[:,15500:,:]"
   ]
  },
  {
   "cell_type": "code",
   "execution_count": 277,
   "metadata": {
    "scrolled": true
   },
   "outputs": [
    {
     "name": "stdout",
     "output_type": "stream",
     "text": [
      "Epoch 1/100\n",
      "1/1 [==============================] - 7s 7s/step - loss: 1.1440 - accuracy: 0.2319 - val_loss: 1.1089 - val_accuracy: 0.3387\n",
      "Epoch 2/100\n",
      "1/1 [==============================] - 6s 6s/step - loss: 1.1391 - accuracy: 0.2430 - val_loss: 1.1073 - val_accuracy: 0.3400\n",
      "Epoch 3/100\n",
      "1/1 [==============================] - 7s 7s/step - loss: 1.1345 - accuracy: 0.2542 - val_loss: 1.1059 - val_accuracy: 0.3373\n",
      "Epoch 4/100\n",
      "1/1 [==============================] - 6s 6s/step - loss: 1.1303 - accuracy: 0.2668 - val_loss: 1.1046 - val_accuracy: 0.3393\n",
      "Epoch 5/100\n",
      "1/1 [==============================] - 7s 7s/step - loss: 1.1264 - accuracy: 0.2762 - val_loss: 1.1035 - val_accuracy: 0.3367\n",
      "Epoch 6/100\n",
      "1/1 [==============================] - 6s 6s/step - loss: 1.1228 - accuracy: 0.2883 - val_loss: 1.1025 - val_accuracy: 0.3380\n",
      "Epoch 7/100\n",
      "1/1 [==============================] - 7s 7s/step - loss: 1.1194 - accuracy: 0.3009 - val_loss: 1.1016 - val_accuracy: 0.3380\n",
      "Epoch 8/100\n",
      "1/1 [==============================] - 7s 7s/step - loss: 1.1162 - accuracy: 0.3124 - val_loss: 1.1009 - val_accuracy: 0.3413\n",
      "Epoch 9/100\n",
      "1/1 [==============================] - 8s 8s/step - loss: 1.1133 - accuracy: 0.3306 - val_loss: 1.1002 - val_accuracy: 0.3427\n",
      "Epoch 10/100\n",
      "1/1 [==============================] - 10s 10s/step - loss: 1.1105 - accuracy: 0.3466 - val_loss: 1.0996 - val_accuracy: 0.3413\n",
      "Epoch 11/100\n",
      "1/1 [==============================] - 9s 9s/step - loss: 1.1080 - accuracy: 0.3614 - val_loss: 1.0991 - val_accuracy: 0.3487\n",
      "Epoch 12/100\n",
      "1/1 [==============================] - 7s 7s/step - loss: 1.1055 - accuracy: 0.3796 - val_loss: 1.0986 - val_accuracy: 0.3580\n",
      "Epoch 13/100\n",
      "1/1 [==============================] - 6s 6s/step - loss: 1.1032 - accuracy: 0.3964 - val_loss: 1.0982 - val_accuracy: 0.3613\n",
      "Epoch 14/100\n",
      "1/1 [==============================] - 6s 6s/step - loss: 1.1010 - accuracy: 0.4093 - val_loss: 1.0979 - val_accuracy: 0.3607\n",
      "Epoch 15/100\n",
      "1/1 [==============================] - 6s 6s/step - loss: 1.0989 - accuracy: 0.4216 - val_loss: 1.0976 - val_accuracy: 0.3627\n",
      "Epoch 16/100\n",
      "1/1 [==============================] - 6s 6s/step - loss: 1.0969 - accuracy: 0.4346 - val_loss: 1.0974 - val_accuracy: 0.3700\n",
      "Epoch 17/100\n",
      "1/1 [==============================] - 6s 6s/step - loss: 1.0950 - accuracy: 0.4451 - val_loss: 1.0971 - val_accuracy: 0.3693\n",
      "Epoch 18/100\n",
      "1/1 [==============================] - 6s 6s/step - loss: 1.0932 - accuracy: 0.4529 - val_loss: 1.0969 - val_accuracy: 0.3733\n",
      "Epoch 19/100\n",
      "1/1 [==============================] - 6s 6s/step - loss: 1.0915 - accuracy: 0.4611 - val_loss: 1.0968 - val_accuracy: 0.3747\n",
      "Epoch 20/100\n",
      "1/1 [==============================] - 6s 6s/step - loss: 1.0899 - accuracy: 0.4694 - val_loss: 1.0966 - val_accuracy: 0.3727\n",
      "Epoch 21/100\n",
      "1/1 [==============================] - 6s 6s/step - loss: 1.0883 - accuracy: 0.4765 - val_loss: 1.0965 - val_accuracy: 0.3653\n",
      "Epoch 22/100\n",
      "1/1 [==============================] - 6s 6s/step - loss: 1.0868 - accuracy: 0.4839 - val_loss: 1.0964 - val_accuracy: 0.3653\n",
      "Epoch 23/100\n",
      "1/1 [==============================] - 6s 6s/step - loss: 1.0854 - accuracy: 0.4925 - val_loss: 1.0963 - val_accuracy: 0.3653\n",
      "Epoch 24/100\n",
      "1/1 [==============================] - 6s 6s/step - loss: 1.0840 - accuracy: 0.5000 - val_loss: 1.0962 - val_accuracy: 0.3713\n",
      "Epoch 25/100\n",
      "1/1 [==============================] - 6s 6s/step - loss: 1.0826 - accuracy: 0.5058 - val_loss: 1.0961 - val_accuracy: 0.3707\n",
      "Epoch 26/100\n",
      "1/1 [==============================] - 6s 6s/step - loss: 1.0813 - accuracy: 0.5125 - val_loss: 1.0961 - val_accuracy: 0.3773\n",
      "Epoch 27/100\n",
      "1/1 [==============================] - 6s 6s/step - loss: 1.0801 - accuracy: 0.5171 - val_loss: 1.0961 - val_accuracy: 0.3760\n",
      "Epoch 28/100\n",
      "1/1 [==============================] - 6s 6s/step - loss: 1.0789 - accuracy: 0.5219 - val_loss: 1.0961 - val_accuracy: 0.3700\n",
      "Epoch 29/100\n",
      "1/1 [==============================] - 6s 6s/step - loss: 1.0777 - accuracy: 0.5234 - val_loss: 1.0961 - val_accuracy: 0.3687\n",
      "Epoch 30/100\n",
      "1/1 [==============================] - 6s 6s/step - loss: 1.0766 - accuracy: 0.5282 - val_loss: 1.0961 - val_accuracy: 0.3680\n",
      "Epoch 31/100\n",
      "1/1 [==============================] - 6s 6s/step - loss: 1.0755 - accuracy: 0.5329 - val_loss: 1.0960 - val_accuracy: 0.3687\n",
      "Epoch 32/100\n",
      "1/1 [==============================] - 6s 6s/step - loss: 1.0744 - accuracy: 0.5369 - val_loss: 1.0960 - val_accuracy: 0.3653\n",
      "Epoch 33/100\n",
      "1/1 [==============================] - 6s 6s/step - loss: 1.0734 - accuracy: 0.5388 - val_loss: 1.0961 - val_accuracy: 0.3640\n",
      "Epoch 34/100\n",
      "1/1 [==============================] - 6s 6s/step - loss: 1.0724 - accuracy: 0.5401 - val_loss: 1.0961 - val_accuracy: 0.3620\n",
      "Epoch 35/100\n",
      "1/1 [==============================] - 6s 6s/step - loss: 1.0714 - accuracy: 0.5436 - val_loss: 1.0961 - val_accuracy: 0.3593\n",
      "Epoch 36/100\n",
      "1/1 [==============================] - 6s 6s/step - loss: 1.0704 - accuracy: 0.5456 - val_loss: 1.0961 - val_accuracy: 0.3613\n",
      "Epoch 37/100\n",
      "1/1 [==============================] - 6s 6s/step - loss: 1.0695 - accuracy: 0.5485 - val_loss: 1.0961 - val_accuracy: 0.3547\n",
      "Epoch 38/100\n",
      "1/1 [==============================] - 6s 6s/step - loss: 1.0686 - accuracy: 0.5513 - val_loss: 1.0962 - val_accuracy: 0.3553\n",
      "Epoch 39/100\n",
      "1/1 [==============================] - 6s 6s/step - loss: 1.0677 - accuracy: 0.5537 - val_loss: 1.0962 - val_accuracy: 0.3553\n",
      "Epoch 40/100\n",
      "1/1 [==============================] - 6s 6s/step - loss: 1.0668 - accuracy: 0.5545 - val_loss: 1.0963 - val_accuracy: 0.3573\n",
      "Epoch 41/100\n",
      "1/1 [==============================] - 6s 6s/step - loss: 1.0659 - accuracy: 0.5557 - val_loss: 1.0963 - val_accuracy: 0.3560\n",
      "Epoch 42/100\n",
      "1/1 [==============================] - 6s 6s/step - loss: 1.0651 - accuracy: 0.5573 - val_loss: 1.0964 - val_accuracy: 0.3553\n",
      "Epoch 43/100\n",
      "1/1 [==============================] - 6s 6s/step - loss: 1.0643 - accuracy: 0.5596 - val_loss: 1.0965 - val_accuracy: 0.3553\n",
      "Epoch 44/100\n",
      "1/1 [==============================] - 6s 6s/step - loss: 1.0635 - accuracy: 0.5604 - val_loss: 1.0966 - val_accuracy: 0.3560\n",
      "Epoch 45/100\n",
      "1/1 [==============================] - 6s 6s/step - loss: 1.0627 - accuracy: 0.5614 - val_loss: 1.0966 - val_accuracy: 0.3533\n",
      "Epoch 46/100\n",
      "1/1 [==============================] - 6s 6s/step - loss: 1.0619 - accuracy: 0.5626 - val_loss: 1.0967 - val_accuracy: 0.3527\n",
      "Epoch 47/100\n",
      "1/1 [==============================] - 6s 6s/step - loss: 1.0611 - accuracy: 0.5650 - val_loss: 1.0968 - val_accuracy: 0.3513\n",
      "Epoch 48/100\n",
      "1/1 [==============================] - 6s 6s/step - loss: 1.0603 - accuracy: 0.5664 - val_loss: 1.0969 - val_accuracy: 0.3513\n",
      "Epoch 49/100\n",
      "1/1 [==============================] - 6s 6s/step - loss: 1.0596 - accuracy: 0.5660 - val_loss: 1.0970 - val_accuracy: 0.3553\n",
      "Epoch 50/100\n",
      "1/1 [==============================] - 6s 6s/step - loss: 1.0589 - accuracy: 0.5668 - val_loss: 1.0971 - val_accuracy: 0.3587\n",
      "Epoch 51/100\n",
      "1/1 [==============================] - 6s 6s/step - loss: 1.0581 - accuracy: 0.5674 - val_loss: 1.0971 - val_accuracy: 0.3593\n",
      "Epoch 52/100\n",
      "1/1 [==============================] - 6s 6s/step - loss: 1.0574 - accuracy: 0.5678 - val_loss: 1.0972 - val_accuracy: 0.3593\n",
      "Epoch 53/100\n",
      "1/1 [==============================] - 6s 6s/step - loss: 1.0567 - accuracy: 0.5687 - val_loss: 1.0973 - val_accuracy: 0.3580\n",
      "Epoch 54/100\n",
      "1/1 [==============================] - 6s 6s/step - loss: 1.0560 - accuracy: 0.5694 - val_loss: 1.0975 - val_accuracy: 0.3553\n",
      "Epoch 55/100\n",
      "1/1 [==============================] - 6s 6s/step - loss: 1.0553 - accuracy: 0.5693 - val_loss: 1.0976 - val_accuracy: 0.3527\n",
      "Epoch 56/100\n",
      "1/1 [==============================] - 6s 6s/step - loss: 1.0547 - accuracy: 0.5697 - val_loss: 1.0977 - val_accuracy: 0.3533\n",
      "Epoch 57/100\n",
      "1/1 [==============================] - 6s 6s/step - loss: 1.0540 - accuracy: 0.5701 - val_loss: 1.0978 - val_accuracy: 0.3527\n",
      "Epoch 58/100\n",
      "1/1 [==============================] - 6s 6s/step - loss: 1.0533 - accuracy: 0.5703 - val_loss: 1.0979 - val_accuracy: 0.3527\n",
      "Epoch 59/100\n",
      "1/1 [==============================] - 6s 6s/step - loss: 1.0527 - accuracy: 0.5709 - val_loss: 1.0980 - val_accuracy: 0.3520\n"
     ]
    },
    {
     "name": "stdout",
     "output_type": "stream",
     "text": [
      "Epoch 60/100\n",
      "1/1 [==============================] - 6s 6s/step - loss: 1.0520 - accuracy: 0.5711 - val_loss: 1.0981 - val_accuracy: 0.3513\n",
      "Epoch 61/100\n",
      "1/1 [==============================] - 6s 6s/step - loss: 1.0514 - accuracy: 0.5714 - val_loss: 1.0983 - val_accuracy: 0.3520\n",
      "Epoch 62/100\n",
      "1/1 [==============================] - 6s 6s/step - loss: 1.0508 - accuracy: 0.5716 - val_loss: 1.0984 - val_accuracy: 0.3513\n",
      "Epoch 63/100\n",
      "1/1 [==============================] - 6s 6s/step - loss: 1.0501 - accuracy: 0.5718 - val_loss: 1.0985 - val_accuracy: 0.3513\n",
      "Epoch 64/100\n",
      "1/1 [==============================] - 6s 6s/step - loss: 1.0495 - accuracy: 0.5720 - val_loss: 1.0987 - val_accuracy: 0.3520\n",
      "Epoch 65/100\n",
      "1/1 [==============================] - 6s 6s/step - loss: 1.0489 - accuracy: 0.5721 - val_loss: 1.0988 - val_accuracy: 0.3520\n",
      "Epoch 66/100\n",
      "1/1 [==============================] - 6s 6s/step - loss: 1.0483 - accuracy: 0.5723 - val_loss: 1.0989 - val_accuracy: 0.3513\n",
      "Epoch 67/100\n",
      "1/1 [==============================] - 6s 6s/step - loss: 1.0477 - accuracy: 0.5725 - val_loss: 1.0991 - val_accuracy: 0.3513\n",
      "Epoch 68/100\n",
      "1/1 [==============================] - 6s 6s/step - loss: 1.0471 - accuracy: 0.5727 - val_loss: 1.0992 - val_accuracy: 0.3513\n",
      "Epoch 69/100\n",
      "1/1 [==============================] - 6s 6s/step - loss: 1.0466 - accuracy: 0.5731 - val_loss: 1.0993 - val_accuracy: 0.3513\n",
      "Epoch 70/100\n",
      "1/1 [==============================] - 6s 6s/step - loss: 1.0460 - accuracy: 0.5730 - val_loss: 1.0995 - val_accuracy: 0.3513\n",
      "Epoch 71/100\n",
      "1/1 [==============================] - 6s 6s/step - loss: 1.0454 - accuracy: 0.5729 - val_loss: 1.0996 - val_accuracy: 0.3527\n",
      "Epoch 72/100\n",
      "1/1 [==============================] - 6s 6s/step - loss: 1.0449 - accuracy: 0.5731 - val_loss: 1.0997 - val_accuracy: 0.3527\n",
      "Epoch 73/100\n",
      "1/1 [==============================] - 6s 6s/step - loss: 1.0443 - accuracy: 0.5731 - val_loss: 1.0999 - val_accuracy: 0.3520\n",
      "Epoch 74/100\n",
      "1/1 [==============================] - 6s 6s/step - loss: 1.0437 - accuracy: 0.5734 - val_loss: 1.1000 - val_accuracy: 0.3520\n",
      "Epoch 75/100\n",
      "1/1 [==============================] - 6s 6s/step - loss: 1.0432 - accuracy: 0.5734 - val_loss: 1.1002 - val_accuracy: 0.3520\n",
      "Epoch 76/100\n",
      "1/1 [==============================] - 6s 6s/step - loss: 1.0427 - accuracy: 0.5734 - val_loss: 1.1003 - val_accuracy: 0.3520\n",
      "Epoch 77/100\n",
      "1/1 [==============================] - 6s 6s/step - loss: 1.0421 - accuracy: 0.5732 - val_loss: 1.1004 - val_accuracy: 0.3520\n",
      "Epoch 78/100\n",
      "1/1 [==============================] - 6s 6s/step - loss: 1.0416 - accuracy: 0.5732 - val_loss: 1.1006 - val_accuracy: 0.3527\n",
      "Epoch 79/100\n",
      "1/1 [==============================] - 6s 6s/step - loss: 1.0411 - accuracy: 0.5733 - val_loss: 1.1007 - val_accuracy: 0.3533\n",
      "Epoch 80/100\n",
      "1/1 [==============================] - 6s 6s/step - loss: 1.0405 - accuracy: 0.5734 - val_loss: 1.1009 - val_accuracy: 0.3527\n",
      "Epoch 81/100\n",
      "1/1 [==============================] - 6s 6s/step - loss: 1.0400 - accuracy: 0.5734 - val_loss: 1.1010 - val_accuracy: 0.3527\n",
      "Epoch 82/100\n",
      "1/1 [==============================] - 6s 6s/step - loss: 1.0395 - accuracy: 0.5734 - val_loss: 1.1012 - val_accuracy: 0.3527\n",
      "Epoch 83/100\n",
      "1/1 [==============================] - 8s 8s/step - loss: 1.0390 - accuracy: 0.5735 - val_loss: 1.1013 - val_accuracy: 0.3527\n",
      "Epoch 84/100\n",
      "1/1 [==============================] - 6s 6s/step - loss: 1.0385 - accuracy: 0.5736 - val_loss: 1.1014 - val_accuracy: 0.3527\n",
      "Epoch 85/100\n",
      "1/1 [==============================] - 8s 8s/step - loss: 1.0380 - accuracy: 0.5736 - val_loss: 1.1016 - val_accuracy: 0.3527\n",
      "Epoch 86/100\n",
      "1/1 [==============================] - 8s 8s/step - loss: 1.0375 - accuracy: 0.5736 - val_loss: 1.1017 - val_accuracy: 0.3527\n",
      "Epoch 87/100\n",
      "1/1 [==============================] - 6s 6s/step - loss: 1.0370 - accuracy: 0.5735 - val_loss: 1.1019 - val_accuracy: 0.3527\n",
      "Epoch 88/100\n",
      "1/1 [==============================] - 7s 7s/step - loss: 1.0365 - accuracy: 0.5735 - val_loss: 1.1020 - val_accuracy: 0.3527\n",
      "Epoch 89/100\n",
      "1/1 [==============================] - 7s 7s/step - loss: 1.0361 - accuracy: 0.5735 - val_loss: 1.1022 - val_accuracy: 0.3527\n",
      "Epoch 90/100\n",
      "1/1 [==============================] - 9s 9s/step - loss: 1.0356 - accuracy: 0.5735 - val_loss: 1.1024 - val_accuracy: 0.3527\n",
      "Epoch 91/100\n",
      "1/1 [==============================] - 8s 8s/step - loss: 1.0351 - accuracy: 0.5735 - val_loss: 1.1025 - val_accuracy: 0.3527\n",
      "Epoch 92/100\n",
      "1/1 [==============================] - 7s 7s/step - loss: 1.0346 - accuracy: 0.5735 - val_loss: 1.1027 - val_accuracy: 0.3527\n",
      "Epoch 93/100\n",
      "1/1 [==============================] - 6s 6s/step - loss: 1.0342 - accuracy: 0.5735 - val_loss: 1.1028 - val_accuracy: 0.3527\n",
      "Epoch 94/100\n",
      "1/1 [==============================] - 6s 6s/step - loss: 1.0337 - accuracy: 0.5735 - val_loss: 1.1030 - val_accuracy: 0.3527\n",
      "Epoch 95/100\n",
      "1/1 [==============================] - 8s 8s/step - loss: 1.0333 - accuracy: 0.5735 - val_loss: 1.1031 - val_accuracy: 0.3527\n",
      "Epoch 96/100\n",
      "1/1 [==============================] - 10s 10s/step - loss: 1.0328 - accuracy: 0.5735 - val_loss: 1.1033 - val_accuracy: 0.3527\n",
      "Epoch 97/100\n",
      "1/1 [==============================] - 7s 7s/step - loss: 1.0324 - accuracy: 0.5735 - val_loss: 1.1034 - val_accuracy: 0.3527\n",
      "Epoch 98/100\n",
      "1/1 [==============================] - 7s 7s/step - loss: 1.0319 - accuracy: 0.5735 - val_loss: 1.1036 - val_accuracy: 0.3527\n",
      "Epoch 99/100\n",
      "1/1 [==============================] - 8s 8s/step - loss: 1.0315 - accuracy: 0.5735 - val_loss: 1.1038 - val_accuracy: 0.3527\n",
      "Epoch 100/100\n",
      "1/1 [==============================] - 7s 7s/step - loss: 1.0310 - accuracy: 0.5735 - val_loss: 1.1039 - val_accuracy: 0.3527\n"
     ]
    }
   ],
   "source": [
    "history = model.fit(train_lstm, Y_train_lstm, epochs=100, validation_data = (val_lstm, Y_val_lstm))"
   ]
  },
  {
   "cell_type": "code",
   "execution_count": 218,
   "metadata": {},
   "outputs": [
    {
     "data": {
      "text/plain": [
       "array([[[2],\n",
       "        [0],\n",
       "        [2],\n",
       "        ...,\n",
       "        [1],\n",
       "        [1],\n",
       "        [1]]])"
      ]
     },
     "execution_count": 218,
     "metadata": {},
     "output_type": "execute_result"
    }
   ],
   "source": [
    "Y_train_lstm"
   ]
  },
  {
   "cell_type": "code",
   "execution_count": 219,
   "metadata": {},
   "outputs": [
    {
     "data": {
      "text/plain": [
       "array([[[-3.14975695e-01, -9.56186908e-01, -7.94094556e-01, ...,\n",
       "         -3.19916959e-01, -4.63072945e-01, -5.19004631e-01],\n",
       "        [-3.13477309e-01, -6.99309456e-01,  7.59479658e-02, ...,\n",
       "          7.14008535e-02,  7.03036058e-02,  7.01830747e-02],\n",
       "        [-3.11992248e-01, -4.17282876e-01, -5.96679730e-01, ...,\n",
       "          5.19529228e-02,  5.62353149e-02,  5.67544399e-02],\n",
       "        ...,\n",
       "        [-2.37130268e-01,  3.26676733e+00,  9.11416135e-01, ...,\n",
       "         -2.52360521e-03, -2.27119305e-03, -2.50689309e-03],\n",
       "        [-2.37110524e-01,  5.12625557e-01,  2.51837035e+00, ...,\n",
       "          2.57621378e-03,  9.36396408e-04,  2.23203845e-04],\n",
       "        [-2.37090782e-01,  3.57938477e-01,  5.68604437e-01, ...,\n",
       "         -7.65977713e-03, -8.33235450e-03, -9.09042449e-03]]])"
      ]
     },
     "execution_count": 219,
     "metadata": {},
     "output_type": "execute_result"
    }
   ],
   "source": [
    "train_lstm"
   ]
  },
  {
   "cell_type": "code",
   "execution_count": 220,
   "metadata": {},
   "outputs": [
    {
     "data": {
      "text/plain": [
       "array([[[-3.14975695e-01, -9.56186908e-01, -7.94094556e-01, ...,\n",
       "         -3.19916959e-01, -4.63072945e-01, -5.19004631e-01],\n",
       "        [-3.13477309e-01, -6.99309456e-01,  7.59479658e-02, ...,\n",
       "          7.14008535e-02,  7.03036058e-02,  7.01830747e-02],\n",
       "        [-3.11992248e-01, -4.17282876e-01, -5.96679730e-01, ...,\n",
       "          5.19529228e-02,  5.62353149e-02,  5.67544399e-02],\n",
       "        ...,\n",
       "        [-2.37130268e-01,  3.26676733e+00,  9.11416135e-01, ...,\n",
       "         -2.52360521e-03, -2.27119305e-03, -2.50689309e-03],\n",
       "        [-2.37110524e-01,  5.12625557e-01,  2.51837035e+00, ...,\n",
       "          2.57621378e-03,  9.36396408e-04,  2.23203845e-04],\n",
       "        [-2.37090782e-01,  3.57938477e-01,  5.68604437e-01, ...,\n",
       "         -7.65977713e-03, -8.33235450e-03, -9.09042449e-03]]])"
      ]
     },
     "execution_count": 220,
     "metadata": {},
     "output_type": "execute_result"
    }
   ],
   "source": [
    "train_lstm"
   ]
  },
  {
   "cell_type": "code",
   "execution_count": 241,
   "metadata": {},
   "outputs": [
    {
     "data": {
      "text/plain": [
       "[<matplotlib.lines.Line2D at 0x7fa5b075ff10>]"
      ]
     },
     "execution_count": 241,
     "metadata": {},
     "output_type": "execute_result"
    },
    {
     "data": {
      "image/png": "[encoded data removed]",
      "text/plain": [
       "<Figure size 432x288 with 1 Axes>"
      ]
     },
     "metadata": {
      "needs_background": "light"
     },
     "output_type": "display_data"
    }
   ],
   "source": [
    "plt.plot(history.history['loss'])\n",
    "plt.plot(history.history['val_loss'])"
   ]
  },
  {
   "cell_type": "code",
   "execution_count": 279,
   "metadata": {},
   "outputs": [
    {
     "data": {
      "text/plain": [
       "array([[0, 0, 0, ..., 0, 0, 0]])"
      ]
     },
     "execution_count": 279,
     "metadata": {},
     "output_type": "execute_result"
    }
   ],
   "source": [
    "model.predict_classes(test_lstm)"
   ]
  },
  {
   "cell_type": "code",
   "execution_count": 278,
   "metadata": {},
   "outputs": [
    {
     "data": {
      "text/plain": [
       "array([[0, 0, 0, ..., 0, 0, 0]])"
      ]
     },
     "execution_count": 278,
     "metadata": {},
     "output_type": "execute_result"
    }
   ],
   "source": [
    "np.argmax(model.predict(test_lstm), axis=-1)"
   ]
  },
  {
   "cell_type": "code",
   "execution_count": 246,
   "metadata": {},
   "outputs": [
    {
     "data": {
      "text/plain": [
       "array([[[0.48098266, 0.17939577, 0.33962154],\n",
       "        [0.52133286, 0.1443433 , 0.3343238 ],\n",
       "        [0.51235235, 0.16149235, 0.32615528],\n",
       "        ...,\n",
       "        [0.47349715, 0.21354643, 0.31295645],\n",
       "        [0.47818467, 0.20842217, 0.31339324],\n",
       "        [0.51321006, 0.18346418, 0.30332574]]], dtype=float32)"
      ]
     },
     "execution_count": 246,
     "metadata": {},
     "output_type": "execute_result"
    }
   ],
   "source": [
    "model.predict(test_lstm)"
   ]
  },
  {
   "cell_type": "code",
   "execution_count": null,
   "metadata": {},
   "outputs": [],
   "source": [
    "model.predict_classes(test_lstm)"
   ]
  },
  {
   "cell_type": "code",
   "execution_count": 247,
   "metadata": {},
   "outputs": [
    {
     "data": {
      "text/plain": [
       "array([[[2],\n",
       "        [2],\n",
       "        [1],\n",
       "        [1],\n",
       "        [1],\n",
       "        [2],\n",
       "        [2],\n",
       "        [1],\n",
       "        [1]]])"
      ]
     },
     "execution_count": 247,
     "metadata": {},
     "output_type": "execute_result"
    }
   ],
   "source": [
    "Y_test_lstm[:,1:10,:]"
   ]
  },
  {
   "cell_type": "code",
   "execution_count": 280,
   "metadata": {},
   "outputs": [],
   "source": [
    "pred = np.argmax(model.predict(test_lstm), axis=-1)"
   ]
  },
  {
   "cell_type": "code",
   "execution_count": 281,
   "metadata": {},
   "outputs": [
    {
     "data": {
      "text/plain": [
       "array([[0, 0, 0, ..., 0, 0, 0]])"
      ]
     },
     "execution_count": 281,
     "metadata": {},
     "output_type": "execute_result"
    }
   ],
   "source": [
    "pred"
   ]
  },
  {
   "cell_type": "code",
   "execution_count": 258,
   "metadata": {},
   "outputs": [
    {
     "data": {
      "text/plain": [
       "array([0, 0, 0, ..., 0, 0, 0])"
      ]
     },
     "execution_count": 258,
     "metadata": {},
     "output_type": "execute_result"
    }
   ],
   "source": [
    "pred[0,:]"
   ]
  },
  {
   "cell_type": "code",
   "execution_count": 282,
   "metadata": {},
   "outputs": [
    {
     "data": {
      "text/plain": [
       "array([1308])"
      ]
     },
     "execution_count": 282,
     "metadata": {},
     "output_type": "execute_result"
    }
   ],
   "source": [
    "np.bincount(pred[0,:])"
   ]
  },
  {
   "cell_type": "code",
   "execution_count": 263,
   "metadata": {},
   "outputs": [
    {
     "data": {
      "text/plain": [
       "(1, 1308)"
      ]
     },
     "execution_count": 263,
     "metadata": {},
     "output_type": "execute_result"
    }
   ],
   "source": [
    "pred.shape"
   ]
  },
  {
   "cell_type": "code",
   "execution_count": 262,
   "metadata": {},
   "outputs": [
    {
     "data": {
      "text/plain": [
       "(array([], dtype=int64),)"
      ]
     },
     "execution_count": 262,
     "metadata": {},
     "output_type": "execute_result"
    }
   ],
   "source": [
    "np.nonzero(pred[0,:])"
   ]
  },
  {
   "cell_type": "code",
   "execution_count": null,
   "metadata": {},
   "outputs": [],
   "source": []
  }
 ],
 "metadata": {
  "kernelspec": {
   "display_name": "Python 3",
   "language": "python",
   "name": "python3"
  },
  "language_info": {
   "codemirror_mode": {
    "name": "ipython",
    "version": 3
   },
   "file_extension": ".py",
   "mimetype": "text/x-python",
   "name": "python",
   "nbconvert_exporter": "python",
   "pygments_lexer": "ipython3",
   "version": "3.8.5"
  }
 },
 "nbformat": 4,
 "nbformat_minor": 4
}
