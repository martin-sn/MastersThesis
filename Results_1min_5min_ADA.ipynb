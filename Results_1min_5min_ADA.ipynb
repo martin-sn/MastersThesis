{
 "cells": [
  {
   "cell_type": "code",
   "execution_count": 1,
   "metadata": {},
   "outputs": [],
   "source": [
    "from deep_models import *"
   ]
  },
  {
   "cell_type": "markdown",
   "metadata": {},
   "source": [
    "# 1 Min Data - 1 Min Forecast #"
   ]
  },
  {
   "cell_type": "code",
   "execution_count": 2,
   "metadata": {},
   "outputs": [],
   "source": [
    "Y = pd.read_csv(\"data/final/1min/ADA_Y_5_std.csv\")"
   ]
  },
  {
   "cell_type": "markdown",
   "metadata": {},
   "source": [
    "## Dense Models ##"
   ]
  },
  {
   "cell_type": "markdown",
   "metadata": {},
   "source": [
    "#### Bid Ask Features ####"
   ]
  },
  {
   "cell_type": "code",
   "execution_count": 3,
   "metadata": {},
   "outputs": [],
   "source": [
    "data_std = pd.read_csv(\"data/final/1min/BidAsk/BTC_std_5.csv\")"
   ]
  },
  {
   "cell_type": "code",
   "execution_count": 23,
   "metadata": {},
   "outputs": [
    {
     "data": {
      "text/plain": [
       "(17048, 33)"
      ]
     },
     "execution_count": 23,
     "metadata": {},
     "output_type": "execute_result"
    }
   ],
   "source": [
    "data_std.shape"
   ]
  },
  {
   "cell_type": "code",
   "execution_count": 3,
   "metadata": {},
   "outputs": [],
   "source": [
    "t_split = 17048 - 1440"
   ]
  },
  {
   "cell_type": "code",
   "execution_count": 4,
   "metadata": {},
   "outputs": [],
   "source": [
    "v_split = 17048 - 1440*2"
   ]
  },
  {
   "cell_type": "code",
   "execution_count": 27,
   "metadata": {
    "scrolled": true
   },
   "outputs": [
    {
     "name": "stdout",
     "output_type": "stream",
     "text": [
      "Window of size 5 was best\n",
      "Window of size 5 was best\n",
      "Window of size 5 was best\n",
      "CPU times: user 1min 47s, sys: 5.27 s, total: 1min 52s\n",
      "Wall time: 1min 44s\n"
     ]
    }
   ],
   "source": [
    "%%time\n",
    "test_sets, y_sets, His1, His2, His3, Mod1, Mod2, Mod3, Win1, Win2, Win3 = Run_Dense(data_std, Y, \"BTC_Dense_BA\",v_split, t_split, EP = 10000)"
   ]
  },
  {
   "cell_type": "markdown",
   "metadata": {},
   "source": [
    "#### Model 1 #####"
   ]
  },
  {
   "cell_type": "code",
   "execution_count": 33,
   "metadata": {},
   "outputs": [
    {
     "data": {
      "text/plain": [
       "[<matplotlib.lines.Line2D at 0x7f22381536a0>]"
      ]
     },
     "execution_count": 33,
     "metadata": {},
     "output_type": "execute_result"
    },
    {
     "data": {
      "image/png": "[encoded data removed]",
      "text/plain": [
       "<Figure size 432x288 with 1 Axes>"
      ]
     },
     "metadata": {
      "needs_background": "light"
     },
     "output_type": "display_data"
    }
   ],
   "source": [
    "plt.plot(His1.history['loss'])\n",
    "plt.plot(His1.history['val_loss'])  "
   ]
  },
  {
   "cell_type": "code",
   "execution_count": 39,
   "metadata": {},
   "outputs": [
    {
     "name": "stdout",
     "output_type": "stream",
     "text": [
      "Class 1:\n",
      "Sens = 0.0\n",
      "Spec = 0.9958720330237358\n",
      "Class 2:\n",
      "Sens = 0.11777777777777777\n",
      "Spec = 0.9096446700507614\n",
      "Accuray = 0.3693379790940767, ROC = 0.5576126826756674\n",
      "Confusion matrix: (row = true, column = predicted)\n",
      "[[477   2  40]\n",
      " [417   0  49]\n",
      " [395   2  53]]\n",
      "Classifcation Report\n",
      "              precision    recall  f1-score   support\n",
      "\n",
      "           0       0.37      0.92      0.53       519\n",
      "           1       0.00      0.00      0.00       466\n",
      "           2       0.37      0.12      0.18       450\n",
      "\n",
      "    accuracy                           0.37      1435\n",
      "   macro avg       0.25      0.35      0.24      1435\n",
      "weighted avg       0.25      0.37      0.25      1435\n",
      "\n"
     ]
    }
   ],
   "source": [
    "Eval(Mod1, test_sets[1], y_sets[1])"
   ]
  },
  {
   "cell_type": "markdown",
   "metadata": {},
   "source": [
    "#### Model 2 ####"
   ]
  },
  {
   "cell_type": "code",
   "execution_count": 36,
   "metadata": {},
   "outputs": [
    {
     "data": {
      "text/plain": [
       "[<matplotlib.lines.Line2D at 0x7f21c70e6160>]"
      ]
     },
     "execution_count": 36,
     "metadata": {},
     "output_type": "execute_result"
    },
    {
     "data": {
      "image/png": "[encoded data removed]",
      "text/plain": [
       "<Figure size 432x288 with 1 Axes>"
      ]
     },
     "metadata": {
      "needs_background": "light"
     },
     "output_type": "display_data"
    }
   ],
   "source": [
    "plt.plot(His2.history['loss'])\n",
    "plt.plot(His2.history['val_loss'])  "
   ]
  },
  {
   "cell_type": "code",
   "execution_count": 41,
   "metadata": {
    "scrolled": false
   },
   "outputs": [
    {
     "ename": "ValueError",
     "evalue": "Found input variables with inconsistent numbers of samples: [1430, 14300]",
     "output_type": "error",
     "traceback": [
      "\u001b[0;31m-------------------------------------\u001b[0m",
      "\u001b[0;31mValueError\u001b[0mTraceback (most recent call last)",
      "\u001b[0;32m<ipython-input-41-0a76e3d2111f>\u001b[0m in \u001b[0;36m<module>\u001b[0;34m\u001b[0m\n\u001b[0;32m----> 1\u001b[0;31m \u001b[0mEval\u001b[0m\u001b[0;34m(\u001b[0m\u001b[0mMod2\u001b[0m\u001b[0;34m,\u001b[0m \u001b[0mtest_sets\u001b[0m\u001b[0;34m[\u001b[0m\u001b[0;36m2\u001b[0m\u001b[0;34m]\u001b[0m\u001b[0;34m,\u001b[0m \u001b[0my_sets\u001b[0m\u001b[0;34m[\u001b[0m\u001b[0;36m2\u001b[0m\u001b[0;34m]\u001b[0m\u001b[0;34m)\u001b[0m\u001b[0;34m\u001b[0m\u001b[0;34m\u001b[0m\u001b[0m\n\u001b[0m",
      "\u001b[0;32m~/mastersthesis/deep_models.py\u001b[0m in \u001b[0;36mEval\u001b[0;34m(mod, test, Y_test)\u001b[0m\n\u001b[1;32m    211\u001b[0m \u001b[0;34m\u001b[0m\u001b[0m\n\u001b[1;32m    212\u001b[0m     \u001b[0;31m#acc = sum(pred == Y_test.iloc[:,0]) / n\u001b[0m\u001b[0;34m\u001b[0m\u001b[0;34m\u001b[0m\u001b[0;34m\u001b[0m\u001b[0m\n\u001b[0;32m--> 213\u001b[0;31m     \u001b[0macc\u001b[0m \u001b[0;34m=\u001b[0m \u001b[0maccuracy_score\u001b[0m\u001b[0;34m(\u001b[0m\u001b[0mY_test\u001b[0m\u001b[0;34m.\u001b[0m\u001b[0miloc\u001b[0m\u001b[0;34m[\u001b[0m\u001b[0;34m:\u001b[0m\u001b[0;34m,\u001b[0m\u001b[0;36m0\u001b[0m\u001b[0;34m]\u001b[0m\u001b[0;34m,\u001b[0m \u001b[0mpred\u001b[0m\u001b[0;34m)\u001b[0m\u001b[0;34m\u001b[0m\u001b[0;34m\u001b[0m\u001b[0m\n\u001b[0m\u001b[1;32m    214\u001b[0m \u001b[0;34m\u001b[0m\u001b[0m\n\u001b[1;32m    215\u001b[0m     \u001b[0;31m# Sensitivity (Recall)\u001b[0m\u001b[0;34m\u001b[0m\u001b[0;34m\u001b[0m\u001b[0;34m\u001b[0m\u001b[0m\n",
      "\u001b[0;32m~/anaconda3/envs/tf-gpu/lib/python3.8/site-packages/sklearn/utils/validation.py\u001b[0m in \u001b[0;36minner_f\u001b[0;34m(*args, **kwargs)\u001b[0m\n\u001b[1;32m     70\u001b[0m                           FutureWarning)\n\u001b[1;32m     71\u001b[0m         \u001b[0mkwargs\u001b[0m\u001b[0;34m.\u001b[0m\u001b[0mupdate\u001b[0m\u001b[0;34m(\u001b[0m\u001b[0;34m{\u001b[0m\u001b[0mk\u001b[0m\u001b[0;34m:\u001b[0m \u001b[0marg\u001b[0m \u001b[0;32mfor\u001b[0m \u001b[0mk\u001b[0m\u001b[0;34m,\u001b[0m \u001b[0marg\u001b[0m \u001b[0;32min\u001b[0m \u001b[0mzip\u001b[0m\u001b[0;34m(\u001b[0m\u001b[0msig\u001b[0m\u001b[0;34m.\u001b[0m\u001b[0mparameters\u001b[0m\u001b[0;34m,\u001b[0m \u001b[0margs\u001b[0m\u001b[0;34m)\u001b[0m\u001b[0;34m}\u001b[0m\u001b[0;34m)\u001b[0m\u001b[0;34m\u001b[0m\u001b[0;34m\u001b[0m\u001b[0m\n\u001b[0;32m---> 72\u001b[0;31m         \u001b[0;32mreturn\u001b[0m \u001b[0mf\u001b[0m\u001b[0;34m(\u001b[0m\u001b[0;34m**\u001b[0m\u001b[0mkwargs\u001b[0m\u001b[0;34m)\u001b[0m\u001b[0;34m\u001b[0m\u001b[0;34m\u001b[0m\u001b[0m\n\u001b[0m\u001b[1;32m     73\u001b[0m     \u001b[0;32mreturn\u001b[0m \u001b[0minner_f\u001b[0m\u001b[0;34m\u001b[0m\u001b[0;34m\u001b[0m\u001b[0m\n\u001b[1;32m     74\u001b[0m \u001b[0;34m\u001b[0m\u001b[0m\n",
      "\u001b[0;32m~/anaconda3/envs/tf-gpu/lib/python3.8/site-packages/sklearn/metrics/_classification.py\u001b[0m in \u001b[0;36maccuracy_score\u001b[0;34m(y_true, y_pred, normalize, sample_weight)\u001b[0m\n\u001b[1;32m    185\u001b[0m \u001b[0;34m\u001b[0m\u001b[0m\n\u001b[1;32m    186\u001b[0m     \u001b[0;31m# Compute accuracy for each possible representation\u001b[0m\u001b[0;34m\u001b[0m\u001b[0;34m\u001b[0m\u001b[0;34m\u001b[0m\u001b[0m\n\u001b[0;32m--> 187\u001b[0;31m     \u001b[0my_type\u001b[0m\u001b[0;34m,\u001b[0m \u001b[0my_true\u001b[0m\u001b[0;34m,\u001b[0m \u001b[0my_pred\u001b[0m \u001b[0;34m=\u001b[0m \u001b[0m_check_targets\u001b[0m\u001b[0;34m(\u001b[0m\u001b[0my_true\u001b[0m\u001b[0;34m,\u001b[0m \u001b[0my_pred\u001b[0m\u001b[0;34m)\u001b[0m\u001b[0;34m\u001b[0m\u001b[0;34m\u001b[0m\u001b[0m\n\u001b[0m\u001b[1;32m    188\u001b[0m     \u001b[0mcheck_consistent_length\u001b[0m\u001b[0;34m(\u001b[0m\u001b[0my_true\u001b[0m\u001b[0;34m,\u001b[0m \u001b[0my_pred\u001b[0m\u001b[0;34m,\u001b[0m \u001b[0msample_weight\u001b[0m\u001b[0;34m)\u001b[0m\u001b[0;34m\u001b[0m\u001b[0;34m\u001b[0m\u001b[0m\n\u001b[1;32m    189\u001b[0m     \u001b[0;32mif\u001b[0m \u001b[0my_type\u001b[0m\u001b[0;34m.\u001b[0m\u001b[0mstartswith\u001b[0m\u001b[0;34m(\u001b[0m\u001b[0;34m'multilabel'\u001b[0m\u001b[0;34m)\u001b[0m\u001b[0;34m:\u001b[0m\u001b[0;34m\u001b[0m\u001b[0;34m\u001b[0m\u001b[0m\n",
      "\u001b[0;32m~/anaconda3/envs/tf-gpu/lib/python3.8/site-packages/sklearn/metrics/_classification.py\u001b[0m in \u001b[0;36m_check_targets\u001b[0;34m(y_true, y_pred)\u001b[0m\n\u001b[1;32m     79\u001b[0m     \u001b[0my_pred\u001b[0m \u001b[0;34m:\u001b[0m \u001b[0marray\u001b[0m \u001b[0;32mor\u001b[0m \u001b[0mindicator\u001b[0m \u001b[0mmatrix\u001b[0m\u001b[0;34m\u001b[0m\u001b[0;34m\u001b[0m\u001b[0m\n\u001b[1;32m     80\u001b[0m     \"\"\"\n\u001b[0;32m---> 81\u001b[0;31m     \u001b[0mcheck_consistent_length\u001b[0m\u001b[0;34m(\u001b[0m\u001b[0my_true\u001b[0m\u001b[0;34m,\u001b[0m \u001b[0my_pred\u001b[0m\u001b[0;34m)\u001b[0m\u001b[0;34m\u001b[0m\u001b[0;34m\u001b[0m\u001b[0m\n\u001b[0m\u001b[1;32m     82\u001b[0m     \u001b[0mtype_true\u001b[0m \u001b[0;34m=\u001b[0m \u001b[0mtype_of_target\u001b[0m\u001b[0;34m(\u001b[0m\u001b[0my_true\u001b[0m\u001b[0;34m)\u001b[0m\u001b[0;34m\u001b[0m\u001b[0;34m\u001b[0m\u001b[0m\n\u001b[1;32m     83\u001b[0m     \u001b[0mtype_pred\u001b[0m \u001b[0;34m=\u001b[0m \u001b[0mtype_of_target\u001b[0m\u001b[0;34m(\u001b[0m\u001b[0my_pred\u001b[0m\u001b[0;34m)\u001b[0m\u001b[0;34m\u001b[0m\u001b[0;34m\u001b[0m\u001b[0m\n",
      "\u001b[0;32m~/anaconda3/envs/tf-gpu/lib/python3.8/site-packages/sklearn/utils/validation.py\u001b[0m in \u001b[0;36mcheck_consistent_length\u001b[0;34m(*arrays)\u001b[0m\n\u001b[1;32m    253\u001b[0m     \u001b[0muniques\u001b[0m \u001b[0;34m=\u001b[0m \u001b[0mnp\u001b[0m\u001b[0;34m.\u001b[0m\u001b[0munique\u001b[0m\u001b[0;34m(\u001b[0m\u001b[0mlengths\u001b[0m\u001b[0;34m)\u001b[0m\u001b[0;34m\u001b[0m\u001b[0;34m\u001b[0m\u001b[0m\n\u001b[1;32m    254\u001b[0m     \u001b[0;32mif\u001b[0m \u001b[0mlen\u001b[0m\u001b[0;34m(\u001b[0m\u001b[0muniques\u001b[0m\u001b[0;34m)\u001b[0m \u001b[0;34m>\u001b[0m \u001b[0;36m1\u001b[0m\u001b[0;34m:\u001b[0m\u001b[0;34m\u001b[0m\u001b[0;34m\u001b[0m\u001b[0m\n\u001b[0;32m--> 255\u001b[0;31m         raise ValueError(\"Found input variables with inconsistent numbers of\"\n\u001b[0m\u001b[1;32m    256\u001b[0m                          \" samples: %r\" % [int(l) for l in lengths])\n\u001b[1;32m    257\u001b[0m \u001b[0;34m\u001b[0m\u001b[0m\n",
      "\u001b[0;31mValueError\u001b[0m: Found input variables with inconsistent numbers of samples: [1430, 14300]"
     ]
    }
   ],
   "source": [
    "Eval(Mod2, test_sets[2], y_sets[2])"
   ]
  },
  {
   "cell_type": "markdown",
   "metadata": {},
   "source": [
    "#### Model 3 ####"
   ]
  },
  {
   "cell_type": "code",
   "execution_count": 13,
   "metadata": {},
   "outputs": [
    {
     "data": {
      "text/plain": [
       "[<matplotlib.lines.Line2D at 0x7f3e7c3f7d90>]"
      ]
     },
     "execution_count": 13,
     "metadata": {},
     "output_type": "execute_result"
    },
    {
     "data": {
      "image/png": "[encoded data removed]",
      "text/plain": [
       "<Figure size 432x288 with 1 Axes>"
      ]
     },
     "metadata": {
      "needs_background": "light"
     },
     "output_type": "display_data"
    }
   ],
   "source": [
    "plt.plot(His3.history['loss'])\n",
    "plt.plot(His3.history['val_loss']) "
   ]
  },
  {
   "cell_type": "code",
   "execution_count": 14,
   "metadata": {},
   "outputs": [
    {
     "name": "stdout",
     "output_type": "stream",
     "text": [
      "Class 1:\n",
      "Sens = 0.5643776824034334\n",
      "Spec = 0.44272445820433437\n",
      "Class 2:\n",
      "Sens = 0.0\n",
      "Spec = 1.0\n",
      "Accuray = 0.356794425087108, ROC = 0.5342903770130413\n",
      "Confusion matrix: (row = true, column = predicted)\n",
      "[[249 270   0]\n",
      " [203 263   0]\n",
      " [180 270   0]]\n",
      "Classifcation Report\n",
      "              precision    recall  f1-score   support\n",
      "\n",
      "           0       0.39      0.48      0.43       519\n",
      "           1       0.33      0.56      0.41       466\n",
      "           2       0.00      0.00      0.00       450\n",
      "\n",
      "    accuracy                           0.36      1435\n",
      "   macro avg       0.24      0.35      0.28      1435\n",
      "weighted avg       0.25      0.36      0.29      1435\n",
      "\n"
     ]
    },
    {
     "name": "stderr",
     "output_type": "stream",
     "text": [
      "/home/martin/anaconda3/envs/tf-gpu/lib/python3.8/site-packages/sklearn/metrics/_classification.py:1221: UndefinedMetricWarning: Precision and F-score are ill-defined and being set to 0.0 in labels with no predicted samples. Use `zero_division` parameter to control this behavior.\n",
      "  _warn_prf(average, modifier, msg_start, len(result))\n"
     ]
    }
   ],
   "source": [
    "Eval(Mod3, test_sets[1], y_sets[1])"
   ]
  },
  {
   "cell_type": "markdown",
   "metadata": {},
   "source": [
    "### Order flow features ###"
   ]
  },
  {
   "cell_type": "code",
   "execution_count": 29,
   "metadata": {},
   "outputs": [],
   "source": [
    "data_std = pd.read_csv(\"data/final/1min/OrderFlow/BTC_std.csv\")"
   ]
  },
  {
   "cell_type": "code",
   "execution_count": 30,
   "metadata": {
    "scrolled": true
   },
   "outputs": [
    {
     "name": "stdout",
     "output_type": "stream",
     "text": [
      "Window of size 1 was best\n",
      "Window of size 5 was best\n",
      "Window of size 10 was best\n"
     ]
    }
   ],
   "source": [
    "test_sets, y_sets, His1, His2, His3, Mod1, Mod2, Mod3 = Run_Dense(data_std, Y, \"BTC_Dense_OF\",v_split, t_split, EP = 10000)"
   ]
  },
  {
   "cell_type": "markdown",
   "metadata": {},
   "source": [
    "#### Model 1 ####"
   ]
  },
  {
   "cell_type": "code",
   "execution_count": 15,
   "metadata": {
    "scrolled": false
   },
   "outputs": [
    {
     "data": {
      "text/plain": [
       "[<matplotlib.lines.Line2D at 0x7fe0800555e0>]"
      ]
     },
     "execution_count": 15,
     "metadata": {},
     "output_type": "execute_result"
    },
    {
     "data": {
      "image/png": "[encoded data removed]",
      "text/plain": [
       "<Figure size 432x288 with 1 Axes>"
      ]
     },
     "metadata": {
      "needs_background": "light"
     },
     "output_type": "display_data"
    }
   ],
   "source": [
    "plt.plot(His1.history['loss'])\n",
    "plt.plot(His1.history['val_loss'])  "
   ]
  },
  {
   "cell_type": "code",
   "execution_count": 16,
   "metadata": {
    "scrolled": false
   },
   "outputs": [
    {
     "name": "stdout",
     "output_type": "stream",
     "text": [
      "Class 1:\n",
      "Sens = 0.004282655246252677\n",
      "Spec = 1.0\n",
      "Class 2:\n",
      "Sens = 0.017699115044247787\n",
      "Spec = 0.983789260385005\n",
      "Accuray = 0.3648366921473245, ROC = 0.5388489458271958\n",
      "Confusion matrix: (row = true, column = predicted)\n",
      "[[515   0   5]\n",
      " [454   2  11]\n",
      " [444   0   8]]\n",
      "Classifcation Report\n",
      "              precision    recall  f1-score   support\n",
      "\n",
      "           0       0.36      0.99      0.53       520\n",
      "           1       1.00      0.00      0.01       467\n",
      "           2       0.33      0.02      0.03       452\n",
      "\n",
      "    accuracy                           0.36      1439\n",
      "   macro avg       0.57      0.34      0.19      1439\n",
      "weighted avg       0.56      0.36      0.21      1439\n",
      "\n"
     ]
    }
   ],
   "source": [
    "Eval(Mod1, test_sets[0], y_sets[0])"
   ]
  },
  {
   "cell_type": "markdown",
   "metadata": {},
   "source": [
    "#### Model 2 ####"
   ]
  },
  {
   "cell_type": "code",
   "execution_count": 17,
   "metadata": {},
   "outputs": [
    {
     "data": {
      "text/plain": [
       "[<matplotlib.lines.Line2D at 0x7fe0286311f0>]"
      ]
     },
     "execution_count": 17,
     "metadata": {},
     "output_type": "execute_result"
    },
    {
     "data": {
      "image/png": "[encoded data removed]",
      "text/plain": [
       "<Figure size 432x288 with 1 Axes>"
      ]
     },
     "metadata": {
      "needs_background": "light"
     },
     "output_type": "display_data"
    }
   ],
   "source": [
    "plt.plot(His2.history['loss'])\n",
    "plt.plot(His2.history['val_loss'])  "
   ]
  },
  {
   "cell_type": "code",
   "execution_count": 22,
   "metadata": {},
   "outputs": [
    {
     "name": "stdout",
     "output_type": "stream",
     "text": [
      "Class 1:\n",
      "Sens = 0.0\n",
      "Spec = 1.0\n",
      "Class 2:\n",
      "Sens = 0.004424778761061947\n",
      "Spec = 1.0\n",
      "Accuray = 0.3627519110493398, ROC = 0.5284596907623226\n",
      "Confusion matrix: (row = true, column = predicted)\n",
      "[[520   0   0]\n",
      " [467   0   0]\n",
      " [450   0   2]]\n",
      "Classifcation Report\n",
      "              precision    recall  f1-score   support\n",
      "\n",
      "           0       0.36      1.00      0.53       520\n",
      "           1       0.00      0.00      0.00       467\n",
      "           2       1.00      0.00      0.01       452\n",
      "\n",
      "    accuracy                           0.36      1439\n",
      "   macro avg       0.45      0.33      0.18      1439\n",
      "weighted avg       0.44      0.36      0.19      1439\n",
      "\n"
     ]
    },
    {
     "name": "stderr",
     "output_type": "stream",
     "text": [
      "/home/martin/anaconda3/lib/python3.8/site-packages/sklearn/metrics/_classification.py:1221: UndefinedMetricWarning: Precision and F-score are ill-defined and being set to 0.0 in labels with no predicted samples. Use `zero_division` parameter to control this behavior.\n",
      "  _warn_prf(average, modifier, msg_start, len(result))\n"
     ]
    }
   ],
   "source": [
    "Eval(Mod2, test_sets[0], y_sets[0])"
   ]
  },
  {
   "cell_type": "markdown",
   "metadata": {},
   "source": [
    "#### Model 3 ####"
   ]
  },
  {
   "cell_type": "code",
   "execution_count": 23,
   "metadata": {},
   "outputs": [
    {
     "data": {
      "text/plain": [
       "[<matplotlib.lines.Line2D at 0x7fe0282f55e0>]"
      ]
     },
     "execution_count": 23,
     "metadata": {},
     "output_type": "execute_result"
    },
    {
     "data": {
      "image/png": "[encoded data removed]",
      "text/plain": [
       "<Figure size 432x288 with 1 Axes>"
      ]
     },
     "metadata": {
      "needs_background": "light"
     },
     "output_type": "display_data"
    }
   ],
   "source": [
    "plt.plot(His3.history['loss'])\n",
    "plt.plot(His3.history['val_loss']) "
   ]
  },
  {
   "cell_type": "code",
   "execution_count": 24,
   "metadata": {},
   "outputs": [
    {
     "name": "stdout",
     "output_type": "stream",
     "text": [
      "Class 1:\n",
      "Sens = 0.6301075268817204\n",
      "Spec = 0.40932642487046633\n",
      "Class 2:\n",
      "Sens = 0.0\n",
      "Spec = 1.0\n",
      "Accuray = 0.36153846153846153, ROC = 0.5234874399095388\n",
      "Confusion matrix: (row = true, column = predicted)\n",
      "[[224 294   0]\n",
      " [172 293   0]\n",
      " [171 276   0]]\n",
      "Classifcation Report\n",
      "              precision    recall  f1-score   support\n",
      "\n",
      "           0       0.40      0.43      0.41       518\n",
      "           1       0.34      0.63      0.44       465\n",
      "           2       0.00      0.00      0.00       447\n",
      "\n",
      "    accuracy                           0.36      1430\n",
      "   macro avg       0.24      0.35      0.28      1430\n",
      "weighted avg       0.25      0.36      0.29      1430\n",
      "\n"
     ]
    },
    {
     "name": "stderr",
     "output_type": "stream",
     "text": [
      "/home/martin/anaconda3/lib/python3.8/site-packages/sklearn/metrics/_classification.py:1221: UndefinedMetricWarning: Precision and F-score are ill-defined and being set to 0.0 in labels with no predicted samples. Use `zero_division` parameter to control this behavior.\n",
      "  _warn_prf(average, modifier, msg_start, len(result))\n"
     ]
    }
   ],
   "source": [
    "Eval(Mod3, test_sets[2], y_sets[2])"
   ]
  },
  {
   "cell_type": "markdown",
   "metadata": {},
   "source": [
    "### High Frequency Features ###"
   ]
  },
  {
   "cell_type": "code",
   "execution_count": 31,
   "metadata": {},
   "outputs": [],
   "source": [
    "data_std = pd.read_csv(\"data/final/1min/HF/BTC_std.csv\")"
   ]
  },
  {
   "cell_type": "code",
   "execution_count": 32,
   "metadata": {
    "scrolled": true
   },
   "outputs": [
    {
     "name": "stdout",
     "output_type": "stream",
     "text": [
      "Window of size 5 was best\n",
      "Window of size 1 was best\n",
      "Window of size 1 was best\n"
     ]
    }
   ],
   "source": [
    "test_sets, y_sets, His1, His2, His3, Mod1, Mod2, Mod3 = Run_Dense(data_std, Y, \"BTC_Dense_HF\", v_split, t_split, EP = 10000)"
   ]
  },
  {
   "cell_type": "markdown",
   "metadata": {},
   "source": [
    "#### Model 1 ####"
   ]
  },
  {
   "cell_type": "code",
   "execution_count": 27,
   "metadata": {
    "scrolled": false
   },
   "outputs": [
    {
     "data": {
      "text/plain": [
       "[<matplotlib.lines.Line2D at 0x7fe028275940>]"
      ]
     },
     "execution_count": 27,
     "metadata": {},
     "output_type": "execute_result"
    },
    {
     "data": {
      "image/png": "[encoded data removed]",
      "text/plain": [
       "<Figure size 432x288 with 1 Axes>"
      ]
     },
     "metadata": {
      "needs_background": "light"
     },
     "output_type": "display_data"
    }
   ],
   "source": [
    "plt.plot(His1.history['loss'])\n",
    "plt.plot(His1.history['val_loss'])  "
   ]
  },
  {
   "cell_type": "code",
   "execution_count": 28,
   "metadata": {
    "scrolled": false
   },
   "outputs": [
    {
     "name": "stdout",
     "output_type": "stream",
     "text": [
      "Class 1:\n",
      "Sens = 0.4356223175965665\n",
      "Spec = 0.5273477812177503\n",
      "Class 2:\n",
      "Sens = 0.28888888888888886\n",
      "Spec = 0.683248730964467\n",
      "Accuray = 0.3017421602787456, ROC = 0.47497890934367054\n",
      "Confusion matrix: (row = true, column = predicted)\n",
      "[[100 238 181]\n",
      " [132 203 131]\n",
      " [100 220 130]]\n",
      "Classifcation Report\n",
      "              precision    recall  f1-score   support\n",
      "\n",
      "           0       0.30      0.19      0.24       519\n",
      "           1       0.31      0.44      0.36       466\n",
      "           2       0.29      0.29      0.29       450\n",
      "\n",
      "    accuracy                           0.30      1435\n",
      "   macro avg       0.30      0.31      0.30      1435\n",
      "weighted avg       0.30      0.30      0.29      1435\n",
      "\n"
     ]
    }
   ],
   "source": [
    "Eval(Mod1, test_sets[1], y_sets[1])"
   ]
  },
  {
   "cell_type": "markdown",
   "metadata": {},
   "source": [
    "#### Model 2 ####"
   ]
  },
  {
   "cell_type": "code",
   "execution_count": 29,
   "metadata": {},
   "outputs": [
    {
     "data": {
      "text/plain": [
       "[<matplotlib.lines.Line2D at 0x7fe028177460>]"
      ]
     },
     "execution_count": 29,
     "metadata": {},
     "output_type": "execute_result"
    },
    {
     "data": {
      "image/png": "[encoded data removed]",
      "text/plain": [
       "<Figure size 432x288 with 1 Axes>"
      ]
     },
     "metadata": {
      "needs_background": "light"
     },
     "output_type": "display_data"
    }
   ],
   "source": [
    "plt.plot(His2.history['loss'])\n",
    "plt.plot(His2.history['val_loss'])  "
   ]
  },
  {
   "cell_type": "code",
   "execution_count": 30,
   "metadata": {},
   "outputs": [
    {
     "name": "stdout",
     "output_type": "stream",
     "text": [
      "Class 1:\n",
      "Sens = 0.796137339055794\n",
      "Spec = 0.16305469556243551\n",
      "Class 2:\n",
      "Sens = 0.1511111111111111\n",
      "Spec = 0.9005076142131979\n",
      "Accuray = 0.3254355400696864, ROC = 0.5411118452978388\n",
      "Confusion matrix: (row = true, column = predicted)\n",
      "[[ 28 457  34]\n",
      " [ 31 371  64]\n",
      " [ 28 354  68]]\n",
      "Classifcation Report\n",
      "              precision    recall  f1-score   support\n",
      "\n",
      "           0       0.32      0.05      0.09       519\n",
      "           1       0.31      0.80      0.45       466\n",
      "           2       0.41      0.15      0.22       450\n",
      "\n",
      "    accuracy                           0.33      1435\n",
      "   macro avg       0.35      0.33      0.25      1435\n",
      "weighted avg       0.35      0.33      0.25      1435\n",
      "\n"
     ]
    }
   ],
   "source": [
    "Eval(Mod2, test_sets[1], y_sets[1])"
   ]
  },
  {
   "cell_type": "markdown",
   "metadata": {},
   "source": [
    "#### Model 3 ####"
   ]
  },
  {
   "cell_type": "code",
   "execution_count": 31,
   "metadata": {},
   "outputs": [
    {
     "data": {
      "text/plain": [
       "[<matplotlib.lines.Line2D at 0x7fe028163a60>]"
      ]
     },
     "execution_count": 31,
     "metadata": {},
     "output_type": "execute_result"
    },
    {
     "data": {
      "image/png": "[encoded data removed]",
      "text/plain": [
       "<Figure size 432x288 with 1 Axes>"
      ]
     },
     "metadata": {
      "needs_background": "light"
     },
     "output_type": "display_data"
    }
   ],
   "source": [
    "plt.plot(His3.history['loss'])\n",
    "plt.plot(His3.history['val_loss']) "
   ]
  },
  {
   "cell_type": "code",
   "execution_count": 33,
   "metadata": {},
   "outputs": [
    {
     "name": "stdout",
     "output_type": "stream",
     "text": [
      "Class 1:\n",
      "Sens = 0.17558886509635974\n",
      "Spec = 0.8641975308641975\n",
      "Class 2:\n",
      "Sens = 0.11061946902654868\n",
      "Spec = 0.9017223910840932\n",
      "Accuray = 0.3634468380820014, ROC = 0.5182451123362597\n",
      "Confusion matrix: (row = true, column = predicted)\n",
      "[[391  68  61]\n",
      " [349  82  36]\n",
      " [338  64  50]]\n",
      "Classifcation Report\n",
      "              precision    recall  f1-score   support\n",
      "\n",
      "           0       0.36      0.75      0.49       520\n",
      "           1       0.38      0.18      0.24       467\n",
      "           2       0.34      0.11      0.17       452\n",
      "\n",
      "    accuracy                           0.36      1439\n",
      "   macro avg       0.36      0.35      0.30      1439\n",
      "weighted avg       0.36      0.36      0.31      1439\n",
      "\n"
     ]
    }
   ],
   "source": [
    "Eval(Mod3, test_sets[0], y_sets[0])"
   ]
  },
  {
   "cell_type": "markdown",
   "metadata": {},
   "source": [
    "### LSTM Models ###"
   ]
  },
  {
   "cell_type": "markdown",
   "metadata": {},
   "source": [
    "#### Bid Ask Features ####"
   ]
  },
  {
   "cell_type": "code",
   "execution_count": 6,
   "metadata": {},
   "outputs": [],
   "source": [
    "data_std = pd.read_csv(\"data/final/1min/BidAsk/ADA_std_5.csv\")"
   ]
  },
  {
   "cell_type": "code",
   "execution_count": 7,
   "metadata": {
    "scrolled": true
   },
   "outputs": [
    {
     "name": "stdout",
     "output_type": "stream",
     "text": [
      "1  trained in  1076.352417347\n",
      "2  trained in  3018.416920636\n",
      "3  trained in  6227.5545198479995\n",
      "4  trained in  6710.501858850999\n",
      "5  trained in  8120.059780762\n",
      "6  trained in  11390.357375221001\n",
      "7  trained in  12310.254794333001\n",
      "8  trained in  12791.620336396001\n",
      "9  trained in  14839.877841452\n",
      "Seed 999 was best\n",
      "Seed 1 was best\n",
      "Seed 1 was best\n"
     ]
    },
    {
     "name": "stderr",
     "output_type": "stream",
     "text": [
      "WARNING:absl:Found untraced functions such as lstm_cell_12_layer_call_and_return_conditional_losses, lstm_cell_12_layer_call_fn, lstm_cell_12_layer_call_fn, lstm_cell_12_layer_call_and_return_conditional_losses, lstm_cell_12_layer_call_and_return_conditional_losses while saving (showing 5 of 5). These functions will not be directly callable after loading.\n",
      "WARNING:absl:Found untraced functions such as lstm_cell_12_layer_call_and_return_conditional_losses, lstm_cell_12_layer_call_fn, lstm_cell_12_layer_call_fn, lstm_cell_12_layer_call_and_return_conditional_losses, lstm_cell_12_layer_call_and_return_conditional_losses while saving (showing 5 of 5). These functions will not be directly callable after loading.\n"
     ]
    },
    {
     "name": "stdout",
     "output_type": "stream",
     "text": [
      "INFO:tensorflow:Assets written to: models/lstm/BA_ADA_1_5/Mod1_2021-08-16 14:37:23.914726/assets\n"
     ]
    },
    {
     "name": "stderr",
     "output_type": "stream",
     "text": [
      "INFO:tensorflow:Assets written to: models/lstm/BA_ADA_1_5/Mod1_2021-08-16 14:37:23.914726/assets\n",
      "WARNING:absl:Found untraced functions such as lstm_cell_1_layer_call_and_return_conditional_losses, lstm_cell_1_layer_call_fn, lstm_cell_2_layer_call_and_return_conditional_losses, lstm_cell_2_layer_call_fn, lstm_cell_1_layer_call_fn while saving (showing 5 of 10). These functions will not be directly callable after loading.\n",
      "WARNING:absl:Found untraced functions such as lstm_cell_1_layer_call_and_return_conditional_losses, lstm_cell_1_layer_call_fn, lstm_cell_2_layer_call_and_return_conditional_losses, lstm_cell_2_layer_call_fn, lstm_cell_1_layer_call_fn while saving (showing 5 of 10). These functions will not be directly callable after loading.\n"
     ]
    },
    {
     "name": "stdout",
     "output_type": "stream",
     "text": [
      "INFO:tensorflow:Assets written to: models/lstm/BA_ADA_1_5/Mod2_2021-08-16 14:37:26.326350/assets\n"
     ]
    },
    {
     "name": "stderr",
     "output_type": "stream",
     "text": [
      "INFO:tensorflow:Assets written to: models/lstm/BA_ADA_1_5/Mod2_2021-08-16 14:37:26.326350/assets\n",
      "WARNING:absl:Found untraced functions such as lstm_cell_3_layer_call_and_return_conditional_losses, lstm_cell_3_layer_call_fn, lstm_cell_4_layer_call_and_return_conditional_losses, lstm_cell_4_layer_call_fn, lstm_cell_5_layer_call_and_return_conditional_losses while saving (showing 5 of 15). These functions will not be directly callable after loading.\n",
      "WARNING:absl:Found untraced functions such as lstm_cell_3_layer_call_and_return_conditional_losses, lstm_cell_3_layer_call_fn, lstm_cell_4_layer_call_and_return_conditional_losses, lstm_cell_4_layer_call_fn, lstm_cell_5_layer_call_and_return_conditional_losses while saving (showing 5 of 15). These functions will not be directly callable after loading.\n"
     ]
    },
    {
     "name": "stdout",
     "output_type": "stream",
     "text": [
      "INFO:tensorflow:Assets written to: models/lstm/BA_ADA_1_5/Mod3_2021-08-16 14:37:30.728160/assets\n"
     ]
    },
    {
     "name": "stderr",
     "output_type": "stream",
     "text": [
      "INFO:tensorflow:Assets written to: models/lstm/BA_ADA_1_5/Mod3_2021-08-16 14:37:30.728160/assets\n"
     ]
    },
    {
     "name": "stdout",
     "output_type": "stream",
     "text": [
      "CPU times: user 3h 23min 14s, sys: 44min 42s, total: 4h 7min 57s\n",
      "Wall time: 4h 7min 33s\n"
     ]
    }
   ],
   "source": [
    "%%time\n",
    "test_lstm, Y_test_lstm, His1, Mod1, His2, Mod2, His3, Mod3 = Run_LSTM(data_std, Y, \"BA_ADA_1_5\", v_split, t_split, EP = 10000)"
   ]
  },
  {
   "cell_type": "markdown",
   "metadata": {},
   "source": [
    "#### Model 1 #####"
   ]
  },
  {
   "cell_type": "code",
   "execution_count": 8,
   "metadata": {},
   "outputs": [
    {
     "data": {
      "text/plain": [
       "[<matplotlib.lines.Line2D at 0x7fcc86a8bac0>]"
      ]
     },
     "execution_count": 8,
     "metadata": {},
     "output_type": "execute_result"
    },
    {
     "data": {
      "image/png": "[encoded data removed]",
      "text/plain": [
       "<Figure size 432x288 with 1 Axes>"
      ]
     },
     "metadata": {
      "needs_background": "light"
     },
     "output_type": "display_data"
    }
   ],
   "source": [
    "plt.plot(His1.history['loss'])\n",
    "plt.plot(His1.history['val_loss'])  "
   ]
  },
  {
   "cell_type": "code",
   "execution_count": 9,
   "metadata": {
    "scrolled": false
   },
   "outputs": [
    {
     "name": "stdout",
     "output_type": "stream",
     "text": [
      "Class 1:\n",
      "Sens = 0.1543778801843318\n",
      "Spec = 0.844689378757515\n",
      "Class 2:\n",
      "Sens = 0.12284482758620689\n",
      "Spec = 0.9204545454545454\n",
      "Accuracy = 0.36731843575418993, ROC = 0.5318853632998821\n",
      "Confusion matrix: (row = true, column = predicted)\n",
      "[[402  86  46]\n",
      " [336  67  31]\n",
      " [338  69  57]]\n",
      "Classifcation Report\n",
      "              precision    recall  f1-score   support\n",
      "\n",
      "           0       0.37      0.75      0.50       534\n",
      "           1       0.30      0.15      0.20       434\n",
      "           2       0.43      0.12      0.19       464\n",
      "\n",
      "    accuracy                           0.37      1432\n",
      "   macro avg       0.37      0.34      0.30      1432\n",
      "weighted avg       0.37      0.37      0.31      1432\n",
      "\n"
     ]
    }
   ],
   "source": [
    "Eval_LSTM(Mod1, test_lstm, Y_test_lstm, t_split)"
   ]
  },
  {
   "cell_type": "markdown",
   "metadata": {},
   "source": [
    "#### Model 2 #####"
   ]
  },
  {
   "cell_type": "code",
   "execution_count": 10,
   "metadata": {},
   "outputs": [
    {
     "data": {
      "text/plain": [
       "[<matplotlib.lines.Line2D at 0x7fcc8693dfa0>]"
      ]
     },
     "execution_count": 10,
     "metadata": {},
     "output_type": "execute_result"
    },
    {
     "data": {
      "image/png": "[encoded data removed]",
      "text/plain": [
       "<Figure size 432x288 with 1 Axes>"
      ]
     },
     "metadata": {
      "needs_background": "light"
     },
     "output_type": "display_data"
    }
   ],
   "source": [
    "plt.plot(His2.history['loss'])\n",
    "plt.plot(His2.history['val_loss'])  "
   ]
  },
  {
   "cell_type": "code",
   "execution_count": 11,
   "metadata": {},
   "outputs": [
    {
     "name": "stdout",
     "output_type": "stream",
     "text": [
      "Class 1:\n",
      "Sens = 0.3824884792626728\n",
      "Spec = 0.5711422845691383\n",
      "Class 2:\n",
      "Sens = 0.25\n",
      "Spec = 0.765495867768595\n",
      "Accuracy = 0.35195530726256985, ROC = 0.5039535655362836\n",
      "Confusion matrix: (row = true, column = predicted)\n",
      "[[222 202 110]\n",
      " [151 166 117]\n",
      " [122 226 116]]\n",
      "Classifcation Report\n",
      "              precision    recall  f1-score   support\n",
      "\n",
      "           0       0.45      0.42      0.43       534\n",
      "           1       0.28      0.38      0.32       434\n",
      "           2       0.34      0.25      0.29       464\n",
      "\n",
      "    accuracy                           0.35      1432\n",
      "   macro avg       0.36      0.35      0.35      1432\n",
      "weighted avg       0.36      0.35      0.35      1432\n",
      "\n"
     ]
    }
   ],
   "source": [
    "Eval_LSTM(Mod2, test_lstm, Y_test_lstm, t_split)"
   ]
  },
  {
   "cell_type": "markdown",
   "metadata": {},
   "source": [
    "#### Model 3 #####"
   ]
  },
  {
   "cell_type": "code",
   "execution_count": 12,
   "metadata": {},
   "outputs": [
    {
     "data": {
      "text/plain": [
       "[<matplotlib.lines.Line2D at 0x7fcc85424850>]"
      ]
     },
     "execution_count": 12,
     "metadata": {},
     "output_type": "execute_result"
    },
    {
     "data": {
      "image/png": "[encoded data removed]",
      "text/plain": [
       "<Figure size 432x288 with 1 Axes>"
      ]
     },
     "metadata": {
      "needs_background": "light"
     },
     "output_type": "display_data"
    }
   ],
   "source": [
    "plt.plot(His3.history['loss'])\n",
    "plt.plot(His3.history['val_loss'])  "
   ]
  },
  {
   "cell_type": "code",
   "execution_count": 13,
   "metadata": {},
   "outputs": [
    {
     "name": "stdout",
     "output_type": "stream",
     "text": [
      "Class 1:\n",
      "Sens = 0.41013824884792627\n",
      "Spec = 0.6022044088176353\n",
      "Class 2:\n",
      "Sens = 0.39870689655172414\n",
      "Spec = 0.6590909090909091\n",
      "Accuracy = 0.34916201117318435, ROC = 0.5394345075805941\n",
      "Confusion matrix: (row = true, column = predicted)\n",
      "[[137 220 177]\n",
      " [103 178 153]\n",
      " [102 177 185]]\n",
      "Classifcation Report\n",
      "              precision    recall  f1-score   support\n",
      "\n",
      "           0       0.40      0.26      0.31       534\n",
      "           1       0.31      0.41      0.35       434\n",
      "           2       0.36      0.40      0.38       464\n",
      "\n",
      "    accuracy                           0.35      1432\n",
      "   macro avg       0.36      0.36      0.35      1432\n",
      "weighted avg       0.36      0.35      0.35      1432\n",
      "\n"
     ]
    }
   ],
   "source": [
    "Eval_LSTM(Mod3, test_lstm, Y_test_lstm, t_split)"
   ]
  },
  {
   "cell_type": "markdown",
   "metadata": {},
   "source": [
    "#### Order Flow Features ####"
   ]
  },
  {
   "cell_type": "code",
   "execution_count": 14,
   "metadata": {},
   "outputs": [],
   "source": [
    "data_std = pd.read_csv(\"data/final/1min/OrderFlow/ADA_std_5.csv\")"
   ]
  },
  {
   "cell_type": "code",
   "execution_count": 15,
   "metadata": {
    "scrolled": true
   },
   "outputs": [
    {
     "name": "stdout",
     "output_type": "stream",
     "text": [
      "1  trained in  770.9221143750001\n",
      "2  trained in  3714.4082218660005\n",
      "3  trained in  8693.896904949\n",
      "4  trained in  10330.212201229999\n",
      "5  trained in  12052.938220541\n",
      "6  trained in  14552.869018482\n",
      "7  trained in  15626.858227612\n",
      "8  trained in  18225.853242304\n",
      "9  trained in  21859.066010563\n",
      "Seed 999 was best\n",
      "Seed 999 was best\n",
      "Seed 999 was best\n"
     ]
    },
    {
     "name": "stderr",
     "output_type": "stream",
     "text": [
      "WARNING:absl:Found untraced functions such as lstm_cell_30_layer_call_and_return_conditional_losses, lstm_cell_30_layer_call_fn, lstm_cell_30_layer_call_fn, lstm_cell_30_layer_call_and_return_conditional_losses, lstm_cell_30_layer_call_and_return_conditional_losses while saving (showing 5 of 5). These functions will not be directly callable after loading.\n",
      "WARNING:absl:Found untraced functions such as lstm_cell_30_layer_call_and_return_conditional_losses, lstm_cell_30_layer_call_fn, lstm_cell_30_layer_call_fn, lstm_cell_30_layer_call_and_return_conditional_losses, lstm_cell_30_layer_call_and_return_conditional_losses while saving (showing 5 of 5). These functions will not be directly callable after loading.\n"
     ]
    },
    {
     "name": "stdout",
     "output_type": "stream",
     "text": [
      "INFO:tensorflow:Assets written to: models/lstm/OF_ADA_1_5/Mod1_2021-08-16 20:42:01.752386/assets\n"
     ]
    },
    {
     "name": "stderr",
     "output_type": "stream",
     "text": [
      "INFO:tensorflow:Assets written to: models/lstm/OF_ADA_1_5/Mod1_2021-08-16 20:42:01.752386/assets\n",
      "WARNING:absl:Found untraced functions such as lstm_cell_31_layer_call_and_return_conditional_losses, lstm_cell_31_layer_call_fn, lstm_cell_32_layer_call_and_return_conditional_losses, lstm_cell_32_layer_call_fn, lstm_cell_31_layer_call_fn while saving (showing 5 of 10). These functions will not be directly callable after loading.\n",
      "WARNING:absl:Found untraced functions such as lstm_cell_31_layer_call_and_return_conditional_losses, lstm_cell_31_layer_call_fn, lstm_cell_32_layer_call_and_return_conditional_losses, lstm_cell_32_layer_call_fn, lstm_cell_31_layer_call_fn while saving (showing 5 of 10). These functions will not be directly callable after loading.\n"
     ]
    },
    {
     "name": "stdout",
     "output_type": "stream",
     "text": [
      "INFO:tensorflow:Assets written to: models/lstm/OF_ADA_1_5/Mod2_2021-08-16 20:42:03.941934/assets\n"
     ]
    },
    {
     "name": "stderr",
     "output_type": "stream",
     "text": [
      "INFO:tensorflow:Assets written to: models/lstm/OF_ADA_1_5/Mod2_2021-08-16 20:42:03.941934/assets\n",
      "WARNING:absl:Found untraced functions such as lstm_cell_33_layer_call_and_return_conditional_losses, lstm_cell_33_layer_call_fn, lstm_cell_34_layer_call_and_return_conditional_losses, lstm_cell_34_layer_call_fn, lstm_cell_35_layer_call_and_return_conditional_losses while saving (showing 5 of 15). These functions will not be directly callable after loading.\n",
      "WARNING:absl:Found untraced functions such as lstm_cell_33_layer_call_and_return_conditional_losses, lstm_cell_33_layer_call_fn, lstm_cell_34_layer_call_and_return_conditional_losses, lstm_cell_34_layer_call_fn, lstm_cell_35_layer_call_and_return_conditional_losses while saving (showing 5 of 15). These functions will not be directly callable after loading.\n"
     ]
    },
    {
     "name": "stdout",
     "output_type": "stream",
     "text": [
      "INFO:tensorflow:Assets written to: models/lstm/OF_ADA_1_5/Mod3_2021-08-16 20:42:08.468124/assets\n"
     ]
    },
    {
     "name": "stderr",
     "output_type": "stream",
     "text": [
      "INFO:tensorflow:Assets written to: models/lstm/OF_ADA_1_5/Mod3_2021-08-16 20:42:08.468124/assets\n"
     ]
    },
    {
     "name": "stdout",
     "output_type": "stream",
     "text": [
      "CPU times: user 5h 54s, sys: 1h 5min 1s, total: 6h 5min 55s\n",
      "Wall time: 6h 4min 32s\n"
     ]
    }
   ],
   "source": [
    "%%time\n",
    "test_lstm, Y_test_lstm, His1, Mod1, His2, Mod2, His3, Mod3 = Run_LSTM(data_std, Y, \"OF_ADA_1_5\", v_split, t_split, EP = 10000)"
   ]
  },
  {
   "cell_type": "markdown",
   "metadata": {},
   "source": [
    "#### Model 1 #####"
   ]
  },
  {
   "cell_type": "code",
   "execution_count": 16,
   "metadata": {
    "scrolled": true
   },
   "outputs": [
    {
     "data": {
      "text/plain": [
       "[<matplotlib.lines.Line2D at 0x7fcc1dbe5d00>]"
      ]
     },
     "execution_count": 16,
     "metadata": {},
     "output_type": "execute_result"
    },
    {
     "data": {
      "image/png": "[encoded data removed]",
      "text/plain": [
       "<Figure size 432x288 with 1 Axes>"
      ]
     },
     "metadata": {
      "needs_background": "light"
     },
     "output_type": "display_data"
    }
   ],
   "source": [
    "plt.plot(His1.history['loss'])\n",
    "plt.plot(His1.history['val_loss'])  "
   ]
  },
  {
   "cell_type": "code",
   "execution_count": 17,
   "metadata": {},
   "outputs": [
    {
     "name": "stdout",
     "output_type": "stream",
     "text": [
      "Class 1:\n",
      "Sens = 0.3709677419354839\n",
      "Spec = 0.6753507014028056\n",
      "Class 2:\n",
      "Sens = 0.3081896551724138\n",
      "Spec = 0.8109504132231405\n",
      "Accuracy = 0.39036312849162014, ROC = 0.5553945549596772\n",
      "Confusion matrix: (row = true, column = predicted)\n",
      "[[255 186  93]\n",
      " [183 161  90]\n",
      " [183 138 143]]\n",
      "Classifcation Report\n",
      "              precision    recall  f1-score   support\n",
      "\n",
      "           0       0.41      0.48      0.44       534\n",
      "           1       0.33      0.37      0.35       434\n",
      "           2       0.44      0.31      0.36       464\n",
      "\n",
      "    accuracy                           0.39      1432\n",
      "   macro avg       0.39      0.39      0.38      1432\n",
      "weighted avg       0.40      0.39      0.39      1432\n",
      "\n"
     ]
    }
   ],
   "source": [
    "Eval_LSTM(Mod1, test_lstm, Y_test_lstm, t_split)"
   ]
  },
  {
   "cell_type": "markdown",
   "metadata": {},
   "source": [
    "#### Model 2 #####"
   ]
  },
  {
   "cell_type": "code",
   "execution_count": 18,
   "metadata": {},
   "outputs": [
    {
     "data": {
      "text/plain": [
       "[<matplotlib.lines.Line2D at 0x7fcc963a7070>]"
      ]
     },
     "execution_count": 18,
     "metadata": {},
     "output_type": "execute_result"
    },
    {
     "data": {
      "image/png": "[encoded data removed]",
      "text/plain": [
       "<Figure size 432x288 with 1 Axes>"
      ]
     },
     "metadata": {
      "needs_background": "light"
     },
     "output_type": "display_data"
    }
   ],
   "source": [
    "plt.plot(His2.history['loss'])\n",
    "plt.plot(His2.history['val_loss'])  "
   ]
  },
  {
   "cell_type": "code",
   "execution_count": 19,
   "metadata": {},
   "outputs": [
    {
     "name": "stdout",
     "output_type": "stream",
     "text": [
      "WARNING:tensorflow:5 out of the last 13 calls to <function Model.make_predict_function.<locals>.predict_function at 0x7fcc9624f700> triggered tf.function retracing. Tracing is expensive and the excessive number of tracings could be due to (1) creating @tf.function repeatedly in a loop, (2) passing tensors with different shapes, (3) passing Python objects instead of tensors. For (1), please define your @tf.function outside of the loop. For (2), @tf.function has experimental_relax_shapes=True option that relaxes argument shapes that can avoid unnecessary retracing. For (3), please refer to https://www.tensorflow.org/guide/function#controlling_retracing and https://www.tensorflow.org/api_docs/python/tf/function for  more details.\n"
     ]
    },
    {
     "name": "stderr",
     "output_type": "stream",
     "text": [
      "WARNING:tensorflow:5 out of the last 13 calls to <function Model.make_predict_function.<locals>.predict_function at 0x7fcc9624f700> triggered tf.function retracing. Tracing is expensive and the excessive number of tracings could be due to (1) creating @tf.function repeatedly in a loop, (2) passing tensors with different shapes, (3) passing Python objects instead of tensors. For (1), please define your @tf.function outside of the loop. For (2), @tf.function has experimental_relax_shapes=True option that relaxes argument shapes that can avoid unnecessary retracing. For (3), please refer to https://www.tensorflow.org/guide/function#controlling_retracing and https://www.tensorflow.org/api_docs/python/tf/function for  more details.\n"
     ]
    },
    {
     "name": "stdout",
     "output_type": "stream",
     "text": [
      "Class 1:\n",
      "Sens = 0.1336405529953917\n",
      "Spec = 0.8056112224448898\n",
      "Class 2:\n",
      "Sens = 0.5969827586206896\n",
      "Spec = 0.45661157024793386\n",
      "Accuracy = 0.3442737430167598, ROC = 0.49792859161896885\n",
      "Confusion matrix: (row = true, column = predicted)\n",
      "[[158 108 268]\n",
      " [118  58 258]\n",
      " [101  86 277]]\n",
      "Classifcation Report\n",
      "              precision    recall  f1-score   support\n",
      "\n",
      "           0       0.42      0.30      0.35       534\n",
      "           1       0.23      0.13      0.17       434\n",
      "           2       0.34      0.60      0.44       464\n",
      "\n",
      "    accuracy                           0.34      1432\n",
      "   macro avg       0.33      0.34      0.32      1432\n",
      "weighted avg       0.34      0.34      0.32      1432\n",
      "\n"
     ]
    }
   ],
   "source": [
    "Eval_LSTM(Mod2, test_lstm, Y_test_lstm, t_split)"
   ]
  },
  {
   "cell_type": "markdown",
   "metadata": {},
   "source": [
    "#### Model 3 #####"
   ]
  },
  {
   "cell_type": "code",
   "execution_count": 20,
   "metadata": {},
   "outputs": [
    {
     "data": {
      "text/plain": [
       "[<matplotlib.lines.Line2D at 0x7f6134321d90>]"
      ]
     },
     "execution_count": 20,
     "metadata": {},
     "output_type": "execute_result"
    },
    {
     "data": {
      "image/png": "[encoded data removed]",
      "text/plain": [
       "<Figure size 432x288 with 1 Axes>"
      ]
     },
     "metadata": {
      "needs_background": "light"
     },
     "output_type": "display_data"
    }
   ],
   "source": [
    "plt.plot(His3.history['loss'])\n",
    "plt.plot(His3.history['val_loss'])  "
   ]
  },
  {
   "cell_type": "code",
   "execution_count": 21,
   "metadata": {},
   "outputs": [
    {
     "name": "stdout",
     "output_type": "stream",
     "text": [
      "WARNING:tensorflow:5 out of the last 13 calls to <function Model.make_predict_function.<locals>.predict_function at 0x7f6134320280> triggered tf.function retracing. Tracing is expensive and the excessive number of tracings could be due to (1) creating @tf.function repeatedly in a loop, (2) passing tensors with different shapes, (3) passing Python objects instead of tensors. For (1), please define your @tf.function outside of the loop. For (2), @tf.function has experimental_relax_shapes=True option that relaxes argument shapes that can avoid unnecessary retracing. For (3), please refer to https://www.tensorflow.org/guide/function#controlling_retracing and https://www.tensorflow.org/api_docs/python/tf/function for  more details.\n"
     ]
    },
    {
     "name": "stderr",
     "output_type": "stream",
     "text": [
      "WARNING:tensorflow:5 out of the last 13 calls to <function Model.make_predict_function.<locals>.predict_function at 0x7f6134320280> triggered tf.function retracing. Tracing is expensive and the excessive number of tracings could be due to (1) creating @tf.function repeatedly in a loop, (2) passing tensors with different shapes, (3) passing Python objects instead of tensors. For (1), please define your @tf.function outside of the loop. For (2), @tf.function has experimental_relax_shapes=True option that relaxes argument shapes that can avoid unnecessary retracing. For (3), please refer to https://www.tensorflow.org/guide/function#controlling_retracing and https://www.tensorflow.org/api_docs/python/tf/function for  more details.\n"
     ]
    },
    {
     "name": "stdout",
     "output_type": "stream",
     "text": [
      "Class 1:\n",
      "Sens = 0.23921568627450981\n",
      "Spec = 0.7959356477561389\n",
      "Class 2:\n",
      "Sens = 0.15789473684210525\n",
      "Spec = 0.8515901060070671\n",
      "Accuracy = 0.4735376044568245, ROC = 0.5442807774919783\n",
      "Confusion matrix: (row = true, column = predicted)\n",
      "[[571 171 135]\n",
      " [161  61  33]\n",
      " [186  70  48]]\n",
      "Classifcation Report\n",
      "              precision    recall  f1-score   support\n",
      "\n",
      "           0       0.62      0.65      0.64       877\n",
      "           1       0.20      0.24      0.22       255\n",
      "           2       0.22      0.16      0.18       304\n",
      "\n",
      "    accuracy                           0.47      1436\n",
      "   macro avg       0.35      0.35      0.35      1436\n",
      "weighted avg       0.46      0.47      0.47      1436\n",
      "\n"
     ]
    }
   ],
   "source": [
    "Eval_LSTM(Mod3, test_lstm, Y_test_lstm, t_split)"
   ]
  },
  {
   "cell_type": "markdown",
   "metadata": {},
   "source": [
    "#### High Frequency Features ####"
   ]
  },
  {
   "cell_type": "code",
   "execution_count": 11,
   "metadata": {},
   "outputs": [],
   "source": [
    "data_std = pd.read_csv(\"data/final/1min/HF/ETH_std_5.csv\")"
   ]
  },
  {
   "cell_type": "code",
   "execution_count": 12,
   "metadata": {
    "scrolled": true
   },
   "outputs": [
    {
     "name": "stdout",
     "output_type": "stream",
     "text": [
      "1  trained in  1569.264788797\n",
      "2  trained in  4054.991751376\n",
      "3  trained in  9888.298605925\n",
      "4  trained in  11324.776960509\n",
      "5  trained in  13632.405034436999\n",
      "6  trained in  15497.217669730999\n",
      "7  trained in  17027.403909762\n",
      "8  trained in  18138.831889611\n",
      "9  trained in  23630.496616042998\n",
      "Seed 123 was best\n",
      "Seed 123 was best\n",
      "Seed 999 was best\n"
     ]
    },
    {
     "name": "stderr",
     "output_type": "stream",
     "text": [
      "WARNING:absl:Found untraced functions such as lstm_cell_6_layer_call_and_return_conditional_losses, lstm_cell_6_layer_call_fn, lstm_cell_6_layer_call_fn, lstm_cell_6_layer_call_and_return_conditional_losses, lstm_cell_6_layer_call_and_return_conditional_losses while saving (showing 5 of 5). These functions will not be directly callable after loading.\n",
      "WARNING:absl:Found untraced functions such as lstm_cell_6_layer_call_and_return_conditional_losses, lstm_cell_6_layer_call_fn, lstm_cell_6_layer_call_fn, lstm_cell_6_layer_call_and_return_conditional_losses, lstm_cell_6_layer_call_and_return_conditional_losses while saving (showing 5 of 5). These functions will not be directly callable after loading.\n"
     ]
    },
    {
     "name": "stdout",
     "output_type": "stream",
     "text": [
      "INFO:tensorflow:Assets written to: models/lstm/HF_ETH_1_5/Mod1_2021-08-15 23:25:15.734939/assets\n"
     ]
    },
    {
     "name": "stderr",
     "output_type": "stream",
     "text": [
      "INFO:tensorflow:Assets written to: models/lstm/HF_ETH_1_5/Mod1_2021-08-15 23:25:15.734939/assets\n",
      "WARNING:absl:Found untraced functions such as lstm_cell_7_layer_call_and_return_conditional_losses, lstm_cell_7_layer_call_fn, lstm_cell_8_layer_call_and_return_conditional_losses, lstm_cell_8_layer_call_fn, lstm_cell_7_layer_call_fn while saving (showing 5 of 10). These functions will not be directly callable after loading.\n",
      "WARNING:absl:Found untraced functions such as lstm_cell_7_layer_call_and_return_conditional_losses, lstm_cell_7_layer_call_fn, lstm_cell_8_layer_call_and_return_conditional_losses, lstm_cell_8_layer_call_fn, lstm_cell_7_layer_call_fn while saving (showing 5 of 10). These functions will not be directly callable after loading.\n"
     ]
    },
    {
     "name": "stdout",
     "output_type": "stream",
     "text": [
      "INFO:tensorflow:Assets written to: models/lstm/HF_ETH_1_5/Mod2_2021-08-15 23:25:18.111290/assets\n"
     ]
    },
    {
     "name": "stderr",
     "output_type": "stream",
     "text": [
      "INFO:tensorflow:Assets written to: models/lstm/HF_ETH_1_5/Mod2_2021-08-15 23:25:18.111290/assets\n",
      "WARNING:absl:Found untraced functions such as lstm_cell_15_layer_call_and_return_conditional_losses, lstm_cell_15_layer_call_fn, lstm_cell_16_layer_call_and_return_conditional_losses, lstm_cell_16_layer_call_fn, lstm_cell_17_layer_call_and_return_conditional_losses while saving (showing 5 of 15). These functions will not be directly callable after loading.\n",
      "WARNING:absl:Found untraced functions such as lstm_cell_15_layer_call_and_return_conditional_losses, lstm_cell_15_layer_call_fn, lstm_cell_16_layer_call_and_return_conditional_losses, lstm_cell_16_layer_call_fn, lstm_cell_17_layer_call_and_return_conditional_losses while saving (showing 5 of 15). These functions will not be directly callable after loading.\n"
     ]
    },
    {
     "name": "stdout",
     "output_type": "stream",
     "text": [
      "INFO:tensorflow:Assets written to: models/lstm/HF_ETH_1_5/Mod3_2021-08-15 23:25:22.418728/assets\n"
     ]
    },
    {
     "name": "stderr",
     "output_type": "stream",
     "text": [
      "INFO:tensorflow:Assets written to: models/lstm/HF_ETH_1_5/Mod3_2021-08-15 23:25:22.418728/assets\n"
     ]
    },
    {
     "name": "stdout",
     "output_type": "stream",
     "text": [
      "CPU times: user 5h 26min 58s, sys: 1h 8min 59s, total: 6h 35min 57s\n",
      "Wall time: 6h 34min 3s\n"
     ]
    }
   ],
   "source": [
    "%%time\n",
    "test_lstm, Y_test_lstm, His1, Mod1, His2, Mod2, His3, Mod3 = Run_LSTM(data_std, Y, \"HF_ETH_1_5\", v_split, t_split, EP = 10000)"
   ]
  },
  {
   "cell_type": "code",
   "execution_count": null,
   "metadata": {},
   "outputs": [],
   "source": []
  },
  {
   "cell_type": "markdown",
   "metadata": {},
   "source": [
    "#### Model 1 #####"
   ]
  },
  {
   "cell_type": "code",
   "execution_count": 13,
   "metadata": {},
   "outputs": [
    {
     "data": {
      "text/plain": [
       "[<matplotlib.lines.Line2D at 0x7fc95a7e4a90>]"
      ]
     },
     "execution_count": 13,
     "metadata": {},
     "output_type": "execute_result"
    },
    {
     "data": {
      "image/png": "[encoded data removed]",
      "text/plain": [
       "<Figure size 432x288 with 1 Axes>"
      ]
     },
     "metadata": {
      "needs_background": "light"
     },
     "output_type": "display_data"
    }
   ],
   "source": [
    "plt.plot(His1.history['loss'])\n",
    "plt.plot(His1.history['val_loss'])  "
   ]
  },
  {
   "cell_type": "code",
   "execution_count": 14,
   "metadata": {},
   "outputs": [
    {
     "name": "stdout",
     "output_type": "stream",
     "text": [
      "Class 1:\n",
      "Sens = 0.184375\n",
      "Spec = 0.7556154537286612\n",
      "Class 2:\n",
      "Sens = 0.3333333333333333\n",
      "Spec = 0.7483506126295947\n",
      "Accuracy = 0.4026517794836008, ROC = 0.5315057514468716\n",
      "Confusion matrix: (row = true, column = predicted)\n",
      "[[394 178 169]\n",
      " [163  59  98]\n",
      " [154  94 124]]\n",
      "Classifcation Report\n",
      "              precision    recall  f1-score   support\n",
      "\n",
      "           0       0.55      0.53      0.54       741\n",
      "           1       0.18      0.18      0.18       320\n",
      "           2       0.32      0.33      0.33       372\n",
      "\n",
      "    accuracy                           0.40      1433\n",
      "   macro avg       0.35      0.35      0.35      1433\n",
      "weighted avg       0.41      0.40      0.41      1433\n",
      "\n"
     ]
    }
   ],
   "source": [
    "Eval_LSTM(Mod1, test_lstm, Y_test_lstm, t_split)"
   ]
  },
  {
   "cell_type": "code",
   "execution_count": 15,
   "metadata": {},
   "outputs": [],
   "source": [
    "#Mod1.save('models/lstm/hf/Model1_81ROC')\n"
   ]
  },
  {
   "cell_type": "markdown",
   "metadata": {},
   "source": [
    "#### Model 2 #####"
   ]
  },
  {
   "cell_type": "code",
   "execution_count": 16,
   "metadata": {},
   "outputs": [
    {
     "data": {
      "text/plain": [
       "[<matplotlib.lines.Line2D at 0x7fc960f5b580>]"
      ]
     },
     "execution_count": 16,
     "metadata": {},
     "output_type": "execute_result"
    },
    {
     "data": {
      "image/png": "[encoded data removed]",
      "text/plain": [
       "<Figure size 432x288 with 1 Axes>"
      ]
     },
     "metadata": {
      "needs_background": "light"
     },
     "output_type": "display_data"
    }
   ],
   "source": [
    "plt.plot(His2.history['loss'])\n",
    "plt.plot(His2.history['val_loss'])  "
   ]
  },
  {
   "cell_type": "code",
   "execution_count": 17,
   "metadata": {
    "scrolled": true
   },
   "outputs": [
    {
     "name": "stdout",
     "output_type": "stream",
     "text": [
      "Class 1:\n",
      "Sens = 0.184375\n",
      "Spec = 0.7304582210242587\n",
      "Class 2:\n",
      "Sens = 0.3333333333333333\n",
      "Spec = 0.7615457115928369\n",
      "Accuracy = 0.3900907187718074, ROC = 0.5097703959686511\n",
      "Confusion matrix: (row = true, column = predicted)\n",
      "[[376 203 162]\n",
      " [170  59  91]\n",
      " [151  97 124]]\n",
      "Classifcation Report\n",
      "              precision    recall  f1-score   support\n",
      "\n",
      "           0       0.54      0.51      0.52       741\n",
      "           1       0.16      0.18      0.17       320\n",
      "           2       0.33      0.33      0.33       372\n",
      "\n",
      "    accuracy                           0.39      1433\n",
      "   macro avg       0.34      0.34      0.34      1433\n",
      "weighted avg       0.40      0.39      0.40      1433\n",
      "\n"
     ]
    }
   ],
   "source": [
    "Eval_LSTM(Mod2, test_lstm, Y_test_lstm, t_split)"
   ]
  },
  {
   "cell_type": "code",
   "execution_count": 18,
   "metadata": {},
   "outputs": [],
   "source": [
    "#Mod2.save('models/lstm/hf/Model2_81ROC')\n"
   ]
  },
  {
   "cell_type": "code",
   "execution_count": 19,
   "metadata": {},
   "outputs": [],
   "source": [
    "#loaded_model = keras.models.load_model('models/lstm/hf/Model2_81ROC')"
   ]
  },
  {
   "cell_type": "code",
   "execution_count": 20,
   "metadata": {},
   "outputs": [],
   "source": [
    "#Eval_LSTM(loaded_model, test_lstm, Y_test_lstm, t_split)"
   ]
  },
  {
   "cell_type": "markdown",
   "metadata": {},
   "source": [
    "#### Model 3 #####"
   ]
  },
  {
   "cell_type": "code",
   "execution_count": 21,
   "metadata": {},
   "outputs": [
    {
     "data": {
      "text/plain": [
       "[<matplotlib.lines.Line2D at 0x7fc95bcb3970>]"
      ]
     },
     "execution_count": 21,
     "metadata": {},
     "output_type": "execute_result"
    },
    {
     "data": {
      "image/png": "[encoded data removed]",
      "text/plain": [
       "<Figure size 432x288 with 1 Axes>"
      ]
     },
     "metadata": {
      "needs_background": "light"
     },
     "output_type": "display_data"
    }
   ],
   "source": [
    "plt.plot(His3.history['loss'])\n",
    "plt.plot(His3.history['val_loss'])  "
   ]
  },
  {
   "cell_type": "code",
   "execution_count": 22,
   "metadata": {},
   "outputs": [
    {
     "name": "stdout",
     "output_type": "stream",
     "text": [
      "Class 1:\n",
      "Sens = 0.175\n",
      "Spec = 0.7879604672057502\n",
      "Class 2:\n",
      "Sens = 0.1989247311827957\n",
      "Spec = 0.7803958529688972\n",
      "Accuracy = 0.3754361479413817, ROC = 0.5036625666673321\n",
      "Confusion matrix: (row = true, column = predicted)\n",
      "[[408 169 164]\n",
      " [195  56  69]\n",
      " [231  67  74]]\n",
      "Classifcation Report\n",
      "              precision    recall  f1-score   support\n",
      "\n",
      "           0       0.49      0.55      0.52       741\n",
      "           1       0.19      0.17      0.18       320\n",
      "           2       0.24      0.20      0.22       372\n",
      "\n",
      "    accuracy                           0.38      1433\n",
      "   macro avg       0.31      0.31      0.31      1433\n",
      "weighted avg       0.36      0.38      0.37      1433\n",
      "\n"
     ]
    }
   ],
   "source": [
    "Eval_LSTM(Mod3, test_lstm, Y_test_lstm, t_split)"
   ]
  },
  {
   "cell_type": "code",
   "execution_count": null,
   "metadata": {},
   "outputs": [],
   "source": []
  },
  {
   "cell_type": "code",
   "execution_count": null,
   "metadata": {},
   "outputs": [],
   "source": []
  }
 ],
 "metadata": {
  "kernelspec": {
   "display_name": "Python 3",
   "language": "python",
   "name": "python3"
  },
  "language_info": {
   "codemirror_mode": {
    "name": "ipython",
    "version": 3
   },
   "file_extension": ".py",
   "mimetype": "text/x-python",
   "name": "python",
   "nbconvert_exporter": "python",
   "pygments_lexer": "ipython3",
   "version": "3.8.8"
  }
 },
 "nbformat": 4,
 "nbformat_minor": 4
}
