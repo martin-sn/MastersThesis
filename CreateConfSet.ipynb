{
 "cells": [
  {
   "cell_type": "code",
   "execution_count": 1,
   "id": "subsequent-virtue",
   "metadata": {},
   "outputs": [],
   "source": [
    "from deep_models import *\n",
    "from loss import * "
   ]
  },
  {
   "cell_type": "code",
   "execution_count": 4,
   "id": "judicial-winter",
   "metadata": {
    "scrolled": true
   },
   "outputs": [
    {
     "name": "stdout",
     "output_type": "stream",
     "text": [
      "Window of size 5 was best\n",
      "Window of size 1 was best\n",
      "Window of size 1 was best\n",
      "Window of size 1 was best\n",
      "Window of size 5 was best\n",
      "Window of size 1 was best\n",
      "WARNING:tensorflow:5 out of the last 49 calls to <function Model.make_predict_function.<locals>.predict_function at 0x7fb3942a7c10> triggered tf.function retracing. Tracing is expensive and the excessive number of tracings could be due to (1) creating @tf.function repeatedly in a loop, (2) passing tensors with different shapes, (3) passing Python objects instead of tensors. For (1), please define your @tf.function outside of the loop. For (2), @tf.function has experimental_relax_shapes=True option that relaxes argument shapes that can avoid unnecessary retracing. For (3), please refer to https://www.tensorflow.org/guide/function#controlling_retracing and https://www.tensorflow.org/api_docs/python/tf/function for  more details.\n",
      "Window of size 1 was best\n",
      "Window of size 10 was best\n",
      "Window of size 5 was best\n",
      "WARNING:tensorflow:5 out of the last 49 calls to <function Model.make_predict_function.<locals>.predict_function at 0x7fb3880aeaf0> triggered tf.function retracing. Tracing is expensive and the excessive number of tracings could be due to (1) creating @tf.function repeatedly in a loop, (2) passing tensors with different shapes, (3) passing Python objects instead of tensors. For (1), please define your @tf.function outside of the loop. For (2), @tf.function has experimental_relax_shapes=True option that relaxes argument shapes that can avoid unnecessary retracing. For (3), please refer to https://www.tensorflow.org/guide/function#controlling_retracing and https://www.tensorflow.org/api_docs/python/tf/function for  more details.\n"
     ]
    }
   ],
   "source": [
    "BTC1M = LossDF(\"BTC\", \"1min\")\n"
   ]
  },
  {
   "cell_type": "code",
   "execution_count": 4,
   "id": "driven-celtic",
   "metadata": {
    "scrolled": true
   },
   "outputs": [],
   "source": [
    "def CreateDictDf(cryp,freq,dicti, size):\n",
    "\n",
    "    arr = np.empty((size,18))\n",
    "    arr[:] = np.nan\n",
    "\n",
    "    i = 0\n",
    "    for key in dicti.keys():\n",
    "        arr[(dicti[key][\"win\"]):,i] = dicti[key][\"loss\"]\n",
    "        i += 1\n",
    "\n",
    "    cols = [\"BA_DENSE_1\", \"BA_DENSE_2\", \"BA_DENSE_3\", \"BA_LSTM_1\", \"BA_LSTM_2\", \"BA_LSTM_3\",\n",
    "    \"OF_DENSE_1\", \"OF_DENSE_2\", \"OF_DENSE_3\", \"OF_LSTM_1\", \"OF_LSTM_2\", \"OF_LSTM_3\",\n",
    "    \"HF_DENSE_1\", \"HF_DENSE_2\", \"HF_DENSE_3\", \"HF_LSTM_1\", \"HF_LSTM_2\", \"HF_LSTM_3\"]\n",
    "\n",
    "    df = pd.DataFrame(arr, columns = cols)\n",
    "    df.to_csv(f\"ConfSets/{cryp}_{freq}_conf.csv\")"
   ]
  },
  {
   "cell_type": "code",
   "execution_count": 11,
   "id": "understanding-actress",
   "metadata": {
    "scrolled": true
   },
   "outputs": [],
   "source": [
    "CreateDictDf(\"BTC\",\"1min\",BTC1M)"
   ]
  },
  {
   "cell_type": "code",
   "execution_count": 12,
   "id": "discrete-creek",
   "metadata": {},
   "outputs": [
    {
     "name": "stdout",
     "output_type": "stream",
     "text": [
      "Window of size 10 was best\n",
      "Window of size 10 was best\n",
      "Window of size 1 was best\n",
      "WARNING:tensorflow:5 out of the last 49 calls to <function Model.make_predict_function.<locals>.predict_function at 0x7fb2d4d63160> triggered tf.function retracing. Tracing is expensive and the excessive number of tracings could be due to (1) creating @tf.function repeatedly in a loop, (2) passing tensors with different shapes, (3) passing Python objects instead of tensors. For (1), please define your @tf.function outside of the loop. For (2), @tf.function has experimental_relax_shapes=True option that relaxes argument shapes that can avoid unnecessary retracing. For (3), please refer to https://www.tensorflow.org/guide/function#controlling_retracing and https://www.tensorflow.org/api_docs/python/tf/function for  more details.\n",
      "Window of size 5 was best\n",
      "Window of size 5 was best\n",
      "Window of size 5 was best\n",
      "WARNING:tensorflow:5 out of the last 49 calls to <function Model.make_predict_function.<locals>.predict_function at 0x7fb2d7674790> triggered tf.function retracing. Tracing is expensive and the excessive number of tracings could be due to (1) creating @tf.function repeatedly in a loop, (2) passing tensors with different shapes, (3) passing Python objects instead of tensors. For (1), please define your @tf.function outside of the loop. For (2), @tf.function has experimental_relax_shapes=True option that relaxes argument shapes that can avoid unnecessary retracing. For (3), please refer to https://www.tensorflow.org/guide/function#controlling_retracing and https://www.tensorflow.org/api_docs/python/tf/function for  more details.\n",
      "Window of size 10 was best\n",
      "Window of size 1 was best\n",
      "Window of size 5 was best\n",
      "WARNING:tensorflow:5 out of the last 49 calls to <function Model.make_predict_function.<locals>.predict_function at 0x7fb33131e160> triggered tf.function retracing. Tracing is expensive and the excessive number of tracings could be due to (1) creating @tf.function repeatedly in a loop, (2) passing tensors with different shapes, (3) passing Python objects instead of tensors. For (1), please define your @tf.function outside of the loop. For (2), @tf.function has experimental_relax_shapes=True option that relaxes argument shapes that can avoid unnecessary retracing. For (3), please refer to https://www.tensorflow.org/guide/function#controlling_retracing and https://www.tensorflow.org/api_docs/python/tf/function for  more details.\n"
     ]
    }
   ],
   "source": [
    "ETH1M = LossDF(\"ETH\", \"1min\")"
   ]
  },
  {
   "cell_type": "code",
   "execution_count": 15,
   "id": "cooperative-general",
   "metadata": {},
   "outputs": [],
   "source": [
    "size = len(ETH1M[\"BA_LSTM_1\"][\"loss\"])"
   ]
  },
  {
   "cell_type": "code",
   "execution_count": 16,
   "id": "metropolitan-cooking",
   "metadata": {},
   "outputs": [
    {
     "data": {
      "text/plain": [
       "1437"
      ]
     },
     "execution_count": 16,
     "metadata": {},
     "output_type": "execute_result"
    }
   ],
   "source": [
    "size"
   ]
  },
  {
   "cell_type": "code",
   "execution_count": 17,
   "id": "western-education",
   "metadata": {},
   "outputs": [],
   "source": [
    "CreateDictDf(\"ETH\",\"1min\",ETH1M, size)"
   ]
  },
  {
   "cell_type": "code",
   "execution_count": 19,
   "id": "functioning-roller",
   "metadata": {},
   "outputs": [
    {
     "name": "stdout",
     "output_type": "stream",
     "text": [
      "Window of size 5 was best\n",
      "Window of size 5 was best\n",
      "Window of size 1 was best\n",
      "WARNING:tensorflow:5 out of the last 49 calls to <function Model.make_predict_function.<locals>.predict_function at 0x7fb2fcae98b0> triggered tf.function retracing. Tracing is expensive and the excessive number of tracings could be due to (1) creating @tf.function repeatedly in a loop, (2) passing tensors with different shapes, (3) passing Python objects instead of tensors. For (1), please define your @tf.function outside of the loop. For (2), @tf.function has experimental_relax_shapes=True option that relaxes argument shapes that can avoid unnecessary retracing. For (3), please refer to https://www.tensorflow.org/guide/function#controlling_retracing and https://www.tensorflow.org/api_docs/python/tf/function for  more details.\n",
      "Window of size 1 was best\n",
      "Window of size 1 was best\n",
      "Window of size 10 was best\n",
      "WARNING:tensorflow:5 out of the last 49 calls to <function Model.make_predict_function.<locals>.predict_function at 0x7fb332740280> triggered tf.function retracing. Tracing is expensive and the excessive number of tracings could be due to (1) creating @tf.function repeatedly in a loop, (2) passing tensors with different shapes, (3) passing Python objects instead of tensors. For (1), please define your @tf.function outside of the loop. For (2), @tf.function has experimental_relax_shapes=True option that relaxes argument shapes that can avoid unnecessary retracing. For (3), please refer to https://www.tensorflow.org/guide/function#controlling_retracing and https://www.tensorflow.org/api_docs/python/tf/function for  more details.\n",
      "Window of size 10 was best\n",
      "Window of size 1 was best\n",
      "Window of size 10 was best\n",
      "WARNING:tensorflow:5 out of the last 49 calls to <function Model.make_predict_function.<locals>.predict_function at 0x7fb31015a550> triggered tf.function retracing. Tracing is expensive and the excessive number of tracings could be due to (1) creating @tf.function repeatedly in a loop, (2) passing tensors with different shapes, (3) passing Python objects instead of tensors. For (1), please define your @tf.function outside of the loop. For (2), @tf.function has experimental_relax_shapes=True option that relaxes argument shapes that can avoid unnecessary retracing. For (3), please refer to https://www.tensorflow.org/guide/function#controlling_retracing and https://www.tensorflow.org/api_docs/python/tf/function for  more details.\n"
     ]
    }
   ],
   "source": [
    "ADA1M = LossDF(\"ADA\", \"1min\")"
   ]
  },
  {
   "cell_type": "code",
   "execution_count": 20,
   "id": "australian-sugar",
   "metadata": {},
   "outputs": [],
   "source": [
    "size = len(ADA1M[\"BA_LSTM_1\"][\"loss\"])"
   ]
  },
  {
   "cell_type": "code",
   "execution_count": 21,
   "id": "painted-modem",
   "metadata": {},
   "outputs": [],
   "source": [
    "CreateDictDf(\"ADA\",\"1min\",ADA1M, size)"
   ]
  },
  {
   "cell_type": "code",
   "execution_count": 5,
   "id": "strange-syria",
   "metadata": {},
   "outputs": [
    {
     "name": "stdout",
     "output_type": "stream",
     "text": [
      "Window of size 1 was best\n",
      "Window of size 1 was best\n",
      "Window of size 1 was best\n",
      "Window of size 1 was best\n",
      "Window of size 1 was best\n",
      "Window of size 1 was best\n",
      "WARNING:tensorflow:5 out of the last 13 calls to <function Model.make_predict_function.<locals>.predict_function at 0x7fda4451a1f0> triggered tf.function retracing. Tracing is expensive and the excessive number of tracings could be due to (1) creating @tf.function repeatedly in a loop, (2) passing tensors with different shapes, (3) passing Python objects instead of tensors. For (1), please define your @tf.function outside of the loop. For (2), @tf.function has experimental_relax_shapes=True option that relaxes argument shapes that can avoid unnecessary retracing. For (3), please refer to https://www.tensorflow.org/guide/function#controlling_retracing and https://www.tensorflow.org/api_docs/python/tf/function for  more details.\n",
      "Window of size 1 was best\n",
      "Window of size 1 was best\n",
      "Window of size 5 was best\n",
      "WARNING:tensorflow:5 out of the last 13 calls to <function Model.make_predict_function.<locals>.predict_function at 0x7fda5873a430> triggered tf.function retracing. Tracing is expensive and the excessive number of tracings could be due to (1) creating @tf.function repeatedly in a loop, (2) passing tensors with different shapes, (3) passing Python objects instead of tensors. For (1), please define your @tf.function outside of the loop. For (2), @tf.function has experimental_relax_shapes=True option that relaxes argument shapes that can avoid unnecessary retracing. For (3), please refer to https://www.tensorflow.org/guide/function#controlling_retracing and https://www.tensorflow.org/api_docs/python/tf/function for  more details.\n"
     ]
    }
   ],
   "source": [
    "BTC5M = LossDF(\"BTC\", \"5min\", 3350 - 280*2, 3350-280)\n",
    "size = len(BTC5M[\"BA_LSTM_1\"][\"loss\"])\n",
    "CreateDictDf(\"BTC\",\"5min\",BTC5M, size)"
   ]
  },
  {
   "cell_type": "code",
   "execution_count": 4,
   "id": "individual-belarus",
   "metadata": {},
   "outputs": [
    {
     "data": {
      "text/plain": [
       "0"
      ]
     },
     "execution_count": 4,
     "metadata": {},
     "output_type": "execute_result"
    }
   ],
   "source": [
    "size\n"
   ]
  },
  {
   "cell_type": "code",
   "execution_count": 6,
   "id": "wound-diploma",
   "metadata": {
    "scrolled": true
   },
   "outputs": [
    {
     "name": "stdout",
     "output_type": "stream",
     "text": [
      "Window of size 1 was best\n",
      "Window of size 1 was best\n",
      "Window of size 10 was best\n",
      "WARNING:tensorflow:5 out of the last 13 calls to <function Model.make_predict_function.<locals>.predict_function at 0x7fda5873a280> triggered tf.function retracing. Tracing is expensive and the excessive number of tracings could be due to (1) creating @tf.function repeatedly in a loop, (2) passing tensors with different shapes, (3) passing Python objects instead of tensors. For (1), please define your @tf.function outside of the loop. For (2), @tf.function has experimental_relax_shapes=True option that relaxes argument shapes that can avoid unnecessary retracing. For (3), please refer to https://www.tensorflow.org/guide/function#controlling_retracing and https://www.tensorflow.org/api_docs/python/tf/function for  more details.\n",
      "Window of size 1 was best\n",
      "Window of size 1 was best\n",
      "Window of size 1 was best\n",
      "WARNING:tensorflow:5 out of the last 13 calls to <function Model.make_predict_function.<locals>.predict_function at 0x7fda58375ca0> triggered tf.function retracing. Tracing is expensive and the excessive number of tracings could be due to (1) creating @tf.function repeatedly in a loop, (2) passing tensors with different shapes, (3) passing Python objects instead of tensors. For (1), please define your @tf.function outside of the loop. For (2), @tf.function has experimental_relax_shapes=True option that relaxes argument shapes that can avoid unnecessary retracing. For (3), please refer to https://www.tensorflow.org/guide/function#controlling_retracing and https://www.tensorflow.org/api_docs/python/tf/function for  more details.\n",
      "Window of size 10 was best\n",
      "Window of size 10 was best\n",
      "Window of size 5 was best\n",
      "WARNING:tensorflow:5 out of the last 13 calls to <function Model.make_predict_function.<locals>.predict_function at 0x7fda598d5a60> triggered tf.function retracing. Tracing is expensive and the excessive number of tracings could be due to (1) creating @tf.function repeatedly in a loop, (2) passing tensors with different shapes, (3) passing Python objects instead of tensors. For (1), please define your @tf.function outside of the loop. For (2), @tf.function has experimental_relax_shapes=True option that relaxes argument shapes that can avoid unnecessary retracing. For (3), please refer to https://www.tensorflow.org/guide/function#controlling_retracing and https://www.tensorflow.org/api_docs/python/tf/function for  more details.\n"
     ]
    },
    {
     "ename": "NameError",
     "evalue": "name 'ETH5m' is not defined",
     "output_type": "error",
     "traceback": [
      "\u001b[0;31m--------------------------------------------------------\u001b[0m",
      "\u001b[0;31mNameError\u001b[0m              Traceback (most recent call last)",
      "\u001b[0;32m<ipython-input-6-fcfcc472b690>\u001b[0m in \u001b[0;36m<module>\u001b[0;34m\u001b[0m\n\u001b[1;32m      1\u001b[0m \u001b[0mETH5M\u001b[0m \u001b[0;34m=\u001b[0m \u001b[0mLossDF\u001b[0m\u001b[0;34m(\u001b[0m\u001b[0;34m\"ETH\"\u001b[0m\u001b[0;34m,\u001b[0m \u001b[0;34m\"5min\"\u001b[0m\u001b[0;34m,\u001b[0m \u001b[0;36m3350\u001b[0m \u001b[0;34m-\u001b[0m \u001b[0;36m280\u001b[0m\u001b[0;34m*\u001b[0m\u001b[0;36m2\u001b[0m\u001b[0;34m,\u001b[0m \u001b[0;36m3350\u001b[0m\u001b[0;34m-\u001b[0m\u001b[0;36m280\u001b[0m\u001b[0;34m)\u001b[0m\u001b[0;34m\u001b[0m\u001b[0;34m\u001b[0m\u001b[0m\n\u001b[1;32m      2\u001b[0m \u001b[0msize\u001b[0m \u001b[0;34m=\u001b[0m \u001b[0mlen\u001b[0m\u001b[0;34m(\u001b[0m\u001b[0mETH5M\u001b[0m\u001b[0;34m[\u001b[0m\u001b[0;34m\"BA_LSTM_1\"\u001b[0m\u001b[0;34m]\u001b[0m\u001b[0;34m[\u001b[0m\u001b[0;34m\"loss\"\u001b[0m\u001b[0;34m]\u001b[0m\u001b[0;34m)\u001b[0m\u001b[0;34m\u001b[0m\u001b[0;34m\u001b[0m\u001b[0m\n\u001b[0;32m----> 3\u001b[0;31m \u001b[0mCreateDictDf\u001b[0m\u001b[0;34m(\u001b[0m\u001b[0;34m\"ETH5M\"\u001b[0m\u001b[0;34m,\u001b[0m\u001b[0;34m\"5min\"\u001b[0m\u001b[0;34m,\u001b[0m\u001b[0mETH5m\u001b[0m\u001b[0;34m,\u001b[0m \u001b[0msize\u001b[0m\u001b[0;34m)\u001b[0m\u001b[0;34m\u001b[0m\u001b[0;34m\u001b[0m\u001b[0m\n\u001b[0m",
      "\u001b[0;31mNameError\u001b[0m: name 'ETH5m' is not defined"
     ]
    }
   ],
   "source": [
    "ETH5M = LossDF(\"ETH\", \"5min\", 3350 - 280*2, 3350-280)\n",
    "size = len(ETH5M[\"BA_LSTM_1\"][\"loss\"])\n",
    "CreateDictDf(\"ETH5M\",\"5min\",ETH5M, size)"
   ]
  },
  {
   "cell_type": "code",
   "execution_count": 7,
   "id": "indonesian-paris",
   "metadata": {},
   "outputs": [],
   "source": [
    "CreateDictDf(\"ETH5M\",\"5min\",ETH5M, size)"
   ]
  }
 ],
 "metadata": {
  "kernelspec": {
   "display_name": "Python 3",
   "language": "python",
   "name": "python3"
  },
  "language_info": {
   "codemirror_mode": {
    "name": "ipython",
    "version": 3
   },
   "file_extension": ".py",
   "mimetype": "text/x-python",
   "name": "python",
   "nbconvert_exporter": "python",
   "pygments_lexer": "ipython3",
   "version": "3.8.8"
  }
 },
 "nbformat": 4,
 "nbformat_minor": 5
}
