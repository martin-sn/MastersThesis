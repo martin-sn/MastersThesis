{
 "cells": [
  {
   "cell_type": "code",
   "execution_count": 1,
   "id": "subsequent-virtue",
   "metadata": {},
   "outputs": [],
   "source": [
    "from deep_models import *\n",
    "from loss import * "
   ]
  },
  {
   "cell_type": "code",
   "execution_count": 2,
   "id": "driven-celtic",
   "metadata": {
    "scrolled": true
   },
   "outputs": [],
   "source": [
    "def CreateDictDf(cryp,freq,dicti, size):\n",
    "\n",
    "    arr = np.empty((size,18))\n",
    "    arr[:] = np.nan\n",
    "\n",
    "    i = 0\n",
    "    for key in dicti.keys():\n",
    "        arr[(dicti[key][\"win\"]):,i] = dicti[key][\"loss\"]\n",
    "        i += 1\n",
    "\n",
    "    cols = [\"BA_DENSE_1\", \"BA_DENSE_2\", \"BA_DENSE_3\", \"BA_LSTM_1\", \"BA_LSTM_2\", \"BA_LSTM_3\",\n",
    "    \"OF_DENSE_1\", \"OF_DENSE_2\", \"OF_DENSE_3\", \"OF_LSTM_1\", \"OF_LSTM_2\", \"OF_LSTM_3\",\n",
    "    \"HF_DENSE_1\", \"HF_DENSE_2\", \"HF_DENSE_3\", \"HF_LSTM_1\", \"HF_LSTM_2\", \"HF_LSTM_3\"]\n",
    "\n",
    "    df = pd.DataFrame(arr, columns = cols)\n",
    "    df.to_csv(f\"ConfSets/{cryp}_{freq}_conf.csv\")"
   ]
  },
  {
   "cell_type": "code",
   "execution_count": 5,
   "id": "understanding-actress",
   "metadata": {
    "scrolled": true
   },
   "outputs": [
    {
     "name": "stdout",
     "output_type": "stream",
     "text": [
      "Window of size 10 was best\n",
      "Window of size 10 was best\n",
      "Window of size 5 was best\n",
      "WARNING:tensorflow:5 out of the last 49 calls to <function Model.make_predict_function.<locals>.predict_function at 0x7f69645d9c10> triggered tf.function retracing. Tracing is expensive and the excessive number of tracings could be due to (1) creating @tf.function repeatedly in a loop, (2) passing tensors with different shapes, (3) passing Python objects instead of tensors. For (1), please define your @tf.function outside of the loop. For (2), @tf.function has experimental_relax_shapes=True option that relaxes argument shapes that can avoid unnecessary retracing. For (3), please refer to https://www.tensorflow.org/guide/function#controlling_retracing and https://www.tensorflow.org/api_docs/python/tf/function for  more details.\n",
      "Window of size 1 was best\n",
      "Window of size 1 was best\n",
      "Window of size 5 was best\n",
      "WARNING:tensorflow:5 out of the last 49 calls to <function Model.make_predict_function.<locals>.predict_function at 0x7f6a1820ad30> triggered tf.function retracing. Tracing is expensive and the excessive number of tracings could be due to (1) creating @tf.function repeatedly in a loop, (2) passing tensors with different shapes, (3) passing Python objects instead of tensors. For (1), please define your @tf.function outside of the loop. For (2), @tf.function has experimental_relax_shapes=True option that relaxes argument shapes that can avoid unnecessary retracing. For (3), please refer to https://www.tensorflow.org/guide/function#controlling_retracing and https://www.tensorflow.org/api_docs/python/tf/function for  more details.\n",
      "Window of size 5 was best\n",
      "Window of size 5 was best\n",
      "Window of size 1 was best\n",
      "WARNING:tensorflow:5 out of the last 49 calls to <function Model.make_predict_function.<locals>.predict_function at 0x7f6a218a7550> triggered tf.function retracing. Tracing is expensive and the excessive number of tracings could be due to (1) creating @tf.function repeatedly in a loop, (2) passing tensors with different shapes, (3) passing Python objects instead of tensors. For (1), please define your @tf.function outside of the loop. For (2), @tf.function has experimental_relax_shapes=True option that relaxes argument shapes that can avoid unnecessary retracing. For (3), please refer to https://www.tensorflow.org/guide/function#controlling_retracing and https://www.tensorflow.org/api_docs/python/tf/function for  more details.\n"
     ]
    }
   ],
   "source": [
    "BTC1M = LossDF(\"BTC\", \"1min\", 17048 - 1440*2, 17048 - 1440)\n",
    "size = len(BTC1M[\"BA_LSTM_1\"][\"loss\"])\n",
    "CreateDictDf(\"BTC\",\"1min\",BTC1M, size)"
   ]
  },
  {
   "cell_type": "code",
   "execution_count": 6,
   "id": "discrete-creek",
   "metadata": {},
   "outputs": [
    {
     "name": "stdout",
     "output_type": "stream",
     "text": [
      "Window of size 5 was best\n",
      "Window of size 10 was best\n",
      "Window of size 1 was best\n",
      "WARNING:tensorflow:5 out of the last 49 calls to <function Model.make_predict_function.<locals>.predict_function at 0x7f6a182649d0> triggered tf.function retracing. Tracing is expensive and the excessive number of tracings could be due to (1) creating @tf.function repeatedly in a loop, (2) passing tensors with different shapes, (3) passing Python objects instead of tensors. For (1), please define your @tf.function outside of the loop. For (2), @tf.function has experimental_relax_shapes=True option that relaxes argument shapes that can avoid unnecessary retracing. For (3), please refer to https://www.tensorflow.org/guide/function#controlling_retracing and https://www.tensorflow.org/api_docs/python/tf/function for  more details.\n",
      "Window of size 1 was best\n",
      "Window of size 5 was best\n",
      "Window of size 5 was best\n",
      "WARNING:tensorflow:5 out of the last 49 calls to <function Model.make_predict_function.<locals>.predict_function at 0x7f694403e1f0> triggered tf.function retracing. Tracing is expensive and the excessive number of tracings could be due to (1) creating @tf.function repeatedly in a loop, (2) passing tensors with different shapes, (3) passing Python objects instead of tensors. For (1), please define your @tf.function outside of the loop. For (2), @tf.function has experimental_relax_shapes=True option that relaxes argument shapes that can avoid unnecessary retracing. For (3), please refer to https://www.tensorflow.org/guide/function#controlling_retracing and https://www.tensorflow.org/api_docs/python/tf/function for  more details.\n",
      "Window of size 1 was best\n",
      "Window of size 10 was best\n",
      "Window of size 5 was best\n",
      "WARNING:tensorflow:5 out of the last 49 calls to <function Model.make_predict_function.<locals>.predict_function at 0x7f6a1814c040> triggered tf.function retracing. Tracing is expensive and the excessive number of tracings could be due to (1) creating @tf.function repeatedly in a loop, (2) passing tensors with different shapes, (3) passing Python objects instead of tensors. For (1), please define your @tf.function outside of the loop. For (2), @tf.function has experimental_relax_shapes=True option that relaxes argument shapes that can avoid unnecessary retracing. For (3), please refer to https://www.tensorflow.org/guide/function#controlling_retracing and https://www.tensorflow.org/api_docs/python/tf/function for  more details.\n"
     ]
    }
   ],
   "source": [
    "ETH1M = LossDF(\"ETH\", \"1min\", 17048 - 1440*2, 17048 - 1440)\n",
    "size = len(ETH1M[\"BA_LSTM_1\"][\"loss\"])\n",
    "CreateDictDf(\"ETH\",\"1min\",ETH1M, size)"
   ]
  },
  {
   "cell_type": "code",
   "execution_count": 7,
   "id": "functioning-roller",
   "metadata": {},
   "outputs": [
    {
     "name": "stdout",
     "output_type": "stream",
     "text": [
      "Window of size 10 was best\n",
      "Window of size 5 was best\n",
      "Window of size 1 was best\n",
      "WARNING:tensorflow:5 out of the last 49 calls to <function Model.make_predict_function.<locals>.predict_function at 0x7f6a1811eb80> triggered tf.function retracing. Tracing is expensive and the excessive number of tracings could be due to (1) creating @tf.function repeatedly in a loop, (2) passing tensors with different shapes, (3) passing Python objects instead of tensors. For (1), please define your @tf.function outside of the loop. For (2), @tf.function has experimental_relax_shapes=True option that relaxes argument shapes that can avoid unnecessary retracing. For (3), please refer to https://www.tensorflow.org/guide/function#controlling_retracing and https://www.tensorflow.org/api_docs/python/tf/function for  more details.\n",
      "Window of size 1 was best\n",
      "Window of size 10 was best\n",
      "Window of size 1 was best\n",
      "WARNING:tensorflow:5 out of the last 49 calls to <function Model.make_predict_function.<locals>.predict_function at 0x7f6945ece550> triggered tf.function retracing. Tracing is expensive and the excessive number of tracings could be due to (1) creating @tf.function repeatedly in a loop, (2) passing tensors with different shapes, (3) passing Python objects instead of tensors. For (1), please define your @tf.function outside of the loop. For (2), @tf.function has experimental_relax_shapes=True option that relaxes argument shapes that can avoid unnecessary retracing. For (3), please refer to https://www.tensorflow.org/guide/function#controlling_retracing and https://www.tensorflow.org/api_docs/python/tf/function for  more details.\n",
      "Window of size 10 was best\n",
      "Window of size 5 was best\n",
      "Window of size 5 was best\n",
      "WARNING:tensorflow:5 out of the last 49 calls to <function Model.make_predict_function.<locals>.predict_function at 0x7f6964306700> triggered tf.function retracing. Tracing is expensive and the excessive number of tracings could be due to (1) creating @tf.function repeatedly in a loop, (2) passing tensors with different shapes, (3) passing Python objects instead of tensors. For (1), please define your @tf.function outside of the loop. For (2), @tf.function has experimental_relax_shapes=True option that relaxes argument shapes that can avoid unnecessary retracing. For (3), please refer to https://www.tensorflow.org/guide/function#controlling_retracing and https://www.tensorflow.org/api_docs/python/tf/function for  more details.\n"
     ]
    }
   ],
   "source": [
    "ADA1M = LossDF(\"ADA\", \"1min\", 17048 - 1440*2, 17048 - 1440)\n",
    "size = len(ADA1M[\"BA_LSTM_1\"][\"loss\"])\n",
    "CreateDictDf(\"ADA\",\"1min\",ADA1M, size)"
   ]
  },
  {
   "cell_type": "code",
   "execution_count": 8,
   "id": "strange-syria",
   "metadata": {},
   "outputs": [
    {
     "name": "stdout",
     "output_type": "stream",
     "text": [
      "Window of size 10 was best\n",
      "Window of size 5 was best\n",
      "Window of size 10 was best\n",
      "WARNING:tensorflow:5 out of the last 49 calls to <function Model.make_predict_function.<locals>.predict_function at 0x7f6a2193a040> triggered tf.function retracing. Tracing is expensive and the excessive number of tracings could be due to (1) creating @tf.function repeatedly in a loop, (2) passing tensors with different shapes, (3) passing Python objects instead of tensors. For (1), please define your @tf.function outside of the loop. For (2), @tf.function has experimental_relax_shapes=True option that relaxes argument shapes that can avoid unnecessary retracing. For (3), please refer to https://www.tensorflow.org/guide/function#controlling_retracing and https://www.tensorflow.org/api_docs/python/tf/function for  more details.\n",
      "Window of size 1 was best\n",
      "Window of size 1 was best\n",
      "Window of size 1 was best\n",
      "WARNING:tensorflow:5 out of the last 13 calls to <function Model.make_predict_function.<locals>.predict_function at 0x7f6a216c98b0> triggered tf.function retracing. Tracing is expensive and the excessive number of tracings could be due to (1) creating @tf.function repeatedly in a loop, (2) passing tensors with different shapes, (3) passing Python objects instead of tensors. For (1), please define your @tf.function outside of the loop. For (2), @tf.function has experimental_relax_shapes=True option that relaxes argument shapes that can avoid unnecessary retracing. For (3), please refer to https://www.tensorflow.org/guide/function#controlling_retracing and https://www.tensorflow.org/api_docs/python/tf/function for  more details.\n",
      "Window of size 1 was best\n",
      "Window of size 10 was best\n",
      "Window of size 1 was best\n",
      "WARNING:tensorflow:5 out of the last 13 calls to <function Model.make_predict_function.<locals>.predict_function at 0x7f6964d7c700> triggered tf.function retracing. Tracing is expensive and the excessive number of tracings could be due to (1) creating @tf.function repeatedly in a loop, (2) passing tensors with different shapes, (3) passing Python objects instead of tensors. For (1), please define your @tf.function outside of the loop. For (2), @tf.function has experimental_relax_shapes=True option that relaxes argument shapes that can avoid unnecessary retracing. For (3), please refer to https://www.tensorflow.org/guide/function#controlling_retracing and https://www.tensorflow.org/api_docs/python/tf/function for  more details.\n"
     ]
    }
   ],
   "source": [
    "BTC5M = LossDF(\"BTC\", \"5min\", 3350 - 280*2, 3350-280)\n",
    "size = len(BTC5M[\"BA_LSTM_1\"][\"loss\"])\n",
    "CreateDictDf(\"BTC\",\"5min\",BTC5M, size)"
   ]
  },
  {
   "cell_type": "code",
   "execution_count": 9,
   "id": "wound-diploma",
   "metadata": {
    "scrolled": true
   },
   "outputs": [
    {
     "name": "stdout",
     "output_type": "stream",
     "text": [
      "Window of size 5 was best\n",
      "Window of size 10 was best\n",
      "Window of size 1 was best\n",
      "WARNING:tensorflow:5 out of the last 13 calls to <function Model.make_predict_function.<locals>.predict_function at 0x7f6944c84790> triggered tf.function retracing. Tracing is expensive and the excessive number of tracings could be due to (1) creating @tf.function repeatedly in a loop, (2) passing tensors with different shapes, (3) passing Python objects instead of tensors. For (1), please define your @tf.function outside of the loop. For (2), @tf.function has experimental_relax_shapes=True option that relaxes argument shapes that can avoid unnecessary retracing. For (3), please refer to https://www.tensorflow.org/guide/function#controlling_retracing and https://www.tensorflow.org/api_docs/python/tf/function for  more details.\n",
      "Window of size 5 was best\n",
      "Window of size 1 was best\n",
      "Window of size 1 was best\n",
      "WARNING:tensorflow:5 out of the last 13 calls to <function Model.make_predict_function.<locals>.predict_function at 0x7f6944af2430> triggered tf.function retracing. Tracing is expensive and the excessive number of tracings could be due to (1) creating @tf.function repeatedly in a loop, (2) passing tensors with different shapes, (3) passing Python objects instead of tensors. For (1), please define your @tf.function outside of the loop. For (2), @tf.function has experimental_relax_shapes=True option that relaxes argument shapes that can avoid unnecessary retracing. For (3), please refer to https://www.tensorflow.org/guide/function#controlling_retracing and https://www.tensorflow.org/api_docs/python/tf/function for  more details.\n",
      "Window of size 5 was best\n",
      "Window of size 1 was best\n",
      "Window of size 10 was best\n",
      "WARNING:tensorflow:5 out of the last 13 calls to <function Model.make_predict_function.<locals>.predict_function at 0x7f6a18264550> triggered tf.function retracing. Tracing is expensive and the excessive number of tracings could be due to (1) creating @tf.function repeatedly in a loop, (2) passing tensors with different shapes, (3) passing Python objects instead of tensors. For (1), please define your @tf.function outside of the loop. For (2), @tf.function has experimental_relax_shapes=True option that relaxes argument shapes that can avoid unnecessary retracing. For (3), please refer to https://www.tensorflow.org/guide/function#controlling_retracing and https://www.tensorflow.org/api_docs/python/tf/function for  more details.\n"
     ]
    }
   ],
   "source": [
    "ETH5M = LossDF(\"ETH\", \"5min\", 3350 - 280*2, 3350-280)\n",
    "size = len(ETH5M[\"BA_LSTM_1\"][\"loss\"])\n",
    "CreateDictDf(\"ETH\",\"5min\",ETH5M, size)"
   ]
  },
  {
   "cell_type": "code",
   "execution_count": 10,
   "id": "collect-interval",
   "metadata": {},
   "outputs": [
    {
     "name": "stdout",
     "output_type": "stream",
     "text": [
      "Window of size 1 was best\n",
      "Window of size 5 was best\n",
      "Window of size 10 was best\n",
      "WARNING:tensorflow:5 out of the last 13 calls to <function Model.make_predict_function.<locals>.predict_function at 0x7f6945c79280> triggered tf.function retracing. Tracing is expensive and the excessive number of tracings could be due to (1) creating @tf.function repeatedly in a loop, (2) passing tensors with different shapes, (3) passing Python objects instead of tensors. For (1), please define your @tf.function outside of the loop. For (2), @tf.function has experimental_relax_shapes=True option that relaxes argument shapes that can avoid unnecessary retracing. For (3), please refer to https://www.tensorflow.org/guide/function#controlling_retracing and https://www.tensorflow.org/api_docs/python/tf/function for  more details.\n",
      "Window of size 1 was best\n",
      "Window of size 10 was best\n",
      "Window of size 1 was best\n",
      "WARNING:tensorflow:5 out of the last 13 calls to <function Model.make_predict_function.<locals>.predict_function at 0x7f6964d7c5e0> triggered tf.function retracing. Tracing is expensive and the excessive number of tracings could be due to (1) creating @tf.function repeatedly in a loop, (2) passing tensors with different shapes, (3) passing Python objects instead of tensors. For (1), please define your @tf.function outside of the loop. For (2), @tf.function has experimental_relax_shapes=True option that relaxes argument shapes that can avoid unnecessary retracing. For (3), please refer to https://www.tensorflow.org/guide/function#controlling_retracing and https://www.tensorflow.org/api_docs/python/tf/function for  more details.\n",
      "Window of size 1 was best\n",
      "Window of size 5 was best\n",
      "Window of size 1 was best\n",
      "WARNING:tensorflow:5 out of the last 13 calls to <function Model.make_predict_function.<locals>.predict_function at 0x7f69455cb940> triggered tf.function retracing. Tracing is expensive and the excessive number of tracings could be due to (1) creating @tf.function repeatedly in a loop, (2) passing tensors with different shapes, (3) passing Python objects instead of tensors. For (1), please define your @tf.function outside of the loop. For (2), @tf.function has experimental_relax_shapes=True option that relaxes argument shapes that can avoid unnecessary retracing. For (3), please refer to https://www.tensorflow.org/guide/function#controlling_retracing and https://www.tensorflow.org/api_docs/python/tf/function for  more details.\n"
     ]
    }
   ],
   "source": [
    "ADA5M = LossDF(\"ADA\", \"5min\", 3350 - 280*2, 3350-280)\n",
    "size = len(ADA5M[\"BA_LSTM_1\"][\"loss\"])\n",
    "CreateDictDf(\"ADA\",\"5min\",ADA5M, size)"
   ]
  },
  {
   "cell_type": "code",
   "execution_count": 11,
   "id": "favorite-honduras",
   "metadata": {},
   "outputs": [
    {
     "name": "stdout",
     "output_type": "stream",
     "text": [
      "Window of size 5 was best\n",
      "Window of size 10 was best\n",
      "Window of size 10 was best\n",
      "WARNING:tensorflow:5 out of the last 13 calls to <function Model.make_predict_function.<locals>.predict_function at 0x7f698c33e5e0> triggered tf.function retracing. Tracing is expensive and the excessive number of tracings could be due to (1) creating @tf.function repeatedly in a loop, (2) passing tensors with different shapes, (3) passing Python objects instead of tensors. For (1), please define your @tf.function outside of the loop. For (2), @tf.function has experimental_relax_shapes=True option that relaxes argument shapes that can avoid unnecessary retracing. For (3), please refer to https://www.tensorflow.org/guide/function#controlling_retracing and https://www.tensorflow.org/api_docs/python/tf/function for  more details.\n",
      "Window of size 1 was best\n",
      "Window of size 10 was best\n",
      "Window of size 1 was best\n",
      "WARNING:tensorflow:5 out of the last 49 calls to <function Model.make_predict_function.<locals>.predict_function at 0x7f6944cbb430> triggered tf.function retracing. Tracing is expensive and the excessive number of tracings could be due to (1) creating @tf.function repeatedly in a loop, (2) passing tensors with different shapes, (3) passing Python objects instead of tensors. For (1), please define your @tf.function outside of the loop. For (2), @tf.function has experimental_relax_shapes=True option that relaxes argument shapes that can avoid unnecessary retracing. For (3), please refer to https://www.tensorflow.org/guide/function#controlling_retracing and https://www.tensorflow.org/api_docs/python/tf/function for  more details.\n",
      "Window of size 5 was best\n",
      "Window of size 1 was best\n",
      "Window of size 5 was best\n",
      "WARNING:tensorflow:5 out of the last 49 calls to <function Model.make_predict_function.<locals>.predict_function at 0x7f6964f0d280> triggered tf.function retracing. Tracing is expensive and the excessive number of tracings could be due to (1) creating @tf.function repeatedly in a loop, (2) passing tensors with different shapes, (3) passing Python objects instead of tensors. For (1), please define your @tf.function outside of the loop. For (2), @tf.function has experimental_relax_shapes=True option that relaxes argument shapes that can avoid unnecessary retracing. For (3), please refer to https://www.tensorflow.org/guide/function#controlling_retracing and https://www.tensorflow.org/api_docs/python/tf/function for  more details.\n"
     ]
    }
   ],
   "source": [
    "ETH1M5M = LossDF(\"ETH\", \"1min5min\", 17048 - 1440*2, 17048 - 1440)\n",
    "size = len(ETH1M5M[\"BA_LSTM_1\"][\"loss\"])\n",
    "CreateDictDf(\"ETH\",\"1min5min\",ETH1M5M, size)"
   ]
  },
  {
   "cell_type": "code",
   "execution_count": 12,
   "id": "violent-billion",
   "metadata": {},
   "outputs": [
    {
     "name": "stdout",
     "output_type": "stream",
     "text": [
      "Window of size 10 was best\n",
      "Window of size 10 was best\n",
      "Window of size 10 was best\n",
      "WARNING:tensorflow:5 out of the last 49 calls to <function Model.make_predict_function.<locals>.predict_function at 0x7f69649f5dc0> triggered tf.function retracing. Tracing is expensive and the excessive number of tracings could be due to (1) creating @tf.function repeatedly in a loop, (2) passing tensors with different shapes, (3) passing Python objects instead of tensors. For (1), please define your @tf.function outside of the loop. For (2), @tf.function has experimental_relax_shapes=True option that relaxes argument shapes that can avoid unnecessary retracing. For (3), please refer to https://www.tensorflow.org/guide/function#controlling_retracing and https://www.tensorflow.org/api_docs/python/tf/function for  more details.\n",
      "Window of size 10 was best\n",
      "Window of size 10 was best\n",
      "Window of size 1 was best\n",
      "WARNING:tensorflow:5 out of the last 49 calls to <function Model.make_predict_function.<locals>.predict_function at 0x7f6a200603a0> triggered tf.function retracing. Tracing is expensive and the excessive number of tracings could be due to (1) creating @tf.function repeatedly in a loop, (2) passing tensors with different shapes, (3) passing Python objects instead of tensors. For (1), please define your @tf.function outside of the loop. For (2), @tf.function has experimental_relax_shapes=True option that relaxes argument shapes that can avoid unnecessary retracing. For (3), please refer to https://www.tensorflow.org/guide/function#controlling_retracing and https://www.tensorflow.org/api_docs/python/tf/function for  more details.\n",
      "Window of size 1 was best\n",
      "Window of size 5 was best\n",
      "Window of size 1 was best\n",
      "WARNING:tensorflow:5 out of the last 49 calls to <function Model.make_predict_function.<locals>.predict_function at 0x7f6944ddcee0> triggered tf.function retracing. Tracing is expensive and the excessive number of tracings could be due to (1) creating @tf.function repeatedly in a loop, (2) passing tensors with different shapes, (3) passing Python objects instead of tensors. For (1), please define your @tf.function outside of the loop. For (2), @tf.function has experimental_relax_shapes=True option that relaxes argument shapes that can avoid unnecessary retracing. For (3), please refer to https://www.tensorflow.org/guide/function#controlling_retracing and https://www.tensorflow.org/api_docs/python/tf/function for  more details.\n"
     ]
    }
   ],
   "source": [
    "BTC1M5M = LossDF(\"BTC\", \"1min5min\", 17048 - 1440*2, 17048 - 1440)\n",
    "size = len(BTC1M5M[\"BA_LSTM_1\"][\"loss\"])\n",
    "CreateDictDf(\"BTC\",\"1min5min\",BTC1M5M, size)"
   ]
  },
  {
   "cell_type": "code",
   "execution_count": 14,
   "id": "twelve-engine",
   "metadata": {},
   "outputs": [
    {
     "name": "stdout",
     "output_type": "stream",
     "text": [
      "Window of size 10 was best\n",
      "Window of size 5 was best\n",
      "Window of size 1 was best\n",
      "WARNING:tensorflow:5 out of the last 49 calls to <function Model.make_predict_function.<locals>.predict_function at 0x7f6946173c10> triggered tf.function retracing. Tracing is expensive and the excessive number of tracings could be due to (1) creating @tf.function repeatedly in a loop, (2) passing tensors with different shapes, (3) passing Python objects instead of tensors. For (1), please define your @tf.function outside of the loop. For (2), @tf.function has experimental_relax_shapes=True option that relaxes argument shapes that can avoid unnecessary retracing. For (3), please refer to https://www.tensorflow.org/guide/function#controlling_retracing and https://www.tensorflow.org/api_docs/python/tf/function for  more details.\n",
      "Window of size 5 was best\n",
      "Window of size 1 was best\n",
      "Window of size 5 was best\n",
      "WARNING:tensorflow:5 out of the last 49 calls to <function Model.make_predict_function.<locals>.predict_function at 0x7f6a10147a60> triggered tf.function retracing. Tracing is expensive and the excessive number of tracings could be due to (1) creating @tf.function repeatedly in a loop, (2) passing tensors with different shapes, (3) passing Python objects instead of tensors. For (1), please define your @tf.function outside of the loop. For (2), @tf.function has experimental_relax_shapes=True option that relaxes argument shapes that can avoid unnecessary retracing. For (3), please refer to https://www.tensorflow.org/guide/function#controlling_retracing and https://www.tensorflow.org/api_docs/python/tf/function for  more details.\n",
      "Window of size 1 was best\n",
      "Window of size 5 was best\n",
      "Window of size 5 was best\n",
      "WARNING:tensorflow:5 out of the last 49 calls to <function Model.make_predict_function.<locals>.predict_function at 0x7f69645dac10> triggered tf.function retracing. Tracing is expensive and the excessive number of tracings could be due to (1) creating @tf.function repeatedly in a loop, (2) passing tensors with different shapes, (3) passing Python objects instead of tensors. For (1), please define your @tf.function outside of the loop. For (2), @tf.function has experimental_relax_shapes=True option that relaxes argument shapes that can avoid unnecessary retracing. For (3), please refer to https://www.tensorflow.org/guide/function#controlling_retracing and https://www.tensorflow.org/api_docs/python/tf/function for  more details.\n"
     ]
    }
   ],
   "source": [
    "ADA1M5M = LossDF(\"ADA\", \"1min5min\", 17048 - 1440*2, 17048 - 1440)\n",
    "size = len(ADA1M5M[\"BA_LSTM_1\"][\"loss\"])\n",
    "CreateDictDf(\"ADA\",\"1min5min\",ADA1M5M, size)"
   ]
  },
  {
   "cell_type": "code",
   "execution_count": 4,
   "id": "occupational-affect",
   "metadata": {},
   "outputs": [],
   "source": [
    "Y_1_5 = pd.read_csv(\"data/final/1min5min/BTC_Y_std.csv\")"
   ]
  },
  {
   "cell_type": "code",
   "execution_count": 5,
   "id": "wireless-prevention",
   "metadata": {},
   "outputs": [],
   "source": [
    "Y_5 = pd.read_csv(\"data/final/5min/BTC_Y_std.csv\")"
   ]
  }
 ],
 "metadata": {
  "kernelspec": {
   "display_name": "Python 3",
   "language": "python",
   "name": "python3"
  },
  "language_info": {
   "codemirror_mode": {
    "name": "ipython",
    "version": 3
   },
   "file_extension": ".py",
   "mimetype": "text/x-python",
   "name": "python",
   "nbconvert_exporter": "python",
   "pygments_lexer": "ipython3",
   "version": "3.8.8"
  }
 },
 "nbformat": 4,
 "nbformat_minor": 5
}
